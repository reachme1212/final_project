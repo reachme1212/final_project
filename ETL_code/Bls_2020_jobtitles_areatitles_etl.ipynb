{
 "cells": [
  {
   "cell_type": "code",
   "execution_count": null,
   "id": "089c0b77",
   "metadata": {},
   "outputs": [],
   "source": [
    "import requests\n",
    "import json\n",
    "import prettytable\n",
    "import pandas as pd\n",
    "import numpy as np\n",
    "from sqlalchemy import create_engine\n",
    "import psycopg2 \n",
    "import io\n",
    "from numpy import asarray\n",
    "from numpy import savetxt"
   ]
  },
  {
   "cell_type": "code",
   "execution_count": null,
   "id": "df06c755",
   "metadata": {},
   "outputs": [],
   "source": [
    "pd.set_option('display.max_columns', None)"
   ]
  },
  {
   "cell_type": "code",
   "execution_count": null,
   "id": "e852ba05",
   "metadata": {},
   "outputs": [],
   "source": [
    "file_metro = 'data_files/bls_metro_2020_clean.csv'\n",
    "bls_metro_2020_jobtitle_df = pd.read_csv(file_metro)\n",
    "bls_metro_2020_jobtitle_df.head()"
   ]
  },
  {
   "cell_type": "code",
   "execution_count": null,
   "id": "079b5fc4",
   "metadata": {},
   "outputs": [],
   "source": [
    "bls_metro_2020_jobtitle_df.drop(['Unnamed: 0'] , axis=1, inplace=True)\n",
    "\n",
    "bls_metro_2020_jobtitle_df.head(5)"
   ]
  },
  {
   "cell_type": "code",
   "execution_count": null,
   "id": "69a2b5fc",
   "metadata": {},
   "outputs": [],
   "source": [
    "#seperate job titles for 2020 all state \n",
    "Jobs_titles_2020 =bls_metro_2020_jobtitle_df['occ_title'].unique()\n",
    "Jobs_titles_2020"
   ]
  },
  {
   "cell_type": "code",
   "execution_count": null,
   "id": "f7a6c6f6",
   "metadata": {},
   "outputs": [],
   "source": [
    "len(Jobs_list_2020)"
   ]
  },
  {
   "cell_type": "code",
   "execution_count": null,
   "id": "fcd41da5",
   "metadata": {},
   "outputs": [],
   "source": [
    "#create CSV files to map with demographic df \n",
    "#Jobs_titles_2020.to_csv('data_files/Jobs_titles_2020.csv')\n",
    "#savetxt('Jobs_titles_2020.csv', Jobs_list_2020, delimiter=',')\n",
    "#pd.DataFrame(Jobs_list_2020).to_csv(\"data_files/Jobs_titles_2020.csv\")"
   ]
  },
  {
   "cell_type": "code",
   "execution_count": null,
   "id": "439c84a1",
   "metadata": {},
   "outputs": [],
   "source": [
    "# cities list for 2020\n",
    "area_titles_2020 =bls_metro_2020_jobtitle_df['area_title'].unique()\n",
    "area_titles_2020"
   ]
  },
  {
   "cell_type": "code",
   "execution_count": null,
   "id": "bbd59e8a",
   "metadata": {},
   "outputs": [],
   "source": [
    "len(area_titles_2020)"
   ]
  },
  {
   "cell_type": "code",
   "execution_count": null,
   "id": "92b09809",
   "metadata": {},
   "outputs": [],
   "source": [
    "#convert numpy array to csv \n",
    "#pd.DataFrame(area_titles_2020).to_csv(\"data_files/area_titles_2020.csv\")"
   ]
  },
  {
   "cell_type": "code",
   "execution_count": null,
   "id": "aef9c320",
   "metadata": {},
   "outputs": [],
   "source": [
    "#trying to isolate state and means fro job_1000\n",
    "bls_2020_meanjob =bls_metro_2020_jobtitle_df.groupby[bls_metro_2020_jobtitle_df[\"area_title\"]].mean()[[\"jobs_1000\"]]\n",
    "bls_2020_meanjob"
   ]
  },
  {
   "cell_type": "code",
   "execution_count": null,
   "id": "58faa536",
   "metadata": {},
   "outputs": [],
   "source": []
  }
 ],
 "metadata": {
  "kernelspec": {
   "display_name": "mlenv",
   "language": "python",
   "name": "mlenv"
  },
  "language_info": {
   "codemirror_mode": {
    "name": "ipython",
    "version": 3
   },
   "file_extension": ".py",
   "mimetype": "text/x-python",
   "name": "python",
   "nbconvert_exporter": "python",
   "pygments_lexer": "ipython3",
   "version": "3.7.11"
  }
 },
 "nbformat": 4,
 "nbformat_minor": 5
}
