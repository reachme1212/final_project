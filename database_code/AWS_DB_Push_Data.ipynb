{
 "cells": [
  {
   "cell_type": "code",
   "execution_count": 3,
   "id": "1d0bfeae",
   "metadata": {},
   "outputs": [],
   "source": [
    "import pandas as pd\n",
    "import numpy as np\n",
    "from sqlalchemy import create_engine\n",
    "import psycopg2 \n"
   ]
  },
  {
   "cell_type": "code",
   "execution_count": 5,
   "id": "131e143b",
   "metadata": {},
   "outputs": [],
   "source": [
    "#import csv files into pandas datafram \n",
    "county_demo_df = pd.read_csv('../data_files/COUNTY_Demographics.csv')\n",
    "employ_county_df = pd.read_csv('../data_files/Employment_by_County.csv')\n",
    "county_labor_df = pd.read_csv('../data_files/COUNTY_Labor.csv')\n",
    "geoID_df = pd.read_csv('../data_files/COUNTY_GeoID.csv')"
   ]
  },
  {
   "cell_type": "markdown",
   "id": "9f7c1078",
   "metadata": {},
   "source": [
    "Remove the comment to have dataFrames load to postGres DB"
   ]
  },
  {
   "cell_type": "code",
   "execution_count": 6,
   "id": "b1e150c5",
   "metadata": {
    "scrolled": true
   },
   "outputs": [],
   "source": [
    "#get db connection string from config\n",
    "from config import AWS\n",
    "#connecting to postgres DB to create a new table\n",
    "engine = create_engine(AWS)\n",
    "\n",
    "county_demo_df.to_sql('county_demo', engine, if_exists='replace')\n",
    "employ_county_df.to_sql('employ_county', engine, if_exists='replace')\n",
    "county_labor_df.to_sql('county_labor', engine, if_exists='replace')\n",
    "geoID_df.to_sql('geoID', engine, if_exists='replace')"
   ]
  },
  {
   "cell_type": "code",
   "execution_count": null,
   "id": "d8819405",
   "metadata": {},
   "outputs": [],
   "source": []
  }
 ],
 "metadata": {
  "celltoolbar": "Raw Cell Format",
  "kernelspec": {
   "display_name": "mlenv",
   "language": "python",
   "name": "mlenv"
  },
  "language_info": {
   "codemirror_mode": {
    "name": "ipython",
    "version": 3
   },
   "file_extension": ".py",
   "mimetype": "text/x-python",
   "name": "python",
   "nbconvert_exporter": "python",
   "pygments_lexer": "ipython3",
   "version": "3.9.7"
  }
 },
 "nbformat": 4,
 "nbformat_minor": 5
}
