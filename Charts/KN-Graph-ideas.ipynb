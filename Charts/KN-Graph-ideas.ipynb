{
 "cells": [
  {
   "cell_type": "code",
   "execution_count": 1,
   "id": "39e6a314",
   "metadata": {},
   "outputs": [],
   "source": [
    "import plotly.graph_objects as go\n",
    "from plotly.subplots import make_subplots\n",
    "import pandas as pd\n",
    "import numpy as np"
   ]
  },
  {
   "cell_type": "code",
   "execution_count": 281,
   "id": "8ed3ba86",
   "metadata": {
    "scrolled": true
   },
   "outputs": [
    {
     "data": {
      "text/html": [
       "<div>\n",
       "<style scoped>\n",
       "    .dataframe tbody tr th:only-of-type {\n",
       "        vertical-align: middle;\n",
       "    }\n",
       "\n",
       "    .dataframe tbody tr th {\n",
       "        vertical-align: top;\n",
       "    }\n",
       "\n",
       "    .dataframe thead th {\n",
       "        text-align: right;\n",
       "    }\n",
       "</style>\n",
       "<table border=\"1\" class=\"dataframe\">\n",
       "  <thead>\n",
       "    <tr style=\"text-align: right;\">\n",
       "      <th></th>\n",
       "      <th>county</th>\n",
       "      <th>labor_force</th>\n",
       "      <th>employed</th>\n",
       "      <th>unemployed</th>\n",
       "      <th>unemployed_pct</th>\n",
       "      <th>population</th>\n",
       "      <th>race_white</th>\n",
       "      <th>race_black</th>\n",
       "      <th>race_native</th>\n",
       "      <th>race_asian</th>\n",
       "      <th>race_islander</th>\n",
       "      <th>race_other</th>\n",
       "      <th>race_two_or_more</th>\n",
       "    </tr>\n",
       "    <tr>\n",
       "      <th>geoid</th>\n",
       "      <th></th>\n",
       "      <th></th>\n",
       "      <th></th>\n",
       "      <th></th>\n",
       "      <th></th>\n",
       "      <th></th>\n",
       "      <th></th>\n",
       "      <th></th>\n",
       "      <th></th>\n",
       "      <th></th>\n",
       "      <th></th>\n",
       "      <th></th>\n",
       "      <th></th>\n",
       "    </tr>\n",
       "  </thead>\n",
       "  <tbody>\n",
       "    <tr>\n",
       "      <th>6025</th>\n",
       "      <td>Imperial County, California</td>\n",
       "      <td>69602</td>\n",
       "      <td>53949</td>\n",
       "      <td>15653</td>\n",
       "      <td>22.5</td>\n",
       "      <td>179702</td>\n",
       "      <td>47537</td>\n",
       "      <td>4362</td>\n",
       "      <td>4266</td>\n",
       "      <td>3049</td>\n",
       "      <td>165</td>\n",
       "      <td>70528</td>\n",
       "      <td>49795</td>\n",
       "    </tr>\n",
       "    <tr>\n",
       "      <th>2230</th>\n",
       "      <td>Skagway Municipality, Alaska</td>\n",
       "      <td>606</td>\n",
       "      <td>476</td>\n",
       "      <td>130</td>\n",
       "      <td>21.5</td>\n",
       "      <td>1240</td>\n",
       "      <td>1070</td>\n",
       "      <td>10</td>\n",
       "      <td>32</td>\n",
       "      <td>39</td>\n",
       "      <td>0</td>\n",
       "      <td>9</td>\n",
       "      <td>80</td>\n",
       "    </tr>\n",
       "    <tr>\n",
       "      <th>2158</th>\n",
       "      <td>Kusilvak Census Area, Alaska</td>\n",
       "      <td>2299</td>\n",
       "      <td>1854</td>\n",
       "      <td>445</td>\n",
       "      <td>19.4</td>\n",
       "      <td>8368</td>\n",
       "      <td>173</td>\n",
       "      <td>16</td>\n",
       "      <td>7946</td>\n",
       "      <td>23</td>\n",
       "      <td>0</td>\n",
       "      <td>18</td>\n",
       "      <td>192</td>\n",
       "    </tr>\n",
       "    <tr>\n",
       "      <th>28063</th>\n",
       "      <td>Jefferson County, Mississippi</td>\n",
       "      <td>1989</td>\n",
       "      <td>1623</td>\n",
       "      <td>366</td>\n",
       "      <td>18.4</td>\n",
       "      <td>7260</td>\n",
       "      <td>894</td>\n",
       "      <td>6191</td>\n",
       "      <td>12</td>\n",
       "      <td>15</td>\n",
       "      <td>5</td>\n",
       "      <td>9</td>\n",
       "      <td>134</td>\n",
       "    </tr>\n",
       "    <tr>\n",
       "      <th>15009</th>\n",
       "      <td>Maui County, Hawaii</td>\n",
       "      <td>82820</td>\n",
       "      <td>68056</td>\n",
       "      <td>14764</td>\n",
       "      <td>17.8</td>\n",
       "      <td>164754</td>\n",
       "      <td>54203</td>\n",
       "      <td>1065</td>\n",
       "      <td>778</td>\n",
       "      <td>44328</td>\n",
       "      <td>20008</td>\n",
       "      <td>4204</td>\n",
       "      <td>40168</td>\n",
       "    </tr>\n",
       "  </tbody>\n",
       "</table>\n",
       "</div>"
      ],
      "text/plain": [
       "                              county  labor_force  employed  unemployed  \\\n",
       "geoid                                                                     \n",
       "6025     Imperial County, California        69602     53949       15653   \n",
       "2230    Skagway Municipality, Alaska          606       476         130   \n",
       "2158    Kusilvak Census Area, Alaska         2299      1854         445   \n",
       "28063  Jefferson County, Mississippi         1989      1623         366   \n",
       "15009            Maui County, Hawaii        82820     68056       14764   \n",
       "\n",
       "       unemployed_pct  population  race_white  race_black  race_native  \\\n",
       "geoid                                                                    \n",
       "6025             22.5      179702       47537        4362         4266   \n",
       "2230             21.5        1240        1070          10           32   \n",
       "2158             19.4        8368         173          16         7946   \n",
       "28063            18.4        7260         894        6191           12   \n",
       "15009            17.8      164754       54203        1065          778   \n",
       "\n",
       "       race_asian  race_islander  race_other  race_two_or_more  \n",
       "geoid                                                           \n",
       "6025         3049            165       70528             49795  \n",
       "2230           39              0           9                80  \n",
       "2158           23              0          18               192  \n",
       "28063          15              5           9               134  \n",
       "15009       44328          20008        4204             40168  "
      ]
     },
     "execution_count": 281,
     "metadata": {},
     "output_type": "execute_result"
    }
   ],
   "source": [
    "df  = pd.read_csv('../data_files/Employment_by_County.csv', index_col=0)\n",
    "df = df.sort_values(by=\"unemployed_pct\", ascending=False)\n",
    "df.head(5)"
   ]
  },
  {
   "cell_type": "code",
   "execution_count": 295,
   "id": "3f63dc7e",
   "metadata": {},
   "outputs": [],
   "source": [
    "y_data = df['race_white'][0:30]\n",
    "y_unemployed_pct = df['unemployed_pct'][0:30]\n",
    "x = df['county'][0:30]"
   ]
  },
  {
   "cell_type": "code",
   "execution_count": 301,
   "id": "80af4b37",
   "metadata": {
    "scrolled": false
   },
   "outputs": [
    {
     "data": {
      "application/vnd.plotly.v1+json": {
       "config": {
        "plotlyServerURL": "https://plot.ly"
       },
       "data": [
        {
         "marker": {
          "color": "rgba(50, 171, 96, 0.6)",
          "line": {
           "color": "rgba(50, 171, 96, 1.0)",
           "width": 1
          }
         },
         "name": "Population of Race White by County",
         "orientation": "h",
         "type": "bar",
         "x": [
          47537,
          1070,
          173,
          894,
          54203,
          156796,
          21839,
          90318,
          23204,
          2378,
          6003,
          11360,
          9364,
          207573,
          12797,
          1382,
          1589,
          500,
          16845,
          1869,
          2331,
          1438,
          2880,
          1016368,
          23016,
          974,
          22383,
          4598,
          5418,
          882484
         ],
         "xaxis": "x",
         "y": [
          "Imperial County, California",
          "Skagway Municipality, Alaska",
          "Kusilvak Census Area, Alaska",
          "Jefferson County, Mississippi",
          "Maui County, Hawaii",
          "Atlantic County, New Jersey",
          "Starr County, Texas",
          "Yuma County, Arizona",
          "Kauai County, Hawaii",
          "Holmes County, Mississippi",
          "Calhoun County, West Virginia",
          "Magoffin County, Kentucky",
          "Colusa County, California",
          "Bronx County, New York",
          "Luna County, New Mexico",
          "Denali Borough, Alaska",
          "Haines Borough, Alaska",
          "Menominee County, Wisconsin",
          "Maverick County, Texas",
          "Tunica County, Mississippi",
          "Presidio County, Texas",
          "Humphreys County, Mississippi",
          "Wilcox County, Alabama",
          "Clark County, Nevada",
          "Cheboygan County, Michigan",
          "Claiborne County, Mississippi",
          "Mingo County, West Virginia",
          "Zavala County, Texas",
          "Petersburg city, Virginia",
          "Wayne County, Michigan"
         ],
         "yaxis": "y"
        },
        {
         "line": {
          "color": "rgb(128, 0, 0)"
         },
         "mode": "lines+markers",
         "name": "Overall Unemployment Percentage in that County",
         "type": "scatter",
         "x": [
          22.5,
          21.5,
          19.4,
          18.4,
          17.8,
          17.8,
          17.3,
          17.1,
          16.2,
          16.2,
          16.1,
          16.1,
          16,
          16,
          15.9,
          15.7,
          15.6,
          15.3,
          15,
          14.9,
          14.7,
          14.7,
          14.7,
          14.7,
          14.6,
          14.4,
          14.3,
          14.1,
          13.9,
          13.8
         ],
         "xaxis": "x2",
         "y": [
          "Imperial County, California",
          "Skagway Municipality, Alaska",
          "Kusilvak Census Area, Alaska",
          "Jefferson County, Mississippi",
          "Maui County, Hawaii",
          "Atlantic County, New Jersey",
          "Starr County, Texas",
          "Yuma County, Arizona",
          "Kauai County, Hawaii",
          "Holmes County, Mississippi",
          "Calhoun County, West Virginia",
          "Magoffin County, Kentucky",
          "Colusa County, California",
          "Bronx County, New York",
          "Luna County, New Mexico",
          "Denali Borough, Alaska",
          "Haines Borough, Alaska",
          "Menominee County, Wisconsin",
          "Maverick County, Texas",
          "Tunica County, Mississippi",
          "Presidio County, Texas",
          "Humphreys County, Mississippi",
          "Wilcox County, Alabama",
          "Clark County, Nevada",
          "Cheboygan County, Michigan",
          "Claiborne County, Mississippi",
          "Mingo County, West Virginia",
          "Zavala County, Texas",
          "Petersburg city, Virginia",
          "Wayne County, Michigan"
         ],
         "yaxis": "y2"
        }
       ],
       "layout": {
        "annotations": [
         {
          "font": {
           "color": "rgba(102, 102, 102, 0.8)",
           "family": "Arial",
           "size": 12
          },
          "showarrow": false,
          "text": "22.0%",
          "x": 20,
          "xref": "x2",
          "y": "Imperial County, California",
          "yref": "y2"
         },
         {
          "font": {
           "color": "rgb(50, 171, 96)",
           "family": "Arial",
           "size": 12
          },
          "showarrow": false,
          "text": "47537",
          "x": 47537,
          "xref": "x",
          "y": "Imperial County, California",
          "yref": "y"
         },
         {
          "font": {
           "color": "rgba(102, 102, 102, 0.8)",
           "family": "Arial",
           "size": 12
          },
          "showarrow": false,
          "text": "22.0%",
          "x": 20,
          "xref": "x2",
          "y": "Skagway Municipality, Alaska",
          "yref": "y2"
         },
         {
          "font": {
           "color": "rgb(50, 171, 96)",
           "family": "Arial",
           "size": 12
          },
          "showarrow": false,
          "text": "1070",
          "x": 1070,
          "xref": "x",
          "y": "Skagway Municipality, Alaska",
          "yref": "y"
         },
         {
          "font": {
           "color": "rgba(102, 102, 102, 0.8)",
           "family": "Arial",
           "size": 12
          },
          "showarrow": false,
          "text": "19.0%",
          "x": 20,
          "xref": "x2",
          "y": "Kusilvak Census Area, Alaska",
          "yref": "y2"
         },
         {
          "font": {
           "color": "rgb(50, 171, 96)",
           "family": "Arial",
           "size": 12
          },
          "showarrow": false,
          "text": "173",
          "x": 173,
          "xref": "x",
          "y": "Kusilvak Census Area, Alaska",
          "yref": "y"
         },
         {
          "font": {
           "color": "rgba(102, 102, 102, 0.8)",
           "family": "Arial",
           "size": 12
          },
          "showarrow": false,
          "text": "18.0%",
          "x": 20,
          "xref": "x2",
          "y": "Jefferson County, Mississippi",
          "yref": "y2"
         },
         {
          "font": {
           "color": "rgb(50, 171, 96)",
           "family": "Arial",
           "size": 12
          },
          "showarrow": false,
          "text": "894",
          "x": 894,
          "xref": "x",
          "y": "Jefferson County, Mississippi",
          "yref": "y"
         },
         {
          "font": {
           "color": "rgba(102, 102, 102, 0.8)",
           "family": "Arial",
           "size": 12
          },
          "showarrow": false,
          "text": "18.0%",
          "x": 20,
          "xref": "x2",
          "y": "Maui County, Hawaii",
          "yref": "y2"
         },
         {
          "font": {
           "color": "rgb(50, 171, 96)",
           "family": "Arial",
           "size": 12
          },
          "showarrow": false,
          "text": "54203",
          "x": 54203,
          "xref": "x",
          "y": "Maui County, Hawaii",
          "yref": "y"
         },
         {
          "font": {
           "color": "rgba(102, 102, 102, 0.8)",
           "family": "Arial",
           "size": 12
          },
          "showarrow": false,
          "text": "18.0%",
          "x": 20,
          "xref": "x2",
          "y": "Atlantic County, New Jersey",
          "yref": "y2"
         },
         {
          "font": {
           "color": "rgb(50, 171, 96)",
           "family": "Arial",
           "size": 12
          },
          "showarrow": false,
          "text": "156796",
          "x": 156796,
          "xref": "x",
          "y": "Atlantic County, New Jersey",
          "yref": "y"
         },
         {
          "font": {
           "color": "rgba(102, 102, 102, 0.8)",
           "family": "Arial",
           "size": 12
          },
          "showarrow": false,
          "text": "17.0%",
          "x": 20,
          "xref": "x2",
          "y": "Starr County, Texas",
          "yref": "y2"
         },
         {
          "font": {
           "color": "rgb(50, 171, 96)",
           "family": "Arial",
           "size": 12
          },
          "showarrow": false,
          "text": "21839",
          "x": 21839,
          "xref": "x",
          "y": "Starr County, Texas",
          "yref": "y"
         },
         {
          "font": {
           "color": "rgba(102, 102, 102, 0.8)",
           "family": "Arial",
           "size": 12
          },
          "showarrow": false,
          "text": "17.0%",
          "x": 20,
          "xref": "x2",
          "y": "Yuma County, Arizona",
          "yref": "y2"
         },
         {
          "font": {
           "color": "rgb(50, 171, 96)",
           "family": "Arial",
           "size": 12
          },
          "showarrow": false,
          "text": "90318",
          "x": 90318,
          "xref": "x",
          "y": "Yuma County, Arizona",
          "yref": "y"
         },
         {
          "font": {
           "color": "rgba(102, 102, 102, 0.8)",
           "family": "Arial",
           "size": 12
          },
          "showarrow": false,
          "text": "16.0%",
          "x": 20,
          "xref": "x2",
          "y": "Kauai County, Hawaii",
          "yref": "y2"
         },
         {
          "font": {
           "color": "rgb(50, 171, 96)",
           "family": "Arial",
           "size": 12
          },
          "showarrow": false,
          "text": "23204",
          "x": 23204,
          "xref": "x",
          "y": "Kauai County, Hawaii",
          "yref": "y"
         },
         {
          "font": {
           "color": "rgba(102, 102, 102, 0.8)",
           "family": "Arial",
           "size": 12
          },
          "showarrow": false,
          "text": "16.0%",
          "x": 20,
          "xref": "x2",
          "y": "Holmes County, Mississippi",
          "yref": "y2"
         },
         {
          "font": {
           "color": "rgb(50, 171, 96)",
           "family": "Arial",
           "size": 12
          },
          "showarrow": false,
          "text": "2378",
          "x": 2378,
          "xref": "x",
          "y": "Holmes County, Mississippi",
          "yref": "y"
         },
         {
          "font": {
           "color": "rgba(102, 102, 102, 0.8)",
           "family": "Arial",
           "size": 12
          },
          "showarrow": false,
          "text": "16.0%",
          "x": 20,
          "xref": "x2",
          "y": "Calhoun County, West Virginia",
          "yref": "y2"
         },
         {
          "font": {
           "color": "rgb(50, 171, 96)",
           "family": "Arial",
           "size": 12
          },
          "showarrow": false,
          "text": "6003",
          "x": 6003,
          "xref": "x",
          "y": "Calhoun County, West Virginia",
          "yref": "y"
         },
         {
          "font": {
           "color": "rgba(102, 102, 102, 0.8)",
           "family": "Arial",
           "size": 12
          },
          "showarrow": false,
          "text": "16.0%",
          "x": 20,
          "xref": "x2",
          "y": "Magoffin County, Kentucky",
          "yref": "y2"
         },
         {
          "font": {
           "color": "rgb(50, 171, 96)",
           "family": "Arial",
           "size": 12
          },
          "showarrow": false,
          "text": "11360",
          "x": 11360,
          "xref": "x",
          "y": "Magoffin County, Kentucky",
          "yref": "y"
         },
         {
          "font": {
           "color": "rgba(102, 102, 102, 0.8)",
           "family": "Arial",
           "size": 12
          },
          "showarrow": false,
          "text": "16.0%",
          "x": 20,
          "xref": "x2",
          "y": "Colusa County, California",
          "yref": "y2"
         },
         {
          "font": {
           "color": "rgb(50, 171, 96)",
           "family": "Arial",
           "size": 12
          },
          "showarrow": false,
          "text": "9364",
          "x": 9364,
          "xref": "x",
          "y": "Colusa County, California",
          "yref": "y"
         },
         {
          "font": {
           "color": "rgba(102, 102, 102, 0.8)",
           "family": "Arial",
           "size": 12
          },
          "showarrow": false,
          "text": "16.0%",
          "x": 20,
          "xref": "x2",
          "y": "Bronx County, New York",
          "yref": "y2"
         },
         {
          "font": {
           "color": "rgb(50, 171, 96)",
           "family": "Arial",
           "size": 12
          },
          "showarrow": false,
          "text": "207573",
          "x": 207573,
          "xref": "x",
          "y": "Bronx County, New York",
          "yref": "y"
         },
         {
          "font": {
           "color": "rgba(102, 102, 102, 0.8)",
           "family": "Arial",
           "size": 12
          },
          "showarrow": false,
          "text": "16.0%",
          "x": 20,
          "xref": "x2",
          "y": "Luna County, New Mexico",
          "yref": "y2"
         },
         {
          "font": {
           "color": "rgb(50, 171, 96)",
           "family": "Arial",
           "size": 12
          },
          "showarrow": false,
          "text": "12797",
          "x": 12797,
          "xref": "x",
          "y": "Luna County, New Mexico",
          "yref": "y"
         },
         {
          "font": {
           "color": "rgba(102, 102, 102, 0.8)",
           "family": "Arial",
           "size": 12
          },
          "showarrow": false,
          "text": "16.0%",
          "x": 20,
          "xref": "x2",
          "y": "Denali Borough, Alaska",
          "yref": "y2"
         },
         {
          "font": {
           "color": "rgb(50, 171, 96)",
           "family": "Arial",
           "size": 12
          },
          "showarrow": false,
          "text": "1382",
          "x": 1382,
          "xref": "x",
          "y": "Denali Borough, Alaska",
          "yref": "y"
         },
         {
          "font": {
           "color": "rgba(102, 102, 102, 0.8)",
           "family": "Arial",
           "size": 12
          },
          "showarrow": false,
          "text": "16.0%",
          "x": 20,
          "xref": "x2",
          "y": "Haines Borough, Alaska",
          "yref": "y2"
         },
         {
          "font": {
           "color": "rgb(50, 171, 96)",
           "family": "Arial",
           "size": 12
          },
          "showarrow": false,
          "text": "1589",
          "x": 1589,
          "xref": "x",
          "y": "Haines Borough, Alaska",
          "yref": "y"
         },
         {
          "font": {
           "color": "rgba(102, 102, 102, 0.8)",
           "family": "Arial",
           "size": 12
          },
          "showarrow": false,
          "text": "15.0%",
          "x": 20,
          "xref": "x2",
          "y": "Menominee County, Wisconsin",
          "yref": "y2"
         },
         {
          "font": {
           "color": "rgb(50, 171, 96)",
           "family": "Arial",
           "size": 12
          },
          "showarrow": false,
          "text": "500",
          "x": 500,
          "xref": "x",
          "y": "Menominee County, Wisconsin",
          "yref": "y"
         },
         {
          "font": {
           "color": "rgba(102, 102, 102, 0.8)",
           "family": "Arial",
           "size": 12
          },
          "showarrow": false,
          "text": "15.0%",
          "x": 20,
          "xref": "x2",
          "y": "Maverick County, Texas",
          "yref": "y2"
         },
         {
          "font": {
           "color": "rgb(50, 171, 96)",
           "family": "Arial",
           "size": 12
          },
          "showarrow": false,
          "text": "16845",
          "x": 16845,
          "xref": "x",
          "y": "Maverick County, Texas",
          "yref": "y"
         },
         {
          "font": {
           "color": "rgba(102, 102, 102, 0.8)",
           "family": "Arial",
           "size": 12
          },
          "showarrow": false,
          "text": "15.0%",
          "x": 20,
          "xref": "x2",
          "y": "Tunica County, Mississippi",
          "yref": "y2"
         },
         {
          "font": {
           "color": "rgb(50, 171, 96)",
           "family": "Arial",
           "size": 12
          },
          "showarrow": false,
          "text": "1869",
          "x": 1869,
          "xref": "x",
          "y": "Tunica County, Mississippi",
          "yref": "y"
         },
         {
          "font": {
           "color": "rgba(102, 102, 102, 0.8)",
           "family": "Arial",
           "size": 12
          },
          "showarrow": false,
          "text": "15.0%",
          "x": 20,
          "xref": "x2",
          "y": "Presidio County, Texas",
          "yref": "y2"
         },
         {
          "font": {
           "color": "rgb(50, 171, 96)",
           "family": "Arial",
           "size": 12
          },
          "showarrow": false,
          "text": "2331",
          "x": 2331,
          "xref": "x",
          "y": "Presidio County, Texas",
          "yref": "y"
         },
         {
          "font": {
           "color": "rgba(102, 102, 102, 0.8)",
           "family": "Arial",
           "size": 12
          },
          "showarrow": false,
          "text": "15.0%",
          "x": 20,
          "xref": "x2",
          "y": "Humphreys County, Mississippi",
          "yref": "y2"
         },
         {
          "font": {
           "color": "rgb(50, 171, 96)",
           "family": "Arial",
           "size": 12
          },
          "showarrow": false,
          "text": "1438",
          "x": 1438,
          "xref": "x",
          "y": "Humphreys County, Mississippi",
          "yref": "y"
         },
         {
          "font": {
           "color": "rgba(102, 102, 102, 0.8)",
           "family": "Arial",
           "size": 12
          },
          "showarrow": false,
          "text": "15.0%",
          "x": 20,
          "xref": "x2",
          "y": "Wilcox County, Alabama",
          "yref": "y2"
         },
         {
          "font": {
           "color": "rgb(50, 171, 96)",
           "family": "Arial",
           "size": 12
          },
          "showarrow": false,
          "text": "2880",
          "x": 2880,
          "xref": "x",
          "y": "Wilcox County, Alabama",
          "yref": "y"
         },
         {
          "font": {
           "color": "rgba(102, 102, 102, 0.8)",
           "family": "Arial",
           "size": 12
          },
          "showarrow": false,
          "text": "15.0%",
          "x": 20,
          "xref": "x2",
          "y": "Clark County, Nevada",
          "yref": "y2"
         },
         {
          "font": {
           "color": "rgb(50, 171, 96)",
           "family": "Arial",
           "size": 12
          },
          "showarrow": false,
          "text": "1016368",
          "x": 1016368,
          "xref": "x",
          "y": "Clark County, Nevada",
          "yref": "y"
         },
         {
          "font": {
           "color": "rgba(102, 102, 102, 0.8)",
           "family": "Arial",
           "size": 12
          },
          "showarrow": false,
          "text": "15.0%",
          "x": 20,
          "xref": "x2",
          "y": "Cheboygan County, Michigan",
          "yref": "y2"
         },
         {
          "font": {
           "color": "rgb(50, 171, 96)",
           "family": "Arial",
           "size": 12
          },
          "showarrow": false,
          "text": "23016",
          "x": 23016,
          "xref": "x",
          "y": "Cheboygan County, Michigan",
          "yref": "y"
         },
         {
          "font": {
           "color": "rgba(102, 102, 102, 0.8)",
           "family": "Arial",
           "size": 12
          },
          "showarrow": false,
          "text": "14.0%",
          "x": 20,
          "xref": "x2",
          "y": "Claiborne County, Mississippi",
          "yref": "y2"
         },
         {
          "font": {
           "color": "rgb(50, 171, 96)",
           "family": "Arial",
           "size": 12
          },
          "showarrow": false,
          "text": "974",
          "x": 974,
          "xref": "x",
          "y": "Claiborne County, Mississippi",
          "yref": "y"
         },
         {
          "font": {
           "color": "rgba(102, 102, 102, 0.8)",
           "family": "Arial",
           "size": 12
          },
          "showarrow": false,
          "text": "14.0%",
          "x": 20,
          "xref": "x2",
          "y": "Mingo County, West Virginia",
          "yref": "y2"
         },
         {
          "font": {
           "color": "rgb(50, 171, 96)",
           "family": "Arial",
           "size": 12
          },
          "showarrow": false,
          "text": "22383",
          "x": 22383,
          "xref": "x",
          "y": "Mingo County, West Virginia",
          "yref": "y"
         },
         {
          "font": {
           "color": "rgba(102, 102, 102, 0.8)",
           "family": "Arial",
           "size": 12
          },
          "showarrow": false,
          "text": "14.0%",
          "x": 20,
          "xref": "x2",
          "y": "Zavala County, Texas",
          "yref": "y2"
         },
         {
          "font": {
           "color": "rgb(50, 171, 96)",
           "family": "Arial",
           "size": 12
          },
          "showarrow": false,
          "text": "4598",
          "x": 4598,
          "xref": "x",
          "y": "Zavala County, Texas",
          "yref": "y"
         },
         {
          "font": {
           "color": "rgba(102, 102, 102, 0.8)",
           "family": "Arial",
           "size": 12
          },
          "showarrow": false,
          "text": "14.0%",
          "x": 20,
          "xref": "x2",
          "y": "Petersburg city, Virginia",
          "yref": "y2"
         },
         {
          "font": {
           "color": "rgb(50, 171, 96)",
           "family": "Arial",
           "size": 12
          },
          "showarrow": false,
          "text": "5418",
          "x": 5418,
          "xref": "x",
          "y": "Petersburg city, Virginia",
          "yref": "y"
         },
         {
          "font": {
           "color": "rgba(102, 102, 102, 0.8)",
           "family": "Arial",
           "size": 12
          },
          "showarrow": false,
          "text": "14.0%",
          "x": 20,
          "xref": "x2",
          "y": "Wayne County, Michigan",
          "yref": "y2"
         },
         {
          "font": {
           "color": "rgb(50, 171, 96)",
           "family": "Arial",
           "size": 12
          },
          "showarrow": false,
          "text": "882484",
          "x": 882484,
          "xref": "x",
          "y": "Wayne County, Michigan",
          "yref": "y"
         },
         {
          "font": {
           "color": "rgb(150,150,150)",
           "family": "Arial",
           "size": 10
          },
          "showarrow": false,
          "x": -0.2,
          "xref": "paper",
          "y": -0.109,
          "yref": "paper"
         }
        ],
        "height": 800,
        "legend": {
         "font": {
          "size": 10
         },
         "x": 0.029,
         "y": 1.038
        },
        "margin": {
         "b": 70,
         "l": 100,
         "r": 20,
         "t": 70
        },
        "paper_bgcolor": "rgba(255,255,255, 0)",
        "plot_bgcolor": "rgba(255,255,255, 0)",
        "template": {
         "data": {
          "bar": [
           {
            "error_x": {
             "color": "#2a3f5f"
            },
            "error_y": {
             "color": "#2a3f5f"
            },
            "marker": {
             "line": {
              "color": "#E5ECF6",
              "width": 0.5
             },
             "pattern": {
              "fillmode": "overlay",
              "size": 10,
              "solidity": 0.2
             }
            },
            "type": "bar"
           }
          ],
          "barpolar": [
           {
            "marker": {
             "line": {
              "color": "#E5ECF6",
              "width": 0.5
             },
             "pattern": {
              "fillmode": "overlay",
              "size": 10,
              "solidity": 0.2
             }
            },
            "type": "barpolar"
           }
          ],
          "carpet": [
           {
            "aaxis": {
             "endlinecolor": "#2a3f5f",
             "gridcolor": "white",
             "linecolor": "white",
             "minorgridcolor": "white",
             "startlinecolor": "#2a3f5f"
            },
            "baxis": {
             "endlinecolor": "#2a3f5f",
             "gridcolor": "white",
             "linecolor": "white",
             "minorgridcolor": "white",
             "startlinecolor": "#2a3f5f"
            },
            "type": "carpet"
           }
          ],
          "choropleth": [
           {
            "colorbar": {
             "outlinewidth": 0,
             "ticks": ""
            },
            "type": "choropleth"
           }
          ],
          "contour": [
           {
            "colorbar": {
             "outlinewidth": 0,
             "ticks": ""
            },
            "colorscale": [
             [
              0,
              "#0d0887"
             ],
             [
              0.1111111111111111,
              "#46039f"
             ],
             [
              0.2222222222222222,
              "#7201a8"
             ],
             [
              0.3333333333333333,
              "#9c179e"
             ],
             [
              0.4444444444444444,
              "#bd3786"
             ],
             [
              0.5555555555555556,
              "#d8576b"
             ],
             [
              0.6666666666666666,
              "#ed7953"
             ],
             [
              0.7777777777777778,
              "#fb9f3a"
             ],
             [
              0.8888888888888888,
              "#fdca26"
             ],
             [
              1,
              "#f0f921"
             ]
            ],
            "type": "contour"
           }
          ],
          "contourcarpet": [
           {
            "colorbar": {
             "outlinewidth": 0,
             "ticks": ""
            },
            "type": "contourcarpet"
           }
          ],
          "heatmap": [
           {
            "colorbar": {
             "outlinewidth": 0,
             "ticks": ""
            },
            "colorscale": [
             [
              0,
              "#0d0887"
             ],
             [
              0.1111111111111111,
              "#46039f"
             ],
             [
              0.2222222222222222,
              "#7201a8"
             ],
             [
              0.3333333333333333,
              "#9c179e"
             ],
             [
              0.4444444444444444,
              "#bd3786"
             ],
             [
              0.5555555555555556,
              "#d8576b"
             ],
             [
              0.6666666666666666,
              "#ed7953"
             ],
             [
              0.7777777777777778,
              "#fb9f3a"
             ],
             [
              0.8888888888888888,
              "#fdca26"
             ],
             [
              1,
              "#f0f921"
             ]
            ],
            "type": "heatmap"
           }
          ],
          "heatmapgl": [
           {
            "colorbar": {
             "outlinewidth": 0,
             "ticks": ""
            },
            "colorscale": [
             [
              0,
              "#0d0887"
             ],
             [
              0.1111111111111111,
              "#46039f"
             ],
             [
              0.2222222222222222,
              "#7201a8"
             ],
             [
              0.3333333333333333,
              "#9c179e"
             ],
             [
              0.4444444444444444,
              "#bd3786"
             ],
             [
              0.5555555555555556,
              "#d8576b"
             ],
             [
              0.6666666666666666,
              "#ed7953"
             ],
             [
              0.7777777777777778,
              "#fb9f3a"
             ],
             [
              0.8888888888888888,
              "#fdca26"
             ],
             [
              1,
              "#f0f921"
             ]
            ],
            "type": "heatmapgl"
           }
          ],
          "histogram": [
           {
            "marker": {
             "pattern": {
              "fillmode": "overlay",
              "size": 10,
              "solidity": 0.2
             }
            },
            "type": "histogram"
           }
          ],
          "histogram2d": [
           {
            "colorbar": {
             "outlinewidth": 0,
             "ticks": ""
            },
            "colorscale": [
             [
              0,
              "#0d0887"
             ],
             [
              0.1111111111111111,
              "#46039f"
             ],
             [
              0.2222222222222222,
              "#7201a8"
             ],
             [
              0.3333333333333333,
              "#9c179e"
             ],
             [
              0.4444444444444444,
              "#bd3786"
             ],
             [
              0.5555555555555556,
              "#d8576b"
             ],
             [
              0.6666666666666666,
              "#ed7953"
             ],
             [
              0.7777777777777778,
              "#fb9f3a"
             ],
             [
              0.8888888888888888,
              "#fdca26"
             ],
             [
              1,
              "#f0f921"
             ]
            ],
            "type": "histogram2d"
           }
          ],
          "histogram2dcontour": [
           {
            "colorbar": {
             "outlinewidth": 0,
             "ticks": ""
            },
            "colorscale": [
             [
              0,
              "#0d0887"
             ],
             [
              0.1111111111111111,
              "#46039f"
             ],
             [
              0.2222222222222222,
              "#7201a8"
             ],
             [
              0.3333333333333333,
              "#9c179e"
             ],
             [
              0.4444444444444444,
              "#bd3786"
             ],
             [
              0.5555555555555556,
              "#d8576b"
             ],
             [
              0.6666666666666666,
              "#ed7953"
             ],
             [
              0.7777777777777778,
              "#fb9f3a"
             ],
             [
              0.8888888888888888,
              "#fdca26"
             ],
             [
              1,
              "#f0f921"
             ]
            ],
            "type": "histogram2dcontour"
           }
          ],
          "mesh3d": [
           {
            "colorbar": {
             "outlinewidth": 0,
             "ticks": ""
            },
            "type": "mesh3d"
           }
          ],
          "parcoords": [
           {
            "line": {
             "colorbar": {
              "outlinewidth": 0,
              "ticks": ""
             }
            },
            "type": "parcoords"
           }
          ],
          "pie": [
           {
            "automargin": true,
            "type": "pie"
           }
          ],
          "scatter": [
           {
            "marker": {
             "colorbar": {
              "outlinewidth": 0,
              "ticks": ""
             }
            },
            "type": "scatter"
           }
          ],
          "scatter3d": [
           {
            "line": {
             "colorbar": {
              "outlinewidth": 0,
              "ticks": ""
             }
            },
            "marker": {
             "colorbar": {
              "outlinewidth": 0,
              "ticks": ""
             }
            },
            "type": "scatter3d"
           }
          ],
          "scattercarpet": [
           {
            "marker": {
             "colorbar": {
              "outlinewidth": 0,
              "ticks": ""
             }
            },
            "type": "scattercarpet"
           }
          ],
          "scattergeo": [
           {
            "marker": {
             "colorbar": {
              "outlinewidth": 0,
              "ticks": ""
             }
            },
            "type": "scattergeo"
           }
          ],
          "scattergl": [
           {
            "marker": {
             "colorbar": {
              "outlinewidth": 0,
              "ticks": ""
             }
            },
            "type": "scattergl"
           }
          ],
          "scattermapbox": [
           {
            "marker": {
             "colorbar": {
              "outlinewidth": 0,
              "ticks": ""
             }
            },
            "type": "scattermapbox"
           }
          ],
          "scatterpolar": [
           {
            "marker": {
             "colorbar": {
              "outlinewidth": 0,
              "ticks": ""
             }
            },
            "type": "scatterpolar"
           }
          ],
          "scatterpolargl": [
           {
            "marker": {
             "colorbar": {
              "outlinewidth": 0,
              "ticks": ""
             }
            },
            "type": "scatterpolargl"
           }
          ],
          "scatterternary": [
           {
            "marker": {
             "colorbar": {
              "outlinewidth": 0,
              "ticks": ""
             }
            },
            "type": "scatterternary"
           }
          ],
          "surface": [
           {
            "colorbar": {
             "outlinewidth": 0,
             "ticks": ""
            },
            "colorscale": [
             [
              0,
              "#0d0887"
             ],
             [
              0.1111111111111111,
              "#46039f"
             ],
             [
              0.2222222222222222,
              "#7201a8"
             ],
             [
              0.3333333333333333,
              "#9c179e"
             ],
             [
              0.4444444444444444,
              "#bd3786"
             ],
             [
              0.5555555555555556,
              "#d8576b"
             ],
             [
              0.6666666666666666,
              "#ed7953"
             ],
             [
              0.7777777777777778,
              "#fb9f3a"
             ],
             [
              0.8888888888888888,
              "#fdca26"
             ],
             [
              1,
              "#f0f921"
             ]
            ],
            "type": "surface"
           }
          ],
          "table": [
           {
            "cells": {
             "fill": {
              "color": "#EBF0F8"
             },
             "line": {
              "color": "white"
             }
            },
            "header": {
             "fill": {
              "color": "#C8D4E3"
             },
             "line": {
              "color": "white"
             }
            },
            "type": "table"
           }
          ]
         },
         "layout": {
          "annotationdefaults": {
           "arrowcolor": "#2a3f5f",
           "arrowhead": 0,
           "arrowwidth": 1
          },
          "autotypenumbers": "strict",
          "coloraxis": {
           "colorbar": {
            "outlinewidth": 0,
            "ticks": ""
           }
          },
          "colorscale": {
           "diverging": [
            [
             0,
             "#8e0152"
            ],
            [
             0.1,
             "#c51b7d"
            ],
            [
             0.2,
             "#de77ae"
            ],
            [
             0.3,
             "#f1b6da"
            ],
            [
             0.4,
             "#fde0ef"
            ],
            [
             0.5,
             "#f7f7f7"
            ],
            [
             0.6,
             "#e6f5d0"
            ],
            [
             0.7,
             "#b8e186"
            ],
            [
             0.8,
             "#7fbc41"
            ],
            [
             0.9,
             "#4d9221"
            ],
            [
             1,
             "#276419"
            ]
           ],
           "sequential": [
            [
             0,
             "#0d0887"
            ],
            [
             0.1111111111111111,
             "#46039f"
            ],
            [
             0.2222222222222222,
             "#7201a8"
            ],
            [
             0.3333333333333333,
             "#9c179e"
            ],
            [
             0.4444444444444444,
             "#bd3786"
            ],
            [
             0.5555555555555556,
             "#d8576b"
            ],
            [
             0.6666666666666666,
             "#ed7953"
            ],
            [
             0.7777777777777778,
             "#fb9f3a"
            ],
            [
             0.8888888888888888,
             "#fdca26"
            ],
            [
             1,
             "#f0f921"
            ]
           ],
           "sequentialminus": [
            [
             0,
             "#0d0887"
            ],
            [
             0.1111111111111111,
             "#46039f"
            ],
            [
             0.2222222222222222,
             "#7201a8"
            ],
            [
             0.3333333333333333,
             "#9c179e"
            ],
            [
             0.4444444444444444,
             "#bd3786"
            ],
            [
             0.5555555555555556,
             "#d8576b"
            ],
            [
             0.6666666666666666,
             "#ed7953"
            ],
            [
             0.7777777777777778,
             "#fb9f3a"
            ],
            [
             0.8888888888888888,
             "#fdca26"
            ],
            [
             1,
             "#f0f921"
            ]
           ]
          },
          "colorway": [
           "#636efa",
           "#EF553B",
           "#00cc96",
           "#ab63fa",
           "#FFA15A",
           "#19d3f3",
           "#FF6692",
           "#B6E880",
           "#FF97FF",
           "#FECB52"
          ],
          "font": {
           "color": "#2a3f5f"
          },
          "geo": {
           "bgcolor": "white",
           "lakecolor": "white",
           "landcolor": "#E5ECF6",
           "showlakes": true,
           "showland": true,
           "subunitcolor": "white"
          },
          "hoverlabel": {
           "align": "left"
          },
          "hovermode": "closest",
          "mapbox": {
           "style": "light"
          },
          "paper_bgcolor": "white",
          "plot_bgcolor": "#E5ECF6",
          "polar": {
           "angularaxis": {
            "gridcolor": "white",
            "linecolor": "white",
            "ticks": ""
           },
           "bgcolor": "#E5ECF6",
           "radialaxis": {
            "gridcolor": "white",
            "linecolor": "white",
            "ticks": ""
           }
          },
          "scene": {
           "xaxis": {
            "backgroundcolor": "#E5ECF6",
            "gridcolor": "white",
            "gridwidth": 2,
            "linecolor": "white",
            "showbackground": true,
            "ticks": "",
            "zerolinecolor": "white"
           },
           "yaxis": {
            "backgroundcolor": "#E5ECF6",
            "gridcolor": "white",
            "gridwidth": 2,
            "linecolor": "white",
            "showbackground": true,
            "ticks": "",
            "zerolinecolor": "white"
           },
           "zaxis": {
            "backgroundcolor": "#E5ECF6",
            "gridcolor": "white",
            "gridwidth": 2,
            "linecolor": "white",
            "showbackground": true,
            "ticks": "",
            "zerolinecolor": "white"
           }
          },
          "shapedefaults": {
           "line": {
            "color": "#2a3f5f"
           }
          },
          "ternary": {
           "aaxis": {
            "gridcolor": "white",
            "linecolor": "white",
            "ticks": ""
           },
           "baxis": {
            "gridcolor": "white",
            "linecolor": "white",
            "ticks": ""
           },
           "bgcolor": "#E5ECF6",
           "caxis": {
            "gridcolor": "white",
            "linecolor": "white",
            "ticks": ""
           }
          },
          "title": {
           "x": 0.05
          },
          "xaxis": {
           "automargin": true,
           "gridcolor": "white",
           "linecolor": "white",
           "ticks": "",
           "title": {
            "standoff": 15
           },
           "zerolinecolor": "white",
           "zerolinewidth": 2
          },
          "yaxis": {
           "automargin": true,
           "gridcolor": "white",
           "linecolor": "white",
           "ticks": "",
           "title": {
            "standoff": 15
           },
           "zerolinecolor": "white",
           "zerolinewidth": 2
          }
         }
        },
        "title": {
         "text": "Race Population in relation to location Unemployment Percent"
        },
        "xaxis": {
         "anchor": "y",
         "domain": [
          0,
          1
         ],
         "showgrid": true,
         "showline": false,
         "showticklabels": true,
         "zeroline": false
        },
        "xaxis2": {
         "anchor": "y2",
         "domain": [
          0,
          1
         ],
         "dtick": 10000,
         "showgrid": true,
         "showline": false,
         "showticklabels": true,
         "side": "top",
         "zeroline": false
        },
        "yaxis": {
         "anchor": "x",
         "domain": [
          0,
          0.9
         ],
         "showgrid": false,
         "showline": false,
         "showticklabels": true
        },
        "yaxis2": {
         "anchor": "x2",
         "domain": [
          0,
          0.9
         ],
         "linecolor": "rgba(102, 102, 102, 0.8)",
         "linewidth": 2,
         "showgrid": false,
         "showline": true,
         "showticklabels": false
        }
       }
      },
      "text/html": [
       "<div>                            <div id=\"bcd24b20-3426-42f1-8f3f-de1425ed9eba\" class=\"plotly-graph-div\" style=\"height:800px; width:100%;\"></div>            <script type=\"text/javascript\">                require([\"plotly\"], function(Plotly) {                    window.PLOTLYENV=window.PLOTLYENV || {};                                    if (document.getElementById(\"bcd24b20-3426-42f1-8f3f-de1425ed9eba\")) {                    Plotly.newPlot(                        \"bcd24b20-3426-42f1-8f3f-de1425ed9eba\",                        [{\"marker\":{\"color\":\"rgba(50, 171, 96, 0.6)\",\"line\":{\"color\":\"rgba(50, 171, 96, 1.0)\",\"width\":1}},\"name\":\"Population of Race White by County\",\"orientation\":\"h\",\"type\":\"bar\",\"x\":[47537,1070,173,894,54203,156796,21839,90318,23204,2378,6003,11360,9364,207573,12797,1382,1589,500,16845,1869,2331,1438,2880,1016368,23016,974,22383,4598,5418,882484],\"xaxis\":\"x\",\"y\":[\"Imperial County, California\",\"Skagway Municipality, Alaska\",\"Kusilvak Census Area, Alaska\",\"Jefferson County, Mississippi\",\"Maui County, Hawaii\",\"Atlantic County, New Jersey\",\"Starr County, Texas\",\"Yuma County, Arizona\",\"Kauai County, Hawaii\",\"Holmes County, Mississippi\",\"Calhoun County, West Virginia\",\"Magoffin County, Kentucky\",\"Colusa County, California\",\"Bronx County, New York\",\"Luna County, New Mexico\",\"Denali Borough, Alaska\",\"Haines Borough, Alaska\",\"Menominee County, Wisconsin\",\"Maverick County, Texas\",\"Tunica County, Mississippi\",\"Presidio County, Texas\",\"Humphreys County, Mississippi\",\"Wilcox County, Alabama\",\"Clark County, Nevada\",\"Cheboygan County, Michigan\",\"Claiborne County, Mississippi\",\"Mingo County, West Virginia\",\"Zavala County, Texas\",\"Petersburg city, Virginia\",\"Wayne County, Michigan\"],\"yaxis\":\"y\"},{\"line\":{\"color\":\"rgb(128, 0, 0)\"},\"mode\":\"lines+markers\",\"name\":\"Overall Unemployment Percentage in that County\",\"type\":\"scatter\",\"x\":[22.5,21.5,19.4,18.4,17.8,17.8,17.3,17.1,16.2,16.2,16.1,16.1,16.0,16.0,15.9,15.7,15.6,15.3,15.0,14.9,14.7,14.7,14.7,14.7,14.6,14.4,14.3,14.1,13.9,13.8],\"xaxis\":\"x2\",\"y\":[\"Imperial County, California\",\"Skagway Municipality, Alaska\",\"Kusilvak Census Area, Alaska\",\"Jefferson County, Mississippi\",\"Maui County, Hawaii\",\"Atlantic County, New Jersey\",\"Starr County, Texas\",\"Yuma County, Arizona\",\"Kauai County, Hawaii\",\"Holmes County, Mississippi\",\"Calhoun County, West Virginia\",\"Magoffin County, Kentucky\",\"Colusa County, California\",\"Bronx County, New York\",\"Luna County, New Mexico\",\"Denali Borough, Alaska\",\"Haines Borough, Alaska\",\"Menominee County, Wisconsin\",\"Maverick County, Texas\",\"Tunica County, Mississippi\",\"Presidio County, Texas\",\"Humphreys County, Mississippi\",\"Wilcox County, Alabama\",\"Clark County, Nevada\",\"Cheboygan County, Michigan\",\"Claiborne County, Mississippi\",\"Mingo County, West Virginia\",\"Zavala County, Texas\",\"Petersburg city, Virginia\",\"Wayne County, Michigan\"],\"yaxis\":\"y2\"}],                        {\"annotations\":[{\"font\":{\"color\":\"rgba(102, 102, 102, 0.8)\",\"family\":\"Arial\",\"size\":12},\"showarrow\":false,\"text\":\"22.0%\",\"x\":20,\"xref\":\"x2\",\"y\":\"Imperial County, California\",\"yref\":\"y2\"},{\"font\":{\"color\":\"rgb(50, 171, 96)\",\"family\":\"Arial\",\"size\":12},\"showarrow\":false,\"text\":\"47537\",\"x\":47537,\"xref\":\"x\",\"y\":\"Imperial County, California\",\"yref\":\"y\"},{\"font\":{\"color\":\"rgba(102, 102, 102, 0.8)\",\"family\":\"Arial\",\"size\":12},\"showarrow\":false,\"text\":\"22.0%\",\"x\":20,\"xref\":\"x2\",\"y\":\"Skagway Municipality, Alaska\",\"yref\":\"y2\"},{\"font\":{\"color\":\"rgb(50, 171, 96)\",\"family\":\"Arial\",\"size\":12},\"showarrow\":false,\"text\":\"1070\",\"x\":1070,\"xref\":\"x\",\"y\":\"Skagway Municipality, Alaska\",\"yref\":\"y\"},{\"font\":{\"color\":\"rgba(102, 102, 102, 0.8)\",\"family\":\"Arial\",\"size\":12},\"showarrow\":false,\"text\":\"19.0%\",\"x\":20,\"xref\":\"x2\",\"y\":\"Kusilvak Census Area, Alaska\",\"yref\":\"y2\"},{\"font\":{\"color\":\"rgb(50, 171, 96)\",\"family\":\"Arial\",\"size\":12},\"showarrow\":false,\"text\":\"173\",\"x\":173,\"xref\":\"x\",\"y\":\"Kusilvak Census Area, Alaska\",\"yref\":\"y\"},{\"font\":{\"color\":\"rgba(102, 102, 102, 0.8)\",\"family\":\"Arial\",\"size\":12},\"showarrow\":false,\"text\":\"18.0%\",\"x\":20,\"xref\":\"x2\",\"y\":\"Jefferson County, Mississippi\",\"yref\":\"y2\"},{\"font\":{\"color\":\"rgb(50, 171, 96)\",\"family\":\"Arial\",\"size\":12},\"showarrow\":false,\"text\":\"894\",\"x\":894,\"xref\":\"x\",\"y\":\"Jefferson County, Mississippi\",\"yref\":\"y\"},{\"font\":{\"color\":\"rgba(102, 102, 102, 0.8)\",\"family\":\"Arial\",\"size\":12},\"showarrow\":false,\"text\":\"18.0%\",\"x\":20,\"xref\":\"x2\",\"y\":\"Maui County, Hawaii\",\"yref\":\"y2\"},{\"font\":{\"color\":\"rgb(50, 171, 96)\",\"family\":\"Arial\",\"size\":12},\"showarrow\":false,\"text\":\"54203\",\"x\":54203,\"xref\":\"x\",\"y\":\"Maui County, Hawaii\",\"yref\":\"y\"},{\"font\":{\"color\":\"rgba(102, 102, 102, 0.8)\",\"family\":\"Arial\",\"size\":12},\"showarrow\":false,\"text\":\"18.0%\",\"x\":20,\"xref\":\"x2\",\"y\":\"Atlantic County, New Jersey\",\"yref\":\"y2\"},{\"font\":{\"color\":\"rgb(50, 171, 96)\",\"family\":\"Arial\",\"size\":12},\"showarrow\":false,\"text\":\"156796\",\"x\":156796,\"xref\":\"x\",\"y\":\"Atlantic County, New Jersey\",\"yref\":\"y\"},{\"font\":{\"color\":\"rgba(102, 102, 102, 0.8)\",\"family\":\"Arial\",\"size\":12},\"showarrow\":false,\"text\":\"17.0%\",\"x\":20,\"xref\":\"x2\",\"y\":\"Starr County, Texas\",\"yref\":\"y2\"},{\"font\":{\"color\":\"rgb(50, 171, 96)\",\"family\":\"Arial\",\"size\":12},\"showarrow\":false,\"text\":\"21839\",\"x\":21839,\"xref\":\"x\",\"y\":\"Starr County, Texas\",\"yref\":\"y\"},{\"font\":{\"color\":\"rgba(102, 102, 102, 0.8)\",\"family\":\"Arial\",\"size\":12},\"showarrow\":false,\"text\":\"17.0%\",\"x\":20,\"xref\":\"x2\",\"y\":\"Yuma County, Arizona\",\"yref\":\"y2\"},{\"font\":{\"color\":\"rgb(50, 171, 96)\",\"family\":\"Arial\",\"size\":12},\"showarrow\":false,\"text\":\"90318\",\"x\":90318,\"xref\":\"x\",\"y\":\"Yuma County, Arizona\",\"yref\":\"y\"},{\"font\":{\"color\":\"rgba(102, 102, 102, 0.8)\",\"family\":\"Arial\",\"size\":12},\"showarrow\":false,\"text\":\"16.0%\",\"x\":20,\"xref\":\"x2\",\"y\":\"Kauai County, Hawaii\",\"yref\":\"y2\"},{\"font\":{\"color\":\"rgb(50, 171, 96)\",\"family\":\"Arial\",\"size\":12},\"showarrow\":false,\"text\":\"23204\",\"x\":23204,\"xref\":\"x\",\"y\":\"Kauai County, Hawaii\",\"yref\":\"y\"},{\"font\":{\"color\":\"rgba(102, 102, 102, 0.8)\",\"family\":\"Arial\",\"size\":12},\"showarrow\":false,\"text\":\"16.0%\",\"x\":20,\"xref\":\"x2\",\"y\":\"Holmes County, Mississippi\",\"yref\":\"y2\"},{\"font\":{\"color\":\"rgb(50, 171, 96)\",\"family\":\"Arial\",\"size\":12},\"showarrow\":false,\"text\":\"2378\",\"x\":2378,\"xref\":\"x\",\"y\":\"Holmes County, Mississippi\",\"yref\":\"y\"},{\"font\":{\"color\":\"rgba(102, 102, 102, 0.8)\",\"family\":\"Arial\",\"size\":12},\"showarrow\":false,\"text\":\"16.0%\",\"x\":20,\"xref\":\"x2\",\"y\":\"Calhoun County, West Virginia\",\"yref\":\"y2\"},{\"font\":{\"color\":\"rgb(50, 171, 96)\",\"family\":\"Arial\",\"size\":12},\"showarrow\":false,\"text\":\"6003\",\"x\":6003,\"xref\":\"x\",\"y\":\"Calhoun County, West Virginia\",\"yref\":\"y\"},{\"font\":{\"color\":\"rgba(102, 102, 102, 0.8)\",\"family\":\"Arial\",\"size\":12},\"showarrow\":false,\"text\":\"16.0%\",\"x\":20,\"xref\":\"x2\",\"y\":\"Magoffin County, Kentucky\",\"yref\":\"y2\"},{\"font\":{\"color\":\"rgb(50, 171, 96)\",\"family\":\"Arial\",\"size\":12},\"showarrow\":false,\"text\":\"11360\",\"x\":11360,\"xref\":\"x\",\"y\":\"Magoffin County, Kentucky\",\"yref\":\"y\"},{\"font\":{\"color\":\"rgba(102, 102, 102, 0.8)\",\"family\":\"Arial\",\"size\":12},\"showarrow\":false,\"text\":\"16.0%\",\"x\":20,\"xref\":\"x2\",\"y\":\"Colusa County, California\",\"yref\":\"y2\"},{\"font\":{\"color\":\"rgb(50, 171, 96)\",\"family\":\"Arial\",\"size\":12},\"showarrow\":false,\"text\":\"9364\",\"x\":9364,\"xref\":\"x\",\"y\":\"Colusa County, California\",\"yref\":\"y\"},{\"font\":{\"color\":\"rgba(102, 102, 102, 0.8)\",\"family\":\"Arial\",\"size\":12},\"showarrow\":false,\"text\":\"16.0%\",\"x\":20,\"xref\":\"x2\",\"y\":\"Bronx County, New York\",\"yref\":\"y2\"},{\"font\":{\"color\":\"rgb(50, 171, 96)\",\"family\":\"Arial\",\"size\":12},\"showarrow\":false,\"text\":\"207573\",\"x\":207573,\"xref\":\"x\",\"y\":\"Bronx County, New York\",\"yref\":\"y\"},{\"font\":{\"color\":\"rgba(102, 102, 102, 0.8)\",\"family\":\"Arial\",\"size\":12},\"showarrow\":false,\"text\":\"16.0%\",\"x\":20,\"xref\":\"x2\",\"y\":\"Luna County, New Mexico\",\"yref\":\"y2\"},{\"font\":{\"color\":\"rgb(50, 171, 96)\",\"family\":\"Arial\",\"size\":12},\"showarrow\":false,\"text\":\"12797\",\"x\":12797,\"xref\":\"x\",\"y\":\"Luna County, New Mexico\",\"yref\":\"y\"},{\"font\":{\"color\":\"rgba(102, 102, 102, 0.8)\",\"family\":\"Arial\",\"size\":12},\"showarrow\":false,\"text\":\"16.0%\",\"x\":20,\"xref\":\"x2\",\"y\":\"Denali Borough, Alaska\",\"yref\":\"y2\"},{\"font\":{\"color\":\"rgb(50, 171, 96)\",\"family\":\"Arial\",\"size\":12},\"showarrow\":false,\"text\":\"1382\",\"x\":1382,\"xref\":\"x\",\"y\":\"Denali Borough, Alaska\",\"yref\":\"y\"},{\"font\":{\"color\":\"rgba(102, 102, 102, 0.8)\",\"family\":\"Arial\",\"size\":12},\"showarrow\":false,\"text\":\"16.0%\",\"x\":20,\"xref\":\"x2\",\"y\":\"Haines Borough, Alaska\",\"yref\":\"y2\"},{\"font\":{\"color\":\"rgb(50, 171, 96)\",\"family\":\"Arial\",\"size\":12},\"showarrow\":false,\"text\":\"1589\",\"x\":1589,\"xref\":\"x\",\"y\":\"Haines Borough, Alaska\",\"yref\":\"y\"},{\"font\":{\"color\":\"rgba(102, 102, 102, 0.8)\",\"family\":\"Arial\",\"size\":12},\"showarrow\":false,\"text\":\"15.0%\",\"x\":20,\"xref\":\"x2\",\"y\":\"Menominee County, Wisconsin\",\"yref\":\"y2\"},{\"font\":{\"color\":\"rgb(50, 171, 96)\",\"family\":\"Arial\",\"size\":12},\"showarrow\":false,\"text\":\"500\",\"x\":500,\"xref\":\"x\",\"y\":\"Menominee County, Wisconsin\",\"yref\":\"y\"},{\"font\":{\"color\":\"rgba(102, 102, 102, 0.8)\",\"family\":\"Arial\",\"size\":12},\"showarrow\":false,\"text\":\"15.0%\",\"x\":20,\"xref\":\"x2\",\"y\":\"Maverick County, Texas\",\"yref\":\"y2\"},{\"font\":{\"color\":\"rgb(50, 171, 96)\",\"family\":\"Arial\",\"size\":12},\"showarrow\":false,\"text\":\"16845\",\"x\":16845,\"xref\":\"x\",\"y\":\"Maverick County, Texas\",\"yref\":\"y\"},{\"font\":{\"color\":\"rgba(102, 102, 102, 0.8)\",\"family\":\"Arial\",\"size\":12},\"showarrow\":false,\"text\":\"15.0%\",\"x\":20,\"xref\":\"x2\",\"y\":\"Tunica County, Mississippi\",\"yref\":\"y2\"},{\"font\":{\"color\":\"rgb(50, 171, 96)\",\"family\":\"Arial\",\"size\":12},\"showarrow\":false,\"text\":\"1869\",\"x\":1869,\"xref\":\"x\",\"y\":\"Tunica County, Mississippi\",\"yref\":\"y\"},{\"font\":{\"color\":\"rgba(102, 102, 102, 0.8)\",\"family\":\"Arial\",\"size\":12},\"showarrow\":false,\"text\":\"15.0%\",\"x\":20,\"xref\":\"x2\",\"y\":\"Presidio County, Texas\",\"yref\":\"y2\"},{\"font\":{\"color\":\"rgb(50, 171, 96)\",\"family\":\"Arial\",\"size\":12},\"showarrow\":false,\"text\":\"2331\",\"x\":2331,\"xref\":\"x\",\"y\":\"Presidio County, Texas\",\"yref\":\"y\"},{\"font\":{\"color\":\"rgba(102, 102, 102, 0.8)\",\"family\":\"Arial\",\"size\":12},\"showarrow\":false,\"text\":\"15.0%\",\"x\":20,\"xref\":\"x2\",\"y\":\"Humphreys County, Mississippi\",\"yref\":\"y2\"},{\"font\":{\"color\":\"rgb(50, 171, 96)\",\"family\":\"Arial\",\"size\":12},\"showarrow\":false,\"text\":\"1438\",\"x\":1438,\"xref\":\"x\",\"y\":\"Humphreys County, Mississippi\",\"yref\":\"y\"},{\"font\":{\"color\":\"rgba(102, 102, 102, 0.8)\",\"family\":\"Arial\",\"size\":12},\"showarrow\":false,\"text\":\"15.0%\",\"x\":20,\"xref\":\"x2\",\"y\":\"Wilcox County, Alabama\",\"yref\":\"y2\"},{\"font\":{\"color\":\"rgb(50, 171, 96)\",\"family\":\"Arial\",\"size\":12},\"showarrow\":false,\"text\":\"2880\",\"x\":2880,\"xref\":\"x\",\"y\":\"Wilcox County, Alabama\",\"yref\":\"y\"},{\"font\":{\"color\":\"rgba(102, 102, 102, 0.8)\",\"family\":\"Arial\",\"size\":12},\"showarrow\":false,\"text\":\"15.0%\",\"x\":20,\"xref\":\"x2\",\"y\":\"Clark County, Nevada\",\"yref\":\"y2\"},{\"font\":{\"color\":\"rgb(50, 171, 96)\",\"family\":\"Arial\",\"size\":12},\"showarrow\":false,\"text\":\"1016368\",\"x\":1016368,\"xref\":\"x\",\"y\":\"Clark County, Nevada\",\"yref\":\"y\"},{\"font\":{\"color\":\"rgba(102, 102, 102, 0.8)\",\"family\":\"Arial\",\"size\":12},\"showarrow\":false,\"text\":\"15.0%\",\"x\":20,\"xref\":\"x2\",\"y\":\"Cheboygan County, Michigan\",\"yref\":\"y2\"},{\"font\":{\"color\":\"rgb(50, 171, 96)\",\"family\":\"Arial\",\"size\":12},\"showarrow\":false,\"text\":\"23016\",\"x\":23016,\"xref\":\"x\",\"y\":\"Cheboygan County, Michigan\",\"yref\":\"y\"},{\"font\":{\"color\":\"rgba(102, 102, 102, 0.8)\",\"family\":\"Arial\",\"size\":12},\"showarrow\":false,\"text\":\"14.0%\",\"x\":20,\"xref\":\"x2\",\"y\":\"Claiborne County, Mississippi\",\"yref\":\"y2\"},{\"font\":{\"color\":\"rgb(50, 171, 96)\",\"family\":\"Arial\",\"size\":12},\"showarrow\":false,\"text\":\"974\",\"x\":974,\"xref\":\"x\",\"y\":\"Claiborne County, Mississippi\",\"yref\":\"y\"},{\"font\":{\"color\":\"rgba(102, 102, 102, 0.8)\",\"family\":\"Arial\",\"size\":12},\"showarrow\":false,\"text\":\"14.0%\",\"x\":20,\"xref\":\"x2\",\"y\":\"Mingo County, West Virginia\",\"yref\":\"y2\"},{\"font\":{\"color\":\"rgb(50, 171, 96)\",\"family\":\"Arial\",\"size\":12},\"showarrow\":false,\"text\":\"22383\",\"x\":22383,\"xref\":\"x\",\"y\":\"Mingo County, West Virginia\",\"yref\":\"y\"},{\"font\":{\"color\":\"rgba(102, 102, 102, 0.8)\",\"family\":\"Arial\",\"size\":12},\"showarrow\":false,\"text\":\"14.0%\",\"x\":20,\"xref\":\"x2\",\"y\":\"Zavala County, Texas\",\"yref\":\"y2\"},{\"font\":{\"color\":\"rgb(50, 171, 96)\",\"family\":\"Arial\",\"size\":12},\"showarrow\":false,\"text\":\"4598\",\"x\":4598,\"xref\":\"x\",\"y\":\"Zavala County, Texas\",\"yref\":\"y\"},{\"font\":{\"color\":\"rgba(102, 102, 102, 0.8)\",\"family\":\"Arial\",\"size\":12},\"showarrow\":false,\"text\":\"14.0%\",\"x\":20,\"xref\":\"x2\",\"y\":\"Petersburg city, Virginia\",\"yref\":\"y2\"},{\"font\":{\"color\":\"rgb(50, 171, 96)\",\"family\":\"Arial\",\"size\":12},\"showarrow\":false,\"text\":\"5418\",\"x\":5418,\"xref\":\"x\",\"y\":\"Petersburg city, Virginia\",\"yref\":\"y\"},{\"font\":{\"color\":\"rgba(102, 102, 102, 0.8)\",\"family\":\"Arial\",\"size\":12},\"showarrow\":false,\"text\":\"14.0%\",\"x\":20,\"xref\":\"x2\",\"y\":\"Wayne County, Michigan\",\"yref\":\"y2\"},{\"font\":{\"color\":\"rgb(50, 171, 96)\",\"family\":\"Arial\",\"size\":12},\"showarrow\":false,\"text\":\"882484\",\"x\":882484,\"xref\":\"x\",\"y\":\"Wayne County, Michigan\",\"yref\":\"y\"},{\"font\":{\"color\":\"rgb(150,150,150)\",\"family\":\"Arial\",\"size\":10},\"showarrow\":false,\"x\":-0.2,\"xref\":\"paper\",\"y\":-0.109,\"yref\":\"paper\"}],\"height\":800,\"legend\":{\"font\":{\"size\":10},\"x\":0.029,\"y\":1.038},\"margin\":{\"b\":70,\"l\":100,\"r\":20,\"t\":70},\"paper_bgcolor\":\"rgba(255,255,255, 0)\",\"plot_bgcolor\":\"rgba(255,255,255, 0)\",\"template\":{\"data\":{\"bar\":[{\"error_x\":{\"color\":\"#2a3f5f\"},\"error_y\":{\"color\":\"#2a3f5f\"},\"marker\":{\"line\":{\"color\":\"#E5ECF6\",\"width\":0.5},\"pattern\":{\"fillmode\":\"overlay\",\"size\":10,\"solidity\":0.2}},\"type\":\"bar\"}],\"barpolar\":[{\"marker\":{\"line\":{\"color\":\"#E5ECF6\",\"width\":0.5},\"pattern\":{\"fillmode\":\"overlay\",\"size\":10,\"solidity\":0.2}},\"type\":\"barpolar\"}],\"carpet\":[{\"aaxis\":{\"endlinecolor\":\"#2a3f5f\",\"gridcolor\":\"white\",\"linecolor\":\"white\",\"minorgridcolor\":\"white\",\"startlinecolor\":\"#2a3f5f\"},\"baxis\":{\"endlinecolor\":\"#2a3f5f\",\"gridcolor\":\"white\",\"linecolor\":\"white\",\"minorgridcolor\":\"white\",\"startlinecolor\":\"#2a3f5f\"},\"type\":\"carpet\"}],\"choropleth\":[{\"colorbar\":{\"outlinewidth\":0,\"ticks\":\"\"},\"type\":\"choropleth\"}],\"contour\":[{\"colorbar\":{\"outlinewidth\":0,\"ticks\":\"\"},\"colorscale\":[[0.0,\"#0d0887\"],[0.1111111111111111,\"#46039f\"],[0.2222222222222222,\"#7201a8\"],[0.3333333333333333,\"#9c179e\"],[0.4444444444444444,\"#bd3786\"],[0.5555555555555556,\"#d8576b\"],[0.6666666666666666,\"#ed7953\"],[0.7777777777777778,\"#fb9f3a\"],[0.8888888888888888,\"#fdca26\"],[1.0,\"#f0f921\"]],\"type\":\"contour\"}],\"contourcarpet\":[{\"colorbar\":{\"outlinewidth\":0,\"ticks\":\"\"},\"type\":\"contourcarpet\"}],\"heatmap\":[{\"colorbar\":{\"outlinewidth\":0,\"ticks\":\"\"},\"colorscale\":[[0.0,\"#0d0887\"],[0.1111111111111111,\"#46039f\"],[0.2222222222222222,\"#7201a8\"],[0.3333333333333333,\"#9c179e\"],[0.4444444444444444,\"#bd3786\"],[0.5555555555555556,\"#d8576b\"],[0.6666666666666666,\"#ed7953\"],[0.7777777777777778,\"#fb9f3a\"],[0.8888888888888888,\"#fdca26\"],[1.0,\"#f0f921\"]],\"type\":\"heatmap\"}],\"heatmapgl\":[{\"colorbar\":{\"outlinewidth\":0,\"ticks\":\"\"},\"colorscale\":[[0.0,\"#0d0887\"],[0.1111111111111111,\"#46039f\"],[0.2222222222222222,\"#7201a8\"],[0.3333333333333333,\"#9c179e\"],[0.4444444444444444,\"#bd3786\"],[0.5555555555555556,\"#d8576b\"],[0.6666666666666666,\"#ed7953\"],[0.7777777777777778,\"#fb9f3a\"],[0.8888888888888888,\"#fdca26\"],[1.0,\"#f0f921\"]],\"type\":\"heatmapgl\"}],\"histogram\":[{\"marker\":{\"pattern\":{\"fillmode\":\"overlay\",\"size\":10,\"solidity\":0.2}},\"type\":\"histogram\"}],\"histogram2d\":[{\"colorbar\":{\"outlinewidth\":0,\"ticks\":\"\"},\"colorscale\":[[0.0,\"#0d0887\"],[0.1111111111111111,\"#46039f\"],[0.2222222222222222,\"#7201a8\"],[0.3333333333333333,\"#9c179e\"],[0.4444444444444444,\"#bd3786\"],[0.5555555555555556,\"#d8576b\"],[0.6666666666666666,\"#ed7953\"],[0.7777777777777778,\"#fb9f3a\"],[0.8888888888888888,\"#fdca26\"],[1.0,\"#f0f921\"]],\"type\":\"histogram2d\"}],\"histogram2dcontour\":[{\"colorbar\":{\"outlinewidth\":0,\"ticks\":\"\"},\"colorscale\":[[0.0,\"#0d0887\"],[0.1111111111111111,\"#46039f\"],[0.2222222222222222,\"#7201a8\"],[0.3333333333333333,\"#9c179e\"],[0.4444444444444444,\"#bd3786\"],[0.5555555555555556,\"#d8576b\"],[0.6666666666666666,\"#ed7953\"],[0.7777777777777778,\"#fb9f3a\"],[0.8888888888888888,\"#fdca26\"],[1.0,\"#f0f921\"]],\"type\":\"histogram2dcontour\"}],\"mesh3d\":[{\"colorbar\":{\"outlinewidth\":0,\"ticks\":\"\"},\"type\":\"mesh3d\"}],\"parcoords\":[{\"line\":{\"colorbar\":{\"outlinewidth\":0,\"ticks\":\"\"}},\"type\":\"parcoords\"}],\"pie\":[{\"automargin\":true,\"type\":\"pie\"}],\"scatter\":[{\"marker\":{\"colorbar\":{\"outlinewidth\":0,\"ticks\":\"\"}},\"type\":\"scatter\"}],\"scatter3d\":[{\"line\":{\"colorbar\":{\"outlinewidth\":0,\"ticks\":\"\"}},\"marker\":{\"colorbar\":{\"outlinewidth\":0,\"ticks\":\"\"}},\"type\":\"scatter3d\"}],\"scattercarpet\":[{\"marker\":{\"colorbar\":{\"outlinewidth\":0,\"ticks\":\"\"}},\"type\":\"scattercarpet\"}],\"scattergeo\":[{\"marker\":{\"colorbar\":{\"outlinewidth\":0,\"ticks\":\"\"}},\"type\":\"scattergeo\"}],\"scattergl\":[{\"marker\":{\"colorbar\":{\"outlinewidth\":0,\"ticks\":\"\"}},\"type\":\"scattergl\"}],\"scattermapbox\":[{\"marker\":{\"colorbar\":{\"outlinewidth\":0,\"ticks\":\"\"}},\"type\":\"scattermapbox\"}],\"scatterpolar\":[{\"marker\":{\"colorbar\":{\"outlinewidth\":0,\"ticks\":\"\"}},\"type\":\"scatterpolar\"}],\"scatterpolargl\":[{\"marker\":{\"colorbar\":{\"outlinewidth\":0,\"ticks\":\"\"}},\"type\":\"scatterpolargl\"}],\"scatterternary\":[{\"marker\":{\"colorbar\":{\"outlinewidth\":0,\"ticks\":\"\"}},\"type\":\"scatterternary\"}],\"surface\":[{\"colorbar\":{\"outlinewidth\":0,\"ticks\":\"\"},\"colorscale\":[[0.0,\"#0d0887\"],[0.1111111111111111,\"#46039f\"],[0.2222222222222222,\"#7201a8\"],[0.3333333333333333,\"#9c179e\"],[0.4444444444444444,\"#bd3786\"],[0.5555555555555556,\"#d8576b\"],[0.6666666666666666,\"#ed7953\"],[0.7777777777777778,\"#fb9f3a\"],[0.8888888888888888,\"#fdca26\"],[1.0,\"#f0f921\"]],\"type\":\"surface\"}],\"table\":[{\"cells\":{\"fill\":{\"color\":\"#EBF0F8\"},\"line\":{\"color\":\"white\"}},\"header\":{\"fill\":{\"color\":\"#C8D4E3\"},\"line\":{\"color\":\"white\"}},\"type\":\"table\"}]},\"layout\":{\"annotationdefaults\":{\"arrowcolor\":\"#2a3f5f\",\"arrowhead\":0,\"arrowwidth\":1},\"autotypenumbers\":\"strict\",\"coloraxis\":{\"colorbar\":{\"outlinewidth\":0,\"ticks\":\"\"}},\"colorscale\":{\"diverging\":[[0,\"#8e0152\"],[0.1,\"#c51b7d\"],[0.2,\"#de77ae\"],[0.3,\"#f1b6da\"],[0.4,\"#fde0ef\"],[0.5,\"#f7f7f7\"],[0.6,\"#e6f5d0\"],[0.7,\"#b8e186\"],[0.8,\"#7fbc41\"],[0.9,\"#4d9221\"],[1,\"#276419\"]],\"sequential\":[[0.0,\"#0d0887\"],[0.1111111111111111,\"#46039f\"],[0.2222222222222222,\"#7201a8\"],[0.3333333333333333,\"#9c179e\"],[0.4444444444444444,\"#bd3786\"],[0.5555555555555556,\"#d8576b\"],[0.6666666666666666,\"#ed7953\"],[0.7777777777777778,\"#fb9f3a\"],[0.8888888888888888,\"#fdca26\"],[1.0,\"#f0f921\"]],\"sequentialminus\":[[0.0,\"#0d0887\"],[0.1111111111111111,\"#46039f\"],[0.2222222222222222,\"#7201a8\"],[0.3333333333333333,\"#9c179e\"],[0.4444444444444444,\"#bd3786\"],[0.5555555555555556,\"#d8576b\"],[0.6666666666666666,\"#ed7953\"],[0.7777777777777778,\"#fb9f3a\"],[0.8888888888888888,\"#fdca26\"],[1.0,\"#f0f921\"]]},\"colorway\":[\"#636efa\",\"#EF553B\",\"#00cc96\",\"#ab63fa\",\"#FFA15A\",\"#19d3f3\",\"#FF6692\",\"#B6E880\",\"#FF97FF\",\"#FECB52\"],\"font\":{\"color\":\"#2a3f5f\"},\"geo\":{\"bgcolor\":\"white\",\"lakecolor\":\"white\",\"landcolor\":\"#E5ECF6\",\"showlakes\":true,\"showland\":true,\"subunitcolor\":\"white\"},\"hoverlabel\":{\"align\":\"left\"},\"hovermode\":\"closest\",\"mapbox\":{\"style\":\"light\"},\"paper_bgcolor\":\"white\",\"plot_bgcolor\":\"#E5ECF6\",\"polar\":{\"angularaxis\":{\"gridcolor\":\"white\",\"linecolor\":\"white\",\"ticks\":\"\"},\"bgcolor\":\"#E5ECF6\",\"radialaxis\":{\"gridcolor\":\"white\",\"linecolor\":\"white\",\"ticks\":\"\"}},\"scene\":{\"xaxis\":{\"backgroundcolor\":\"#E5ECF6\",\"gridcolor\":\"white\",\"gridwidth\":2,\"linecolor\":\"white\",\"showbackground\":true,\"ticks\":\"\",\"zerolinecolor\":\"white\"},\"yaxis\":{\"backgroundcolor\":\"#E5ECF6\",\"gridcolor\":\"white\",\"gridwidth\":2,\"linecolor\":\"white\",\"showbackground\":true,\"ticks\":\"\",\"zerolinecolor\":\"white\"},\"zaxis\":{\"backgroundcolor\":\"#E5ECF6\",\"gridcolor\":\"white\",\"gridwidth\":2,\"linecolor\":\"white\",\"showbackground\":true,\"ticks\":\"\",\"zerolinecolor\":\"white\"}},\"shapedefaults\":{\"line\":{\"color\":\"#2a3f5f\"}},\"ternary\":{\"aaxis\":{\"gridcolor\":\"white\",\"linecolor\":\"white\",\"ticks\":\"\"},\"baxis\":{\"gridcolor\":\"white\",\"linecolor\":\"white\",\"ticks\":\"\"},\"bgcolor\":\"#E5ECF6\",\"caxis\":{\"gridcolor\":\"white\",\"linecolor\":\"white\",\"ticks\":\"\"}},\"title\":{\"x\":0.05},\"xaxis\":{\"automargin\":true,\"gridcolor\":\"white\",\"linecolor\":\"white\",\"ticks\":\"\",\"title\":{\"standoff\":15},\"zerolinecolor\":\"white\",\"zerolinewidth\":2},\"yaxis\":{\"automargin\":true,\"gridcolor\":\"white\",\"linecolor\":\"white\",\"ticks\":\"\",\"title\":{\"standoff\":15},\"zerolinecolor\":\"white\",\"zerolinewidth\":2}}},\"title\":{\"text\":\"Race Population in relation to location Unemployment Percent\"},\"xaxis\":{\"anchor\":\"y\",\"domain\":[0,1],\"showgrid\":true,\"showline\":false,\"showticklabels\":true,\"zeroline\":false},\"xaxis2\":{\"anchor\":\"y2\",\"domain\":[0,1],\"dtick\":10000,\"showgrid\":true,\"showline\":false,\"showticklabels\":true,\"side\":\"top\",\"zeroline\":false},\"yaxis\":{\"anchor\":\"x\",\"domain\":[0,0.9],\"showgrid\":false,\"showline\":false,\"showticklabels\":true},\"yaxis2\":{\"anchor\":\"x2\",\"domain\":[0,0.9],\"linecolor\":\"rgba(102, 102, 102, 0.8)\",\"linewidth\":2,\"showgrid\":false,\"showline\":true,\"showticklabels\":false}},                        {\"responsive\": true}                    ).then(function(){\n",
       "                            \n",
       "var gd = document.getElementById('bcd24b20-3426-42f1-8f3f-de1425ed9eba');\n",
       "var x = new MutationObserver(function (mutations, observer) {{\n",
       "        var display = window.getComputedStyle(gd).display;\n",
       "        if (!display || display === 'none') {{\n",
       "            console.log([gd, 'removed!']);\n",
       "            Plotly.purge(gd);\n",
       "            observer.disconnect();\n",
       "        }}\n",
       "}});\n",
       "\n",
       "// Listen for the removal of the full notebook cells\n",
       "var notebookContainer = gd.closest('#notebook-container');\n",
       "if (notebookContainer) {{\n",
       "    x.observe(notebookContainer, {childList: true});\n",
       "}}\n",
       "\n",
       "// Listen for the clearing of the current output cell\n",
       "var outputEl = gd.closest('.output');\n",
       "if (outputEl) {{\n",
       "    x.observe(outputEl, {childList: true});\n",
       "}}\n",
       "\n",
       "                        })                };                });            </script>        </div>"
      ]
     },
     "metadata": {},
     "output_type": "display_data"
    }
   ],
   "source": [
    "# Creating two subplots\n",
    "fig = make_subplots(rows=1, cols=2, specs=[[{}, {}]], shared_xaxes=True,\n",
    "                    shared_yaxes=False, vertical_spacing=0.001)\n",
    "\n",
    "fig.append_trace(go.Bar(\n",
    "    x=y_data,\n",
    "    y=x,\n",
    "    marker=dict(\n",
    "        color='rgba(50, 171, 96, 0.6)',\n",
    "        line=dict(\n",
    "            color='rgba(50, 171, 96, 1.0)',\n",
    "            width=1),\n",
    "    ),\n",
    "    name='Population of Race White by County',\n",
    "    orientation='h',\n",
    "), 1, 1)\n",
    "\n",
    "fig.append_trace(go.Scatter(\n",
    "    x=y_unemployed_pct, y=x,\n",
    "    mode='lines+markers',\n",
    "    line_color='rgb(128, 0, 0)',\n",
    "    name='Overall Unemployment Percentage in that County',\n",
    "), 1, 2)\n",
    "\n",
    "fig.update_layout(\n",
    "    title='Race Population in relation to location Unemployment Percent',\n",
    "    yaxis=dict(\n",
    "        showgrid=False,\n",
    "        showline=False,\n",
    "        showticklabels=True,\n",
    "        domain=[0, .9],\n",
    "    ),\n",
    "    yaxis2=dict(\n",
    "        showgrid=False,\n",
    "        showline=True,\n",
    "        showticklabels=False,\n",
    "        linecolor='rgba(102, 102, 102, 0.8)',\n",
    "        linewidth=2,\n",
    "        domain=[0, .9],\n",
    "    ),\n",
    "    xaxis=dict(\n",
    "        zeroline=False,\n",
    "        showline=False,\n",
    "        showticklabels=True,\n",
    "        showgrid=True,\n",
    "        domain=[0, 1],\n",
    "    ),\n",
    "    xaxis2=dict(\n",
    "        zeroline=False,\n",
    "        showline=False,\n",
    "        showticklabels=True,\n",
    "        showgrid=True,\n",
    "        domain=[0, 1],\n",
    "        side='top',\n",
    "        dtick=10000,\n",
    "    ),\n",
    "    legend=dict(x=0.029, y=1.038, font_size=10),\n",
    "    margin=dict(l=100, r=20, t=70, b=70),\n",
    "    paper_bgcolor='rgba(255,255,255, 0)',\n",
    "    plot_bgcolor='rgba(255,255,255, 0)',\n",
    "    height=800\n",
    ")\n",
    "\n",
    "annotations = []\n",
    "\n",
    "y_s = np.round(y_data, decimals=2)\n",
    "y_nw = np.rint(y_unemployed_pct)\n",
    "\n",
    "# Adding labels\n",
    "for ydn, yd, xd in zip(y_nw, y_s, x):\n",
    "    # labeling the scatter pct\n",
    "    annotations.append(dict(xref='x2', yref='y2',\n",
    "                            y=xd, x=20,\n",
    "                            text='{:,}'.format(ydn) + '%',\n",
    "                            font=dict(family='Arial', size=12,\n",
    "                                      color='rgba(102, 102, 102, 0.8)'),\n",
    "                            showarrow=False))\n",
    "    # labeling the bar net worth\n",
    "    annotations.append(dict(xref='x1', yref='y1',\n",
    "                            y=xd, x=yd,\n",
    "                            text=str(yd),\n",
    "                            font=dict(family='Arial', size=12,\n",
    "                                      color='rgb(50, 171, 96)'),\n",
    "                            showarrow=False))\n",
    "# Source\n",
    "annotations.append(dict(xref='paper', yref='paper',\n",
    "                        x=-0.2, y=-0.109,\n",
    "                        font=dict(family='Arial', size=10, color='rgb(150,150,150)'),\n",
    "                        showarrow=False))\n",
    "\n",
    "fig.update_layout(annotations=annotations)\n",
    "\n",
    "fig.show()"
   ]
  },
  {
   "cell_type": "code",
   "execution_count": 297,
   "id": "ab5ccab3",
   "metadata": {},
   "outputs": [],
   "source": [
    "y_data_black = df['race_black'][0:30]"
   ]
  },
  {
   "cell_type": "code",
   "execution_count": 299,
   "id": "35ca3540",
   "metadata": {},
   "outputs": [
    {
     "data": {
      "application/vnd.plotly.v1+json": {
       "config": {
        "plotlyServerURL": "https://plot.ly"
       },
       "data": [
        {
         "marker": {
          "color": "rgba(50, 171, 96, 0.6)",
          "line": {
           "color": "rgba(50, 171, 96, 1.0)",
           "width": 1
          }
         },
         "name": "Population of Race Black by County",
         "orientation": "h",
         "type": "bar",
         "x": [
          4362,
          10,
          16,
          6191,
          1065,
          41519,
          66,
          4099,
          376,
          14256,
          13,
          14,
          198,
          487118,
          304,
          11,
          2,
          2,
          181,
          7559,
          27,
          6110,
          7483,
          286684,
          96,
          7989,
          409,
          89,
          24811,
          674782
         ],
         "xaxis": "x",
         "y": [
          "Imperial County, California",
          "Skagway Municipality, Alaska",
          "Kusilvak Census Area, Alaska",
          "Jefferson County, Mississippi",
          "Maui County, Hawaii",
          "Atlantic County, New Jersey",
          "Starr County, Texas",
          "Yuma County, Arizona",
          "Kauai County, Hawaii",
          "Holmes County, Mississippi",
          "Calhoun County, West Virginia",
          "Magoffin County, Kentucky",
          "Colusa County, California",
          "Bronx County, New York",
          "Luna County, New Mexico",
          "Denali Borough, Alaska",
          "Haines Borough, Alaska",
          "Menominee County, Wisconsin",
          "Maverick County, Texas",
          "Tunica County, Mississippi",
          "Presidio County, Texas",
          "Humphreys County, Mississippi",
          "Wilcox County, Alabama",
          "Clark County, Nevada",
          "Cheboygan County, Michigan",
          "Claiborne County, Mississippi",
          "Mingo County, West Virginia",
          "Zavala County, Texas",
          "Petersburg city, Virginia",
          "Wayne County, Michigan"
         ],
         "yaxis": "y"
        },
        {
         "line": {
          "color": "rgb(128, 0, 0)"
         },
         "mode": "lines+markers",
         "name": "Overall Unemployment Percentage in that County",
         "type": "scatter",
         "x": [
          22.5,
          21.5,
          19.4,
          18.4,
          17.8,
          17.8,
          17.3,
          17.1,
          16.2,
          16.2,
          16.1,
          16.1,
          16,
          16,
          15.9,
          15.7,
          15.6,
          15.3,
          15,
          14.9,
          14.7,
          14.7,
          14.7,
          14.7,
          14.6,
          14.4,
          14.3,
          14.1,
          13.9,
          13.8
         ],
         "xaxis": "x2",
         "y": [
          "Imperial County, California",
          "Skagway Municipality, Alaska",
          "Kusilvak Census Area, Alaska",
          "Jefferson County, Mississippi",
          "Maui County, Hawaii",
          "Atlantic County, New Jersey",
          "Starr County, Texas",
          "Yuma County, Arizona",
          "Kauai County, Hawaii",
          "Holmes County, Mississippi",
          "Calhoun County, West Virginia",
          "Magoffin County, Kentucky",
          "Colusa County, California",
          "Bronx County, New York",
          "Luna County, New Mexico",
          "Denali Borough, Alaska",
          "Haines Borough, Alaska",
          "Menominee County, Wisconsin",
          "Maverick County, Texas",
          "Tunica County, Mississippi",
          "Presidio County, Texas",
          "Humphreys County, Mississippi",
          "Wilcox County, Alabama",
          "Clark County, Nevada",
          "Cheboygan County, Michigan",
          "Claiborne County, Mississippi",
          "Mingo County, West Virginia",
          "Zavala County, Texas",
          "Petersburg city, Virginia",
          "Wayne County, Michigan"
         ],
         "yaxis": "y2"
        }
       ],
       "layout": {
        "annotations": [
         {
          "font": {
           "color": "rgba(102, 102, 102, 0.8)",
           "family": "Arial",
           "size": 12
          },
          "showarrow": false,
          "text": "22.0%",
          "x": 20,
          "xref": "x2",
          "y": "Imperial County, California",
          "yref": "y2"
         },
         {
          "font": {
           "color": "rgb(50, 171, 96)",
           "family": "Arial",
           "size": 12
          },
          "showarrow": false,
          "text": "4362",
          "x": 4362,
          "xref": "x",
          "y": "Imperial County, California",
          "yref": "y"
         },
         {
          "font": {
           "color": "rgba(102, 102, 102, 0.8)",
           "family": "Arial",
           "size": 12
          },
          "showarrow": false,
          "text": "22.0%",
          "x": 20,
          "xref": "x2",
          "y": "Skagway Municipality, Alaska",
          "yref": "y2"
         },
         {
          "font": {
           "color": "rgb(50, 171, 96)",
           "family": "Arial",
           "size": 12
          },
          "showarrow": false,
          "text": "10",
          "x": 10,
          "xref": "x",
          "y": "Skagway Municipality, Alaska",
          "yref": "y"
         },
         {
          "font": {
           "color": "rgba(102, 102, 102, 0.8)",
           "family": "Arial",
           "size": 12
          },
          "showarrow": false,
          "text": "19.0%",
          "x": 20,
          "xref": "x2",
          "y": "Kusilvak Census Area, Alaska",
          "yref": "y2"
         },
         {
          "font": {
           "color": "rgb(50, 171, 96)",
           "family": "Arial",
           "size": 12
          },
          "showarrow": false,
          "text": "16",
          "x": 16,
          "xref": "x",
          "y": "Kusilvak Census Area, Alaska",
          "yref": "y"
         },
         {
          "font": {
           "color": "rgba(102, 102, 102, 0.8)",
           "family": "Arial",
           "size": 12
          },
          "showarrow": false,
          "text": "18.0%",
          "x": 20,
          "xref": "x2",
          "y": "Jefferson County, Mississippi",
          "yref": "y2"
         },
         {
          "font": {
           "color": "rgb(50, 171, 96)",
           "family": "Arial",
           "size": 12
          },
          "showarrow": false,
          "text": "6191",
          "x": 6191,
          "xref": "x",
          "y": "Jefferson County, Mississippi",
          "yref": "y"
         },
         {
          "font": {
           "color": "rgba(102, 102, 102, 0.8)",
           "family": "Arial",
           "size": 12
          },
          "showarrow": false,
          "text": "18.0%",
          "x": 20,
          "xref": "x2",
          "y": "Maui County, Hawaii",
          "yref": "y2"
         },
         {
          "font": {
           "color": "rgb(50, 171, 96)",
           "family": "Arial",
           "size": 12
          },
          "showarrow": false,
          "text": "1065",
          "x": 1065,
          "xref": "x",
          "y": "Maui County, Hawaii",
          "yref": "y"
         },
         {
          "font": {
           "color": "rgba(102, 102, 102, 0.8)",
           "family": "Arial",
           "size": 12
          },
          "showarrow": false,
          "text": "18.0%",
          "x": 20,
          "xref": "x2",
          "y": "Atlantic County, New Jersey",
          "yref": "y2"
         },
         {
          "font": {
           "color": "rgb(50, 171, 96)",
           "family": "Arial",
           "size": 12
          },
          "showarrow": false,
          "text": "41519",
          "x": 41519,
          "xref": "x",
          "y": "Atlantic County, New Jersey",
          "yref": "y"
         },
         {
          "font": {
           "color": "rgba(102, 102, 102, 0.8)",
           "family": "Arial",
           "size": 12
          },
          "showarrow": false,
          "text": "17.0%",
          "x": 20,
          "xref": "x2",
          "y": "Starr County, Texas",
          "yref": "y2"
         },
         {
          "font": {
           "color": "rgb(50, 171, 96)",
           "family": "Arial",
           "size": 12
          },
          "showarrow": false,
          "text": "66",
          "x": 66,
          "xref": "x",
          "y": "Starr County, Texas",
          "yref": "y"
         },
         {
          "font": {
           "color": "rgba(102, 102, 102, 0.8)",
           "family": "Arial",
           "size": 12
          },
          "showarrow": false,
          "text": "17.0%",
          "x": 20,
          "xref": "x2",
          "y": "Yuma County, Arizona",
          "yref": "y2"
         },
         {
          "font": {
           "color": "rgb(50, 171, 96)",
           "family": "Arial",
           "size": 12
          },
          "showarrow": false,
          "text": "4099",
          "x": 4099,
          "xref": "x",
          "y": "Yuma County, Arizona",
          "yref": "y"
         },
         {
          "font": {
           "color": "rgba(102, 102, 102, 0.8)",
           "family": "Arial",
           "size": 12
          },
          "showarrow": false,
          "text": "16.0%",
          "x": 20,
          "xref": "x2",
          "y": "Kauai County, Hawaii",
          "yref": "y2"
         },
         {
          "font": {
           "color": "rgb(50, 171, 96)",
           "family": "Arial",
           "size": 12
          },
          "showarrow": false,
          "text": "376",
          "x": 376,
          "xref": "x",
          "y": "Kauai County, Hawaii",
          "yref": "y"
         },
         {
          "font": {
           "color": "rgba(102, 102, 102, 0.8)",
           "family": "Arial",
           "size": 12
          },
          "showarrow": false,
          "text": "16.0%",
          "x": 20,
          "xref": "x2",
          "y": "Holmes County, Mississippi",
          "yref": "y2"
         },
         {
          "font": {
           "color": "rgb(50, 171, 96)",
           "family": "Arial",
           "size": 12
          },
          "showarrow": false,
          "text": "14256",
          "x": 14256,
          "xref": "x",
          "y": "Holmes County, Mississippi",
          "yref": "y"
         },
         {
          "font": {
           "color": "rgba(102, 102, 102, 0.8)",
           "family": "Arial",
           "size": 12
          },
          "showarrow": false,
          "text": "16.0%",
          "x": 20,
          "xref": "x2",
          "y": "Calhoun County, West Virginia",
          "yref": "y2"
         },
         {
          "font": {
           "color": "rgb(50, 171, 96)",
           "family": "Arial",
           "size": 12
          },
          "showarrow": false,
          "text": "13",
          "x": 13,
          "xref": "x",
          "y": "Calhoun County, West Virginia",
          "yref": "y"
         },
         {
          "font": {
           "color": "rgba(102, 102, 102, 0.8)",
           "family": "Arial",
           "size": 12
          },
          "showarrow": false,
          "text": "16.0%",
          "x": 20,
          "xref": "x2",
          "y": "Magoffin County, Kentucky",
          "yref": "y2"
         },
         {
          "font": {
           "color": "rgb(50, 171, 96)",
           "family": "Arial",
           "size": 12
          },
          "showarrow": false,
          "text": "14",
          "x": 14,
          "xref": "x",
          "y": "Magoffin County, Kentucky",
          "yref": "y"
         },
         {
          "font": {
           "color": "rgba(102, 102, 102, 0.8)",
           "family": "Arial",
           "size": 12
          },
          "showarrow": false,
          "text": "16.0%",
          "x": 20,
          "xref": "x2",
          "y": "Colusa County, California",
          "yref": "y2"
         },
         {
          "font": {
           "color": "rgb(50, 171, 96)",
           "family": "Arial",
           "size": 12
          },
          "showarrow": false,
          "text": "198",
          "x": 198,
          "xref": "x",
          "y": "Colusa County, California",
          "yref": "y"
         },
         {
          "font": {
           "color": "rgba(102, 102, 102, 0.8)",
           "family": "Arial",
           "size": 12
          },
          "showarrow": false,
          "text": "16.0%",
          "x": 20,
          "xref": "x2",
          "y": "Bronx County, New York",
          "yref": "y2"
         },
         {
          "font": {
           "color": "rgb(50, 171, 96)",
           "family": "Arial",
           "size": 12
          },
          "showarrow": false,
          "text": "487118",
          "x": 487118,
          "xref": "x",
          "y": "Bronx County, New York",
          "yref": "y"
         },
         {
          "font": {
           "color": "rgba(102, 102, 102, 0.8)",
           "family": "Arial",
           "size": 12
          },
          "showarrow": false,
          "text": "16.0%",
          "x": 20,
          "xref": "x2",
          "y": "Luna County, New Mexico",
          "yref": "y2"
         },
         {
          "font": {
           "color": "rgb(50, 171, 96)",
           "family": "Arial",
           "size": 12
          },
          "showarrow": false,
          "text": "304",
          "x": 304,
          "xref": "x",
          "y": "Luna County, New Mexico",
          "yref": "y"
         },
         {
          "font": {
           "color": "rgba(102, 102, 102, 0.8)",
           "family": "Arial",
           "size": 12
          },
          "showarrow": false,
          "text": "16.0%",
          "x": 20,
          "xref": "x2",
          "y": "Denali Borough, Alaska",
          "yref": "y2"
         },
         {
          "font": {
           "color": "rgb(50, 171, 96)",
           "family": "Arial",
           "size": 12
          },
          "showarrow": false,
          "text": "11",
          "x": 11,
          "xref": "x",
          "y": "Denali Borough, Alaska",
          "yref": "y"
         },
         {
          "font": {
           "color": "rgba(102, 102, 102, 0.8)",
           "family": "Arial",
           "size": 12
          },
          "showarrow": false,
          "text": "16.0%",
          "x": 20,
          "xref": "x2",
          "y": "Haines Borough, Alaska",
          "yref": "y2"
         },
         {
          "font": {
           "color": "rgb(50, 171, 96)",
           "family": "Arial",
           "size": 12
          },
          "showarrow": false,
          "text": "2",
          "x": 2,
          "xref": "x",
          "y": "Haines Borough, Alaska",
          "yref": "y"
         },
         {
          "font": {
           "color": "rgba(102, 102, 102, 0.8)",
           "family": "Arial",
           "size": 12
          },
          "showarrow": false,
          "text": "15.0%",
          "x": 20,
          "xref": "x2",
          "y": "Menominee County, Wisconsin",
          "yref": "y2"
         },
         {
          "font": {
           "color": "rgb(50, 171, 96)",
           "family": "Arial",
           "size": 12
          },
          "showarrow": false,
          "text": "2",
          "x": 2,
          "xref": "x",
          "y": "Menominee County, Wisconsin",
          "yref": "y"
         },
         {
          "font": {
           "color": "rgba(102, 102, 102, 0.8)",
           "family": "Arial",
           "size": 12
          },
          "showarrow": false,
          "text": "15.0%",
          "x": 20,
          "xref": "x2",
          "y": "Maverick County, Texas",
          "yref": "y2"
         },
         {
          "font": {
           "color": "rgb(50, 171, 96)",
           "family": "Arial",
           "size": 12
          },
          "showarrow": false,
          "text": "181",
          "x": 181,
          "xref": "x",
          "y": "Maverick County, Texas",
          "yref": "y"
         },
         {
          "font": {
           "color": "rgba(102, 102, 102, 0.8)",
           "family": "Arial",
           "size": 12
          },
          "showarrow": false,
          "text": "15.0%",
          "x": 20,
          "xref": "x2",
          "y": "Tunica County, Mississippi",
          "yref": "y2"
         },
         {
          "font": {
           "color": "rgb(50, 171, 96)",
           "family": "Arial",
           "size": 12
          },
          "showarrow": false,
          "text": "7559",
          "x": 7559,
          "xref": "x",
          "y": "Tunica County, Mississippi",
          "yref": "y"
         },
         {
          "font": {
           "color": "rgba(102, 102, 102, 0.8)",
           "family": "Arial",
           "size": 12
          },
          "showarrow": false,
          "text": "15.0%",
          "x": 20,
          "xref": "x2",
          "y": "Presidio County, Texas",
          "yref": "y2"
         },
         {
          "font": {
           "color": "rgb(50, 171, 96)",
           "family": "Arial",
           "size": 12
          },
          "showarrow": false,
          "text": "27",
          "x": 27,
          "xref": "x",
          "y": "Presidio County, Texas",
          "yref": "y"
         },
         {
          "font": {
           "color": "rgba(102, 102, 102, 0.8)",
           "family": "Arial",
           "size": 12
          },
          "showarrow": false,
          "text": "15.0%",
          "x": 20,
          "xref": "x2",
          "y": "Humphreys County, Mississippi",
          "yref": "y2"
         },
         {
          "font": {
           "color": "rgb(50, 171, 96)",
           "family": "Arial",
           "size": 12
          },
          "showarrow": false,
          "text": "6110",
          "x": 6110,
          "xref": "x",
          "y": "Humphreys County, Mississippi",
          "yref": "y"
         },
         {
          "font": {
           "color": "rgba(102, 102, 102, 0.8)",
           "family": "Arial",
           "size": 12
          },
          "showarrow": false,
          "text": "15.0%",
          "x": 20,
          "xref": "x2",
          "y": "Wilcox County, Alabama",
          "yref": "y2"
         },
         {
          "font": {
           "color": "rgb(50, 171, 96)",
           "family": "Arial",
           "size": 12
          },
          "showarrow": false,
          "text": "7483",
          "x": 7483,
          "xref": "x",
          "y": "Wilcox County, Alabama",
          "yref": "y"
         },
         {
          "font": {
           "color": "rgba(102, 102, 102, 0.8)",
           "family": "Arial",
           "size": 12
          },
          "showarrow": false,
          "text": "15.0%",
          "x": 20,
          "xref": "x2",
          "y": "Clark County, Nevada",
          "yref": "y2"
         },
         {
          "font": {
           "color": "rgb(50, 171, 96)",
           "family": "Arial",
           "size": 12
          },
          "showarrow": false,
          "text": "286684",
          "x": 286684,
          "xref": "x",
          "y": "Clark County, Nevada",
          "yref": "y"
         },
         {
          "font": {
           "color": "rgba(102, 102, 102, 0.8)",
           "family": "Arial",
           "size": 12
          },
          "showarrow": false,
          "text": "15.0%",
          "x": 20,
          "xref": "x2",
          "y": "Cheboygan County, Michigan",
          "yref": "y2"
         },
         {
          "font": {
           "color": "rgb(50, 171, 96)",
           "family": "Arial",
           "size": 12
          },
          "showarrow": false,
          "text": "96",
          "x": 96,
          "xref": "x",
          "y": "Cheboygan County, Michigan",
          "yref": "y"
         },
         {
          "font": {
           "color": "rgba(102, 102, 102, 0.8)",
           "family": "Arial",
           "size": 12
          },
          "showarrow": false,
          "text": "14.0%",
          "x": 20,
          "xref": "x2",
          "y": "Claiborne County, Mississippi",
          "yref": "y2"
         },
         {
          "font": {
           "color": "rgb(50, 171, 96)",
           "family": "Arial",
           "size": 12
          },
          "showarrow": false,
          "text": "7989",
          "x": 7989,
          "xref": "x",
          "y": "Claiborne County, Mississippi",
          "yref": "y"
         },
         {
          "font": {
           "color": "rgba(102, 102, 102, 0.8)",
           "family": "Arial",
           "size": 12
          },
          "showarrow": false,
          "text": "14.0%",
          "x": 20,
          "xref": "x2",
          "y": "Mingo County, West Virginia",
          "yref": "y2"
         },
         {
          "font": {
           "color": "rgb(50, 171, 96)",
           "family": "Arial",
           "size": 12
          },
          "showarrow": false,
          "text": "409",
          "x": 409,
          "xref": "x",
          "y": "Mingo County, West Virginia",
          "yref": "y"
         },
         {
          "font": {
           "color": "rgba(102, 102, 102, 0.8)",
           "family": "Arial",
           "size": 12
          },
          "showarrow": false,
          "text": "14.0%",
          "x": 20,
          "xref": "x2",
          "y": "Zavala County, Texas",
          "yref": "y2"
         },
         {
          "font": {
           "color": "rgb(50, 171, 96)",
           "family": "Arial",
           "size": 12
          },
          "showarrow": false,
          "text": "89",
          "x": 89,
          "xref": "x",
          "y": "Zavala County, Texas",
          "yref": "y"
         },
         {
          "font": {
           "color": "rgba(102, 102, 102, 0.8)",
           "family": "Arial",
           "size": 12
          },
          "showarrow": false,
          "text": "14.0%",
          "x": 20,
          "xref": "x2",
          "y": "Petersburg city, Virginia",
          "yref": "y2"
         },
         {
          "font": {
           "color": "rgb(50, 171, 96)",
           "family": "Arial",
           "size": 12
          },
          "showarrow": false,
          "text": "24811",
          "x": 24811,
          "xref": "x",
          "y": "Petersburg city, Virginia",
          "yref": "y"
         },
         {
          "font": {
           "color": "rgba(102, 102, 102, 0.8)",
           "family": "Arial",
           "size": 12
          },
          "showarrow": false,
          "text": "14.0%",
          "x": 20,
          "xref": "x2",
          "y": "Wayne County, Michigan",
          "yref": "y2"
         },
         {
          "font": {
           "color": "rgb(50, 171, 96)",
           "family": "Arial",
           "size": 12
          },
          "showarrow": false,
          "text": "674782",
          "x": 674782,
          "xref": "x",
          "y": "Wayne County, Michigan",
          "yref": "y"
         },
         {
          "font": {
           "color": "rgb(150,150,150)",
           "family": "Arial",
           "size": 10
          },
          "showarrow": false,
          "x": -0.2,
          "xref": "paper",
          "y": -0.109,
          "yref": "paper"
         }
        ],
        "height": 800,
        "legend": {
         "font": {
          "size": 10
         },
         "x": 0.029,
         "y": 1.038
        },
        "margin": {
         "b": 70,
         "l": 100,
         "r": 20,
         "t": 70
        },
        "paper_bgcolor": "rgba(255,255,255, 0)",
        "plot_bgcolor": "rgba(255,255,255, 0)",
        "template": {
         "data": {
          "bar": [
           {
            "error_x": {
             "color": "#2a3f5f"
            },
            "error_y": {
             "color": "#2a3f5f"
            },
            "marker": {
             "line": {
              "color": "#E5ECF6",
              "width": 0.5
             },
             "pattern": {
              "fillmode": "overlay",
              "size": 10,
              "solidity": 0.2
             }
            },
            "type": "bar"
           }
          ],
          "barpolar": [
           {
            "marker": {
             "line": {
              "color": "#E5ECF6",
              "width": 0.5
             },
             "pattern": {
              "fillmode": "overlay",
              "size": 10,
              "solidity": 0.2
             }
            },
            "type": "barpolar"
           }
          ],
          "carpet": [
           {
            "aaxis": {
             "endlinecolor": "#2a3f5f",
             "gridcolor": "white",
             "linecolor": "white",
             "minorgridcolor": "white",
             "startlinecolor": "#2a3f5f"
            },
            "baxis": {
             "endlinecolor": "#2a3f5f",
             "gridcolor": "white",
             "linecolor": "white",
             "minorgridcolor": "white",
             "startlinecolor": "#2a3f5f"
            },
            "type": "carpet"
           }
          ],
          "choropleth": [
           {
            "colorbar": {
             "outlinewidth": 0,
             "ticks": ""
            },
            "type": "choropleth"
           }
          ],
          "contour": [
           {
            "colorbar": {
             "outlinewidth": 0,
             "ticks": ""
            },
            "colorscale": [
             [
              0,
              "#0d0887"
             ],
             [
              0.1111111111111111,
              "#46039f"
             ],
             [
              0.2222222222222222,
              "#7201a8"
             ],
             [
              0.3333333333333333,
              "#9c179e"
             ],
             [
              0.4444444444444444,
              "#bd3786"
             ],
             [
              0.5555555555555556,
              "#d8576b"
             ],
             [
              0.6666666666666666,
              "#ed7953"
             ],
             [
              0.7777777777777778,
              "#fb9f3a"
             ],
             [
              0.8888888888888888,
              "#fdca26"
             ],
             [
              1,
              "#f0f921"
             ]
            ],
            "type": "contour"
           }
          ],
          "contourcarpet": [
           {
            "colorbar": {
             "outlinewidth": 0,
             "ticks": ""
            },
            "type": "contourcarpet"
           }
          ],
          "heatmap": [
           {
            "colorbar": {
             "outlinewidth": 0,
             "ticks": ""
            },
            "colorscale": [
             [
              0,
              "#0d0887"
             ],
             [
              0.1111111111111111,
              "#46039f"
             ],
             [
              0.2222222222222222,
              "#7201a8"
             ],
             [
              0.3333333333333333,
              "#9c179e"
             ],
             [
              0.4444444444444444,
              "#bd3786"
             ],
             [
              0.5555555555555556,
              "#d8576b"
             ],
             [
              0.6666666666666666,
              "#ed7953"
             ],
             [
              0.7777777777777778,
              "#fb9f3a"
             ],
             [
              0.8888888888888888,
              "#fdca26"
             ],
             [
              1,
              "#f0f921"
             ]
            ],
            "type": "heatmap"
           }
          ],
          "heatmapgl": [
           {
            "colorbar": {
             "outlinewidth": 0,
             "ticks": ""
            },
            "colorscale": [
             [
              0,
              "#0d0887"
             ],
             [
              0.1111111111111111,
              "#46039f"
             ],
             [
              0.2222222222222222,
              "#7201a8"
             ],
             [
              0.3333333333333333,
              "#9c179e"
             ],
             [
              0.4444444444444444,
              "#bd3786"
             ],
             [
              0.5555555555555556,
              "#d8576b"
             ],
             [
              0.6666666666666666,
              "#ed7953"
             ],
             [
              0.7777777777777778,
              "#fb9f3a"
             ],
             [
              0.8888888888888888,
              "#fdca26"
             ],
             [
              1,
              "#f0f921"
             ]
            ],
            "type": "heatmapgl"
           }
          ],
          "histogram": [
           {
            "marker": {
             "pattern": {
              "fillmode": "overlay",
              "size": 10,
              "solidity": 0.2
             }
            },
            "type": "histogram"
           }
          ],
          "histogram2d": [
           {
            "colorbar": {
             "outlinewidth": 0,
             "ticks": ""
            },
            "colorscale": [
             [
              0,
              "#0d0887"
             ],
             [
              0.1111111111111111,
              "#46039f"
             ],
             [
              0.2222222222222222,
              "#7201a8"
             ],
             [
              0.3333333333333333,
              "#9c179e"
             ],
             [
              0.4444444444444444,
              "#bd3786"
             ],
             [
              0.5555555555555556,
              "#d8576b"
             ],
             [
              0.6666666666666666,
              "#ed7953"
             ],
             [
              0.7777777777777778,
              "#fb9f3a"
             ],
             [
              0.8888888888888888,
              "#fdca26"
             ],
             [
              1,
              "#f0f921"
             ]
            ],
            "type": "histogram2d"
           }
          ],
          "histogram2dcontour": [
           {
            "colorbar": {
             "outlinewidth": 0,
             "ticks": ""
            },
            "colorscale": [
             [
              0,
              "#0d0887"
             ],
             [
              0.1111111111111111,
              "#46039f"
             ],
             [
              0.2222222222222222,
              "#7201a8"
             ],
             [
              0.3333333333333333,
              "#9c179e"
             ],
             [
              0.4444444444444444,
              "#bd3786"
             ],
             [
              0.5555555555555556,
              "#d8576b"
             ],
             [
              0.6666666666666666,
              "#ed7953"
             ],
             [
              0.7777777777777778,
              "#fb9f3a"
             ],
             [
              0.8888888888888888,
              "#fdca26"
             ],
             [
              1,
              "#f0f921"
             ]
            ],
            "type": "histogram2dcontour"
           }
          ],
          "mesh3d": [
           {
            "colorbar": {
             "outlinewidth": 0,
             "ticks": ""
            },
            "type": "mesh3d"
           }
          ],
          "parcoords": [
           {
            "line": {
             "colorbar": {
              "outlinewidth": 0,
              "ticks": ""
             }
            },
            "type": "parcoords"
           }
          ],
          "pie": [
           {
            "automargin": true,
            "type": "pie"
           }
          ],
          "scatter": [
           {
            "marker": {
             "colorbar": {
              "outlinewidth": 0,
              "ticks": ""
             }
            },
            "type": "scatter"
           }
          ],
          "scatter3d": [
           {
            "line": {
             "colorbar": {
              "outlinewidth": 0,
              "ticks": ""
             }
            },
            "marker": {
             "colorbar": {
              "outlinewidth": 0,
              "ticks": ""
             }
            },
            "type": "scatter3d"
           }
          ],
          "scattercarpet": [
           {
            "marker": {
             "colorbar": {
              "outlinewidth": 0,
              "ticks": ""
             }
            },
            "type": "scattercarpet"
           }
          ],
          "scattergeo": [
           {
            "marker": {
             "colorbar": {
              "outlinewidth": 0,
              "ticks": ""
             }
            },
            "type": "scattergeo"
           }
          ],
          "scattergl": [
           {
            "marker": {
             "colorbar": {
              "outlinewidth": 0,
              "ticks": ""
             }
            },
            "type": "scattergl"
           }
          ],
          "scattermapbox": [
           {
            "marker": {
             "colorbar": {
              "outlinewidth": 0,
              "ticks": ""
             }
            },
            "type": "scattermapbox"
           }
          ],
          "scatterpolar": [
           {
            "marker": {
             "colorbar": {
              "outlinewidth": 0,
              "ticks": ""
             }
            },
            "type": "scatterpolar"
           }
          ],
          "scatterpolargl": [
           {
            "marker": {
             "colorbar": {
              "outlinewidth": 0,
              "ticks": ""
             }
            },
            "type": "scatterpolargl"
           }
          ],
          "scatterternary": [
           {
            "marker": {
             "colorbar": {
              "outlinewidth": 0,
              "ticks": ""
             }
            },
            "type": "scatterternary"
           }
          ],
          "surface": [
           {
            "colorbar": {
             "outlinewidth": 0,
             "ticks": ""
            },
            "colorscale": [
             [
              0,
              "#0d0887"
             ],
             [
              0.1111111111111111,
              "#46039f"
             ],
             [
              0.2222222222222222,
              "#7201a8"
             ],
             [
              0.3333333333333333,
              "#9c179e"
             ],
             [
              0.4444444444444444,
              "#bd3786"
             ],
             [
              0.5555555555555556,
              "#d8576b"
             ],
             [
              0.6666666666666666,
              "#ed7953"
             ],
             [
              0.7777777777777778,
              "#fb9f3a"
             ],
             [
              0.8888888888888888,
              "#fdca26"
             ],
             [
              1,
              "#f0f921"
             ]
            ],
            "type": "surface"
           }
          ],
          "table": [
           {
            "cells": {
             "fill": {
              "color": "#EBF0F8"
             },
             "line": {
              "color": "white"
             }
            },
            "header": {
             "fill": {
              "color": "#C8D4E3"
             },
             "line": {
              "color": "white"
             }
            },
            "type": "table"
           }
          ]
         },
         "layout": {
          "annotationdefaults": {
           "arrowcolor": "#2a3f5f",
           "arrowhead": 0,
           "arrowwidth": 1
          },
          "autotypenumbers": "strict",
          "coloraxis": {
           "colorbar": {
            "outlinewidth": 0,
            "ticks": ""
           }
          },
          "colorscale": {
           "diverging": [
            [
             0,
             "#8e0152"
            ],
            [
             0.1,
             "#c51b7d"
            ],
            [
             0.2,
             "#de77ae"
            ],
            [
             0.3,
             "#f1b6da"
            ],
            [
             0.4,
             "#fde0ef"
            ],
            [
             0.5,
             "#f7f7f7"
            ],
            [
             0.6,
             "#e6f5d0"
            ],
            [
             0.7,
             "#b8e186"
            ],
            [
             0.8,
             "#7fbc41"
            ],
            [
             0.9,
             "#4d9221"
            ],
            [
             1,
             "#276419"
            ]
           ],
           "sequential": [
            [
             0,
             "#0d0887"
            ],
            [
             0.1111111111111111,
             "#46039f"
            ],
            [
             0.2222222222222222,
             "#7201a8"
            ],
            [
             0.3333333333333333,
             "#9c179e"
            ],
            [
             0.4444444444444444,
             "#bd3786"
            ],
            [
             0.5555555555555556,
             "#d8576b"
            ],
            [
             0.6666666666666666,
             "#ed7953"
            ],
            [
             0.7777777777777778,
             "#fb9f3a"
            ],
            [
             0.8888888888888888,
             "#fdca26"
            ],
            [
             1,
             "#f0f921"
            ]
           ],
           "sequentialminus": [
            [
             0,
             "#0d0887"
            ],
            [
             0.1111111111111111,
             "#46039f"
            ],
            [
             0.2222222222222222,
             "#7201a8"
            ],
            [
             0.3333333333333333,
             "#9c179e"
            ],
            [
             0.4444444444444444,
             "#bd3786"
            ],
            [
             0.5555555555555556,
             "#d8576b"
            ],
            [
             0.6666666666666666,
             "#ed7953"
            ],
            [
             0.7777777777777778,
             "#fb9f3a"
            ],
            [
             0.8888888888888888,
             "#fdca26"
            ],
            [
             1,
             "#f0f921"
            ]
           ]
          },
          "colorway": [
           "#636efa",
           "#EF553B",
           "#00cc96",
           "#ab63fa",
           "#FFA15A",
           "#19d3f3",
           "#FF6692",
           "#B6E880",
           "#FF97FF",
           "#FECB52"
          ],
          "font": {
           "color": "#2a3f5f"
          },
          "geo": {
           "bgcolor": "white",
           "lakecolor": "white",
           "landcolor": "#E5ECF6",
           "showlakes": true,
           "showland": true,
           "subunitcolor": "white"
          },
          "hoverlabel": {
           "align": "left"
          },
          "hovermode": "closest",
          "mapbox": {
           "style": "light"
          },
          "paper_bgcolor": "white",
          "plot_bgcolor": "#E5ECF6",
          "polar": {
           "angularaxis": {
            "gridcolor": "white",
            "linecolor": "white",
            "ticks": ""
           },
           "bgcolor": "#E5ECF6",
           "radialaxis": {
            "gridcolor": "white",
            "linecolor": "white",
            "ticks": ""
           }
          },
          "scene": {
           "xaxis": {
            "backgroundcolor": "#E5ECF6",
            "gridcolor": "white",
            "gridwidth": 2,
            "linecolor": "white",
            "showbackground": true,
            "ticks": "",
            "zerolinecolor": "white"
           },
           "yaxis": {
            "backgroundcolor": "#E5ECF6",
            "gridcolor": "white",
            "gridwidth": 2,
            "linecolor": "white",
            "showbackground": true,
            "ticks": "",
            "zerolinecolor": "white"
           },
           "zaxis": {
            "backgroundcolor": "#E5ECF6",
            "gridcolor": "white",
            "gridwidth": 2,
            "linecolor": "white",
            "showbackground": true,
            "ticks": "",
            "zerolinecolor": "white"
           }
          },
          "shapedefaults": {
           "line": {
            "color": "#2a3f5f"
           }
          },
          "ternary": {
           "aaxis": {
            "gridcolor": "white",
            "linecolor": "white",
            "ticks": ""
           },
           "baxis": {
            "gridcolor": "white",
            "linecolor": "white",
            "ticks": ""
           },
           "bgcolor": "#E5ECF6",
           "caxis": {
            "gridcolor": "white",
            "linecolor": "white",
            "ticks": ""
           }
          },
          "title": {
           "x": 0.05
          },
          "xaxis": {
           "automargin": true,
           "gridcolor": "white",
           "linecolor": "white",
           "ticks": "",
           "title": {
            "standoff": 15
           },
           "zerolinecolor": "white",
           "zerolinewidth": 2
          },
          "yaxis": {
           "automargin": true,
           "gridcolor": "white",
           "linecolor": "white",
           "ticks": "",
           "title": {
            "standoff": 15
           },
           "zerolinecolor": "white",
           "zerolinewidth": 2
          }
         }
        },
        "title": {
         "text": "Race Population in relation to location Unemployment Percent"
        },
        "xaxis": {
         "anchor": "y",
         "domain": [
          0,
          1
         ],
         "showgrid": true,
         "showline": false,
         "showticklabels": true,
         "zeroline": false
        },
        "xaxis2": {
         "anchor": "y2",
         "domain": [
          0,
          1
         ],
         "dtick": 10000,
         "showgrid": true,
         "showline": false,
         "showticklabels": true,
         "side": "top",
         "zeroline": false
        },
        "yaxis": {
         "anchor": "x",
         "domain": [
          0,
          0.9
         ],
         "showgrid": false,
         "showline": false,
         "showticklabels": true
        },
        "yaxis2": {
         "anchor": "x2",
         "domain": [
          0,
          0.9
         ],
         "linecolor": "rgba(102, 102, 102, 0.8)",
         "linewidth": 2,
         "showgrid": false,
         "showline": true,
         "showticklabels": false
        }
       }
      },
      "text/html": [
       "<div>                            <div id=\"5be0b71d-728a-437c-a1ba-9ae767400033\" class=\"plotly-graph-div\" style=\"height:800px; width:100%;\"></div>            <script type=\"text/javascript\">                require([\"plotly\"], function(Plotly) {                    window.PLOTLYENV=window.PLOTLYENV || {};                                    if (document.getElementById(\"5be0b71d-728a-437c-a1ba-9ae767400033\")) {                    Plotly.newPlot(                        \"5be0b71d-728a-437c-a1ba-9ae767400033\",                        [{\"marker\":{\"color\":\"rgba(50, 171, 96, 0.6)\",\"line\":{\"color\":\"rgba(50, 171, 96, 1.0)\",\"width\":1}},\"name\":\"Population of Race Black by County\",\"orientation\":\"h\",\"type\":\"bar\",\"x\":[4362,10,16,6191,1065,41519,66,4099,376,14256,13,14,198,487118,304,11,2,2,181,7559,27,6110,7483,286684,96,7989,409,89,24811,674782],\"xaxis\":\"x\",\"y\":[\"Imperial County, California\",\"Skagway Municipality, Alaska\",\"Kusilvak Census Area, Alaska\",\"Jefferson County, Mississippi\",\"Maui County, Hawaii\",\"Atlantic County, New Jersey\",\"Starr County, Texas\",\"Yuma County, Arizona\",\"Kauai County, Hawaii\",\"Holmes County, Mississippi\",\"Calhoun County, West Virginia\",\"Magoffin County, Kentucky\",\"Colusa County, California\",\"Bronx County, New York\",\"Luna County, New Mexico\",\"Denali Borough, Alaska\",\"Haines Borough, Alaska\",\"Menominee County, Wisconsin\",\"Maverick County, Texas\",\"Tunica County, Mississippi\",\"Presidio County, Texas\",\"Humphreys County, Mississippi\",\"Wilcox County, Alabama\",\"Clark County, Nevada\",\"Cheboygan County, Michigan\",\"Claiborne County, Mississippi\",\"Mingo County, West Virginia\",\"Zavala County, Texas\",\"Petersburg city, Virginia\",\"Wayne County, Michigan\"],\"yaxis\":\"y\"},{\"line\":{\"color\":\"rgb(128, 0, 0)\"},\"mode\":\"lines+markers\",\"name\":\"Overall Unemployment Percentage in that County\",\"type\":\"scatter\",\"x\":[22.5,21.5,19.4,18.4,17.8,17.8,17.3,17.1,16.2,16.2,16.1,16.1,16.0,16.0,15.9,15.7,15.6,15.3,15.0,14.9,14.7,14.7,14.7,14.7,14.6,14.4,14.3,14.1,13.9,13.8],\"xaxis\":\"x2\",\"y\":[\"Imperial County, California\",\"Skagway Municipality, Alaska\",\"Kusilvak Census Area, Alaska\",\"Jefferson County, Mississippi\",\"Maui County, Hawaii\",\"Atlantic County, New Jersey\",\"Starr County, Texas\",\"Yuma County, Arizona\",\"Kauai County, Hawaii\",\"Holmes County, Mississippi\",\"Calhoun County, West Virginia\",\"Magoffin County, Kentucky\",\"Colusa County, California\",\"Bronx County, New York\",\"Luna County, New Mexico\",\"Denali Borough, Alaska\",\"Haines Borough, Alaska\",\"Menominee County, Wisconsin\",\"Maverick County, Texas\",\"Tunica County, Mississippi\",\"Presidio County, Texas\",\"Humphreys County, Mississippi\",\"Wilcox County, Alabama\",\"Clark County, Nevada\",\"Cheboygan County, Michigan\",\"Claiborne County, Mississippi\",\"Mingo County, West Virginia\",\"Zavala County, Texas\",\"Petersburg city, Virginia\",\"Wayne County, Michigan\"],\"yaxis\":\"y2\"}],                        {\"annotations\":[{\"font\":{\"color\":\"rgba(102, 102, 102, 0.8)\",\"family\":\"Arial\",\"size\":12},\"showarrow\":false,\"text\":\"22.0%\",\"x\":20,\"xref\":\"x2\",\"y\":\"Imperial County, California\",\"yref\":\"y2\"},{\"font\":{\"color\":\"rgb(50, 171, 96)\",\"family\":\"Arial\",\"size\":12},\"showarrow\":false,\"text\":\"4362\",\"x\":4362,\"xref\":\"x\",\"y\":\"Imperial County, California\",\"yref\":\"y\"},{\"font\":{\"color\":\"rgba(102, 102, 102, 0.8)\",\"family\":\"Arial\",\"size\":12},\"showarrow\":false,\"text\":\"22.0%\",\"x\":20,\"xref\":\"x2\",\"y\":\"Skagway Municipality, Alaska\",\"yref\":\"y2\"},{\"font\":{\"color\":\"rgb(50, 171, 96)\",\"family\":\"Arial\",\"size\":12},\"showarrow\":false,\"text\":\"10\",\"x\":10,\"xref\":\"x\",\"y\":\"Skagway Municipality, Alaska\",\"yref\":\"y\"},{\"font\":{\"color\":\"rgba(102, 102, 102, 0.8)\",\"family\":\"Arial\",\"size\":12},\"showarrow\":false,\"text\":\"19.0%\",\"x\":20,\"xref\":\"x2\",\"y\":\"Kusilvak Census Area, Alaska\",\"yref\":\"y2\"},{\"font\":{\"color\":\"rgb(50, 171, 96)\",\"family\":\"Arial\",\"size\":12},\"showarrow\":false,\"text\":\"16\",\"x\":16,\"xref\":\"x\",\"y\":\"Kusilvak Census Area, Alaska\",\"yref\":\"y\"},{\"font\":{\"color\":\"rgba(102, 102, 102, 0.8)\",\"family\":\"Arial\",\"size\":12},\"showarrow\":false,\"text\":\"18.0%\",\"x\":20,\"xref\":\"x2\",\"y\":\"Jefferson County, Mississippi\",\"yref\":\"y2\"},{\"font\":{\"color\":\"rgb(50, 171, 96)\",\"family\":\"Arial\",\"size\":12},\"showarrow\":false,\"text\":\"6191\",\"x\":6191,\"xref\":\"x\",\"y\":\"Jefferson County, Mississippi\",\"yref\":\"y\"},{\"font\":{\"color\":\"rgba(102, 102, 102, 0.8)\",\"family\":\"Arial\",\"size\":12},\"showarrow\":false,\"text\":\"18.0%\",\"x\":20,\"xref\":\"x2\",\"y\":\"Maui County, Hawaii\",\"yref\":\"y2\"},{\"font\":{\"color\":\"rgb(50, 171, 96)\",\"family\":\"Arial\",\"size\":12},\"showarrow\":false,\"text\":\"1065\",\"x\":1065,\"xref\":\"x\",\"y\":\"Maui County, Hawaii\",\"yref\":\"y\"},{\"font\":{\"color\":\"rgba(102, 102, 102, 0.8)\",\"family\":\"Arial\",\"size\":12},\"showarrow\":false,\"text\":\"18.0%\",\"x\":20,\"xref\":\"x2\",\"y\":\"Atlantic County, New Jersey\",\"yref\":\"y2\"},{\"font\":{\"color\":\"rgb(50, 171, 96)\",\"family\":\"Arial\",\"size\":12},\"showarrow\":false,\"text\":\"41519\",\"x\":41519,\"xref\":\"x\",\"y\":\"Atlantic County, New Jersey\",\"yref\":\"y\"},{\"font\":{\"color\":\"rgba(102, 102, 102, 0.8)\",\"family\":\"Arial\",\"size\":12},\"showarrow\":false,\"text\":\"17.0%\",\"x\":20,\"xref\":\"x2\",\"y\":\"Starr County, Texas\",\"yref\":\"y2\"},{\"font\":{\"color\":\"rgb(50, 171, 96)\",\"family\":\"Arial\",\"size\":12},\"showarrow\":false,\"text\":\"66\",\"x\":66,\"xref\":\"x\",\"y\":\"Starr County, Texas\",\"yref\":\"y\"},{\"font\":{\"color\":\"rgba(102, 102, 102, 0.8)\",\"family\":\"Arial\",\"size\":12},\"showarrow\":false,\"text\":\"17.0%\",\"x\":20,\"xref\":\"x2\",\"y\":\"Yuma County, Arizona\",\"yref\":\"y2\"},{\"font\":{\"color\":\"rgb(50, 171, 96)\",\"family\":\"Arial\",\"size\":12},\"showarrow\":false,\"text\":\"4099\",\"x\":4099,\"xref\":\"x\",\"y\":\"Yuma County, Arizona\",\"yref\":\"y\"},{\"font\":{\"color\":\"rgba(102, 102, 102, 0.8)\",\"family\":\"Arial\",\"size\":12},\"showarrow\":false,\"text\":\"16.0%\",\"x\":20,\"xref\":\"x2\",\"y\":\"Kauai County, Hawaii\",\"yref\":\"y2\"},{\"font\":{\"color\":\"rgb(50, 171, 96)\",\"family\":\"Arial\",\"size\":12},\"showarrow\":false,\"text\":\"376\",\"x\":376,\"xref\":\"x\",\"y\":\"Kauai County, Hawaii\",\"yref\":\"y\"},{\"font\":{\"color\":\"rgba(102, 102, 102, 0.8)\",\"family\":\"Arial\",\"size\":12},\"showarrow\":false,\"text\":\"16.0%\",\"x\":20,\"xref\":\"x2\",\"y\":\"Holmes County, Mississippi\",\"yref\":\"y2\"},{\"font\":{\"color\":\"rgb(50, 171, 96)\",\"family\":\"Arial\",\"size\":12},\"showarrow\":false,\"text\":\"14256\",\"x\":14256,\"xref\":\"x\",\"y\":\"Holmes County, Mississippi\",\"yref\":\"y\"},{\"font\":{\"color\":\"rgba(102, 102, 102, 0.8)\",\"family\":\"Arial\",\"size\":12},\"showarrow\":false,\"text\":\"16.0%\",\"x\":20,\"xref\":\"x2\",\"y\":\"Calhoun County, West Virginia\",\"yref\":\"y2\"},{\"font\":{\"color\":\"rgb(50, 171, 96)\",\"family\":\"Arial\",\"size\":12},\"showarrow\":false,\"text\":\"13\",\"x\":13,\"xref\":\"x\",\"y\":\"Calhoun County, West Virginia\",\"yref\":\"y\"},{\"font\":{\"color\":\"rgba(102, 102, 102, 0.8)\",\"family\":\"Arial\",\"size\":12},\"showarrow\":false,\"text\":\"16.0%\",\"x\":20,\"xref\":\"x2\",\"y\":\"Magoffin County, Kentucky\",\"yref\":\"y2\"},{\"font\":{\"color\":\"rgb(50, 171, 96)\",\"family\":\"Arial\",\"size\":12},\"showarrow\":false,\"text\":\"14\",\"x\":14,\"xref\":\"x\",\"y\":\"Magoffin County, Kentucky\",\"yref\":\"y\"},{\"font\":{\"color\":\"rgba(102, 102, 102, 0.8)\",\"family\":\"Arial\",\"size\":12},\"showarrow\":false,\"text\":\"16.0%\",\"x\":20,\"xref\":\"x2\",\"y\":\"Colusa County, California\",\"yref\":\"y2\"},{\"font\":{\"color\":\"rgb(50, 171, 96)\",\"family\":\"Arial\",\"size\":12},\"showarrow\":false,\"text\":\"198\",\"x\":198,\"xref\":\"x\",\"y\":\"Colusa County, California\",\"yref\":\"y\"},{\"font\":{\"color\":\"rgba(102, 102, 102, 0.8)\",\"family\":\"Arial\",\"size\":12},\"showarrow\":false,\"text\":\"16.0%\",\"x\":20,\"xref\":\"x2\",\"y\":\"Bronx County, New York\",\"yref\":\"y2\"},{\"font\":{\"color\":\"rgb(50, 171, 96)\",\"family\":\"Arial\",\"size\":12},\"showarrow\":false,\"text\":\"487118\",\"x\":487118,\"xref\":\"x\",\"y\":\"Bronx County, New York\",\"yref\":\"y\"},{\"font\":{\"color\":\"rgba(102, 102, 102, 0.8)\",\"family\":\"Arial\",\"size\":12},\"showarrow\":false,\"text\":\"16.0%\",\"x\":20,\"xref\":\"x2\",\"y\":\"Luna County, New Mexico\",\"yref\":\"y2\"},{\"font\":{\"color\":\"rgb(50, 171, 96)\",\"family\":\"Arial\",\"size\":12},\"showarrow\":false,\"text\":\"304\",\"x\":304,\"xref\":\"x\",\"y\":\"Luna County, New Mexico\",\"yref\":\"y\"},{\"font\":{\"color\":\"rgba(102, 102, 102, 0.8)\",\"family\":\"Arial\",\"size\":12},\"showarrow\":false,\"text\":\"16.0%\",\"x\":20,\"xref\":\"x2\",\"y\":\"Denali Borough, Alaska\",\"yref\":\"y2\"},{\"font\":{\"color\":\"rgb(50, 171, 96)\",\"family\":\"Arial\",\"size\":12},\"showarrow\":false,\"text\":\"11\",\"x\":11,\"xref\":\"x\",\"y\":\"Denali Borough, Alaska\",\"yref\":\"y\"},{\"font\":{\"color\":\"rgba(102, 102, 102, 0.8)\",\"family\":\"Arial\",\"size\":12},\"showarrow\":false,\"text\":\"16.0%\",\"x\":20,\"xref\":\"x2\",\"y\":\"Haines Borough, Alaska\",\"yref\":\"y2\"},{\"font\":{\"color\":\"rgb(50, 171, 96)\",\"family\":\"Arial\",\"size\":12},\"showarrow\":false,\"text\":\"2\",\"x\":2,\"xref\":\"x\",\"y\":\"Haines Borough, Alaska\",\"yref\":\"y\"},{\"font\":{\"color\":\"rgba(102, 102, 102, 0.8)\",\"family\":\"Arial\",\"size\":12},\"showarrow\":false,\"text\":\"15.0%\",\"x\":20,\"xref\":\"x2\",\"y\":\"Menominee County, Wisconsin\",\"yref\":\"y2\"},{\"font\":{\"color\":\"rgb(50, 171, 96)\",\"family\":\"Arial\",\"size\":12},\"showarrow\":false,\"text\":\"2\",\"x\":2,\"xref\":\"x\",\"y\":\"Menominee County, Wisconsin\",\"yref\":\"y\"},{\"font\":{\"color\":\"rgba(102, 102, 102, 0.8)\",\"family\":\"Arial\",\"size\":12},\"showarrow\":false,\"text\":\"15.0%\",\"x\":20,\"xref\":\"x2\",\"y\":\"Maverick County, Texas\",\"yref\":\"y2\"},{\"font\":{\"color\":\"rgb(50, 171, 96)\",\"family\":\"Arial\",\"size\":12},\"showarrow\":false,\"text\":\"181\",\"x\":181,\"xref\":\"x\",\"y\":\"Maverick County, Texas\",\"yref\":\"y\"},{\"font\":{\"color\":\"rgba(102, 102, 102, 0.8)\",\"family\":\"Arial\",\"size\":12},\"showarrow\":false,\"text\":\"15.0%\",\"x\":20,\"xref\":\"x2\",\"y\":\"Tunica County, Mississippi\",\"yref\":\"y2\"},{\"font\":{\"color\":\"rgb(50, 171, 96)\",\"family\":\"Arial\",\"size\":12},\"showarrow\":false,\"text\":\"7559\",\"x\":7559,\"xref\":\"x\",\"y\":\"Tunica County, Mississippi\",\"yref\":\"y\"},{\"font\":{\"color\":\"rgba(102, 102, 102, 0.8)\",\"family\":\"Arial\",\"size\":12},\"showarrow\":false,\"text\":\"15.0%\",\"x\":20,\"xref\":\"x2\",\"y\":\"Presidio County, Texas\",\"yref\":\"y2\"},{\"font\":{\"color\":\"rgb(50, 171, 96)\",\"family\":\"Arial\",\"size\":12},\"showarrow\":false,\"text\":\"27\",\"x\":27,\"xref\":\"x\",\"y\":\"Presidio County, Texas\",\"yref\":\"y\"},{\"font\":{\"color\":\"rgba(102, 102, 102, 0.8)\",\"family\":\"Arial\",\"size\":12},\"showarrow\":false,\"text\":\"15.0%\",\"x\":20,\"xref\":\"x2\",\"y\":\"Humphreys County, Mississippi\",\"yref\":\"y2\"},{\"font\":{\"color\":\"rgb(50, 171, 96)\",\"family\":\"Arial\",\"size\":12},\"showarrow\":false,\"text\":\"6110\",\"x\":6110,\"xref\":\"x\",\"y\":\"Humphreys County, Mississippi\",\"yref\":\"y\"},{\"font\":{\"color\":\"rgba(102, 102, 102, 0.8)\",\"family\":\"Arial\",\"size\":12},\"showarrow\":false,\"text\":\"15.0%\",\"x\":20,\"xref\":\"x2\",\"y\":\"Wilcox County, Alabama\",\"yref\":\"y2\"},{\"font\":{\"color\":\"rgb(50, 171, 96)\",\"family\":\"Arial\",\"size\":12},\"showarrow\":false,\"text\":\"7483\",\"x\":7483,\"xref\":\"x\",\"y\":\"Wilcox County, Alabama\",\"yref\":\"y\"},{\"font\":{\"color\":\"rgba(102, 102, 102, 0.8)\",\"family\":\"Arial\",\"size\":12},\"showarrow\":false,\"text\":\"15.0%\",\"x\":20,\"xref\":\"x2\",\"y\":\"Clark County, Nevada\",\"yref\":\"y2\"},{\"font\":{\"color\":\"rgb(50, 171, 96)\",\"family\":\"Arial\",\"size\":12},\"showarrow\":false,\"text\":\"286684\",\"x\":286684,\"xref\":\"x\",\"y\":\"Clark County, Nevada\",\"yref\":\"y\"},{\"font\":{\"color\":\"rgba(102, 102, 102, 0.8)\",\"family\":\"Arial\",\"size\":12},\"showarrow\":false,\"text\":\"15.0%\",\"x\":20,\"xref\":\"x2\",\"y\":\"Cheboygan County, Michigan\",\"yref\":\"y2\"},{\"font\":{\"color\":\"rgb(50, 171, 96)\",\"family\":\"Arial\",\"size\":12},\"showarrow\":false,\"text\":\"96\",\"x\":96,\"xref\":\"x\",\"y\":\"Cheboygan County, Michigan\",\"yref\":\"y\"},{\"font\":{\"color\":\"rgba(102, 102, 102, 0.8)\",\"family\":\"Arial\",\"size\":12},\"showarrow\":false,\"text\":\"14.0%\",\"x\":20,\"xref\":\"x2\",\"y\":\"Claiborne County, Mississippi\",\"yref\":\"y2\"},{\"font\":{\"color\":\"rgb(50, 171, 96)\",\"family\":\"Arial\",\"size\":12},\"showarrow\":false,\"text\":\"7989\",\"x\":7989,\"xref\":\"x\",\"y\":\"Claiborne County, Mississippi\",\"yref\":\"y\"},{\"font\":{\"color\":\"rgba(102, 102, 102, 0.8)\",\"family\":\"Arial\",\"size\":12},\"showarrow\":false,\"text\":\"14.0%\",\"x\":20,\"xref\":\"x2\",\"y\":\"Mingo County, West Virginia\",\"yref\":\"y2\"},{\"font\":{\"color\":\"rgb(50, 171, 96)\",\"family\":\"Arial\",\"size\":12},\"showarrow\":false,\"text\":\"409\",\"x\":409,\"xref\":\"x\",\"y\":\"Mingo County, West Virginia\",\"yref\":\"y\"},{\"font\":{\"color\":\"rgba(102, 102, 102, 0.8)\",\"family\":\"Arial\",\"size\":12},\"showarrow\":false,\"text\":\"14.0%\",\"x\":20,\"xref\":\"x2\",\"y\":\"Zavala County, Texas\",\"yref\":\"y2\"},{\"font\":{\"color\":\"rgb(50, 171, 96)\",\"family\":\"Arial\",\"size\":12},\"showarrow\":false,\"text\":\"89\",\"x\":89,\"xref\":\"x\",\"y\":\"Zavala County, Texas\",\"yref\":\"y\"},{\"font\":{\"color\":\"rgba(102, 102, 102, 0.8)\",\"family\":\"Arial\",\"size\":12},\"showarrow\":false,\"text\":\"14.0%\",\"x\":20,\"xref\":\"x2\",\"y\":\"Petersburg city, Virginia\",\"yref\":\"y2\"},{\"font\":{\"color\":\"rgb(50, 171, 96)\",\"family\":\"Arial\",\"size\":12},\"showarrow\":false,\"text\":\"24811\",\"x\":24811,\"xref\":\"x\",\"y\":\"Petersburg city, Virginia\",\"yref\":\"y\"},{\"font\":{\"color\":\"rgba(102, 102, 102, 0.8)\",\"family\":\"Arial\",\"size\":12},\"showarrow\":false,\"text\":\"14.0%\",\"x\":20,\"xref\":\"x2\",\"y\":\"Wayne County, Michigan\",\"yref\":\"y2\"},{\"font\":{\"color\":\"rgb(50, 171, 96)\",\"family\":\"Arial\",\"size\":12},\"showarrow\":false,\"text\":\"674782\",\"x\":674782,\"xref\":\"x\",\"y\":\"Wayne County, Michigan\",\"yref\":\"y\"},{\"font\":{\"color\":\"rgb(150,150,150)\",\"family\":\"Arial\",\"size\":10},\"showarrow\":false,\"x\":-0.2,\"xref\":\"paper\",\"y\":-0.109,\"yref\":\"paper\"}],\"height\":800,\"legend\":{\"font\":{\"size\":10},\"x\":0.029,\"y\":1.038},\"margin\":{\"b\":70,\"l\":100,\"r\":20,\"t\":70},\"paper_bgcolor\":\"rgba(255,255,255, 0)\",\"plot_bgcolor\":\"rgba(255,255,255, 0)\",\"template\":{\"data\":{\"bar\":[{\"error_x\":{\"color\":\"#2a3f5f\"},\"error_y\":{\"color\":\"#2a3f5f\"},\"marker\":{\"line\":{\"color\":\"#E5ECF6\",\"width\":0.5},\"pattern\":{\"fillmode\":\"overlay\",\"size\":10,\"solidity\":0.2}},\"type\":\"bar\"}],\"barpolar\":[{\"marker\":{\"line\":{\"color\":\"#E5ECF6\",\"width\":0.5},\"pattern\":{\"fillmode\":\"overlay\",\"size\":10,\"solidity\":0.2}},\"type\":\"barpolar\"}],\"carpet\":[{\"aaxis\":{\"endlinecolor\":\"#2a3f5f\",\"gridcolor\":\"white\",\"linecolor\":\"white\",\"minorgridcolor\":\"white\",\"startlinecolor\":\"#2a3f5f\"},\"baxis\":{\"endlinecolor\":\"#2a3f5f\",\"gridcolor\":\"white\",\"linecolor\":\"white\",\"minorgridcolor\":\"white\",\"startlinecolor\":\"#2a3f5f\"},\"type\":\"carpet\"}],\"choropleth\":[{\"colorbar\":{\"outlinewidth\":0,\"ticks\":\"\"},\"type\":\"choropleth\"}],\"contour\":[{\"colorbar\":{\"outlinewidth\":0,\"ticks\":\"\"},\"colorscale\":[[0.0,\"#0d0887\"],[0.1111111111111111,\"#46039f\"],[0.2222222222222222,\"#7201a8\"],[0.3333333333333333,\"#9c179e\"],[0.4444444444444444,\"#bd3786\"],[0.5555555555555556,\"#d8576b\"],[0.6666666666666666,\"#ed7953\"],[0.7777777777777778,\"#fb9f3a\"],[0.8888888888888888,\"#fdca26\"],[1.0,\"#f0f921\"]],\"type\":\"contour\"}],\"contourcarpet\":[{\"colorbar\":{\"outlinewidth\":0,\"ticks\":\"\"},\"type\":\"contourcarpet\"}],\"heatmap\":[{\"colorbar\":{\"outlinewidth\":0,\"ticks\":\"\"},\"colorscale\":[[0.0,\"#0d0887\"],[0.1111111111111111,\"#46039f\"],[0.2222222222222222,\"#7201a8\"],[0.3333333333333333,\"#9c179e\"],[0.4444444444444444,\"#bd3786\"],[0.5555555555555556,\"#d8576b\"],[0.6666666666666666,\"#ed7953\"],[0.7777777777777778,\"#fb9f3a\"],[0.8888888888888888,\"#fdca26\"],[1.0,\"#f0f921\"]],\"type\":\"heatmap\"}],\"heatmapgl\":[{\"colorbar\":{\"outlinewidth\":0,\"ticks\":\"\"},\"colorscale\":[[0.0,\"#0d0887\"],[0.1111111111111111,\"#46039f\"],[0.2222222222222222,\"#7201a8\"],[0.3333333333333333,\"#9c179e\"],[0.4444444444444444,\"#bd3786\"],[0.5555555555555556,\"#d8576b\"],[0.6666666666666666,\"#ed7953\"],[0.7777777777777778,\"#fb9f3a\"],[0.8888888888888888,\"#fdca26\"],[1.0,\"#f0f921\"]],\"type\":\"heatmapgl\"}],\"histogram\":[{\"marker\":{\"pattern\":{\"fillmode\":\"overlay\",\"size\":10,\"solidity\":0.2}},\"type\":\"histogram\"}],\"histogram2d\":[{\"colorbar\":{\"outlinewidth\":0,\"ticks\":\"\"},\"colorscale\":[[0.0,\"#0d0887\"],[0.1111111111111111,\"#46039f\"],[0.2222222222222222,\"#7201a8\"],[0.3333333333333333,\"#9c179e\"],[0.4444444444444444,\"#bd3786\"],[0.5555555555555556,\"#d8576b\"],[0.6666666666666666,\"#ed7953\"],[0.7777777777777778,\"#fb9f3a\"],[0.8888888888888888,\"#fdca26\"],[1.0,\"#f0f921\"]],\"type\":\"histogram2d\"}],\"histogram2dcontour\":[{\"colorbar\":{\"outlinewidth\":0,\"ticks\":\"\"},\"colorscale\":[[0.0,\"#0d0887\"],[0.1111111111111111,\"#46039f\"],[0.2222222222222222,\"#7201a8\"],[0.3333333333333333,\"#9c179e\"],[0.4444444444444444,\"#bd3786\"],[0.5555555555555556,\"#d8576b\"],[0.6666666666666666,\"#ed7953\"],[0.7777777777777778,\"#fb9f3a\"],[0.8888888888888888,\"#fdca26\"],[1.0,\"#f0f921\"]],\"type\":\"histogram2dcontour\"}],\"mesh3d\":[{\"colorbar\":{\"outlinewidth\":0,\"ticks\":\"\"},\"type\":\"mesh3d\"}],\"parcoords\":[{\"line\":{\"colorbar\":{\"outlinewidth\":0,\"ticks\":\"\"}},\"type\":\"parcoords\"}],\"pie\":[{\"automargin\":true,\"type\":\"pie\"}],\"scatter\":[{\"marker\":{\"colorbar\":{\"outlinewidth\":0,\"ticks\":\"\"}},\"type\":\"scatter\"}],\"scatter3d\":[{\"line\":{\"colorbar\":{\"outlinewidth\":0,\"ticks\":\"\"}},\"marker\":{\"colorbar\":{\"outlinewidth\":0,\"ticks\":\"\"}},\"type\":\"scatter3d\"}],\"scattercarpet\":[{\"marker\":{\"colorbar\":{\"outlinewidth\":0,\"ticks\":\"\"}},\"type\":\"scattercarpet\"}],\"scattergeo\":[{\"marker\":{\"colorbar\":{\"outlinewidth\":0,\"ticks\":\"\"}},\"type\":\"scattergeo\"}],\"scattergl\":[{\"marker\":{\"colorbar\":{\"outlinewidth\":0,\"ticks\":\"\"}},\"type\":\"scattergl\"}],\"scattermapbox\":[{\"marker\":{\"colorbar\":{\"outlinewidth\":0,\"ticks\":\"\"}},\"type\":\"scattermapbox\"}],\"scatterpolar\":[{\"marker\":{\"colorbar\":{\"outlinewidth\":0,\"ticks\":\"\"}},\"type\":\"scatterpolar\"}],\"scatterpolargl\":[{\"marker\":{\"colorbar\":{\"outlinewidth\":0,\"ticks\":\"\"}},\"type\":\"scatterpolargl\"}],\"scatterternary\":[{\"marker\":{\"colorbar\":{\"outlinewidth\":0,\"ticks\":\"\"}},\"type\":\"scatterternary\"}],\"surface\":[{\"colorbar\":{\"outlinewidth\":0,\"ticks\":\"\"},\"colorscale\":[[0.0,\"#0d0887\"],[0.1111111111111111,\"#46039f\"],[0.2222222222222222,\"#7201a8\"],[0.3333333333333333,\"#9c179e\"],[0.4444444444444444,\"#bd3786\"],[0.5555555555555556,\"#d8576b\"],[0.6666666666666666,\"#ed7953\"],[0.7777777777777778,\"#fb9f3a\"],[0.8888888888888888,\"#fdca26\"],[1.0,\"#f0f921\"]],\"type\":\"surface\"}],\"table\":[{\"cells\":{\"fill\":{\"color\":\"#EBF0F8\"},\"line\":{\"color\":\"white\"}},\"header\":{\"fill\":{\"color\":\"#C8D4E3\"},\"line\":{\"color\":\"white\"}},\"type\":\"table\"}]},\"layout\":{\"annotationdefaults\":{\"arrowcolor\":\"#2a3f5f\",\"arrowhead\":0,\"arrowwidth\":1},\"autotypenumbers\":\"strict\",\"coloraxis\":{\"colorbar\":{\"outlinewidth\":0,\"ticks\":\"\"}},\"colorscale\":{\"diverging\":[[0,\"#8e0152\"],[0.1,\"#c51b7d\"],[0.2,\"#de77ae\"],[0.3,\"#f1b6da\"],[0.4,\"#fde0ef\"],[0.5,\"#f7f7f7\"],[0.6,\"#e6f5d0\"],[0.7,\"#b8e186\"],[0.8,\"#7fbc41\"],[0.9,\"#4d9221\"],[1,\"#276419\"]],\"sequential\":[[0.0,\"#0d0887\"],[0.1111111111111111,\"#46039f\"],[0.2222222222222222,\"#7201a8\"],[0.3333333333333333,\"#9c179e\"],[0.4444444444444444,\"#bd3786\"],[0.5555555555555556,\"#d8576b\"],[0.6666666666666666,\"#ed7953\"],[0.7777777777777778,\"#fb9f3a\"],[0.8888888888888888,\"#fdca26\"],[1.0,\"#f0f921\"]],\"sequentialminus\":[[0.0,\"#0d0887\"],[0.1111111111111111,\"#46039f\"],[0.2222222222222222,\"#7201a8\"],[0.3333333333333333,\"#9c179e\"],[0.4444444444444444,\"#bd3786\"],[0.5555555555555556,\"#d8576b\"],[0.6666666666666666,\"#ed7953\"],[0.7777777777777778,\"#fb9f3a\"],[0.8888888888888888,\"#fdca26\"],[1.0,\"#f0f921\"]]},\"colorway\":[\"#636efa\",\"#EF553B\",\"#00cc96\",\"#ab63fa\",\"#FFA15A\",\"#19d3f3\",\"#FF6692\",\"#B6E880\",\"#FF97FF\",\"#FECB52\"],\"font\":{\"color\":\"#2a3f5f\"},\"geo\":{\"bgcolor\":\"white\",\"lakecolor\":\"white\",\"landcolor\":\"#E5ECF6\",\"showlakes\":true,\"showland\":true,\"subunitcolor\":\"white\"},\"hoverlabel\":{\"align\":\"left\"},\"hovermode\":\"closest\",\"mapbox\":{\"style\":\"light\"},\"paper_bgcolor\":\"white\",\"plot_bgcolor\":\"#E5ECF6\",\"polar\":{\"angularaxis\":{\"gridcolor\":\"white\",\"linecolor\":\"white\",\"ticks\":\"\"},\"bgcolor\":\"#E5ECF6\",\"radialaxis\":{\"gridcolor\":\"white\",\"linecolor\":\"white\",\"ticks\":\"\"}},\"scene\":{\"xaxis\":{\"backgroundcolor\":\"#E5ECF6\",\"gridcolor\":\"white\",\"gridwidth\":2,\"linecolor\":\"white\",\"showbackground\":true,\"ticks\":\"\",\"zerolinecolor\":\"white\"},\"yaxis\":{\"backgroundcolor\":\"#E5ECF6\",\"gridcolor\":\"white\",\"gridwidth\":2,\"linecolor\":\"white\",\"showbackground\":true,\"ticks\":\"\",\"zerolinecolor\":\"white\"},\"zaxis\":{\"backgroundcolor\":\"#E5ECF6\",\"gridcolor\":\"white\",\"gridwidth\":2,\"linecolor\":\"white\",\"showbackground\":true,\"ticks\":\"\",\"zerolinecolor\":\"white\"}},\"shapedefaults\":{\"line\":{\"color\":\"#2a3f5f\"}},\"ternary\":{\"aaxis\":{\"gridcolor\":\"white\",\"linecolor\":\"white\",\"ticks\":\"\"},\"baxis\":{\"gridcolor\":\"white\",\"linecolor\":\"white\",\"ticks\":\"\"},\"bgcolor\":\"#E5ECF6\",\"caxis\":{\"gridcolor\":\"white\",\"linecolor\":\"white\",\"ticks\":\"\"}},\"title\":{\"x\":0.05},\"xaxis\":{\"automargin\":true,\"gridcolor\":\"white\",\"linecolor\":\"white\",\"ticks\":\"\",\"title\":{\"standoff\":15},\"zerolinecolor\":\"white\",\"zerolinewidth\":2},\"yaxis\":{\"automargin\":true,\"gridcolor\":\"white\",\"linecolor\":\"white\",\"ticks\":\"\",\"title\":{\"standoff\":15},\"zerolinecolor\":\"white\",\"zerolinewidth\":2}}},\"title\":{\"text\":\"Race Population in relation to location Unemployment Percent\"},\"xaxis\":{\"anchor\":\"y\",\"domain\":[0,1],\"showgrid\":true,\"showline\":false,\"showticklabels\":true,\"zeroline\":false},\"xaxis2\":{\"anchor\":\"y2\",\"domain\":[0,1],\"dtick\":10000,\"showgrid\":true,\"showline\":false,\"showticklabels\":true,\"side\":\"top\",\"zeroline\":false},\"yaxis\":{\"anchor\":\"x\",\"domain\":[0,0.9],\"showgrid\":false,\"showline\":false,\"showticklabels\":true},\"yaxis2\":{\"anchor\":\"x2\",\"domain\":[0,0.9],\"linecolor\":\"rgba(102, 102, 102, 0.8)\",\"linewidth\":2,\"showgrid\":false,\"showline\":true,\"showticklabels\":false}},                        {\"responsive\": true}                    ).then(function(){\n",
       "                            \n",
       "var gd = document.getElementById('5be0b71d-728a-437c-a1ba-9ae767400033');\n",
       "var x = new MutationObserver(function (mutations, observer) {{\n",
       "        var display = window.getComputedStyle(gd).display;\n",
       "        if (!display || display === 'none') {{\n",
       "            console.log([gd, 'removed!']);\n",
       "            Plotly.purge(gd);\n",
       "            observer.disconnect();\n",
       "        }}\n",
       "}});\n",
       "\n",
       "// Listen for the removal of the full notebook cells\n",
       "var notebookContainer = gd.closest('#notebook-container');\n",
       "if (notebookContainer) {{\n",
       "    x.observe(notebookContainer, {childList: true});\n",
       "}}\n",
       "\n",
       "// Listen for the clearing of the current output cell\n",
       "var outputEl = gd.closest('.output');\n",
       "if (outputEl) {{\n",
       "    x.observe(outputEl, {childList: true});\n",
       "}}\n",
       "\n",
       "                        })                };                });            </script>        </div>"
      ]
     },
     "metadata": {},
     "output_type": "display_data"
    }
   ],
   "source": [
    "# Creating two subplots\n",
    "fig_black = make_subplots(rows=1, cols=2, specs=[[{}, {}]], shared_xaxes=True,\n",
    "                    shared_yaxes=False, vertical_spacing=0.001)\n",
    "\n",
    "fig_black.append_trace(go.Bar(\n",
    "    x=y_data_black,\n",
    "    y=x,\n",
    "    marker=dict(\n",
    "        color='rgba(50, 171, 96, 0.6)',\n",
    "        line=dict(\n",
    "            color='rgba(50, 171, 96, 1.0)',\n",
    "            width=1),\n",
    "    ),\n",
    "    name='Population of Race Black by County',\n",
    "    orientation='h',\n",
    "), 1, 1)\n",
    "\n",
    "fig_black.append_trace(go.Scatter(\n",
    "    x=y_unemployed_pct, y=x,\n",
    "    mode='lines+markers',\n",
    "    line_color='rgb(128, 0, 0)',\n",
    "    name='Overall Unemployment Percentage in that County',\n",
    "), 1, 2)\n",
    "\n",
    "fig_black.update_layout(\n",
    "    title='Race Population in relation to location Unemployment Percent',\n",
    "    yaxis=dict(\n",
    "        showgrid=False,\n",
    "        showline=False,\n",
    "        showticklabels=True,\n",
    "        domain=[0, .9],\n",
    "    ),\n",
    "    yaxis2=dict(\n",
    "        showgrid=False,\n",
    "        showline=True,\n",
    "        showticklabels=False,\n",
    "        linecolor='rgba(102, 102, 102, 0.8)',\n",
    "        linewidth=2,\n",
    "        domain=[0, .9],\n",
    "    ),\n",
    "    xaxis=dict(\n",
    "        zeroline=False,\n",
    "        showline=False,\n",
    "        showticklabels=True,\n",
    "        showgrid=True,\n",
    "        domain=[0, 1],\n",
    "    ),\n",
    "    xaxis2=dict(\n",
    "        zeroline=False,\n",
    "        showline=False,\n",
    "        showticklabels=True,\n",
    "        showgrid=True,\n",
    "        domain=[0, 1],\n",
    "        side='top',\n",
    "        dtick=10000,\n",
    "    ),\n",
    "    legend=dict(x=0.029, y=1.038, font_size=10),\n",
    "    margin=dict(l=100, r=20, t=70, b=70),\n",
    "    paper_bgcolor='rgba(255,255,255, 0)',\n",
    "    plot_bgcolor='rgba(255,255,255, 0)',\n",
    "    height=800\n",
    ")\n",
    "\n",
    "annotations = []\n",
    "\n",
    "y_s = np.round(y_data_black, decimals=2)\n",
    "y_nw = np.rint(y_unemployed_pct)\n",
    "\n",
    "# Adding labels\n",
    "for ydn, yd, xd in zip(y_nw, y_s, x):\n",
    "    # labeling the scatter pct\n",
    "    annotations.append(dict(xref='x2', yref='y2',\n",
    "                            y=xd, x=20,\n",
    "                            text='{:,}'.format(ydn) + '%',\n",
    "                            font=dict(family='Arial', size=12,\n",
    "                                      color='rgba(102, 102, 102, 0.8)'),\n",
    "                            showarrow=False))\n",
    "    # labeling the bar net worth\n",
    "    annotations.append(dict(xref='x1', yref='y1',\n",
    "                            y=xd, x=yd,\n",
    "                            text=str(yd),\n",
    "                            font=dict(family='Arial', size=12,\n",
    "                                      color='rgb(50, 171, 96)'),\n",
    "                            showarrow=False))\n",
    "# Source\n",
    "annotations.append(dict(xref='paper', yref='paper',\n",
    "                        x=-0.2, y=-0.109,\n",
    "                        font=dict(family='Arial', size=10, color='rgb(150,150,150)'),\n",
    "                        showarrow=False))\n",
    "\n",
    "fig_black.update_layout(annotations=annotations)\n",
    "\n",
    "fig_black.show()"
   ]
  },
  {
   "cell_type": "code",
   "execution_count": null,
   "id": "ece8c983",
   "metadata": {},
   "outputs": [],
   "source": []
  },
  {
   "cell_type": "code",
   "execution_count": null,
   "id": "9a0e8e2f",
   "metadata": {},
   "outputs": [],
   "source": []
  },
  {
   "cell_type": "code",
   "execution_count": null,
   "id": "6340bf2b",
   "metadata": {},
   "outputs": [],
   "source": []
  },
  {
   "cell_type": "code",
   "execution_count": null,
   "id": "4d66a5d0",
   "metadata": {},
   "outputs": [],
   "source": []
  },
  {
   "cell_type": "code",
   "execution_count": 289,
   "id": "490114ae",
   "metadata": {},
   "outputs": [],
   "source": [
    "import plotly.express as px\n"
   ]
  },
  {
   "cell_type": "code",
   "execution_count": 278,
   "id": "0dff96fa",
   "metadata": {
    "scrolled": true
   },
   "outputs": [
    {
     "name": "stderr",
     "output_type": "stream",
     "text": [
      "<ipython-input-278-1e910d6f6a80>:21: FutureWarning:\n",
      "\n",
      "Support for multi-dimensional indexing (e.g. `obj[:, None]`) is deprecated and will be removed in a future version.  Convert to a numpy array before indexing instead.\n",
      "\n"
     ]
    }
   ],
   "source": [
    "top_labels = ['White', 'Black', 'Asian', 'Other']\n",
    "\n",
    "\n",
    "colors = ['aquamarine', 'blue', 'green', 'red', 'orange','aquamarine', 'blue', 'green', 'red', 'orange','aquamarine', 'blue', 'green', 'red', 'orange','aquamarine', 'blue', 'green', 'red', 'orange','aquamarine', 'blue', 'green', 'red', 'orange','aquamarine', 'blue', 'green', 'red', 'orange']\n",
    "\n",
    "y_data = ['The course was effectively<br>organized',\n",
    "          'The course developed my<br>abilities and skills ' +\n",
    "          'for<br>the subject', 'The course developed ' +\n",
    "          'my<br>ability to think critically about<br>the subject',\n",
    "          'I would recommend this<br>course to a friend']\n",
    "\n",
    "#x_data = df[['race_white', 'race_black', 'race_asian', 'race_other']][0:30]\n",
    "x_datax = df.copy()[['race_white', 'race_black', 'race_asian', 'race_other']][0:30]\n",
    "y_data = df['county'][0:30].tolist()\n",
    "\n",
    "#x_data = np.array([x_datax['race_white'], x_datax['race_black'], x_datax['race_asian'], x_datax['race_other']])\n",
    "#x_data\n",
    "x_data = x_datax.values.tolist()\n",
    "\n",
    "sum_of_rows = x_datax.sum(axis=1)\n",
    "normalized_array = x_data / sum_of_rows[:, np.newaxis]\n",
    "x_data = normalized_array"
   ]
  },
  {
   "cell_type": "code",
   "execution_count": 279,
   "id": "086c2cc2",
   "metadata": {},
   "outputs": [],
   "source": [
    "fig = go.Figure()"
   ]
  },
  {
   "cell_type": "code",
   "execution_count": 280,
   "id": "0e3848e2",
   "metadata": {
    "scrolled": false
   },
   "outputs": [
    {
     "data": {
      "application/vnd.plotly.v1+json": {
       "config": {
        "plotlyServerURL": "https://plot.ly"
       },
       "data": [
        {
         "marker": {
          "color": "aquamarine",
          "line": {
           "color": "rgb(248, 248, 249)",
           "width": 1
          }
         },
         "orientation": "h",
         "type": "bar",
         "x": [
          0.39091443885221255
         ],
         "y": [
          "Los Angeles County, California"
         ]
        },
        {
         "marker": {
          "color": "aquamarine",
          "line": {
           "color": "rgb(248, 248, 249)",
           "width": 1
          }
         },
         "orientation": "h",
         "type": "bar",
         "x": [
          0.7134063698499736
         ],
         "y": [
          "Maricopa County, Arizona"
         ]
        },
        {
         "marker": {
          "color": "aquamarine",
          "line": {
           "color": "rgb(248, 248, 249)",
           "width": 1
          }
         },
         "orientation": "h",
         "type": "bar",
         "x": [
          0.5023269726915007
         ],
         "y": [
          "Cook County, Illinois"
         ]
        },
        {
         "marker": {
          "color": "aquamarine",
          "line": {
           "color": "rgb(248, 248, 249)",
           "width": 1
          }
         },
         "orientation": "h",
         "type": "bar",
         "x": [
          0.44432540824280353
         ],
         "y": [
          "Harris County, Texas"
         ]
        },
        {
         "marker": {
          "color": "aquamarine",
          "line": {
           "color": "rgb(248, 248, 249)",
           "width": 1
          }
         },
         "orientation": "h",
         "type": "bar",
         "x": [
          0.6002632422387278
         ],
         "y": [
          "San Diego County, California"
         ]
        },
        {
         "marker": {
          "color": "aquamarine",
          "line": {
           "color": "rgb(248, 248, 249)",
           "width": 1
          }
         },
         "orientation": "h",
         "type": "bar",
         "x": [
          0.5137538250463982
         ],
         "y": [
          "Orange County, California"
         ]
        },
        {
         "marker": {
          "color": "aquamarine",
          "line": {
           "color": "rgb(248, 248, 249)",
           "width": 1
          }
         },
         "orientation": "h",
         "type": "bar",
         "x": [
          0.6381776464826273
         ],
         "y": [
          "King County, Washington"
         ]
        },
        {
         "marker": {
          "color": "aquamarine",
          "line": {
           "color": "rgb(248, 248, 249)",
           "width": 1
          }
         },
         "orientation": "h",
         "type": "bar",
         "x": [
          0.7450358070191535
         ],
         "y": [
          "Middlesex County, Massachusetts"
         ]
        },
        {
         "marker": {
          "color": "aquamarine",
          "line": {
           "color": "rgb(248, 248, 249)",
           "width": 1
          }
         },
         "orientation": "h",
         "type": "bar",
         "x": [
          0.5831546825487214
         ],
         "y": [
          "Tarrant County, Texas"
         ]
        },
        {
         "marker": {
          "color": "aquamarine",
          "line": {
           "color": "rgb(248, 248, 249)",
           "width": 1
          }
         },
         "orientation": "h",
         "type": "bar",
         "x": [
          0.4153826276199282
         ],
         "y": [
          "Kings County, New York"
         ]
        },
        {
         "marker": {
          "color": "aquamarine",
          "line": {
           "color": "rgb(248, 248, 249)",
           "width": 1
          }
         },
         "orientation": "h",
         "type": "bar",
         "x": [
          0.7470975309931466
         ],
         "y": [
          "Suffolk County, New York"
         ]
        },
        {
         "marker": {
          "color": "aquamarine",
          "line": {
           "color": "rgb(248, 248, 249)",
           "width": 1
          }
         },
         "orientation": "h",
         "type": "bar",
         "x": [
          0.5380287222368385
         ],
         "y": [
          "Clark County, Nevada"
         ]
        },
        {
         "marker": {
          "color": "aquamarine",
          "line": {
           "color": "rgb(248, 248, 249)",
           "width": 1
          }
         },
         "orientation": "h",
         "type": "bar",
         "x": [
          0.5078200949714117
         ],
         "y": [
          "Riverside County, California"
         ]
        },
        {
         "marker": {
          "color": "aquamarine",
          "line": {
           "color": "rgb(248, 248, 249)",
           "width": 1
          }
         },
         "orientation": "h",
         "type": "bar",
         "x": [
          0.8001997283964397
         ],
         "y": [
          "Allegheny County, Pennsylvania"
         ]
        },
        {
         "marker": {
          "color": "aquamarine",
          "line": {
           "color": "rgb(248, 248, 249)",
           "width": 1
          }
         },
         "orientation": "h",
         "type": "bar",
         "x": [
          0.4280574273474586
         ],
         "y": [
          "Dallas County, Texas"
         ]
        },
        {
         "marker": {
          "color": "aquamarine",
          "line": {
           "color": "rgb(248, 248, 249)",
           "width": 1
          }
         },
         "orientation": "h",
         "type": "bar",
         "x": [
          0.6307977622028461
         ],
         "y": [
          "Bexar County, Texas"
         ]
        },
        {
         "marker": {
          "color": "aquamarine",
          "line": {
           "color": "rgb(248, 248, 249)",
           "width": 1
          }
         },
         "orientation": "h",
         "type": "bar",
         "x": [
          0.749098550637136
         ],
         "y": [
          "Oakland County, Michigan"
         ]
        },
        {
         "marker": {
          "color": "aquamarine",
          "line": {
           "color": "rgb(248, 248, 249)",
           "width": 1
          }
         },
         "orientation": "h",
         "type": "bar",
         "x": [
          0.5267979357503798
         ],
         "y": [
          "Wayne County, Michigan"
         ]
        },
        {
         "marker": {
          "color": "aquamarine",
          "line": {
           "color": "rgb(248, 248, 249)",
           "width": 1
          }
         },
         "orientation": "h",
         "type": "bar",
         "x": [
          0.6718344914222902
         ],
         "y": [
          "Palm Beach County, Florida"
         ]
        },
        {
         "marker": {
          "color": "aquamarine",
          "line": {
           "color": "rgb(248, 248, 249)",
           "width": 1
          }
         },
         "orientation": "h",
         "type": "bar",
         "x": [
          0.7255792563152451
         ],
         "y": [
          "Hennepin County, Minnesota"
         ]
        },
        {
         "marker": {
          "color": "aquamarine",
          "line": {
           "color": "rgb(248, 248, 249)",
           "width": 1
          }
         },
         "orientation": "h",
         "type": "bar",
         "x": [
          0.820591775986003
         ],
         "y": [
          "Salt Lake County, Utah"
         ]
        },
        {
         "marker": {
          "color": "aquamarine",
          "line": {
           "color": "rgb(248, 248, 249)",
           "width": 1
          }
         },
         "orientation": "h",
         "type": "bar",
         "x": [
          0.5624274242458426
         ],
         "y": [
          "New York County, New York"
         ]
        },
        {
         "marker": {
          "color": "aquamarine",
          "line": {
           "color": "rgb(248, 248, 249)",
           "width": 1
          }
         },
         "orientation": "h",
         "type": "bar",
         "x": [
          0.6425461684891364
         ],
         "y": [
          "Nassau County, New York"
         ]
        },
        {
         "marker": {
          "color": "aquamarine",
          "line": {
           "color": "rgb(248, 248, 249)",
           "width": 1
          }
         },
         "orientation": "h",
         "type": "bar",
         "x": [
          0.6549269343428986
         ],
         "y": [
          "Franklin County, Ohio"
         ]
        },
        {
         "marker": {
          "color": "aquamarine",
          "line": {
           "color": "rgb(248, 248, 249)",
           "width": 1
          }
         },
         "orientation": "h",
         "type": "bar",
         "x": [
          0.5106854613896867
         ],
         "y": [
          "Miami-Dade County, Florida"
         ]
        },
        {
         "marker": {
          "color": "aquamarine",
          "line": {
           "color": "rgb(248, 248, 249)",
           "width": 1
          }
         },
         "orientation": "h",
         "type": "bar",
         "x": [
          0.44202948478434223
         ],
         "y": [
          "San Bernardino County, California"
         ]
        },
        {
         "marker": {
          "color": "aquamarine",
          "line": {
           "color": "rgb(248, 248, 249)",
           "width": 1
          }
         },
         "orientation": "h",
         "type": "bar",
         "x": [
          0.500356488542729
         ],
         "y": [
          "Broward County, Florida"
         ]
        },
        {
         "marker": {
          "color": "aquamarine",
          "line": {
           "color": "rgb(248, 248, 249)",
           "width": 1
          }
         },
         "orientation": "h",
         "type": "bar",
         "x": [
          0.6366173532710777
         ],
         "y": [
          "Hillsborough County, Florida"
         ]
        },
        {
         "marker": {
          "color": "aquamarine",
          "line": {
           "color": "rgb(248, 248, 249)",
           "width": 1
          }
         },
         "orientation": "h",
         "type": "bar",
         "x": [
          0.6202538258406233
         ],
         "y": [
          "Cuyahoga County, Ohio"
         ]
        },
        {
         "marker": {
          "color": "aquamarine",
          "line": {
           "color": "rgb(248, 248, 249)",
           "width": 1
          }
         },
         "orientation": "h",
         "type": "bar",
         "x": [
          0.5357862310839288
         ],
         "y": [
          "Sacramento County, California"
         ]
        },
        {
         "marker": {
          "color": "blue",
          "line": {
           "color": "rgb(248, 248, 249)",
           "width": 1
          }
         },
         "orientation": "h",
         "type": "bar",
         "x": [
          0.09527084279058834
         ],
         "y": [
          "Los Angeles County, California"
         ]
        },
        {
         "marker": {
          "color": "blue",
          "line": {
           "color": "rgb(248, 248, 249)",
           "width": 1
          }
         },
         "orientation": "h",
         "type": "bar",
         "x": [
          0.07023980376896903
         ],
         "y": [
          "Maricopa County, Arizona"
         ]
        },
        {
         "marker": {
          "color": "blue",
          "line": {
           "color": "rgb(248, 248, 249)",
           "width": 1
          }
         },
         "orientation": "h",
         "type": "bar",
         "x": [
          0.25819365251954346
         ],
         "y": [
          "Cook County, Illinois"
         ]
        },
        {
         "marker": {
          "color": "blue",
          "line": {
           "color": "rgb(248, 248, 249)",
           "width": 1
          }
         },
         "orientation": "h",
         "type": "bar",
         "x": [
          0.23427194009666727
         ],
         "y": [
          "Harris County, Texas"
         ]
        },
        {
         "marker": {
          "color": "blue",
          "line": {
           "color": "rgb(248, 248, 249)",
           "width": 1
          }
         },
         "orientation": "h",
         "type": "bar",
         "x": [
          0.05726970530983339
         ],
         "y": [
          "San Diego County, California"
         ]
        },
        {
         "marker": {
          "color": "blue",
          "line": {
           "color": "rgb(248, 248, 249)",
           "width": 1
          }
         },
         "orientation": "h",
         "type": "bar",
         "x": [
          0.019997392710210882
         ],
         "y": [
          "Orange County, California"
         ]
        },
        {
         "marker": {
          "color": "blue",
          "line": {
           "color": "rgb(248, 248, 249)",
           "width": 1
          }
         },
         "orientation": "h",
         "type": "bar",
         "x": [
          0.07593039396398786
         ],
         "y": [
          "King County, Washington"
         ]
        },
        {
         "marker": {
          "color": "blue",
          "line": {
           "color": "rgb(248, 248, 249)",
           "width": 1
          }
         },
         "orientation": "h",
         "type": "bar",
         "x": [
          0.05670588818351625
         ],
         "y": [
          "Middlesex County, Massachusetts"
         ]
        },
        {
         "marker": {
          "color": "blue",
          "line": {
           "color": "rgb(248, 248, 249)",
           "width": 1
          }
         },
         "orientation": "h",
         "type": "bar",
         "x": [
          0.2047377071511676
         ],
         "y": [
          "Tarrant County, Texas"
         ]
        },
        {
         "marker": {
          "color": "blue",
          "line": {
           "color": "rgb(248, 248, 249)",
           "width": 1
          }
         },
         "orientation": "h",
         "type": "bar",
         "x": [
          0.31172653824257374
         ],
         "y": [
          "Kings County, New York"
         ]
        },
        {
         "marker": {
          "color": "blue",
          "line": {
           "color": "rgb(248, 248, 249)",
           "width": 1
          }
         },
         "orientation": "h",
         "type": "bar",
         "x": [
          0.08348154581171623
         ],
         "y": [
          "Suffolk County, New York"
         ]
        },
        {
         "marker": {
          "color": "blue",
          "line": {
           "color": "rgb(248, 248, 249)",
           "width": 1
          }
         },
         "orientation": "h",
         "type": "bar",
         "x": [
          0.15176021500651912
         ],
         "y": [
          "Clark County, Nevada"
         ]
        },
        {
         "marker": {
          "color": "blue",
          "line": {
           "color": "rgb(248, 248, 249)",
           "width": 1
          }
         },
         "orientation": "h",
         "type": "bar",
         "x": [
          0.07981117928786743
         ],
         "y": [
          "Riverside County, California"
         ]
        },
        {
         "marker": {
          "color": "blue",
          "line": {
           "color": "rgb(248, 248, 249)",
           "width": 1
          }
         },
         "orientation": "h",
         "type": "bar",
         "x": [
          0.13840450665733134
         ],
         "y": [
          "Allegheny County, Pennsylvania"
         ]
        },
        {
         "marker": {
          "color": "blue",
          "line": {
           "color": "rgb(248, 248, 249)",
           "width": 1
          }
         },
         "orientation": "h",
         "type": "bar",
         "x": [
          0.2659177955308556
         ],
         "y": [
          "Dallas County, Texas"
         ]
        },
        {
         "marker": {
          "color": "blue",
          "line": {
           "color": "rgb(248, 248, 249)",
           "width": 1
          }
         },
         "orientation": "h",
         "type": "bar",
         "x": [
          0.1106326913989387
         ],
         "y": [
          "Bexar County, Texas"
         ]
        },
        {
         "marker": {
          "color": "blue",
          "line": {
           "color": "rgb(248, 248, 249)",
           "width": 1
          }
         },
         "orientation": "h",
         "type": "bar",
         "x": [
          0.14318621679731394
         ],
         "y": [
          "Oakland County, Michigan"
         ]
        },
        {
         "marker": {
          "color": "blue",
          "line": {
           "color": "rgb(248, 248, 249)",
           "width": 1
          }
         },
         "orientation": "h",
         "type": "bar",
         "x": [
          0.40281043586230775
         ],
         "y": [
          "Wayne County, Michigan"
         ]
        },
        {
         "marker": {
          "color": "blue",
          "line": {
           "color": "rgb(248, 248, 249)",
           "width": 1
          }
         },
         "orientation": "h",
         "type": "bar",
         "x": [
          0.206039335767283
         ],
         "y": [
          "Palm Beach County, Florida"
         ]
        },
        {
         "marker": {
          "color": "blue",
          "line": {
           "color": "rgb(248, 248, 249)",
           "width": 1
          }
         },
         "orientation": "h",
         "type": "bar",
         "x": [
          0.14552873605156225
         ],
         "y": [
          "Hennepin County, Minnesota"
         ]
        },
        {
         "marker": {
          "color": "blue",
          "line": {
           "color": "rgb(248, 248, 249)",
           "width": 1
          }
         },
         "orientation": "h",
         "type": "bar",
         "x": [
          0.022716100038321443
         ],
         "y": [
          "Salt Lake County, Utah"
         ]
        },
        {
         "marker": {
          "color": "blue",
          "line": {
           "color": "rgb(248, 248, 249)",
           "width": 1
          }
         },
         "orientation": "h",
         "type": "bar",
         "x": [
          0.1521924347365641
         ],
         "y": [
          "New York County, New York"
         ]
        },
        {
         "marker": {
          "color": "blue",
          "line": {
           "color": "rgb(248, 248, 249)",
           "width": 1
          }
         },
         "orientation": "h",
         "type": "bar",
         "x": [
          0.12051652410071009
         ],
         "y": [
          "Nassau County, New York"
         ]
        },
        {
         "marker": {
          "color": "blue",
          "line": {
           "color": "rgb(248, 248, 249)",
           "width": 1
          }
         },
         "orientation": "h",
         "type": "bar",
         "x": [
          0.24458922495736818
         ],
         "y": [
          "Franklin County, Ohio"
         ]
        },
        {
         "marker": {
          "color": "blue",
          "line": {
           "color": "rgb(248, 248, 249)",
           "width": 1
          }
         },
         "orientation": "h",
         "type": "bar",
         "x": [
          0.2563395661987211
         ],
         "y": [
          "Miami-Dade County, Florida"
         ]
        },
        {
         "marker": {
          "color": "blue",
          "line": {
           "color": "rgb(248, 248, 249)",
           "width": 1
          }
         },
         "orientation": "h",
         "type": "bar",
         "x": [
          0.10423024878633923
         ],
         "y": [
          "San Bernardino County, California"
         ]
        },
        {
         "marker": {
          "color": "blue",
          "line": {
           "color": "rgb(248, 248, 249)",
           "width": 1
          }
         },
         "orientation": "h",
         "type": "bar",
         "x": [
          0.34289298510483857
         ],
         "y": [
          "Broward County, Florida"
         ]
        },
        {
         "marker": {
          "color": "blue",
          "line": {
           "color": "rgb(248, 248, 249)",
           "width": 1
          }
         },
         "orientation": "h",
         "type": "bar",
         "x": [
          0.19698312194280176
         ],
         "y": [
          "Hillsborough County, Florida"
         ]
        },
        {
         "marker": {
          "color": "blue",
          "line": {
           "color": "rgb(248, 248, 249)",
           "width": 1
          }
         },
         "orientation": "h",
         "type": "bar",
         "x": [
          0.31251737869460516
         ],
         "y": [
          "Cuyahoga County, Ohio"
         ]
        },
        {
         "marker": {
          "color": "blue",
          "line": {
           "color": "rgb(248, 248, 249)",
           "width": 1
          }
         },
         "orientation": "h",
         "type": "bar",
         "x": [
          0.11438164144523837
         ],
         "y": [
          "Sacramento County, California"
         ]
        },
        {
         "marker": {
          "color": "green",
          "line": {
           "color": "rgb(248, 248, 249)",
           "width": 1
          }
         },
         "orientation": "h",
         "type": "bar",
         "x": [
          0.17989830839816237
         ],
         "y": [
          "Los Angeles County, California"
         ]
        },
        {
         "marker": {
          "color": "green",
          "line": {
           "color": "rgb(248, 248, 249)",
           "width": 1
          }
         },
         "orientation": "h",
         "type": "bar",
         "x": [
          0.05493001880655247
         ],
         "y": [
          "Maricopa County, Arizona"
         ]
        },
        {
         "marker": {
          "color": "green",
          "line": {
           "color": "rgb(248, 248, 249)",
           "width": 1
          }
         },
         "orientation": "h",
         "type": "bar",
         "x": [
          0.08849048366130069
         ],
         "y": [
          "Cook County, Illinois"
         ]
        },
        {
         "marker": {
          "color": "green",
          "line": {
           "color": "rgb(248, 248, 249)",
           "width": 1
          }
         },
         "orientation": "h",
         "type": "bar",
         "x": [
          0.09020728656519203
         ],
         "y": [
          "Harris County, Texas"
         ]
        },
        {
         "marker": {
          "color": "green",
          "line": {
           "color": "rgb(248, 248, 249)",
           "width": 1
          }
         },
         "orientation": "h",
         "type": "bar",
         "x": [
          0.1509735772716313
         ],
         "y": [
          "San Diego County, California"
         ]
        },
        {
         "marker": {
          "color": "green",
          "line": {
           "color": "rgb(248, 248, 249)",
           "width": 1
          }
         },
         "orientation": "h",
         "type": "bar",
         "x": [
          0.2625165694751734
         ],
         "y": [
          "Orange County, California"
         ]
        },
        {
         "marker": {
          "color": "green",
          "line": {
           "color": "rgb(248, 248, 249)",
           "width": 1
          }
         },
         "orientation": "h",
         "type": "bar",
         "x": [
          0.22682418074349303
         ],
         "y": [
          "King County, Washington"
         ]
        },
        {
         "marker": {
          "color": "green",
          "line": {
           "color": "rgb(248, 248, 249)",
           "width": 1
          }
         },
         "orientation": "h",
         "type": "bar",
         "x": [
          0.1409523401308515
         ],
         "y": [
          "Middlesex County, Massachusetts"
         ]
        },
        {
         "marker": {
          "color": "green",
          "line": {
           "color": "rgb(248, 248, 249)",
           "width": 1
          }
         },
         "orientation": "h",
         "type": "bar",
         "x": [
          0.07226256752441375
         ],
         "y": [
          "Tarrant County, Texas"
         ]
        },
        {
         "marker": {
          "color": "green",
          "line": {
           "color": "rgb(248, 248, 249)",
           "width": 1
          }
         },
         "orientation": "h",
         "type": "bar",
         "x": [
          0.15087879387408193
         ],
         "y": [
          "Kings County, New York"
         ]
        },
        {
         "marker": {
          "color": "green",
          "line": {
           "color": "rgb(248, 248, 249)",
           "width": 1
          }
         },
         "orientation": "h",
         "type": "bar",
         "x": [
          0.04804567695547344
         ],
         "y": [
          "Suffolk County, New York"
         ]
        },
        {
         "marker": {
          "color": "green",
          "line": {
           "color": "rgb(248, 248, 249)",
           "width": 1
          }
         },
         "orientation": "h",
         "type": "bar",
         "x": [
          0.12581025791147868
         ],
         "y": [
          "Clark County, Nevada"
         ]
        },
        {
         "marker": {
          "color": "green",
          "line": {
           "color": "rgb(248, 248, 249)",
           "width": 1
          }
         },
         "orientation": "h",
         "type": "bar",
         "x": [
          0.08734258565023793
         ],
         "y": [
          "Riverside County, California"
         ]
        },
        {
         "marker": {
          "color": "green",
          "line": {
           "color": "rgb(248, 248, 249)",
           "width": 1
          }
         },
         "orientation": "h",
         "type": "bar",
         "x": [
          0.04950169371709597
         ],
         "y": [
          "Allegheny County, Pennsylvania"
         ]
        },
        {
         "marker": {
          "color": "green",
          "line": {
           "color": "rgb(248, 248, 249)",
           "width": 1
          }
         },
         "orientation": "h",
         "type": "bar",
         "x": [
          0.08480907722588862
         ],
         "y": [
          "Dallas County, Texas"
         ]
        },
        {
         "marker": {
          "color": "green",
          "line": {
           "color": "rgb(248, 248, 249)",
           "width": 1
          }
         },
         "orientation": "h",
         "type": "bar",
         "x": [
          0.04710087027731045
         ],
         "y": [
          "Bexar County, Texas"
         ]
        },
        {
         "marker": {
          "color": "green",
          "line": {
           "color": "rgb(248, 248, 249)",
           "width": 1
          }
         },
         "orientation": "h",
         "type": "bar",
         "x": [
          0.08886529746990417
         ],
         "y": [
          "Oakland County, Michigan"
         ]
        },
        {
         "marker": {
          "color": "green",
          "line": {
           "color": "rgb(248, 248, 249)",
           "width": 1
          }
         },
         "orientation": "h",
         "type": "bar",
         "x": [
          0.038770046293394464
         ],
         "y": [
          "Wayne County, Michigan"
         ]
        },
        {
         "marker": {
          "color": "green",
          "line": {
           "color": "rgb(248, 248, 249)",
           "width": 1
          }
         },
         "orientation": "h",
         "type": "bar",
         "x": [
          0.03465630275193342
         ],
         "y": [
          "Palm Beach County, Florida"
         ]
        },
        {
         "marker": {
          "color": "green",
          "line": {
           "color": "rgb(248, 248, 249)",
           "width": 1
          }
         },
         "orientation": "h",
         "type": "bar",
         "x": [
          0.08303854694421982
         ],
         "y": [
          "Hennepin County, Minnesota"
         ]
        },
        {
         "marker": {
          "color": "green",
          "line": {
           "color": "rgb(248, 248, 249)",
           "width": 1
          }
         },
         "orientation": "h",
         "type": "bar",
         "x": [
          0.049382405425387375
         ],
         "y": [
          "Salt Lake County, Utah"
         ]
        },
        {
         "marker": {
          "color": "green",
          "line": {
           "color": "rgb(248, 248, 249)",
           "width": 1
          }
         },
         "orientation": "h",
         "type": "bar",
         "x": [
          0.14730472726114532
         ],
         "y": [
          "New York County, New York"
         ]
        },
        {
         "marker": {
          "color": "green",
          "line": {
           "color": "rgb(248, 248, 249)",
           "width": 1
          }
         },
         "orientation": "h",
         "type": "bar",
         "x": [
          0.1291082230114742
         ],
         "y": [
          "Nassau County, New York"
         ]
        },
        {
         "marker": {
          "color": "green",
          "line": {
           "color": "rgb(248, 248, 249)",
           "width": 1
          }
         },
         "orientation": "h",
         "type": "bar",
         "x": [
          0.06043602777392482
         ],
         "y": [
          "Franklin County, Ohio"
         ]
        },
        {
         "marker": {
          "color": "green",
          "line": {
           "color": "rgb(248, 248, 249)",
           "width": 1
          }
         },
         "orientation": "h",
         "type": "bar",
         "x": [
          0.02827667616400011
         ],
         "y": [
          "Miami-Dade County, Florida"
         ]
        },
        {
         "marker": {
          "color": "green",
          "line": {
           "color": "rgb(248, 248, 249)",
           "width": 1
          }
         },
         "orientation": "h",
         "type": "bar",
         "x": [
          0.10294768777574215
         ],
         "y": [
          "San Bernardino County, California"
         ]
        },
        {
         "marker": {
          "color": "green",
          "line": {
           "color": "rgb(248, 248, 249)",
           "width": 1
          }
         },
         "orientation": "h",
         "type": "bar",
         "x": [
          0.04894271815745061
         ],
         "y": [
          "Broward County, Florida"
         ]
        },
        {
         "marker": {
          "color": "green",
          "line": {
           "color": "rgb(248, 248, 249)",
           "width": 1
          }
         },
         "orientation": "h",
         "type": "bar",
         "x": [
          0.05897032568079698
         ],
         "y": [
          "Hillsborough County, Florida"
         ]
        },
        {
         "marker": {
          "color": "green",
          "line": {
           "color": "rgb(248, 248, 249)",
           "width": 1
          }
         },
         "orientation": "h",
         "type": "bar",
         "x": [
          0.037134373330592066
         ],
         "y": [
          "Cuyahoga County, Ohio"
         ]
        },
        {
         "marker": {
          "color": "green",
          "line": {
           "color": "rgb(248, 248, 249)",
           "width": 1
          }
         },
         "orientation": "h",
         "type": "bar",
         "x": [
          0.2109040412925249
         ],
         "y": [
          "Sacramento County, California"
         ]
        },
        {
         "marker": {
          "color": "red",
          "line": {
           "color": "rgb(248, 248, 249)",
           "width": 1
          }
         },
         "orientation": "h",
         "type": "bar",
         "x": [
          0.3339164099590367
         ],
         "y": [
          "Los Angeles County, California"
         ]
        },
        {
         "marker": {
          "color": "red",
          "line": {
           "color": "rgb(248, 248, 249)",
           "width": 1
          }
         },
         "orientation": "h",
         "type": "bar",
         "x": [
          0.16142380757450486
         ],
         "y": [
          "Maricopa County, Arizona"
         ]
        },
        {
         "marker": {
          "color": "red",
          "line": {
           "color": "rgb(248, 248, 249)",
           "width": 1
          }
         },
         "orientation": "h",
         "type": "bar",
         "x": [
          0.15098889112765515
         ],
         "y": [
          "Cook County, Illinois"
         ]
        },
        {
         "marker": {
          "color": "red",
          "line": {
           "color": "rgb(248, 248, 249)",
           "width": 1
          }
         },
         "orientation": "h",
         "type": "bar",
         "x": [
          0.23119536509533714
         ],
         "y": [
          "Harris County, Texas"
         ]
        },
        {
         "marker": {
          "color": "red",
          "line": {
           "color": "rgb(248, 248, 249)",
           "width": 1
          }
         },
         "orientation": "h",
         "type": "bar",
         "x": [
          0.19149347517980747
         ],
         "y": [
          "San Diego County, California"
         ]
        },
        {
         "marker": {
          "color": "red",
          "line": {
           "color": "rgb(248, 248, 249)",
           "width": 1
          }
         },
         "orientation": "h",
         "type": "bar",
         "x": [
          0.2037322127682175
         ],
         "y": [
          "Orange County, California"
         ]
        },
        {
         "marker": {
          "color": "red",
          "line": {
           "color": "rgb(248, 248, 249)",
           "width": 1
          }
         },
         "orientation": "h",
         "type": "bar",
         "x": [
          0.05906777880989179
         ],
         "y": [
          "King County, Washington"
         ]
        },
        {
         "marker": {
          "color": "red",
          "line": {
           "color": "rgb(248, 248, 249)",
           "width": 1
          }
         },
         "orientation": "h",
         "type": "bar",
         "x": [
          0.0573059646664787
         ],
         "y": [
          "Middlesex County, Massachusetts"
         ]
        },
        {
         "marker": {
          "color": "red",
          "line": {
           "color": "rgb(248, 248, 249)",
           "width": 1
          }
         },
         "orientation": "h",
         "type": "bar",
         "x": [
          0.13984504277569723
         ],
         "y": [
          "Tarrant County, Texas"
         ]
        },
        {
         "marker": {
          "color": "red",
          "line": {
           "color": "rgb(248, 248, 249)",
           "width": 1
          }
         },
         "orientation": "h",
         "type": "bar",
         "x": [
          0.1220120402634161
         ],
         "y": [
          "Kings County, New York"
         ]
        },
        {
         "marker": {
          "color": "red",
          "line": {
           "color": "rgb(248, 248, 249)",
           "width": 1
          }
         },
         "orientation": "h",
         "type": "bar",
         "x": [
          0.12137524623966378
         ],
         "y": [
          "Suffolk County, New York"
         ]
        },
        {
         "marker": {
          "color": "red",
          "line": {
           "color": "rgb(248, 248, 249)",
           "width": 1
          }
         },
         "orientation": "h",
         "type": "bar",
         "x": [
          0.18440080484516366
         ],
         "y": [
          "Clark County, Nevada"
         ]
        },
        {
         "marker": {
          "color": "red",
          "line": {
           "color": "rgb(248, 248, 249)",
           "width": 1
          }
         },
         "orientation": "h",
         "type": "bar",
         "x": [
          0.325026140090483
         ],
         "y": [
          "Riverside County, California"
         ]
        },
        {
         "marker": {
          "color": "red",
          "line": {
           "color": "rgb(248, 248, 249)",
           "width": 1
          }
         },
         "orientation": "h",
         "type": "bar",
         "x": [
          0.01189407122913295
         ],
         "y": [
          "Allegheny County, Pennsylvania"
         ]
        },
        {
         "marker": {
          "color": "red",
          "line": {
           "color": "rgb(248, 248, 249)",
           "width": 1
          }
         },
         "orientation": "h",
         "type": "bar",
         "x": [
          0.22121569989579715
         ],
         "y": [
          "Dallas County, Texas"
         ]
        },
        {
         "marker": {
          "color": "red",
          "line": {
           "color": "rgb(248, 248, 249)",
           "width": 1
          }
         },
         "orientation": "h",
         "type": "bar",
         "x": [
          0.2114686761209047
         ],
         "y": [
          "Bexar County, Texas"
         ]
        },
        {
         "marker": {
          "color": "red",
          "line": {
           "color": "rgb(248, 248, 249)",
           "width": 1
          }
         },
         "orientation": "h",
         "type": "bar",
         "x": [
          0.018849935095645875
         ],
         "y": [
          "Oakland County, Michigan"
         ]
        },
        {
         "marker": {
          "color": "red",
          "line": {
           "color": "rgb(248, 248, 249)",
           "width": 1
          }
         },
         "orientation": "h",
         "type": "bar",
         "x": [
          0.03162158209391799
         ],
         "y": [
          "Wayne County, Michigan"
         ]
        },
        {
         "marker": {
          "color": "red",
          "line": {
           "color": "rgb(248, 248, 249)",
           "width": 1
          }
         },
         "orientation": "h",
         "type": "bar",
         "x": [
          0.08746987005849331
         ],
         "y": [
          "Palm Beach County, Florida"
         ]
        },
        {
         "marker": {
          "color": "red",
          "line": {
           "color": "rgb(248, 248, 249)",
           "width": 1
          }
         },
         "orientation": "h",
         "type": "bar",
         "x": [
          0.04585346068897286
         ],
         "y": [
          "Hennepin County, Minnesota"
         ]
        },
        {
         "marker": {
          "color": "red",
          "line": {
           "color": "rgb(248, 248, 249)",
           "width": 1
          }
         },
         "orientation": "h",
         "type": "bar",
         "x": [
          0.10730971855028819
         ],
         "y": [
          "Salt Lake County, Utah"
         ]
        },
        {
         "marker": {
          "color": "red",
          "line": {
           "color": "rgb(248, 248, 249)",
           "width": 1
          }
         },
         "orientation": "h",
         "type": "bar",
         "x": [
          0.13807541375644805
         ],
         "y": [
          "New York County, New York"
         ]
        },
        {
         "marker": {
          "color": "red",
          "line": {
           "color": "rgb(248, 248, 249)",
           "width": 1
          }
         },
         "orientation": "h",
         "type": "bar",
         "x": [
          0.10782908439867936
         ],
         "y": [
          "Nassau County, New York"
         ]
        },
        {
         "marker": {
          "color": "red",
          "line": {
           "color": "rgb(248, 248, 249)",
           "width": 1
          }
         },
         "orientation": "h",
         "type": "bar",
         "x": [
          0.04004781292580837
         ],
         "y": [
          "Franklin County, Ohio"
         ]
        },
        {
         "marker": {
          "color": "red",
          "line": {
           "color": "rgb(248, 248, 249)",
           "width": 1
          }
         },
         "orientation": "h",
         "type": "bar",
         "x": [
          0.20469829624759203
         ],
         "y": [
          "Miami-Dade County, Florida"
         ]
        },
        {
         "marker": {
          "color": "red",
          "line": {
           "color": "rgb(248, 248, 249)",
           "width": 1
          }
         },
         "orientation": "h",
         "type": "bar",
         "x": [
          0.3507925786535764
         ],
         "y": [
          "San Bernardino County, California"
         ]
        },
        {
         "marker": {
          "color": "red",
          "line": {
           "color": "rgb(248, 248, 249)",
           "width": 1
          }
         },
         "orientation": "h",
         "type": "bar",
         "x": [
          0.10780780819498183
         ],
         "y": [
          "Broward County, Florida"
         ]
        },
        {
         "marker": {
          "color": "red",
          "line": {
           "color": "rgb(248, 248, 249)",
           "width": 1
          }
         },
         "orientation": "h",
         "type": "bar",
         "x": [
          0.10742919910532359
         ],
         "y": [
          "Hillsborough County, Florida"
         ]
        },
        {
         "marker": {
          "color": "red",
          "line": {
           "color": "rgb(248, 248, 249)",
           "width": 1
          }
         },
         "orientation": "h",
         "type": "bar",
         "x": [
          0.03009442213417953
         ],
         "y": [
          "Cuyahoga County, Ohio"
         ]
        },
        {
         "marker": {
          "color": "red",
          "line": {
           "color": "rgb(248, 248, 249)",
           "width": 1
          }
         },
         "orientation": "h",
         "type": "bar",
         "x": [
          0.13892808617830796
         ],
         "y": [
          "Sacramento County, California"
         ]
        }
       ],
       "layout": {
        "annotations": [
         {
          "align": "right",
          "font": {
           "color": "rgb(67, 67, 67)",
           "family": "Arial",
           "size": 14
          },
          "showarrow": false,
          "text": "Los Angeles County, California",
          "x": 0.14,
          "xanchor": "right",
          "xref": "paper",
          "y": "Los Angeles County, California",
          "yref": "y"
         },
         {
          "font": {
           "color": "rgb(20,20,20)",
           "family": "Arial",
           "size": 14
          },
          "showarrow": false,
          "text": "0.39091443885221255%",
          "x": 0.19545721942610628,
          "xref": "x",
          "y": "Los Angeles County, California",
          "yref": "y"
         },
         {
          "font": {
           "color": "rgb(248, 248, 255)",
           "family": "Arial",
           "size": 14
          },
          "showarrow": false,
          "text": "0.09527084279058834",
          "x": 0.43854986024750675,
          "xref": "x",
          "y": "Los Angeles County, California",
          "yref": "y"
         },
         {
          "font": {
           "color": "rgb(248, 248, 255)",
           "family": "Arial",
           "size": 14
          },
          "showarrow": false,
          "text": "0.17989830839816237",
          "x": 0.5761344358418821,
          "xref": "x",
          "y": "Los Angeles County, California",
          "yref": "y"
         },
         {
          "font": {
           "color": "rgb(248, 248, 255)",
           "family": "Arial",
           "size": 14
          },
          "showarrow": false,
          "text": "0.3339164099590367",
          "x": 0.8330417950204816,
          "xref": "x",
          "y": "Los Angeles County, California",
          "yref": "y"
         },
         {
          "align": "right",
          "font": {
           "color": "rgb(67, 67, 67)",
           "family": "Arial",
           "size": 14
          },
          "showarrow": false,
          "text": "Maricopa County, Arizona",
          "x": 0.14,
          "xanchor": "right",
          "xref": "paper",
          "y": "Maricopa County, Arizona",
          "yref": "y"
         },
         {
          "font": {
           "color": "rgb(20,20,20)",
           "family": "Arial",
           "size": 14
          },
          "showarrow": false,
          "text": "0.7134063698499736%",
          "x": 0.3567031849249868,
          "xref": "x",
          "y": "Maricopa County, Arizona",
          "yref": "y"
         },
         {
          "font": {
           "color": "rgb(248, 248, 255)",
           "family": "Arial",
           "size": 14
          },
          "showarrow": false,
          "text": "0.07023980376896903",
          "x": 0.7485262717344582,
          "xref": "x",
          "y": "Maricopa County, Arizona",
          "yref": "y"
         },
         {
          "font": {
           "color": "rgb(248, 248, 255)",
           "family": "Arial",
           "size": 14
          },
          "showarrow": false,
          "text": "0.05493001880655247",
          "x": 0.8111111830222189,
          "xref": "x",
          "y": "Maricopa County, Arizona",
          "yref": "y"
         },
         {
          "font": {
           "color": "rgb(248, 248, 255)",
           "family": "Arial",
           "size": 14
          },
          "showarrow": false,
          "text": "0.16142380757450486",
          "x": 0.9192880962127475,
          "xref": "x",
          "y": "Maricopa County, Arizona",
          "yref": "y"
         },
         {
          "align": "right",
          "font": {
           "color": "rgb(67, 67, 67)",
           "family": "Arial",
           "size": 14
          },
          "showarrow": false,
          "text": "Cook County, Illinois",
          "x": 0.14,
          "xanchor": "right",
          "xref": "paper",
          "y": "Cook County, Illinois",
          "yref": "y"
         },
         {
          "font": {
           "color": "rgb(20,20,20)",
           "family": "Arial",
           "size": 14
          },
          "showarrow": false,
          "text": "0.5023269726915007%",
          "x": 0.25116348634575036,
          "xref": "x",
          "y": "Cook County, Illinois",
          "yref": "y"
         },
         {
          "font": {
           "color": "rgb(248, 248, 255)",
           "family": "Arial",
           "size": 14
          },
          "showarrow": false,
          "text": "0.25819365251954346",
          "x": 0.6314237989512724,
          "xref": "x",
          "y": "Cook County, Illinois",
          "yref": "y"
         },
         {
          "font": {
           "color": "rgb(248, 248, 255)",
           "family": "Arial",
           "size": 14
          },
          "showarrow": false,
          "text": "0.08849048366130069",
          "x": 0.8047658670416945,
          "xref": "x",
          "y": "Cook County, Illinois",
          "yref": "y"
         },
         {
          "font": {
           "color": "rgb(248, 248, 255)",
           "family": "Arial",
           "size": 14
          },
          "showarrow": false,
          "text": "0.15098889112765515",
          "x": 0.9245055544361724,
          "xref": "x",
          "y": "Cook County, Illinois",
          "yref": "y"
         },
         {
          "align": "right",
          "font": {
           "color": "rgb(67, 67, 67)",
           "family": "Arial",
           "size": 14
          },
          "showarrow": false,
          "text": "Harris County, Texas",
          "x": 0.14,
          "xanchor": "right",
          "xref": "paper",
          "y": "Harris County, Texas",
          "yref": "y"
         },
         {
          "font": {
           "color": "rgb(20,20,20)",
           "family": "Arial",
           "size": 14
          },
          "showarrow": false,
          "text": "0.44432540824280353%",
          "x": 0.22216270412140177,
          "xref": "x",
          "y": "Harris County, Texas",
          "yref": "y"
         },
         {
          "font": {
           "color": "rgb(248, 248, 255)",
           "family": "Arial",
           "size": 14
          },
          "showarrow": false,
          "text": "0.23427194009666727",
          "x": 0.5614613782911372,
          "xref": "x",
          "y": "Harris County, Texas",
          "yref": "y"
         },
         {
          "font": {
           "color": "rgb(248, 248, 255)",
           "family": "Arial",
           "size": 14
          },
          "showarrow": false,
          "text": "0.09020728656519203",
          "x": 0.7237009916220668,
          "xref": "x",
          "y": "Harris County, Texas",
          "yref": "y"
         },
         {
          "font": {
           "color": "rgb(248, 248, 255)",
           "family": "Arial",
           "size": 14
          },
          "showarrow": false,
          "text": "0.23119536509533714",
          "x": 0.8844023174523314,
          "xref": "x",
          "y": "Harris County, Texas",
          "yref": "y"
         },
         {
          "align": "right",
          "font": {
           "color": "rgb(67, 67, 67)",
           "family": "Arial",
           "size": 14
          },
          "showarrow": false,
          "text": "San Diego County, California",
          "x": 0.14,
          "xanchor": "right",
          "xref": "paper",
          "y": "San Diego County, California",
          "yref": "y"
         },
         {
          "font": {
           "color": "rgb(20,20,20)",
           "family": "Arial",
           "size": 14
          },
          "showarrow": false,
          "text": "0.6002632422387278%",
          "x": 0.3001316211193639,
          "xref": "x",
          "y": "San Diego County, California",
          "yref": "y"
         },
         {
          "font": {
           "color": "rgb(248, 248, 255)",
           "family": "Arial",
           "size": 14
          },
          "showarrow": false,
          "text": "0.05726970530983339",
          "x": 0.6288980948936446,
          "xref": "x",
          "y": "San Diego County, California",
          "yref": "y"
         },
         {
          "font": {
           "color": "rgb(248, 248, 255)",
           "family": "Arial",
           "size": 14
          },
          "showarrow": false,
          "text": "0.1509735772716313",
          "x": 0.7330197361843769,
          "xref": "x",
          "y": "San Diego County, California",
          "yref": "y"
         },
         {
          "font": {
           "color": "rgb(248, 248, 255)",
           "family": "Arial",
           "size": 14
          },
          "showarrow": false,
          "text": "0.19149347517980747",
          "x": 0.9042532624100963,
          "xref": "x",
          "y": "San Diego County, California",
          "yref": "y"
         },
         {
          "align": "right",
          "font": {
           "color": "rgb(67, 67, 67)",
           "family": "Arial",
           "size": 14
          },
          "showarrow": false,
          "text": "Orange County, California",
          "x": 0.14,
          "xanchor": "right",
          "xref": "paper",
          "y": "Orange County, California",
          "yref": "y"
         },
         {
          "font": {
           "color": "rgb(20,20,20)",
           "family": "Arial",
           "size": 14
          },
          "showarrow": false,
          "text": "0.5137538250463982%",
          "x": 0.2568769125231991,
          "xref": "x",
          "y": "Orange County, California",
          "yref": "y"
         },
         {
          "font": {
           "color": "rgb(248, 248, 255)",
           "family": "Arial",
           "size": 14
          },
          "showarrow": false,
          "text": "0.019997392710210882",
          "x": 0.5237525214015036,
          "xref": "x",
          "y": "Orange County, California",
          "yref": "y"
         },
         {
          "font": {
           "color": "rgb(248, 248, 255)",
           "family": "Arial",
           "size": 14
          },
          "showarrow": false,
          "text": "0.2625165694751734",
          "x": 0.6650095024941958,
          "xref": "x",
          "y": "Orange County, California",
          "yref": "y"
         },
         {
          "font": {
           "color": "rgb(248, 248, 255)",
           "family": "Arial",
           "size": 14
          },
          "showarrow": false,
          "text": "0.2037322127682175",
          "x": 0.8981338936158912,
          "xref": "x",
          "y": "Orange County, California",
          "yref": "y"
         },
         {
          "align": "right",
          "font": {
           "color": "rgb(67, 67, 67)",
           "family": "Arial",
           "size": 14
          },
          "showarrow": false,
          "text": "King County, Washington",
          "x": 0.14,
          "xanchor": "right",
          "xref": "paper",
          "y": "King County, Washington",
          "yref": "y"
         },
         {
          "font": {
           "color": "rgb(20,20,20)",
           "family": "Arial",
           "size": 14
          },
          "showarrow": false,
          "text": "0.6381776464826273%",
          "x": 0.31908882324131366,
          "xref": "x",
          "y": "King County, Washington",
          "yref": "y"
         },
         {
          "font": {
           "color": "rgb(248, 248, 255)",
           "family": "Arial",
           "size": 14
          },
          "showarrow": false,
          "text": "0.07593039396398786",
          "x": 0.6761428434646213,
          "xref": "x",
          "y": "King County, Washington",
          "yref": "y"
         },
         {
          "font": {
           "color": "rgb(248, 248, 255)",
           "family": "Arial",
           "size": 14
          },
          "showarrow": false,
          "text": "0.22682418074349303",
          "x": 0.8275201308183616,
          "xref": "x",
          "y": "King County, Washington",
          "yref": "y"
         },
         {
          "font": {
           "color": "rgb(248, 248, 255)",
           "family": "Arial",
           "size": 14
          },
          "showarrow": false,
          "text": "0.05906777880989179",
          "x": 0.970466110595054,
          "xref": "x",
          "y": "King County, Washington",
          "yref": "y"
         },
         {
          "align": "right",
          "font": {
           "color": "rgb(67, 67, 67)",
           "family": "Arial",
           "size": 14
          },
          "showarrow": false,
          "text": "Middlesex County, Massachusetts",
          "x": 0.14,
          "xanchor": "right",
          "xref": "paper",
          "y": "Middlesex County, Massachusetts",
          "yref": "y"
         },
         {
          "font": {
           "color": "rgb(20,20,20)",
           "family": "Arial",
           "size": 14
          },
          "showarrow": false,
          "text": "0.7450358070191535%",
          "x": 0.37251790350957675,
          "xref": "x",
          "y": "Middlesex County, Massachusetts",
          "yref": "y"
         },
         {
          "font": {
           "color": "rgb(248, 248, 255)",
           "family": "Arial",
           "size": 14
          },
          "showarrow": false,
          "text": "0.05670588818351625",
          "x": 0.7733887511109117,
          "xref": "x",
          "y": "Middlesex County, Massachusetts",
          "yref": "y"
         },
         {
          "font": {
           "color": "rgb(248, 248, 255)",
           "family": "Arial",
           "size": 14
          },
          "showarrow": false,
          "text": "0.1409523401308515",
          "x": 0.8722178652680955,
          "xref": "x",
          "y": "Middlesex County, Massachusetts",
          "yref": "y"
         },
         {
          "font": {
           "color": "rgb(248, 248, 255)",
           "family": "Arial",
           "size": 14
          },
          "showarrow": false,
          "text": "0.0573059646664787",
          "x": 0.9713470176667607,
          "xref": "x",
          "y": "Middlesex County, Massachusetts",
          "yref": "y"
         },
         {
          "align": "right",
          "font": {
           "color": "rgb(67, 67, 67)",
           "family": "Arial",
           "size": 14
          },
          "showarrow": false,
          "text": "Tarrant County, Texas",
          "x": 0.14,
          "xanchor": "right",
          "xref": "paper",
          "y": "Tarrant County, Texas",
          "yref": "y"
         },
         {
          "font": {
           "color": "rgb(20,20,20)",
           "family": "Arial",
           "size": 14
          },
          "showarrow": false,
          "text": "0.5831546825487214%",
          "x": 0.2915773412743607,
          "xref": "x",
          "y": "Tarrant County, Texas",
          "yref": "y"
         },
         {
          "font": {
           "color": "rgb(248, 248, 255)",
           "family": "Arial",
           "size": 14
          },
          "showarrow": false,
          "text": "0.2047377071511676",
          "x": 0.6855235361243052,
          "xref": "x",
          "y": "Tarrant County, Texas",
          "yref": "y"
         },
         {
          "font": {
           "color": "rgb(248, 248, 255)",
           "family": "Arial",
           "size": 14
          },
          "showarrow": false,
          "text": "0.07226256752441375",
          "x": 0.8240236734620958,
          "xref": "x",
          "y": "Tarrant County, Texas",
          "yref": "y"
         },
         {
          "font": {
           "color": "rgb(248, 248, 255)",
           "family": "Arial",
           "size": 14
          },
          "showarrow": false,
          "text": "0.13984504277569723",
          "x": 0.9300774786121513,
          "xref": "x",
          "y": "Tarrant County, Texas",
          "yref": "y"
         },
         {
          "align": "right",
          "font": {
           "color": "rgb(67, 67, 67)",
           "family": "Arial",
           "size": 14
          },
          "showarrow": false,
          "text": "Kings County, New York",
          "x": 0.14,
          "xanchor": "right",
          "xref": "paper",
          "y": "Kings County, New York",
          "yref": "y"
         },
         {
          "font": {
           "color": "rgb(20,20,20)",
           "family": "Arial",
           "size": 14
          },
          "showarrow": false,
          "text": "0.4153826276199282%",
          "x": 0.2076913138099641,
          "xref": "x",
          "y": "Kings County, New York",
          "yref": "y"
         },
         {
          "font": {
           "color": "rgb(248, 248, 255)",
           "family": "Arial",
           "size": 14
          },
          "showarrow": false,
          "text": "0.31172653824257374",
          "x": 0.5712458967412151,
          "xref": "x",
          "y": "Kings County, New York",
          "yref": "y"
         },
         {
          "font": {
           "color": "rgb(248, 248, 255)",
           "family": "Arial",
           "size": 14
          },
          "showarrow": false,
          "text": "0.15087879387408193",
          "x": 0.8025485627995429,
          "xref": "x",
          "y": "Kings County, New York",
          "yref": "y"
         },
         {
          "font": {
           "color": "rgb(248, 248, 255)",
           "family": "Arial",
           "size": 14
          },
          "showarrow": false,
          "text": "0.1220120402634161",
          "x": 0.9389939798682919,
          "xref": "x",
          "y": "Kings County, New York",
          "yref": "y"
         },
         {
          "align": "right",
          "font": {
           "color": "rgb(67, 67, 67)",
           "family": "Arial",
           "size": 14
          },
          "showarrow": false,
          "text": "Suffolk County, New York",
          "x": 0.14,
          "xanchor": "right",
          "xref": "paper",
          "y": "Suffolk County, New York",
          "yref": "y"
         },
         {
          "font": {
           "color": "rgb(20,20,20)",
           "family": "Arial",
           "size": 14
          },
          "showarrow": false,
          "text": "0.7470975309931466%",
          "x": 0.3735487654965733,
          "xref": "x",
          "y": "Suffolk County, New York",
          "yref": "y"
         },
         {
          "font": {
           "color": "rgb(248, 248, 255)",
           "family": "Arial",
           "size": 14
          },
          "showarrow": false,
          "text": "0.08348154581171623",
          "x": 0.7888383038990047,
          "xref": "x",
          "y": "Suffolk County, New York",
          "yref": "y"
         },
         {
          "font": {
           "color": "rgb(248, 248, 255)",
           "family": "Arial",
           "size": 14
          },
          "showarrow": false,
          "text": "0.04804567695547344",
          "x": 0.8546019152825994,
          "xref": "x",
          "y": "Suffolk County, New York",
          "yref": "y"
         },
         {
          "font": {
           "color": "rgb(248, 248, 255)",
           "family": "Arial",
           "size": 14
          },
          "showarrow": false,
          "text": "0.12137524623966378",
          "x": 0.9393123768801681,
          "xref": "x",
          "y": "Suffolk County, New York",
          "yref": "y"
         },
         {
          "align": "right",
          "font": {
           "color": "rgb(67, 67, 67)",
           "family": "Arial",
           "size": 14
          },
          "showarrow": false,
          "text": "Clark County, Nevada",
          "x": 0.14,
          "xanchor": "right",
          "xref": "paper",
          "y": "Clark County, Nevada",
          "yref": "y"
         },
         {
          "font": {
           "color": "rgb(20,20,20)",
           "family": "Arial",
           "size": 14
          },
          "showarrow": false,
          "text": "0.5380287222368385%",
          "x": 0.26901436111841925,
          "xref": "x",
          "y": "Clark County, Nevada",
          "yref": "y"
         },
         {
          "font": {
           "color": "rgb(248, 248, 255)",
           "family": "Arial",
           "size": 14
          },
          "showarrow": false,
          "text": "0.15176021500651912",
          "x": 0.6139088297400981,
          "xref": "x",
          "y": "Clark County, Nevada",
          "yref": "y"
         },
         {
          "font": {
           "color": "rgb(248, 248, 255)",
           "family": "Arial",
           "size": 14
          },
          "showarrow": false,
          "text": "0.12581025791147868",
          "x": 0.752694066199097,
          "xref": "x",
          "y": "Clark County, Nevada",
          "yref": "y"
         },
         {
          "font": {
           "color": "rgb(248, 248, 255)",
           "family": "Arial",
           "size": 14
          },
          "showarrow": false,
          "text": "0.18440080484516366",
          "x": 0.9077995975774182,
          "xref": "x",
          "y": "Clark County, Nevada",
          "yref": "y"
         },
         {
          "align": "right",
          "font": {
           "color": "rgb(67, 67, 67)",
           "family": "Arial",
           "size": 14
          },
          "showarrow": false,
          "text": "Riverside County, California",
          "x": 0.14,
          "xanchor": "right",
          "xref": "paper",
          "y": "Riverside County, California",
          "yref": "y"
         },
         {
          "font": {
           "color": "rgb(20,20,20)",
           "family": "Arial",
           "size": 14
          },
          "showarrow": false,
          "text": "0.5078200949714117%",
          "x": 0.25391004748570584,
          "xref": "x",
          "y": "Riverside County, California",
          "yref": "y"
         },
         {
          "font": {
           "color": "rgb(248, 248, 255)",
           "family": "Arial",
           "size": 14
          },
          "showarrow": false,
          "text": "0.07981117928786743",
          "x": 0.5477256846153454,
          "xref": "x",
          "y": "Riverside County, California",
          "yref": "y"
         },
         {
          "font": {
           "color": "rgb(248, 248, 255)",
           "family": "Arial",
           "size": 14
          },
          "showarrow": false,
          "text": "0.08734258565023793",
          "x": 0.631302567084398,
          "xref": "x",
          "y": "Riverside County, California",
          "yref": "y"
         },
         {
          "font": {
           "color": "rgb(248, 248, 255)",
           "family": "Arial",
           "size": 14
          },
          "showarrow": false,
          "text": "0.325026140090483",
          "x": 0.8374869299547585,
          "xref": "x",
          "y": "Riverside County, California",
          "yref": "y"
         },
         {
          "align": "right",
          "font": {
           "color": "rgb(67, 67, 67)",
           "family": "Arial",
           "size": 14
          },
          "showarrow": false,
          "text": "Allegheny County, Pennsylvania",
          "x": 0.14,
          "xanchor": "right",
          "xref": "paper",
          "y": "Allegheny County, Pennsylvania",
          "yref": "y"
         },
         {
          "font": {
           "color": "rgb(20,20,20)",
           "family": "Arial",
           "size": 14
          },
          "showarrow": false,
          "text": "0.8001997283964397%",
          "x": 0.40009986419821986,
          "xref": "x",
          "y": "Allegheny County, Pennsylvania",
          "yref": "y"
         },
         {
          "font": {
           "color": "rgb(248, 248, 255)",
           "family": "Arial",
           "size": 14
          },
          "showarrow": false,
          "text": "0.13840450665733134",
          "x": 0.8694019817251054,
          "xref": "x",
          "y": "Allegheny County, Pennsylvania",
          "yref": "y"
         },
         {
          "font": {
           "color": "rgb(248, 248, 255)",
           "family": "Arial",
           "size": 14
          },
          "showarrow": false,
          "text": "0.04950169371709597",
          "x": 0.9633550819123191,
          "xref": "x",
          "y": "Allegheny County, Pennsylvania",
          "yref": "y"
         },
         {
          "font": {
           "color": "rgb(248, 248, 255)",
           "family": "Arial",
           "size": 14
          },
          "showarrow": false,
          "text": "0.01189407122913295",
          "x": 0.9940529643854336,
          "xref": "x",
          "y": "Allegheny County, Pennsylvania",
          "yref": "y"
         },
         {
          "align": "right",
          "font": {
           "color": "rgb(67, 67, 67)",
           "family": "Arial",
           "size": 14
          },
          "showarrow": false,
          "text": "Dallas County, Texas",
          "x": 0.14,
          "xanchor": "right",
          "xref": "paper",
          "y": "Dallas County, Texas",
          "yref": "y"
         },
         {
          "font": {
           "color": "rgb(20,20,20)",
           "family": "Arial",
           "size": 14
          },
          "showarrow": false,
          "text": "0.4280574273474586%",
          "x": 0.2140287136737293,
          "xref": "x",
          "y": "Dallas County, Texas",
          "yref": "y"
         },
         {
          "font": {
           "color": "rgb(248, 248, 255)",
           "family": "Arial",
           "size": 14
          },
          "showarrow": false,
          "text": "0.2659177955308556",
          "x": 0.5610163251128863,
          "xref": "x",
          "y": "Dallas County, Texas",
          "yref": "y"
         },
         {
          "font": {
           "color": "rgb(248, 248, 255)",
           "family": "Arial",
           "size": 14
          },
          "showarrow": false,
          "text": "0.08480907722588862",
          "x": 0.7363797614912586,
          "xref": "x",
          "y": "Dallas County, Texas",
          "yref": "y"
         },
         {
          "font": {
           "color": "rgb(248, 248, 255)",
           "family": "Arial",
           "size": 14
          },
          "showarrow": false,
          "text": "0.22121569989579715",
          "x": 0.8893921500521014,
          "xref": "x",
          "y": "Dallas County, Texas",
          "yref": "y"
         },
         {
          "align": "right",
          "font": {
           "color": "rgb(67, 67, 67)",
           "family": "Arial",
           "size": 14
          },
          "showarrow": false,
          "text": "Bexar County, Texas",
          "x": 0.14,
          "xanchor": "right",
          "xref": "paper",
          "y": "Bexar County, Texas",
          "yref": "y"
         },
         {
          "font": {
           "color": "rgb(20,20,20)",
           "family": "Arial",
           "size": 14
          },
          "showarrow": false,
          "text": "0.6307977622028461%",
          "x": 0.31539888110142306,
          "xref": "x",
          "y": "Bexar County, Texas",
          "yref": "y"
         },
         {
          "font": {
           "color": "rgb(248, 248, 255)",
           "family": "Arial",
           "size": 14
          },
          "showarrow": false,
          "text": "0.1106326913989387",
          "x": 0.6861141079023154,
          "xref": "x",
          "y": "Bexar County, Texas",
          "yref": "y"
         },
         {
          "font": {
           "color": "rgb(248, 248, 255)",
           "family": "Arial",
           "size": 14
          },
          "showarrow": false,
          "text": "0.04710087027731045",
          "x": 0.76498088874044,
          "xref": "x",
          "y": "Bexar County, Texas",
          "yref": "y"
         },
         {
          "font": {
           "color": "rgb(248, 248, 255)",
           "family": "Arial",
           "size": 14
          },
          "showarrow": false,
          "text": "0.2114686761209047",
          "x": 0.8942656619395477,
          "xref": "x",
          "y": "Bexar County, Texas",
          "yref": "y"
         },
         {
          "align": "right",
          "font": {
           "color": "rgb(67, 67, 67)",
           "family": "Arial",
           "size": 14
          },
          "showarrow": false,
          "text": "Oakland County, Michigan",
          "x": 0.14,
          "xanchor": "right",
          "xref": "paper",
          "y": "Oakland County, Michigan",
          "yref": "y"
         },
         {
          "font": {
           "color": "rgb(20,20,20)",
           "family": "Arial",
           "size": 14
          },
          "showarrow": false,
          "text": "0.749098550637136%",
          "x": 0.374549275318568,
          "xref": "x",
          "y": "Oakland County, Michigan",
          "yref": "y"
         },
         {
          "font": {
           "color": "rgb(248, 248, 255)",
           "family": "Arial",
           "size": 14
          },
          "showarrow": false,
          "text": "0.14318621679731394",
          "x": 0.820691659035793,
          "xref": "x",
          "y": "Oakland County, Michigan",
          "yref": "y"
         },
         {
          "font": {
           "color": "rgb(248, 248, 255)",
           "family": "Arial",
           "size": 14
          },
          "showarrow": false,
          "text": "0.08886529746990417",
          "x": 0.9367174161694021,
          "xref": "x",
          "y": "Oakland County, Michigan",
          "yref": "y"
         },
         {
          "font": {
           "color": "rgb(248, 248, 255)",
           "family": "Arial",
           "size": 14
          },
          "showarrow": false,
          "text": "0.018849935095645875",
          "x": 0.990575032452177,
          "xref": "x",
          "y": "Oakland County, Michigan",
          "yref": "y"
         },
         {
          "align": "right",
          "font": {
           "color": "rgb(67, 67, 67)",
           "family": "Arial",
           "size": 14
          },
          "showarrow": false,
          "text": "Wayne County, Michigan",
          "x": 0.14,
          "xanchor": "right",
          "xref": "paper",
          "y": "Wayne County, Michigan",
          "yref": "y"
         },
         {
          "font": {
           "color": "rgb(20,20,20)",
           "family": "Arial",
           "size": 14
          },
          "showarrow": false,
          "text": "0.5267979357503798%",
          "x": 0.2633989678751899,
          "xref": "x",
          "y": "Wayne County, Michigan",
          "yref": "y"
         },
         {
          "font": {
           "color": "rgb(248, 248, 255)",
           "family": "Arial",
           "size": 14
          },
          "showarrow": false,
          "text": "0.40281043586230775",
          "x": 0.7282031536815337,
          "xref": "x",
          "y": "Wayne County, Michigan",
          "yref": "y"
         },
         {
          "font": {
           "color": "rgb(248, 248, 255)",
           "family": "Arial",
           "size": 14
          },
          "showarrow": false,
          "text": "0.038770046293394464",
          "x": 0.9489933947593847,
          "xref": "x",
          "y": "Wayne County, Michigan",
          "yref": "y"
         },
         {
          "font": {
           "color": "rgb(248, 248, 255)",
           "family": "Arial",
           "size": 14
          },
          "showarrow": false,
          "text": "0.03162158209391799",
          "x": 0.984189208953041,
          "xref": "x",
          "y": "Wayne County, Michigan",
          "yref": "y"
         },
         {
          "align": "right",
          "font": {
           "color": "rgb(67, 67, 67)",
           "family": "Arial",
           "size": 14
          },
          "showarrow": false,
          "text": "Palm Beach County, Florida",
          "x": 0.14,
          "xanchor": "right",
          "xref": "paper",
          "y": "Palm Beach County, Florida",
          "yref": "y"
         },
         {
          "font": {
           "color": "rgb(20,20,20)",
           "family": "Arial",
           "size": 14
          },
          "showarrow": false,
          "text": "0.6718344914222902%",
          "x": 0.3359172457111451,
          "xref": "x",
          "y": "Palm Beach County, Florida",
          "yref": "y"
         },
         {
          "font": {
           "color": "rgb(248, 248, 255)",
           "family": "Arial",
           "size": 14
          },
          "showarrow": false,
          "text": "0.206039335767283",
          "x": 0.7748541593059317,
          "xref": "x",
          "y": "Palm Beach County, Florida",
          "yref": "y"
         },
         {
          "font": {
           "color": "rgb(248, 248, 255)",
           "family": "Arial",
           "size": 14
          },
          "showarrow": false,
          "text": "0.03465630275193342",
          "x": 0.8952019785655398,
          "xref": "x",
          "y": "Palm Beach County, Florida",
          "yref": "y"
         },
         {
          "font": {
           "color": "rgb(248, 248, 255)",
           "family": "Arial",
           "size": 14
          },
          "showarrow": false,
          "text": "0.08746987005849331",
          "x": 0.9562650649707533,
          "xref": "x",
          "y": "Palm Beach County, Florida",
          "yref": "y"
         },
         {
          "align": "right",
          "font": {
           "color": "rgb(67, 67, 67)",
           "family": "Arial",
           "size": 14
          },
          "showarrow": false,
          "text": "Hennepin County, Minnesota",
          "x": 0.14,
          "xanchor": "right",
          "xref": "paper",
          "y": "Hennepin County, Minnesota",
          "yref": "y"
         },
         {
          "font": {
           "color": "rgb(20,20,20)",
           "family": "Arial",
           "size": 14
          },
          "showarrow": false,
          "text": "0.7255792563152451%",
          "x": 0.36278962815762256,
          "xref": "x",
          "y": "Hennepin County, Minnesota",
          "yref": "y"
         },
         {
          "font": {
           "color": "rgb(248, 248, 255)",
           "family": "Arial",
           "size": 14
          },
          "showarrow": false,
          "text": "0.14552873605156225",
          "x": 0.7983436243410262,
          "xref": "x",
          "y": "Hennepin County, Minnesota",
          "yref": "y"
         },
         {
          "font": {
           "color": "rgb(248, 248, 255)",
           "family": "Arial",
           "size": 14
          },
          "showarrow": false,
          "text": "0.08303854694421982",
          "x": 0.9126272658389173,
          "xref": "x",
          "y": "Hennepin County, Minnesota",
          "yref": "y"
         },
         {
          "font": {
           "color": "rgb(248, 248, 255)",
           "family": "Arial",
           "size": 14
          },
          "showarrow": false,
          "text": "0.04585346068897286",
          "x": 0.9770732696555137,
          "xref": "x",
          "y": "Hennepin County, Minnesota",
          "yref": "y"
         },
         {
          "align": "right",
          "font": {
           "color": "rgb(67, 67, 67)",
           "family": "Arial",
           "size": 14
          },
          "showarrow": false,
          "text": "Salt Lake County, Utah",
          "x": 0.14,
          "xanchor": "right",
          "xref": "paper",
          "y": "Salt Lake County, Utah",
          "yref": "y"
         },
         {
          "font": {
           "color": "rgb(20,20,20)",
           "family": "Arial",
           "size": 14
          },
          "showarrow": false,
          "text": "0.820591775986003%",
          "x": 0.4102958879930015,
          "xref": "x",
          "y": "Salt Lake County, Utah",
          "yref": "y"
         },
         {
          "font": {
           "color": "rgb(248, 248, 255)",
           "family": "Arial",
           "size": 14
          },
          "showarrow": false,
          "text": "0.022716100038321443",
          "x": 0.8319498260051637,
          "xref": "x",
          "y": "Salt Lake County, Utah",
          "yref": "y"
         },
         {
          "font": {
           "color": "rgb(248, 248, 255)",
           "family": "Arial",
           "size": 14
          },
          "showarrow": false,
          "text": "0.049382405425387375",
          "x": 0.8679990787370181,
          "xref": "x",
          "y": "Salt Lake County, Utah",
          "yref": "y"
         },
         {
          "font": {
           "color": "rgb(248, 248, 255)",
           "family": "Arial",
           "size": 14
          },
          "showarrow": false,
          "text": "0.10730971855028819",
          "x": 0.946345140724856,
          "xref": "x",
          "y": "Salt Lake County, Utah",
          "yref": "y"
         },
         {
          "align": "right",
          "font": {
           "color": "rgb(67, 67, 67)",
           "family": "Arial",
           "size": 14
          },
          "showarrow": false,
          "text": "New York County, New York",
          "x": 0.14,
          "xanchor": "right",
          "xref": "paper",
          "y": "New York County, New York",
          "yref": "y"
         },
         {
          "font": {
           "color": "rgb(20,20,20)",
           "family": "Arial",
           "size": 14
          },
          "showarrow": false,
          "text": "0.5624274242458426%",
          "x": 0.2812137121229213,
          "xref": "x",
          "y": "New York County, New York",
          "yref": "y"
         },
         {
          "font": {
           "color": "rgb(248, 248, 255)",
           "family": "Arial",
           "size": 14
          },
          "showarrow": false,
          "text": "0.1521924347365641",
          "x": 0.6385236416141247,
          "xref": "x",
          "y": "New York County, New York",
          "yref": "y"
         },
         {
          "font": {
           "color": "rgb(248, 248, 255)",
           "family": "Arial",
           "size": 14
          },
          "showarrow": false,
          "text": "0.14730472726114532",
          "x": 0.7882722226129794,
          "xref": "x",
          "y": "New York County, New York",
          "yref": "y"
         },
         {
          "font": {
           "color": "rgb(248, 248, 255)",
           "family": "Arial",
           "size": 14
          },
          "showarrow": false,
          "text": "0.13807541375644805",
          "x": 0.930962293121776,
          "xref": "x",
          "y": "New York County, New York",
          "yref": "y"
         },
         {
          "align": "right",
          "font": {
           "color": "rgb(67, 67, 67)",
           "family": "Arial",
           "size": 14
          },
          "showarrow": false,
          "text": "Nassau County, New York",
          "x": 0.14,
          "xanchor": "right",
          "xref": "paper",
          "y": "Nassau County, New York",
          "yref": "y"
         },
         {
          "font": {
           "color": "rgb(20,20,20)",
           "family": "Arial",
           "size": 14
          },
          "showarrow": false,
          "text": "0.6425461684891364%",
          "x": 0.3212730842445682,
          "xref": "x",
          "y": "Nassau County, New York",
          "yref": "y"
         },
         {
          "font": {
           "color": "rgb(248, 248, 255)",
           "family": "Arial",
           "size": 14
          },
          "showarrow": false,
          "text": "0.12051652410071009",
          "x": 0.7028044305394914,
          "xref": "x",
          "y": "Nassau County, New York",
          "yref": "y"
         },
         {
          "font": {
           "color": "rgb(248, 248, 255)",
           "family": "Arial",
           "size": 14
          },
          "showarrow": false,
          "text": "0.1291082230114742",
          "x": 0.8276168040955836,
          "xref": "x",
          "y": "Nassau County, New York",
          "yref": "y"
         },
         {
          "font": {
           "color": "rgb(248, 248, 255)",
           "family": "Arial",
           "size": 14
          },
          "showarrow": false,
          "text": "0.10782908439867936",
          "x": 0.9460854578006603,
          "xref": "x",
          "y": "Nassau County, New York",
          "yref": "y"
         },
         {
          "align": "right",
          "font": {
           "color": "rgb(67, 67, 67)",
           "family": "Arial",
           "size": 14
          },
          "showarrow": false,
          "text": "Franklin County, Ohio",
          "x": 0.14,
          "xanchor": "right",
          "xref": "paper",
          "y": "Franklin County, Ohio",
          "yref": "y"
         },
         {
          "font": {
           "color": "rgb(20,20,20)",
           "family": "Arial",
           "size": 14
          },
          "showarrow": false,
          "text": "0.6549269343428986%",
          "x": 0.3274634671714493,
          "xref": "x",
          "y": "Franklin County, Ohio",
          "yref": "y"
         },
         {
          "font": {
           "color": "rgb(248, 248, 255)",
           "family": "Arial",
           "size": 14
          },
          "showarrow": false,
          "text": "0.24458922495736818",
          "x": 0.7772215468215827,
          "xref": "x",
          "y": "Franklin County, Ohio",
          "yref": "y"
         },
         {
          "font": {
           "color": "rgb(248, 248, 255)",
           "family": "Arial",
           "size": 14
          },
          "showarrow": false,
          "text": "0.06043602777392482",
          "x": 0.9297341731872292,
          "xref": "x",
          "y": "Franklin County, Ohio",
          "yref": "y"
         },
         {
          "font": {
           "color": "rgb(248, 248, 255)",
           "family": "Arial",
           "size": 14
          },
          "showarrow": false,
          "text": "0.04004781292580837",
          "x": 0.9799760935370958,
          "xref": "x",
          "y": "Franklin County, Ohio",
          "yref": "y"
         },
         {
          "align": "right",
          "font": {
           "color": "rgb(67, 67, 67)",
           "family": "Arial",
           "size": 14
          },
          "showarrow": false,
          "text": "Miami-Dade County, Florida",
          "x": 0.14,
          "xanchor": "right",
          "xref": "paper",
          "y": "Miami-Dade County, Florida",
          "yref": "y"
         },
         {
          "font": {
           "color": "rgb(20,20,20)",
           "family": "Arial",
           "size": 14
          },
          "showarrow": false,
          "text": "0.5106854613896867%",
          "x": 0.25534273069484337,
          "xref": "x",
          "y": "Miami-Dade County, Florida",
          "yref": "y"
         },
         {
          "font": {
           "color": "rgb(248, 248, 255)",
           "family": "Arial",
           "size": 14
          },
          "showarrow": false,
          "text": "0.2563395661987211",
          "x": 0.6388552444890473,
          "xref": "x",
          "y": "Miami-Dade County, Florida",
          "yref": "y"
         },
         {
          "font": {
           "color": "rgb(248, 248, 255)",
           "family": "Arial",
           "size": 14
          },
          "showarrow": false,
          "text": "0.02827667616400011",
          "x": 0.7811633656704079,
          "xref": "x",
          "y": "Miami-Dade County, Florida",
          "yref": "y"
         },
         {
          "font": {
           "color": "rgb(248, 248, 255)",
           "family": "Arial",
           "size": 14
          },
          "showarrow": false,
          "text": "0.20469829624759203",
          "x": 0.897650851876204,
          "xref": "x",
          "y": "Miami-Dade County, Florida",
          "yref": "y"
         },
         {
          "align": "right",
          "font": {
           "color": "rgb(67, 67, 67)",
           "family": "Arial",
           "size": 14
          },
          "showarrow": false,
          "text": "San Bernardino County, California",
          "x": 0.14,
          "xanchor": "right",
          "xref": "paper",
          "y": "San Bernardino County, California",
          "yref": "y"
         },
         {
          "font": {
           "color": "rgb(20,20,20)",
           "family": "Arial",
           "size": 14
          },
          "showarrow": false,
          "text": "0.44202948478434223%",
          "x": 0.22101474239217112,
          "xref": "x",
          "y": "San Bernardino County, California",
          "yref": "y"
         },
         {
          "font": {
           "color": "rgb(248, 248, 255)",
           "family": "Arial",
           "size": 14
          },
          "showarrow": false,
          "text": "0.10423024878633923",
          "x": 0.49414460917751185,
          "xref": "x",
          "y": "San Bernardino County, California",
          "yref": "y"
         },
         {
          "font": {
           "color": "rgb(248, 248, 255)",
           "family": "Arial",
           "size": 14
          },
          "showarrow": false,
          "text": "0.10294768777574215",
          "x": 0.5977335774585526,
          "xref": "x",
          "y": "San Bernardino County, California",
          "yref": "y"
         },
         {
          "font": {
           "color": "rgb(248, 248, 255)",
           "family": "Arial",
           "size": 14
          },
          "showarrow": false,
          "text": "0.3507925786535764",
          "x": 0.8246037106732118,
          "xref": "x",
          "y": "San Bernardino County, California",
          "yref": "y"
         },
         {
          "align": "right",
          "font": {
           "color": "rgb(67, 67, 67)",
           "family": "Arial",
           "size": 14
          },
          "showarrow": false,
          "text": "Broward County, Florida",
          "x": 0.14,
          "xanchor": "right",
          "xref": "paper",
          "y": "Broward County, Florida",
          "yref": "y"
         },
         {
          "font": {
           "color": "rgb(20,20,20)",
           "family": "Arial",
           "size": 14
          },
          "showarrow": false,
          "text": "0.500356488542729%",
          "x": 0.2501782442713645,
          "xref": "x",
          "y": "Broward County, Florida",
          "yref": "y"
         },
         {
          "font": {
           "color": "rgb(248, 248, 255)",
           "family": "Arial",
           "size": 14
          },
          "showarrow": false,
          "text": "0.34289298510483857",
          "x": 0.6718029810951482,
          "xref": "x",
          "y": "Broward County, Florida",
          "yref": "y"
         },
         {
          "font": {
           "color": "rgb(248, 248, 255)",
           "family": "Arial",
           "size": 14
          },
          "showarrow": false,
          "text": "0.04894271815745061",
          "x": 0.8677208327262929,
          "xref": "x",
          "y": "Broward County, Florida",
          "yref": "y"
         },
         {
          "font": {
           "color": "rgb(248, 248, 255)",
           "family": "Arial",
           "size": 14
          },
          "showarrow": false,
          "text": "0.10780780819498183",
          "x": 0.9460960959025091,
          "xref": "x",
          "y": "Broward County, Florida",
          "yref": "y"
         },
         {
          "align": "right",
          "font": {
           "color": "rgb(67, 67, 67)",
           "family": "Arial",
           "size": 14
          },
          "showarrow": false,
          "text": "Hillsborough County, Florida",
          "x": 0.14,
          "xanchor": "right",
          "xref": "paper",
          "y": "Hillsborough County, Florida",
          "yref": "y"
         },
         {
          "font": {
           "color": "rgb(20,20,20)",
           "family": "Arial",
           "size": 14
          },
          "showarrow": false,
          "text": "0.6366173532710777%",
          "x": 0.31830867663553886,
          "xref": "x",
          "y": "Hillsborough County, Florida",
          "yref": "y"
         },
         {
          "font": {
           "color": "rgb(248, 248, 255)",
           "family": "Arial",
           "size": 14
          },
          "showarrow": false,
          "text": "0.19698312194280176",
          "x": 0.7351089142424786,
          "xref": "x",
          "y": "Hillsborough County, Florida",
          "yref": "y"
         },
         {
          "font": {
           "color": "rgb(248, 248, 255)",
           "family": "Arial",
           "size": 14
          },
          "showarrow": false,
          "text": "0.05897032568079698",
          "x": 0.863085638054278,
          "xref": "x",
          "y": "Hillsborough County, Florida",
          "yref": "y"
         },
         {
          "font": {
           "color": "rgb(248, 248, 255)",
           "family": "Arial",
           "size": 14
          },
          "showarrow": false,
          "text": "0.10742919910532359",
          "x": 0.9462854004473382,
          "xref": "x",
          "y": "Hillsborough County, Florida",
          "yref": "y"
         },
         {
          "align": "right",
          "font": {
           "color": "rgb(67, 67, 67)",
           "family": "Arial",
           "size": 14
          },
          "showarrow": false,
          "text": "Cuyahoga County, Ohio",
          "x": 0.14,
          "xanchor": "right",
          "xref": "paper",
          "y": "Cuyahoga County, Ohio",
          "yref": "y"
         },
         {
          "font": {
           "color": "rgb(20,20,20)",
           "family": "Arial",
           "size": 14
          },
          "showarrow": false,
          "text": "0.6202538258406233%",
          "x": 0.31012691292031164,
          "xref": "x",
          "y": "Cuyahoga County, Ohio",
          "yref": "y"
         },
         {
          "font": {
           "color": "rgb(248, 248, 255)",
           "family": "Arial",
           "size": 14
          },
          "showarrow": false,
          "text": "0.31251737869460516",
          "x": 0.7765125151879259,
          "xref": "x",
          "y": "Cuyahoga County, Ohio",
          "yref": "y"
         },
         {
          "font": {
           "color": "rgb(248, 248, 255)",
           "family": "Arial",
           "size": 14
          },
          "showarrow": false,
          "text": "0.037134373330592066",
          "x": 0.9513383912005244,
          "xref": "x",
          "y": "Cuyahoga County, Ohio",
          "yref": "y"
         },
         {
          "font": {
           "color": "rgb(248, 248, 255)",
           "family": "Arial",
           "size": 14
          },
          "showarrow": false,
          "text": "0.03009442213417953",
          "x": 0.9849527889329103,
          "xref": "x",
          "y": "Cuyahoga County, Ohio",
          "yref": "y"
         },
         {
          "align": "right",
          "font": {
           "color": "rgb(67, 67, 67)",
           "family": "Arial",
           "size": 14
          },
          "showarrow": false,
          "text": "Sacramento County, California",
          "x": 0.14,
          "xanchor": "right",
          "xref": "paper",
          "y": "Sacramento County, California",
          "yref": "y"
         },
         {
          "font": {
           "color": "rgb(20,20,20)",
           "family": "Arial",
           "size": 14
          },
          "showarrow": false,
          "text": "0.5357862310839288%",
          "x": 0.2678931155419644,
          "xref": "x",
          "y": "Sacramento County, California",
          "yref": "y"
         },
         {
          "font": {
           "color": "rgb(67, 67, 67)",
           "family": "Arial",
           "size": 14
          },
          "showarrow": false,
          "text": "White",
          "x": 0.2678931155419644,
          "xref": "x",
          "y": 1.1,
          "yref": "paper"
         },
         {
          "font": {
           "color": "rgb(248, 248, 255)",
           "family": "Arial",
           "size": 14
          },
          "showarrow": false,
          "text": "0.11438164144523837",
          "x": 0.5929770518065479,
          "xref": "x",
          "y": "Sacramento County, California",
          "yref": "y"
         },
         {
          "font": {
           "color": "rgb(67, 67, 67)",
           "family": "Arial",
           "size": 14
          },
          "showarrow": false,
          "text": "Black",
          "x": 0.5929770518065479,
          "xref": "x",
          "y": 1.1,
          "yref": "paper"
         },
         {
          "font": {
           "color": "rgb(248, 248, 255)",
           "family": "Arial",
           "size": 14
          },
          "showarrow": false,
          "text": "0.2109040412925249",
          "x": 0.7556198931754295,
          "xref": "x",
          "y": "Sacramento County, California",
          "yref": "y"
         },
         {
          "font": {
           "color": "rgb(67, 67, 67)",
           "family": "Arial",
           "size": 14
          },
          "showarrow": false,
          "text": "Asian",
          "x": 0.7556198931754295,
          "xref": "x",
          "y": 1.1,
          "yref": "paper"
         },
         {
          "font": {
           "color": "rgb(248, 248, 255)",
           "family": "Arial",
           "size": 14
          },
          "showarrow": false,
          "text": "0.13892808617830796",
          "x": 0.930535956910846,
          "xref": "x",
          "y": "Sacramento County, California",
          "yref": "y"
         },
         {
          "font": {
           "color": "rgb(67, 67, 67)",
           "family": "Arial",
           "size": 14
          },
          "showarrow": false,
          "text": "Other",
          "x": 0.930535956910846,
          "xref": "x",
          "y": 1.1,
          "yref": "paper"
         }
        ],
        "barmode": "stack",
        "height": 800,
        "margin": {
         "b": 80,
         "l": 120,
         "r": 10,
         "t": 140
        },
        "paper_bgcolor": "rgb(255, 255, 255)",
        "plot_bgcolor": "rgb(255, 255, 255)",
        "showlegend": false,
        "template": {
         "data": {
          "bar": [
           {
            "error_x": {
             "color": "#2a3f5f"
            },
            "error_y": {
             "color": "#2a3f5f"
            },
            "marker": {
             "line": {
              "color": "#E5ECF6",
              "width": 0.5
             },
             "pattern": {
              "fillmode": "overlay",
              "size": 10,
              "solidity": 0.2
             }
            },
            "type": "bar"
           }
          ],
          "barpolar": [
           {
            "marker": {
             "line": {
              "color": "#E5ECF6",
              "width": 0.5
             },
             "pattern": {
              "fillmode": "overlay",
              "size": 10,
              "solidity": 0.2
             }
            },
            "type": "barpolar"
           }
          ],
          "carpet": [
           {
            "aaxis": {
             "endlinecolor": "#2a3f5f",
             "gridcolor": "white",
             "linecolor": "white",
             "minorgridcolor": "white",
             "startlinecolor": "#2a3f5f"
            },
            "baxis": {
             "endlinecolor": "#2a3f5f",
             "gridcolor": "white",
             "linecolor": "white",
             "minorgridcolor": "white",
             "startlinecolor": "#2a3f5f"
            },
            "type": "carpet"
           }
          ],
          "choropleth": [
           {
            "colorbar": {
             "outlinewidth": 0,
             "ticks": ""
            },
            "type": "choropleth"
           }
          ],
          "contour": [
           {
            "colorbar": {
             "outlinewidth": 0,
             "ticks": ""
            },
            "colorscale": [
             [
              0,
              "#0d0887"
             ],
             [
              0.1111111111111111,
              "#46039f"
             ],
             [
              0.2222222222222222,
              "#7201a8"
             ],
             [
              0.3333333333333333,
              "#9c179e"
             ],
             [
              0.4444444444444444,
              "#bd3786"
             ],
             [
              0.5555555555555556,
              "#d8576b"
             ],
             [
              0.6666666666666666,
              "#ed7953"
             ],
             [
              0.7777777777777778,
              "#fb9f3a"
             ],
             [
              0.8888888888888888,
              "#fdca26"
             ],
             [
              1,
              "#f0f921"
             ]
            ],
            "type": "contour"
           }
          ],
          "contourcarpet": [
           {
            "colorbar": {
             "outlinewidth": 0,
             "ticks": ""
            },
            "type": "contourcarpet"
           }
          ],
          "heatmap": [
           {
            "colorbar": {
             "outlinewidth": 0,
             "ticks": ""
            },
            "colorscale": [
             [
              0,
              "#0d0887"
             ],
             [
              0.1111111111111111,
              "#46039f"
             ],
             [
              0.2222222222222222,
              "#7201a8"
             ],
             [
              0.3333333333333333,
              "#9c179e"
             ],
             [
              0.4444444444444444,
              "#bd3786"
             ],
             [
              0.5555555555555556,
              "#d8576b"
             ],
             [
              0.6666666666666666,
              "#ed7953"
             ],
             [
              0.7777777777777778,
              "#fb9f3a"
             ],
             [
              0.8888888888888888,
              "#fdca26"
             ],
             [
              1,
              "#f0f921"
             ]
            ],
            "type": "heatmap"
           }
          ],
          "heatmapgl": [
           {
            "colorbar": {
             "outlinewidth": 0,
             "ticks": ""
            },
            "colorscale": [
             [
              0,
              "#0d0887"
             ],
             [
              0.1111111111111111,
              "#46039f"
             ],
             [
              0.2222222222222222,
              "#7201a8"
             ],
             [
              0.3333333333333333,
              "#9c179e"
             ],
             [
              0.4444444444444444,
              "#bd3786"
             ],
             [
              0.5555555555555556,
              "#d8576b"
             ],
             [
              0.6666666666666666,
              "#ed7953"
             ],
             [
              0.7777777777777778,
              "#fb9f3a"
             ],
             [
              0.8888888888888888,
              "#fdca26"
             ],
             [
              1,
              "#f0f921"
             ]
            ],
            "type": "heatmapgl"
           }
          ],
          "histogram": [
           {
            "marker": {
             "pattern": {
              "fillmode": "overlay",
              "size": 10,
              "solidity": 0.2
             }
            },
            "type": "histogram"
           }
          ],
          "histogram2d": [
           {
            "colorbar": {
             "outlinewidth": 0,
             "ticks": ""
            },
            "colorscale": [
             [
              0,
              "#0d0887"
             ],
             [
              0.1111111111111111,
              "#46039f"
             ],
             [
              0.2222222222222222,
              "#7201a8"
             ],
             [
              0.3333333333333333,
              "#9c179e"
             ],
             [
              0.4444444444444444,
              "#bd3786"
             ],
             [
              0.5555555555555556,
              "#d8576b"
             ],
             [
              0.6666666666666666,
              "#ed7953"
             ],
             [
              0.7777777777777778,
              "#fb9f3a"
             ],
             [
              0.8888888888888888,
              "#fdca26"
             ],
             [
              1,
              "#f0f921"
             ]
            ],
            "type": "histogram2d"
           }
          ],
          "histogram2dcontour": [
           {
            "colorbar": {
             "outlinewidth": 0,
             "ticks": ""
            },
            "colorscale": [
             [
              0,
              "#0d0887"
             ],
             [
              0.1111111111111111,
              "#46039f"
             ],
             [
              0.2222222222222222,
              "#7201a8"
             ],
             [
              0.3333333333333333,
              "#9c179e"
             ],
             [
              0.4444444444444444,
              "#bd3786"
             ],
             [
              0.5555555555555556,
              "#d8576b"
             ],
             [
              0.6666666666666666,
              "#ed7953"
             ],
             [
              0.7777777777777778,
              "#fb9f3a"
             ],
             [
              0.8888888888888888,
              "#fdca26"
             ],
             [
              1,
              "#f0f921"
             ]
            ],
            "type": "histogram2dcontour"
           }
          ],
          "mesh3d": [
           {
            "colorbar": {
             "outlinewidth": 0,
             "ticks": ""
            },
            "type": "mesh3d"
           }
          ],
          "parcoords": [
           {
            "line": {
             "colorbar": {
              "outlinewidth": 0,
              "ticks": ""
             }
            },
            "type": "parcoords"
           }
          ],
          "pie": [
           {
            "automargin": true,
            "type": "pie"
           }
          ],
          "scatter": [
           {
            "marker": {
             "colorbar": {
              "outlinewidth": 0,
              "ticks": ""
             }
            },
            "type": "scatter"
           }
          ],
          "scatter3d": [
           {
            "line": {
             "colorbar": {
              "outlinewidth": 0,
              "ticks": ""
             }
            },
            "marker": {
             "colorbar": {
              "outlinewidth": 0,
              "ticks": ""
             }
            },
            "type": "scatter3d"
           }
          ],
          "scattercarpet": [
           {
            "marker": {
             "colorbar": {
              "outlinewidth": 0,
              "ticks": ""
             }
            },
            "type": "scattercarpet"
           }
          ],
          "scattergeo": [
           {
            "marker": {
             "colorbar": {
              "outlinewidth": 0,
              "ticks": ""
             }
            },
            "type": "scattergeo"
           }
          ],
          "scattergl": [
           {
            "marker": {
             "colorbar": {
              "outlinewidth": 0,
              "ticks": ""
             }
            },
            "type": "scattergl"
           }
          ],
          "scattermapbox": [
           {
            "marker": {
             "colorbar": {
              "outlinewidth": 0,
              "ticks": ""
             }
            },
            "type": "scattermapbox"
           }
          ],
          "scatterpolar": [
           {
            "marker": {
             "colorbar": {
              "outlinewidth": 0,
              "ticks": ""
             }
            },
            "type": "scatterpolar"
           }
          ],
          "scatterpolargl": [
           {
            "marker": {
             "colorbar": {
              "outlinewidth": 0,
              "ticks": ""
             }
            },
            "type": "scatterpolargl"
           }
          ],
          "scatterternary": [
           {
            "marker": {
             "colorbar": {
              "outlinewidth": 0,
              "ticks": ""
             }
            },
            "type": "scatterternary"
           }
          ],
          "surface": [
           {
            "colorbar": {
             "outlinewidth": 0,
             "ticks": ""
            },
            "colorscale": [
             [
              0,
              "#0d0887"
             ],
             [
              0.1111111111111111,
              "#46039f"
             ],
             [
              0.2222222222222222,
              "#7201a8"
             ],
             [
              0.3333333333333333,
              "#9c179e"
             ],
             [
              0.4444444444444444,
              "#bd3786"
             ],
             [
              0.5555555555555556,
              "#d8576b"
             ],
             [
              0.6666666666666666,
              "#ed7953"
             ],
             [
              0.7777777777777778,
              "#fb9f3a"
             ],
             [
              0.8888888888888888,
              "#fdca26"
             ],
             [
              1,
              "#f0f921"
             ]
            ],
            "type": "surface"
           }
          ],
          "table": [
           {
            "cells": {
             "fill": {
              "color": "#EBF0F8"
             },
             "line": {
              "color": "white"
             }
            },
            "header": {
             "fill": {
              "color": "#C8D4E3"
             },
             "line": {
              "color": "white"
             }
            },
            "type": "table"
           }
          ]
         },
         "layout": {
          "annotationdefaults": {
           "arrowcolor": "#2a3f5f",
           "arrowhead": 0,
           "arrowwidth": 1
          },
          "autotypenumbers": "strict",
          "coloraxis": {
           "colorbar": {
            "outlinewidth": 0,
            "ticks": ""
           }
          },
          "colorscale": {
           "diverging": [
            [
             0,
             "#8e0152"
            ],
            [
             0.1,
             "#c51b7d"
            ],
            [
             0.2,
             "#de77ae"
            ],
            [
             0.3,
             "#f1b6da"
            ],
            [
             0.4,
             "#fde0ef"
            ],
            [
             0.5,
             "#f7f7f7"
            ],
            [
             0.6,
             "#e6f5d0"
            ],
            [
             0.7,
             "#b8e186"
            ],
            [
             0.8,
             "#7fbc41"
            ],
            [
             0.9,
             "#4d9221"
            ],
            [
             1,
             "#276419"
            ]
           ],
           "sequential": [
            [
             0,
             "#0d0887"
            ],
            [
             0.1111111111111111,
             "#46039f"
            ],
            [
             0.2222222222222222,
             "#7201a8"
            ],
            [
             0.3333333333333333,
             "#9c179e"
            ],
            [
             0.4444444444444444,
             "#bd3786"
            ],
            [
             0.5555555555555556,
             "#d8576b"
            ],
            [
             0.6666666666666666,
             "#ed7953"
            ],
            [
             0.7777777777777778,
             "#fb9f3a"
            ],
            [
             0.8888888888888888,
             "#fdca26"
            ],
            [
             1,
             "#f0f921"
            ]
           ],
           "sequentialminus": [
            [
             0,
             "#0d0887"
            ],
            [
             0.1111111111111111,
             "#46039f"
            ],
            [
             0.2222222222222222,
             "#7201a8"
            ],
            [
             0.3333333333333333,
             "#9c179e"
            ],
            [
             0.4444444444444444,
             "#bd3786"
            ],
            [
             0.5555555555555556,
             "#d8576b"
            ],
            [
             0.6666666666666666,
             "#ed7953"
            ],
            [
             0.7777777777777778,
             "#fb9f3a"
            ],
            [
             0.8888888888888888,
             "#fdca26"
            ],
            [
             1,
             "#f0f921"
            ]
           ]
          },
          "colorway": [
           "#636efa",
           "#EF553B",
           "#00cc96",
           "#ab63fa",
           "#FFA15A",
           "#19d3f3",
           "#FF6692",
           "#B6E880",
           "#FF97FF",
           "#FECB52"
          ],
          "font": {
           "color": "#2a3f5f"
          },
          "geo": {
           "bgcolor": "white",
           "lakecolor": "white",
           "landcolor": "#E5ECF6",
           "showlakes": true,
           "showland": true,
           "subunitcolor": "white"
          },
          "hoverlabel": {
           "align": "left"
          },
          "hovermode": "closest",
          "mapbox": {
           "style": "light"
          },
          "paper_bgcolor": "white",
          "plot_bgcolor": "#E5ECF6",
          "polar": {
           "angularaxis": {
            "gridcolor": "white",
            "linecolor": "white",
            "ticks": ""
           },
           "bgcolor": "#E5ECF6",
           "radialaxis": {
            "gridcolor": "white",
            "linecolor": "white",
            "ticks": ""
           }
          },
          "scene": {
           "xaxis": {
            "backgroundcolor": "#E5ECF6",
            "gridcolor": "white",
            "gridwidth": 2,
            "linecolor": "white",
            "showbackground": true,
            "ticks": "",
            "zerolinecolor": "white"
           },
           "yaxis": {
            "backgroundcolor": "#E5ECF6",
            "gridcolor": "white",
            "gridwidth": 2,
            "linecolor": "white",
            "showbackground": true,
            "ticks": "",
            "zerolinecolor": "white"
           },
           "zaxis": {
            "backgroundcolor": "#E5ECF6",
            "gridcolor": "white",
            "gridwidth": 2,
            "linecolor": "white",
            "showbackground": true,
            "ticks": "",
            "zerolinecolor": "white"
           }
          },
          "shapedefaults": {
           "line": {
            "color": "#2a3f5f"
           }
          },
          "ternary": {
           "aaxis": {
            "gridcolor": "white",
            "linecolor": "white",
            "ticks": ""
           },
           "baxis": {
            "gridcolor": "white",
            "linecolor": "white",
            "ticks": ""
           },
           "bgcolor": "#E5ECF6",
           "caxis": {
            "gridcolor": "white",
            "linecolor": "white",
            "ticks": ""
           }
          },
          "title": {
           "x": 0.05
          },
          "xaxis": {
           "automargin": true,
           "gridcolor": "white",
           "linecolor": "white",
           "ticks": "",
           "title": {
            "standoff": 15
           },
           "zerolinecolor": "white",
           "zerolinewidth": 2
          },
          "yaxis": {
           "automargin": true,
           "gridcolor": "white",
           "linecolor": "white",
           "ticks": "",
           "title": {
            "standoff": 15
           },
           "zerolinecolor": "white",
           "zerolinewidth": 2
          }
         }
        },
        "xaxis": {
         "domain": [
          0.15,
          1
         ],
         "showgrid": false,
         "showline": false,
         "showticklabels": false,
         "zeroline": false
        },
        "yaxis": {
         "showgrid": false,
         "showline": false,
         "showticklabels": false,
         "zeroline": false
        }
       }
      },
      "text/html": [
       "<div>                            <div id=\"3bfa9bf3-465b-4feb-b028-bd5c740c24de\" class=\"plotly-graph-div\" style=\"height:800px; width:100%;\"></div>            <script type=\"text/javascript\">                require([\"plotly\"], function(Plotly) {                    window.PLOTLYENV=window.PLOTLYENV || {};                                    if (document.getElementById(\"3bfa9bf3-465b-4feb-b028-bd5c740c24de\")) {                    Plotly.newPlot(                        \"3bfa9bf3-465b-4feb-b028-bd5c740c24de\",                        [{\"marker\":{\"color\":\"aquamarine\",\"line\":{\"color\":\"rgb(248, 248, 249)\",\"width\":1}},\"orientation\":\"h\",\"type\":\"bar\",\"x\":[0.39091443885221255],\"y\":[\"Los Angeles County, California\"]},{\"marker\":{\"color\":\"aquamarine\",\"line\":{\"color\":\"rgb(248, 248, 249)\",\"width\":1}},\"orientation\":\"h\",\"type\":\"bar\",\"x\":[0.7134063698499736],\"y\":[\"Maricopa County, Arizona\"]},{\"marker\":{\"color\":\"aquamarine\",\"line\":{\"color\":\"rgb(248, 248, 249)\",\"width\":1}},\"orientation\":\"h\",\"type\":\"bar\",\"x\":[0.5023269726915007],\"y\":[\"Cook County, Illinois\"]},{\"marker\":{\"color\":\"aquamarine\",\"line\":{\"color\":\"rgb(248, 248, 249)\",\"width\":1}},\"orientation\":\"h\",\"type\":\"bar\",\"x\":[0.44432540824280353],\"y\":[\"Harris County, Texas\"]},{\"marker\":{\"color\":\"aquamarine\",\"line\":{\"color\":\"rgb(248, 248, 249)\",\"width\":1}},\"orientation\":\"h\",\"type\":\"bar\",\"x\":[0.6002632422387278],\"y\":[\"San Diego County, California\"]},{\"marker\":{\"color\":\"aquamarine\",\"line\":{\"color\":\"rgb(248, 248, 249)\",\"width\":1}},\"orientation\":\"h\",\"type\":\"bar\",\"x\":[0.5137538250463982],\"y\":[\"Orange County, California\"]},{\"marker\":{\"color\":\"aquamarine\",\"line\":{\"color\":\"rgb(248, 248, 249)\",\"width\":1}},\"orientation\":\"h\",\"type\":\"bar\",\"x\":[0.6381776464826273],\"y\":[\"King County, Washington\"]},{\"marker\":{\"color\":\"aquamarine\",\"line\":{\"color\":\"rgb(248, 248, 249)\",\"width\":1}},\"orientation\":\"h\",\"type\":\"bar\",\"x\":[0.7450358070191535],\"y\":[\"Middlesex County, Massachusetts\"]},{\"marker\":{\"color\":\"aquamarine\",\"line\":{\"color\":\"rgb(248, 248, 249)\",\"width\":1}},\"orientation\":\"h\",\"type\":\"bar\",\"x\":[0.5831546825487214],\"y\":[\"Tarrant County, Texas\"]},{\"marker\":{\"color\":\"aquamarine\",\"line\":{\"color\":\"rgb(248, 248, 249)\",\"width\":1}},\"orientation\":\"h\",\"type\":\"bar\",\"x\":[0.4153826276199282],\"y\":[\"Kings County, New York\"]},{\"marker\":{\"color\":\"aquamarine\",\"line\":{\"color\":\"rgb(248, 248, 249)\",\"width\":1}},\"orientation\":\"h\",\"type\":\"bar\",\"x\":[0.7470975309931466],\"y\":[\"Suffolk County, New York\"]},{\"marker\":{\"color\":\"aquamarine\",\"line\":{\"color\":\"rgb(248, 248, 249)\",\"width\":1}},\"orientation\":\"h\",\"type\":\"bar\",\"x\":[0.5380287222368385],\"y\":[\"Clark County, Nevada\"]},{\"marker\":{\"color\":\"aquamarine\",\"line\":{\"color\":\"rgb(248, 248, 249)\",\"width\":1}},\"orientation\":\"h\",\"type\":\"bar\",\"x\":[0.5078200949714117],\"y\":[\"Riverside County, California\"]},{\"marker\":{\"color\":\"aquamarine\",\"line\":{\"color\":\"rgb(248, 248, 249)\",\"width\":1}},\"orientation\":\"h\",\"type\":\"bar\",\"x\":[0.8001997283964397],\"y\":[\"Allegheny County, Pennsylvania\"]},{\"marker\":{\"color\":\"aquamarine\",\"line\":{\"color\":\"rgb(248, 248, 249)\",\"width\":1}},\"orientation\":\"h\",\"type\":\"bar\",\"x\":[0.4280574273474586],\"y\":[\"Dallas County, Texas\"]},{\"marker\":{\"color\":\"aquamarine\",\"line\":{\"color\":\"rgb(248, 248, 249)\",\"width\":1}},\"orientation\":\"h\",\"type\":\"bar\",\"x\":[0.6307977622028461],\"y\":[\"Bexar County, Texas\"]},{\"marker\":{\"color\":\"aquamarine\",\"line\":{\"color\":\"rgb(248, 248, 249)\",\"width\":1}},\"orientation\":\"h\",\"type\":\"bar\",\"x\":[0.749098550637136],\"y\":[\"Oakland County, Michigan\"]},{\"marker\":{\"color\":\"aquamarine\",\"line\":{\"color\":\"rgb(248, 248, 249)\",\"width\":1}},\"orientation\":\"h\",\"type\":\"bar\",\"x\":[0.5267979357503798],\"y\":[\"Wayne County, Michigan\"]},{\"marker\":{\"color\":\"aquamarine\",\"line\":{\"color\":\"rgb(248, 248, 249)\",\"width\":1}},\"orientation\":\"h\",\"type\":\"bar\",\"x\":[0.6718344914222902],\"y\":[\"Palm Beach County, Florida\"]},{\"marker\":{\"color\":\"aquamarine\",\"line\":{\"color\":\"rgb(248, 248, 249)\",\"width\":1}},\"orientation\":\"h\",\"type\":\"bar\",\"x\":[0.7255792563152451],\"y\":[\"Hennepin County, Minnesota\"]},{\"marker\":{\"color\":\"aquamarine\",\"line\":{\"color\":\"rgb(248, 248, 249)\",\"width\":1}},\"orientation\":\"h\",\"type\":\"bar\",\"x\":[0.820591775986003],\"y\":[\"Salt Lake County, Utah\"]},{\"marker\":{\"color\":\"aquamarine\",\"line\":{\"color\":\"rgb(248, 248, 249)\",\"width\":1}},\"orientation\":\"h\",\"type\":\"bar\",\"x\":[0.5624274242458426],\"y\":[\"New York County, New York\"]},{\"marker\":{\"color\":\"aquamarine\",\"line\":{\"color\":\"rgb(248, 248, 249)\",\"width\":1}},\"orientation\":\"h\",\"type\":\"bar\",\"x\":[0.6425461684891364],\"y\":[\"Nassau County, New York\"]},{\"marker\":{\"color\":\"aquamarine\",\"line\":{\"color\":\"rgb(248, 248, 249)\",\"width\":1}},\"orientation\":\"h\",\"type\":\"bar\",\"x\":[0.6549269343428986],\"y\":[\"Franklin County, Ohio\"]},{\"marker\":{\"color\":\"aquamarine\",\"line\":{\"color\":\"rgb(248, 248, 249)\",\"width\":1}},\"orientation\":\"h\",\"type\":\"bar\",\"x\":[0.5106854613896867],\"y\":[\"Miami-Dade County, Florida\"]},{\"marker\":{\"color\":\"aquamarine\",\"line\":{\"color\":\"rgb(248, 248, 249)\",\"width\":1}},\"orientation\":\"h\",\"type\":\"bar\",\"x\":[0.44202948478434223],\"y\":[\"San Bernardino County, California\"]},{\"marker\":{\"color\":\"aquamarine\",\"line\":{\"color\":\"rgb(248, 248, 249)\",\"width\":1}},\"orientation\":\"h\",\"type\":\"bar\",\"x\":[0.500356488542729],\"y\":[\"Broward County, Florida\"]},{\"marker\":{\"color\":\"aquamarine\",\"line\":{\"color\":\"rgb(248, 248, 249)\",\"width\":1}},\"orientation\":\"h\",\"type\":\"bar\",\"x\":[0.6366173532710777],\"y\":[\"Hillsborough County, Florida\"]},{\"marker\":{\"color\":\"aquamarine\",\"line\":{\"color\":\"rgb(248, 248, 249)\",\"width\":1}},\"orientation\":\"h\",\"type\":\"bar\",\"x\":[0.6202538258406233],\"y\":[\"Cuyahoga County, Ohio\"]},{\"marker\":{\"color\":\"aquamarine\",\"line\":{\"color\":\"rgb(248, 248, 249)\",\"width\":1}},\"orientation\":\"h\",\"type\":\"bar\",\"x\":[0.5357862310839288],\"y\":[\"Sacramento County, California\"]},{\"marker\":{\"color\":\"blue\",\"line\":{\"color\":\"rgb(248, 248, 249)\",\"width\":1}},\"orientation\":\"h\",\"type\":\"bar\",\"x\":[0.09527084279058834],\"y\":[\"Los Angeles County, California\"]},{\"marker\":{\"color\":\"blue\",\"line\":{\"color\":\"rgb(248, 248, 249)\",\"width\":1}},\"orientation\":\"h\",\"type\":\"bar\",\"x\":[0.07023980376896903],\"y\":[\"Maricopa County, Arizona\"]},{\"marker\":{\"color\":\"blue\",\"line\":{\"color\":\"rgb(248, 248, 249)\",\"width\":1}},\"orientation\":\"h\",\"type\":\"bar\",\"x\":[0.25819365251954346],\"y\":[\"Cook County, Illinois\"]},{\"marker\":{\"color\":\"blue\",\"line\":{\"color\":\"rgb(248, 248, 249)\",\"width\":1}},\"orientation\":\"h\",\"type\":\"bar\",\"x\":[0.23427194009666727],\"y\":[\"Harris County, Texas\"]},{\"marker\":{\"color\":\"blue\",\"line\":{\"color\":\"rgb(248, 248, 249)\",\"width\":1}},\"orientation\":\"h\",\"type\":\"bar\",\"x\":[0.05726970530983339],\"y\":[\"San Diego County, California\"]},{\"marker\":{\"color\":\"blue\",\"line\":{\"color\":\"rgb(248, 248, 249)\",\"width\":1}},\"orientation\":\"h\",\"type\":\"bar\",\"x\":[0.019997392710210882],\"y\":[\"Orange County, California\"]},{\"marker\":{\"color\":\"blue\",\"line\":{\"color\":\"rgb(248, 248, 249)\",\"width\":1}},\"orientation\":\"h\",\"type\":\"bar\",\"x\":[0.07593039396398786],\"y\":[\"King County, Washington\"]},{\"marker\":{\"color\":\"blue\",\"line\":{\"color\":\"rgb(248, 248, 249)\",\"width\":1}},\"orientation\":\"h\",\"type\":\"bar\",\"x\":[0.05670588818351625],\"y\":[\"Middlesex County, Massachusetts\"]},{\"marker\":{\"color\":\"blue\",\"line\":{\"color\":\"rgb(248, 248, 249)\",\"width\":1}},\"orientation\":\"h\",\"type\":\"bar\",\"x\":[0.2047377071511676],\"y\":[\"Tarrant County, Texas\"]},{\"marker\":{\"color\":\"blue\",\"line\":{\"color\":\"rgb(248, 248, 249)\",\"width\":1}},\"orientation\":\"h\",\"type\":\"bar\",\"x\":[0.31172653824257374],\"y\":[\"Kings County, New York\"]},{\"marker\":{\"color\":\"blue\",\"line\":{\"color\":\"rgb(248, 248, 249)\",\"width\":1}},\"orientation\":\"h\",\"type\":\"bar\",\"x\":[0.08348154581171623],\"y\":[\"Suffolk County, New York\"]},{\"marker\":{\"color\":\"blue\",\"line\":{\"color\":\"rgb(248, 248, 249)\",\"width\":1}},\"orientation\":\"h\",\"type\":\"bar\",\"x\":[0.15176021500651912],\"y\":[\"Clark County, Nevada\"]},{\"marker\":{\"color\":\"blue\",\"line\":{\"color\":\"rgb(248, 248, 249)\",\"width\":1}},\"orientation\":\"h\",\"type\":\"bar\",\"x\":[0.07981117928786743],\"y\":[\"Riverside County, California\"]},{\"marker\":{\"color\":\"blue\",\"line\":{\"color\":\"rgb(248, 248, 249)\",\"width\":1}},\"orientation\":\"h\",\"type\":\"bar\",\"x\":[0.13840450665733134],\"y\":[\"Allegheny County, Pennsylvania\"]},{\"marker\":{\"color\":\"blue\",\"line\":{\"color\":\"rgb(248, 248, 249)\",\"width\":1}},\"orientation\":\"h\",\"type\":\"bar\",\"x\":[0.2659177955308556],\"y\":[\"Dallas County, Texas\"]},{\"marker\":{\"color\":\"blue\",\"line\":{\"color\":\"rgb(248, 248, 249)\",\"width\":1}},\"orientation\":\"h\",\"type\":\"bar\",\"x\":[0.1106326913989387],\"y\":[\"Bexar County, Texas\"]},{\"marker\":{\"color\":\"blue\",\"line\":{\"color\":\"rgb(248, 248, 249)\",\"width\":1}},\"orientation\":\"h\",\"type\":\"bar\",\"x\":[0.14318621679731394],\"y\":[\"Oakland County, Michigan\"]},{\"marker\":{\"color\":\"blue\",\"line\":{\"color\":\"rgb(248, 248, 249)\",\"width\":1}},\"orientation\":\"h\",\"type\":\"bar\",\"x\":[0.40281043586230775],\"y\":[\"Wayne County, Michigan\"]},{\"marker\":{\"color\":\"blue\",\"line\":{\"color\":\"rgb(248, 248, 249)\",\"width\":1}},\"orientation\":\"h\",\"type\":\"bar\",\"x\":[0.206039335767283],\"y\":[\"Palm Beach County, Florida\"]},{\"marker\":{\"color\":\"blue\",\"line\":{\"color\":\"rgb(248, 248, 249)\",\"width\":1}},\"orientation\":\"h\",\"type\":\"bar\",\"x\":[0.14552873605156225],\"y\":[\"Hennepin County, Minnesota\"]},{\"marker\":{\"color\":\"blue\",\"line\":{\"color\":\"rgb(248, 248, 249)\",\"width\":1}},\"orientation\":\"h\",\"type\":\"bar\",\"x\":[0.022716100038321443],\"y\":[\"Salt Lake County, Utah\"]},{\"marker\":{\"color\":\"blue\",\"line\":{\"color\":\"rgb(248, 248, 249)\",\"width\":1}},\"orientation\":\"h\",\"type\":\"bar\",\"x\":[0.1521924347365641],\"y\":[\"New York County, New York\"]},{\"marker\":{\"color\":\"blue\",\"line\":{\"color\":\"rgb(248, 248, 249)\",\"width\":1}},\"orientation\":\"h\",\"type\":\"bar\",\"x\":[0.12051652410071009],\"y\":[\"Nassau County, New York\"]},{\"marker\":{\"color\":\"blue\",\"line\":{\"color\":\"rgb(248, 248, 249)\",\"width\":1}},\"orientation\":\"h\",\"type\":\"bar\",\"x\":[0.24458922495736818],\"y\":[\"Franklin County, Ohio\"]},{\"marker\":{\"color\":\"blue\",\"line\":{\"color\":\"rgb(248, 248, 249)\",\"width\":1}},\"orientation\":\"h\",\"type\":\"bar\",\"x\":[0.2563395661987211],\"y\":[\"Miami-Dade County, Florida\"]},{\"marker\":{\"color\":\"blue\",\"line\":{\"color\":\"rgb(248, 248, 249)\",\"width\":1}},\"orientation\":\"h\",\"type\":\"bar\",\"x\":[0.10423024878633923],\"y\":[\"San Bernardino County, California\"]},{\"marker\":{\"color\":\"blue\",\"line\":{\"color\":\"rgb(248, 248, 249)\",\"width\":1}},\"orientation\":\"h\",\"type\":\"bar\",\"x\":[0.34289298510483857],\"y\":[\"Broward County, Florida\"]},{\"marker\":{\"color\":\"blue\",\"line\":{\"color\":\"rgb(248, 248, 249)\",\"width\":1}},\"orientation\":\"h\",\"type\":\"bar\",\"x\":[0.19698312194280176],\"y\":[\"Hillsborough County, Florida\"]},{\"marker\":{\"color\":\"blue\",\"line\":{\"color\":\"rgb(248, 248, 249)\",\"width\":1}},\"orientation\":\"h\",\"type\":\"bar\",\"x\":[0.31251737869460516],\"y\":[\"Cuyahoga County, Ohio\"]},{\"marker\":{\"color\":\"blue\",\"line\":{\"color\":\"rgb(248, 248, 249)\",\"width\":1}},\"orientation\":\"h\",\"type\":\"bar\",\"x\":[0.11438164144523837],\"y\":[\"Sacramento County, California\"]},{\"marker\":{\"color\":\"green\",\"line\":{\"color\":\"rgb(248, 248, 249)\",\"width\":1}},\"orientation\":\"h\",\"type\":\"bar\",\"x\":[0.17989830839816237],\"y\":[\"Los Angeles County, California\"]},{\"marker\":{\"color\":\"green\",\"line\":{\"color\":\"rgb(248, 248, 249)\",\"width\":1}},\"orientation\":\"h\",\"type\":\"bar\",\"x\":[0.05493001880655247],\"y\":[\"Maricopa County, Arizona\"]},{\"marker\":{\"color\":\"green\",\"line\":{\"color\":\"rgb(248, 248, 249)\",\"width\":1}},\"orientation\":\"h\",\"type\":\"bar\",\"x\":[0.08849048366130069],\"y\":[\"Cook County, Illinois\"]},{\"marker\":{\"color\":\"green\",\"line\":{\"color\":\"rgb(248, 248, 249)\",\"width\":1}},\"orientation\":\"h\",\"type\":\"bar\",\"x\":[0.09020728656519203],\"y\":[\"Harris County, Texas\"]},{\"marker\":{\"color\":\"green\",\"line\":{\"color\":\"rgb(248, 248, 249)\",\"width\":1}},\"orientation\":\"h\",\"type\":\"bar\",\"x\":[0.1509735772716313],\"y\":[\"San Diego County, California\"]},{\"marker\":{\"color\":\"green\",\"line\":{\"color\":\"rgb(248, 248, 249)\",\"width\":1}},\"orientation\":\"h\",\"type\":\"bar\",\"x\":[0.2625165694751734],\"y\":[\"Orange County, California\"]},{\"marker\":{\"color\":\"green\",\"line\":{\"color\":\"rgb(248, 248, 249)\",\"width\":1}},\"orientation\":\"h\",\"type\":\"bar\",\"x\":[0.22682418074349303],\"y\":[\"King County, Washington\"]},{\"marker\":{\"color\":\"green\",\"line\":{\"color\":\"rgb(248, 248, 249)\",\"width\":1}},\"orientation\":\"h\",\"type\":\"bar\",\"x\":[0.1409523401308515],\"y\":[\"Middlesex County, Massachusetts\"]},{\"marker\":{\"color\":\"green\",\"line\":{\"color\":\"rgb(248, 248, 249)\",\"width\":1}},\"orientation\":\"h\",\"type\":\"bar\",\"x\":[0.07226256752441375],\"y\":[\"Tarrant County, Texas\"]},{\"marker\":{\"color\":\"green\",\"line\":{\"color\":\"rgb(248, 248, 249)\",\"width\":1}},\"orientation\":\"h\",\"type\":\"bar\",\"x\":[0.15087879387408193],\"y\":[\"Kings County, New York\"]},{\"marker\":{\"color\":\"green\",\"line\":{\"color\":\"rgb(248, 248, 249)\",\"width\":1}},\"orientation\":\"h\",\"type\":\"bar\",\"x\":[0.04804567695547344],\"y\":[\"Suffolk County, New York\"]},{\"marker\":{\"color\":\"green\",\"line\":{\"color\":\"rgb(248, 248, 249)\",\"width\":1}},\"orientation\":\"h\",\"type\":\"bar\",\"x\":[0.12581025791147868],\"y\":[\"Clark County, Nevada\"]},{\"marker\":{\"color\":\"green\",\"line\":{\"color\":\"rgb(248, 248, 249)\",\"width\":1}},\"orientation\":\"h\",\"type\":\"bar\",\"x\":[0.08734258565023793],\"y\":[\"Riverside County, California\"]},{\"marker\":{\"color\":\"green\",\"line\":{\"color\":\"rgb(248, 248, 249)\",\"width\":1}},\"orientation\":\"h\",\"type\":\"bar\",\"x\":[0.04950169371709597],\"y\":[\"Allegheny County, Pennsylvania\"]},{\"marker\":{\"color\":\"green\",\"line\":{\"color\":\"rgb(248, 248, 249)\",\"width\":1}},\"orientation\":\"h\",\"type\":\"bar\",\"x\":[0.08480907722588862],\"y\":[\"Dallas County, Texas\"]},{\"marker\":{\"color\":\"green\",\"line\":{\"color\":\"rgb(248, 248, 249)\",\"width\":1}},\"orientation\":\"h\",\"type\":\"bar\",\"x\":[0.04710087027731045],\"y\":[\"Bexar County, Texas\"]},{\"marker\":{\"color\":\"green\",\"line\":{\"color\":\"rgb(248, 248, 249)\",\"width\":1}},\"orientation\":\"h\",\"type\":\"bar\",\"x\":[0.08886529746990417],\"y\":[\"Oakland County, Michigan\"]},{\"marker\":{\"color\":\"green\",\"line\":{\"color\":\"rgb(248, 248, 249)\",\"width\":1}},\"orientation\":\"h\",\"type\":\"bar\",\"x\":[0.038770046293394464],\"y\":[\"Wayne County, Michigan\"]},{\"marker\":{\"color\":\"green\",\"line\":{\"color\":\"rgb(248, 248, 249)\",\"width\":1}},\"orientation\":\"h\",\"type\":\"bar\",\"x\":[0.03465630275193342],\"y\":[\"Palm Beach County, Florida\"]},{\"marker\":{\"color\":\"green\",\"line\":{\"color\":\"rgb(248, 248, 249)\",\"width\":1}},\"orientation\":\"h\",\"type\":\"bar\",\"x\":[0.08303854694421982],\"y\":[\"Hennepin County, Minnesota\"]},{\"marker\":{\"color\":\"green\",\"line\":{\"color\":\"rgb(248, 248, 249)\",\"width\":1}},\"orientation\":\"h\",\"type\":\"bar\",\"x\":[0.049382405425387375],\"y\":[\"Salt Lake County, Utah\"]},{\"marker\":{\"color\":\"green\",\"line\":{\"color\":\"rgb(248, 248, 249)\",\"width\":1}},\"orientation\":\"h\",\"type\":\"bar\",\"x\":[0.14730472726114532],\"y\":[\"New York County, New York\"]},{\"marker\":{\"color\":\"green\",\"line\":{\"color\":\"rgb(248, 248, 249)\",\"width\":1}},\"orientation\":\"h\",\"type\":\"bar\",\"x\":[0.1291082230114742],\"y\":[\"Nassau County, New York\"]},{\"marker\":{\"color\":\"green\",\"line\":{\"color\":\"rgb(248, 248, 249)\",\"width\":1}},\"orientation\":\"h\",\"type\":\"bar\",\"x\":[0.06043602777392482],\"y\":[\"Franklin County, Ohio\"]},{\"marker\":{\"color\":\"green\",\"line\":{\"color\":\"rgb(248, 248, 249)\",\"width\":1}},\"orientation\":\"h\",\"type\":\"bar\",\"x\":[0.02827667616400011],\"y\":[\"Miami-Dade County, Florida\"]},{\"marker\":{\"color\":\"green\",\"line\":{\"color\":\"rgb(248, 248, 249)\",\"width\":1}},\"orientation\":\"h\",\"type\":\"bar\",\"x\":[0.10294768777574215],\"y\":[\"San Bernardino County, California\"]},{\"marker\":{\"color\":\"green\",\"line\":{\"color\":\"rgb(248, 248, 249)\",\"width\":1}},\"orientation\":\"h\",\"type\":\"bar\",\"x\":[0.04894271815745061],\"y\":[\"Broward County, Florida\"]},{\"marker\":{\"color\":\"green\",\"line\":{\"color\":\"rgb(248, 248, 249)\",\"width\":1}},\"orientation\":\"h\",\"type\":\"bar\",\"x\":[0.05897032568079698],\"y\":[\"Hillsborough County, Florida\"]},{\"marker\":{\"color\":\"green\",\"line\":{\"color\":\"rgb(248, 248, 249)\",\"width\":1}},\"orientation\":\"h\",\"type\":\"bar\",\"x\":[0.037134373330592066],\"y\":[\"Cuyahoga County, Ohio\"]},{\"marker\":{\"color\":\"green\",\"line\":{\"color\":\"rgb(248, 248, 249)\",\"width\":1}},\"orientation\":\"h\",\"type\":\"bar\",\"x\":[0.2109040412925249],\"y\":[\"Sacramento County, California\"]},{\"marker\":{\"color\":\"red\",\"line\":{\"color\":\"rgb(248, 248, 249)\",\"width\":1}},\"orientation\":\"h\",\"type\":\"bar\",\"x\":[0.3339164099590367],\"y\":[\"Los Angeles County, California\"]},{\"marker\":{\"color\":\"red\",\"line\":{\"color\":\"rgb(248, 248, 249)\",\"width\":1}},\"orientation\":\"h\",\"type\":\"bar\",\"x\":[0.16142380757450486],\"y\":[\"Maricopa County, Arizona\"]},{\"marker\":{\"color\":\"red\",\"line\":{\"color\":\"rgb(248, 248, 249)\",\"width\":1}},\"orientation\":\"h\",\"type\":\"bar\",\"x\":[0.15098889112765515],\"y\":[\"Cook County, Illinois\"]},{\"marker\":{\"color\":\"red\",\"line\":{\"color\":\"rgb(248, 248, 249)\",\"width\":1}},\"orientation\":\"h\",\"type\":\"bar\",\"x\":[0.23119536509533714],\"y\":[\"Harris County, Texas\"]},{\"marker\":{\"color\":\"red\",\"line\":{\"color\":\"rgb(248, 248, 249)\",\"width\":1}},\"orientation\":\"h\",\"type\":\"bar\",\"x\":[0.19149347517980747],\"y\":[\"San Diego County, California\"]},{\"marker\":{\"color\":\"red\",\"line\":{\"color\":\"rgb(248, 248, 249)\",\"width\":1}},\"orientation\":\"h\",\"type\":\"bar\",\"x\":[0.2037322127682175],\"y\":[\"Orange County, California\"]},{\"marker\":{\"color\":\"red\",\"line\":{\"color\":\"rgb(248, 248, 249)\",\"width\":1}},\"orientation\":\"h\",\"type\":\"bar\",\"x\":[0.05906777880989179],\"y\":[\"King County, Washington\"]},{\"marker\":{\"color\":\"red\",\"line\":{\"color\":\"rgb(248, 248, 249)\",\"width\":1}},\"orientation\":\"h\",\"type\":\"bar\",\"x\":[0.0573059646664787],\"y\":[\"Middlesex County, Massachusetts\"]},{\"marker\":{\"color\":\"red\",\"line\":{\"color\":\"rgb(248, 248, 249)\",\"width\":1}},\"orientation\":\"h\",\"type\":\"bar\",\"x\":[0.13984504277569723],\"y\":[\"Tarrant County, Texas\"]},{\"marker\":{\"color\":\"red\",\"line\":{\"color\":\"rgb(248, 248, 249)\",\"width\":1}},\"orientation\":\"h\",\"type\":\"bar\",\"x\":[0.1220120402634161],\"y\":[\"Kings County, New York\"]},{\"marker\":{\"color\":\"red\",\"line\":{\"color\":\"rgb(248, 248, 249)\",\"width\":1}},\"orientation\":\"h\",\"type\":\"bar\",\"x\":[0.12137524623966378],\"y\":[\"Suffolk County, New York\"]},{\"marker\":{\"color\":\"red\",\"line\":{\"color\":\"rgb(248, 248, 249)\",\"width\":1}},\"orientation\":\"h\",\"type\":\"bar\",\"x\":[0.18440080484516366],\"y\":[\"Clark County, Nevada\"]},{\"marker\":{\"color\":\"red\",\"line\":{\"color\":\"rgb(248, 248, 249)\",\"width\":1}},\"orientation\":\"h\",\"type\":\"bar\",\"x\":[0.325026140090483],\"y\":[\"Riverside County, California\"]},{\"marker\":{\"color\":\"red\",\"line\":{\"color\":\"rgb(248, 248, 249)\",\"width\":1}},\"orientation\":\"h\",\"type\":\"bar\",\"x\":[0.01189407122913295],\"y\":[\"Allegheny County, Pennsylvania\"]},{\"marker\":{\"color\":\"red\",\"line\":{\"color\":\"rgb(248, 248, 249)\",\"width\":1}},\"orientation\":\"h\",\"type\":\"bar\",\"x\":[0.22121569989579715],\"y\":[\"Dallas County, Texas\"]},{\"marker\":{\"color\":\"red\",\"line\":{\"color\":\"rgb(248, 248, 249)\",\"width\":1}},\"orientation\":\"h\",\"type\":\"bar\",\"x\":[0.2114686761209047],\"y\":[\"Bexar County, Texas\"]},{\"marker\":{\"color\":\"red\",\"line\":{\"color\":\"rgb(248, 248, 249)\",\"width\":1}},\"orientation\":\"h\",\"type\":\"bar\",\"x\":[0.018849935095645875],\"y\":[\"Oakland County, Michigan\"]},{\"marker\":{\"color\":\"red\",\"line\":{\"color\":\"rgb(248, 248, 249)\",\"width\":1}},\"orientation\":\"h\",\"type\":\"bar\",\"x\":[0.03162158209391799],\"y\":[\"Wayne County, Michigan\"]},{\"marker\":{\"color\":\"red\",\"line\":{\"color\":\"rgb(248, 248, 249)\",\"width\":1}},\"orientation\":\"h\",\"type\":\"bar\",\"x\":[0.08746987005849331],\"y\":[\"Palm Beach County, Florida\"]},{\"marker\":{\"color\":\"red\",\"line\":{\"color\":\"rgb(248, 248, 249)\",\"width\":1}},\"orientation\":\"h\",\"type\":\"bar\",\"x\":[0.04585346068897286],\"y\":[\"Hennepin County, Minnesota\"]},{\"marker\":{\"color\":\"red\",\"line\":{\"color\":\"rgb(248, 248, 249)\",\"width\":1}},\"orientation\":\"h\",\"type\":\"bar\",\"x\":[0.10730971855028819],\"y\":[\"Salt Lake County, Utah\"]},{\"marker\":{\"color\":\"red\",\"line\":{\"color\":\"rgb(248, 248, 249)\",\"width\":1}},\"orientation\":\"h\",\"type\":\"bar\",\"x\":[0.13807541375644805],\"y\":[\"New York County, New York\"]},{\"marker\":{\"color\":\"red\",\"line\":{\"color\":\"rgb(248, 248, 249)\",\"width\":1}},\"orientation\":\"h\",\"type\":\"bar\",\"x\":[0.10782908439867936],\"y\":[\"Nassau County, New York\"]},{\"marker\":{\"color\":\"red\",\"line\":{\"color\":\"rgb(248, 248, 249)\",\"width\":1}},\"orientation\":\"h\",\"type\":\"bar\",\"x\":[0.04004781292580837],\"y\":[\"Franklin County, Ohio\"]},{\"marker\":{\"color\":\"red\",\"line\":{\"color\":\"rgb(248, 248, 249)\",\"width\":1}},\"orientation\":\"h\",\"type\":\"bar\",\"x\":[0.20469829624759203],\"y\":[\"Miami-Dade County, Florida\"]},{\"marker\":{\"color\":\"red\",\"line\":{\"color\":\"rgb(248, 248, 249)\",\"width\":1}},\"orientation\":\"h\",\"type\":\"bar\",\"x\":[0.3507925786535764],\"y\":[\"San Bernardino County, California\"]},{\"marker\":{\"color\":\"red\",\"line\":{\"color\":\"rgb(248, 248, 249)\",\"width\":1}},\"orientation\":\"h\",\"type\":\"bar\",\"x\":[0.10780780819498183],\"y\":[\"Broward County, Florida\"]},{\"marker\":{\"color\":\"red\",\"line\":{\"color\":\"rgb(248, 248, 249)\",\"width\":1}},\"orientation\":\"h\",\"type\":\"bar\",\"x\":[0.10742919910532359],\"y\":[\"Hillsborough County, Florida\"]},{\"marker\":{\"color\":\"red\",\"line\":{\"color\":\"rgb(248, 248, 249)\",\"width\":1}},\"orientation\":\"h\",\"type\":\"bar\",\"x\":[0.03009442213417953],\"y\":[\"Cuyahoga County, Ohio\"]},{\"marker\":{\"color\":\"red\",\"line\":{\"color\":\"rgb(248, 248, 249)\",\"width\":1}},\"orientation\":\"h\",\"type\":\"bar\",\"x\":[0.13892808617830796],\"y\":[\"Sacramento County, California\"]}],                        {\"annotations\":[{\"align\":\"right\",\"font\":{\"color\":\"rgb(67, 67, 67)\",\"family\":\"Arial\",\"size\":14},\"showarrow\":false,\"text\":\"Los Angeles County, California\",\"x\":0.14,\"xanchor\":\"right\",\"xref\":\"paper\",\"y\":\"Los Angeles County, California\",\"yref\":\"y\"},{\"font\":{\"color\":\"rgb(20,20,20)\",\"family\":\"Arial\",\"size\":14},\"showarrow\":false,\"text\":\"0.39091443885221255%\",\"x\":0.19545721942610628,\"xref\":\"x\",\"y\":\"Los Angeles County, California\",\"yref\":\"y\"},{\"font\":{\"color\":\"rgb(248, 248, 255)\",\"family\":\"Arial\",\"size\":14},\"showarrow\":false,\"text\":\"0.09527084279058834\",\"x\":0.43854986024750675,\"xref\":\"x\",\"y\":\"Los Angeles County, California\",\"yref\":\"y\"},{\"font\":{\"color\":\"rgb(248, 248, 255)\",\"family\":\"Arial\",\"size\":14},\"showarrow\":false,\"text\":\"0.17989830839816237\",\"x\":0.5761344358418821,\"xref\":\"x\",\"y\":\"Los Angeles County, California\",\"yref\":\"y\"},{\"font\":{\"color\":\"rgb(248, 248, 255)\",\"family\":\"Arial\",\"size\":14},\"showarrow\":false,\"text\":\"0.3339164099590367\",\"x\":0.8330417950204816,\"xref\":\"x\",\"y\":\"Los Angeles County, California\",\"yref\":\"y\"},{\"align\":\"right\",\"font\":{\"color\":\"rgb(67, 67, 67)\",\"family\":\"Arial\",\"size\":14},\"showarrow\":false,\"text\":\"Maricopa County, Arizona\",\"x\":0.14,\"xanchor\":\"right\",\"xref\":\"paper\",\"y\":\"Maricopa County, Arizona\",\"yref\":\"y\"},{\"font\":{\"color\":\"rgb(20,20,20)\",\"family\":\"Arial\",\"size\":14},\"showarrow\":false,\"text\":\"0.7134063698499736%\",\"x\":0.3567031849249868,\"xref\":\"x\",\"y\":\"Maricopa County, Arizona\",\"yref\":\"y\"},{\"font\":{\"color\":\"rgb(248, 248, 255)\",\"family\":\"Arial\",\"size\":14},\"showarrow\":false,\"text\":\"0.07023980376896903\",\"x\":0.7485262717344582,\"xref\":\"x\",\"y\":\"Maricopa County, Arizona\",\"yref\":\"y\"},{\"font\":{\"color\":\"rgb(248, 248, 255)\",\"family\":\"Arial\",\"size\":14},\"showarrow\":false,\"text\":\"0.05493001880655247\",\"x\":0.8111111830222189,\"xref\":\"x\",\"y\":\"Maricopa County, Arizona\",\"yref\":\"y\"},{\"font\":{\"color\":\"rgb(248, 248, 255)\",\"family\":\"Arial\",\"size\":14},\"showarrow\":false,\"text\":\"0.16142380757450486\",\"x\":0.9192880962127475,\"xref\":\"x\",\"y\":\"Maricopa County, Arizona\",\"yref\":\"y\"},{\"align\":\"right\",\"font\":{\"color\":\"rgb(67, 67, 67)\",\"family\":\"Arial\",\"size\":14},\"showarrow\":false,\"text\":\"Cook County, Illinois\",\"x\":0.14,\"xanchor\":\"right\",\"xref\":\"paper\",\"y\":\"Cook County, Illinois\",\"yref\":\"y\"},{\"font\":{\"color\":\"rgb(20,20,20)\",\"family\":\"Arial\",\"size\":14},\"showarrow\":false,\"text\":\"0.5023269726915007%\",\"x\":0.25116348634575036,\"xref\":\"x\",\"y\":\"Cook County, Illinois\",\"yref\":\"y\"},{\"font\":{\"color\":\"rgb(248, 248, 255)\",\"family\":\"Arial\",\"size\":14},\"showarrow\":false,\"text\":\"0.25819365251954346\",\"x\":0.6314237989512724,\"xref\":\"x\",\"y\":\"Cook County, Illinois\",\"yref\":\"y\"},{\"font\":{\"color\":\"rgb(248, 248, 255)\",\"family\":\"Arial\",\"size\":14},\"showarrow\":false,\"text\":\"0.08849048366130069\",\"x\":0.8047658670416945,\"xref\":\"x\",\"y\":\"Cook County, Illinois\",\"yref\":\"y\"},{\"font\":{\"color\":\"rgb(248, 248, 255)\",\"family\":\"Arial\",\"size\":14},\"showarrow\":false,\"text\":\"0.15098889112765515\",\"x\":0.9245055544361724,\"xref\":\"x\",\"y\":\"Cook County, Illinois\",\"yref\":\"y\"},{\"align\":\"right\",\"font\":{\"color\":\"rgb(67, 67, 67)\",\"family\":\"Arial\",\"size\":14},\"showarrow\":false,\"text\":\"Harris County, Texas\",\"x\":0.14,\"xanchor\":\"right\",\"xref\":\"paper\",\"y\":\"Harris County, Texas\",\"yref\":\"y\"},{\"font\":{\"color\":\"rgb(20,20,20)\",\"family\":\"Arial\",\"size\":14},\"showarrow\":false,\"text\":\"0.44432540824280353%\",\"x\":0.22216270412140177,\"xref\":\"x\",\"y\":\"Harris County, Texas\",\"yref\":\"y\"},{\"font\":{\"color\":\"rgb(248, 248, 255)\",\"family\":\"Arial\",\"size\":14},\"showarrow\":false,\"text\":\"0.23427194009666727\",\"x\":0.5614613782911372,\"xref\":\"x\",\"y\":\"Harris County, Texas\",\"yref\":\"y\"},{\"font\":{\"color\":\"rgb(248, 248, 255)\",\"family\":\"Arial\",\"size\":14},\"showarrow\":false,\"text\":\"0.09020728656519203\",\"x\":0.7237009916220668,\"xref\":\"x\",\"y\":\"Harris County, Texas\",\"yref\":\"y\"},{\"font\":{\"color\":\"rgb(248, 248, 255)\",\"family\":\"Arial\",\"size\":14},\"showarrow\":false,\"text\":\"0.23119536509533714\",\"x\":0.8844023174523314,\"xref\":\"x\",\"y\":\"Harris County, Texas\",\"yref\":\"y\"},{\"align\":\"right\",\"font\":{\"color\":\"rgb(67, 67, 67)\",\"family\":\"Arial\",\"size\":14},\"showarrow\":false,\"text\":\"San Diego County, California\",\"x\":0.14,\"xanchor\":\"right\",\"xref\":\"paper\",\"y\":\"San Diego County, California\",\"yref\":\"y\"},{\"font\":{\"color\":\"rgb(20,20,20)\",\"family\":\"Arial\",\"size\":14},\"showarrow\":false,\"text\":\"0.6002632422387278%\",\"x\":0.3001316211193639,\"xref\":\"x\",\"y\":\"San Diego County, California\",\"yref\":\"y\"},{\"font\":{\"color\":\"rgb(248, 248, 255)\",\"family\":\"Arial\",\"size\":14},\"showarrow\":false,\"text\":\"0.05726970530983339\",\"x\":0.6288980948936446,\"xref\":\"x\",\"y\":\"San Diego County, California\",\"yref\":\"y\"},{\"font\":{\"color\":\"rgb(248, 248, 255)\",\"family\":\"Arial\",\"size\":14},\"showarrow\":false,\"text\":\"0.1509735772716313\",\"x\":0.7330197361843769,\"xref\":\"x\",\"y\":\"San Diego County, California\",\"yref\":\"y\"},{\"font\":{\"color\":\"rgb(248, 248, 255)\",\"family\":\"Arial\",\"size\":14},\"showarrow\":false,\"text\":\"0.19149347517980747\",\"x\":0.9042532624100963,\"xref\":\"x\",\"y\":\"San Diego County, California\",\"yref\":\"y\"},{\"align\":\"right\",\"font\":{\"color\":\"rgb(67, 67, 67)\",\"family\":\"Arial\",\"size\":14},\"showarrow\":false,\"text\":\"Orange County, California\",\"x\":0.14,\"xanchor\":\"right\",\"xref\":\"paper\",\"y\":\"Orange County, California\",\"yref\":\"y\"},{\"font\":{\"color\":\"rgb(20,20,20)\",\"family\":\"Arial\",\"size\":14},\"showarrow\":false,\"text\":\"0.5137538250463982%\",\"x\":0.2568769125231991,\"xref\":\"x\",\"y\":\"Orange County, California\",\"yref\":\"y\"},{\"font\":{\"color\":\"rgb(248, 248, 255)\",\"family\":\"Arial\",\"size\":14},\"showarrow\":false,\"text\":\"0.019997392710210882\",\"x\":0.5237525214015036,\"xref\":\"x\",\"y\":\"Orange County, California\",\"yref\":\"y\"},{\"font\":{\"color\":\"rgb(248, 248, 255)\",\"family\":\"Arial\",\"size\":14},\"showarrow\":false,\"text\":\"0.2625165694751734\",\"x\":0.6650095024941958,\"xref\":\"x\",\"y\":\"Orange County, California\",\"yref\":\"y\"},{\"font\":{\"color\":\"rgb(248, 248, 255)\",\"family\":\"Arial\",\"size\":14},\"showarrow\":false,\"text\":\"0.2037322127682175\",\"x\":0.8981338936158912,\"xref\":\"x\",\"y\":\"Orange County, California\",\"yref\":\"y\"},{\"align\":\"right\",\"font\":{\"color\":\"rgb(67, 67, 67)\",\"family\":\"Arial\",\"size\":14},\"showarrow\":false,\"text\":\"King County, Washington\",\"x\":0.14,\"xanchor\":\"right\",\"xref\":\"paper\",\"y\":\"King County, Washington\",\"yref\":\"y\"},{\"font\":{\"color\":\"rgb(20,20,20)\",\"family\":\"Arial\",\"size\":14},\"showarrow\":false,\"text\":\"0.6381776464826273%\",\"x\":0.31908882324131366,\"xref\":\"x\",\"y\":\"King County, Washington\",\"yref\":\"y\"},{\"font\":{\"color\":\"rgb(248, 248, 255)\",\"family\":\"Arial\",\"size\":14},\"showarrow\":false,\"text\":\"0.07593039396398786\",\"x\":0.6761428434646213,\"xref\":\"x\",\"y\":\"King County, Washington\",\"yref\":\"y\"},{\"font\":{\"color\":\"rgb(248, 248, 255)\",\"family\":\"Arial\",\"size\":14},\"showarrow\":false,\"text\":\"0.22682418074349303\",\"x\":0.8275201308183616,\"xref\":\"x\",\"y\":\"King County, Washington\",\"yref\":\"y\"},{\"font\":{\"color\":\"rgb(248, 248, 255)\",\"family\":\"Arial\",\"size\":14},\"showarrow\":false,\"text\":\"0.05906777880989179\",\"x\":0.970466110595054,\"xref\":\"x\",\"y\":\"King County, Washington\",\"yref\":\"y\"},{\"align\":\"right\",\"font\":{\"color\":\"rgb(67, 67, 67)\",\"family\":\"Arial\",\"size\":14},\"showarrow\":false,\"text\":\"Middlesex County, Massachusetts\",\"x\":0.14,\"xanchor\":\"right\",\"xref\":\"paper\",\"y\":\"Middlesex County, Massachusetts\",\"yref\":\"y\"},{\"font\":{\"color\":\"rgb(20,20,20)\",\"family\":\"Arial\",\"size\":14},\"showarrow\":false,\"text\":\"0.7450358070191535%\",\"x\":0.37251790350957675,\"xref\":\"x\",\"y\":\"Middlesex County, Massachusetts\",\"yref\":\"y\"},{\"font\":{\"color\":\"rgb(248, 248, 255)\",\"family\":\"Arial\",\"size\":14},\"showarrow\":false,\"text\":\"0.05670588818351625\",\"x\":0.7733887511109117,\"xref\":\"x\",\"y\":\"Middlesex County, Massachusetts\",\"yref\":\"y\"},{\"font\":{\"color\":\"rgb(248, 248, 255)\",\"family\":\"Arial\",\"size\":14},\"showarrow\":false,\"text\":\"0.1409523401308515\",\"x\":0.8722178652680955,\"xref\":\"x\",\"y\":\"Middlesex County, Massachusetts\",\"yref\":\"y\"},{\"font\":{\"color\":\"rgb(248, 248, 255)\",\"family\":\"Arial\",\"size\":14},\"showarrow\":false,\"text\":\"0.0573059646664787\",\"x\":0.9713470176667607,\"xref\":\"x\",\"y\":\"Middlesex County, Massachusetts\",\"yref\":\"y\"},{\"align\":\"right\",\"font\":{\"color\":\"rgb(67, 67, 67)\",\"family\":\"Arial\",\"size\":14},\"showarrow\":false,\"text\":\"Tarrant County, Texas\",\"x\":0.14,\"xanchor\":\"right\",\"xref\":\"paper\",\"y\":\"Tarrant County, Texas\",\"yref\":\"y\"},{\"font\":{\"color\":\"rgb(20,20,20)\",\"family\":\"Arial\",\"size\":14},\"showarrow\":false,\"text\":\"0.5831546825487214%\",\"x\":0.2915773412743607,\"xref\":\"x\",\"y\":\"Tarrant County, Texas\",\"yref\":\"y\"},{\"font\":{\"color\":\"rgb(248, 248, 255)\",\"family\":\"Arial\",\"size\":14},\"showarrow\":false,\"text\":\"0.2047377071511676\",\"x\":0.6855235361243052,\"xref\":\"x\",\"y\":\"Tarrant County, Texas\",\"yref\":\"y\"},{\"font\":{\"color\":\"rgb(248, 248, 255)\",\"family\":\"Arial\",\"size\":14},\"showarrow\":false,\"text\":\"0.07226256752441375\",\"x\":0.8240236734620958,\"xref\":\"x\",\"y\":\"Tarrant County, Texas\",\"yref\":\"y\"},{\"font\":{\"color\":\"rgb(248, 248, 255)\",\"family\":\"Arial\",\"size\":14},\"showarrow\":false,\"text\":\"0.13984504277569723\",\"x\":0.9300774786121513,\"xref\":\"x\",\"y\":\"Tarrant County, Texas\",\"yref\":\"y\"},{\"align\":\"right\",\"font\":{\"color\":\"rgb(67, 67, 67)\",\"family\":\"Arial\",\"size\":14},\"showarrow\":false,\"text\":\"Kings County, New York\",\"x\":0.14,\"xanchor\":\"right\",\"xref\":\"paper\",\"y\":\"Kings County, New York\",\"yref\":\"y\"},{\"font\":{\"color\":\"rgb(20,20,20)\",\"family\":\"Arial\",\"size\":14},\"showarrow\":false,\"text\":\"0.4153826276199282%\",\"x\":0.2076913138099641,\"xref\":\"x\",\"y\":\"Kings County, New York\",\"yref\":\"y\"},{\"font\":{\"color\":\"rgb(248, 248, 255)\",\"family\":\"Arial\",\"size\":14},\"showarrow\":false,\"text\":\"0.31172653824257374\",\"x\":0.5712458967412151,\"xref\":\"x\",\"y\":\"Kings County, New York\",\"yref\":\"y\"},{\"font\":{\"color\":\"rgb(248, 248, 255)\",\"family\":\"Arial\",\"size\":14},\"showarrow\":false,\"text\":\"0.15087879387408193\",\"x\":0.8025485627995429,\"xref\":\"x\",\"y\":\"Kings County, New York\",\"yref\":\"y\"},{\"font\":{\"color\":\"rgb(248, 248, 255)\",\"family\":\"Arial\",\"size\":14},\"showarrow\":false,\"text\":\"0.1220120402634161\",\"x\":0.9389939798682919,\"xref\":\"x\",\"y\":\"Kings County, New York\",\"yref\":\"y\"},{\"align\":\"right\",\"font\":{\"color\":\"rgb(67, 67, 67)\",\"family\":\"Arial\",\"size\":14},\"showarrow\":false,\"text\":\"Suffolk County, New York\",\"x\":0.14,\"xanchor\":\"right\",\"xref\":\"paper\",\"y\":\"Suffolk County, New York\",\"yref\":\"y\"},{\"font\":{\"color\":\"rgb(20,20,20)\",\"family\":\"Arial\",\"size\":14},\"showarrow\":false,\"text\":\"0.7470975309931466%\",\"x\":0.3735487654965733,\"xref\":\"x\",\"y\":\"Suffolk County, New York\",\"yref\":\"y\"},{\"font\":{\"color\":\"rgb(248, 248, 255)\",\"family\":\"Arial\",\"size\":14},\"showarrow\":false,\"text\":\"0.08348154581171623\",\"x\":0.7888383038990047,\"xref\":\"x\",\"y\":\"Suffolk County, New York\",\"yref\":\"y\"},{\"font\":{\"color\":\"rgb(248, 248, 255)\",\"family\":\"Arial\",\"size\":14},\"showarrow\":false,\"text\":\"0.04804567695547344\",\"x\":0.8546019152825994,\"xref\":\"x\",\"y\":\"Suffolk County, New York\",\"yref\":\"y\"},{\"font\":{\"color\":\"rgb(248, 248, 255)\",\"family\":\"Arial\",\"size\":14},\"showarrow\":false,\"text\":\"0.12137524623966378\",\"x\":0.9393123768801681,\"xref\":\"x\",\"y\":\"Suffolk County, New York\",\"yref\":\"y\"},{\"align\":\"right\",\"font\":{\"color\":\"rgb(67, 67, 67)\",\"family\":\"Arial\",\"size\":14},\"showarrow\":false,\"text\":\"Clark County, Nevada\",\"x\":0.14,\"xanchor\":\"right\",\"xref\":\"paper\",\"y\":\"Clark County, Nevada\",\"yref\":\"y\"},{\"font\":{\"color\":\"rgb(20,20,20)\",\"family\":\"Arial\",\"size\":14},\"showarrow\":false,\"text\":\"0.5380287222368385%\",\"x\":0.26901436111841925,\"xref\":\"x\",\"y\":\"Clark County, Nevada\",\"yref\":\"y\"},{\"font\":{\"color\":\"rgb(248, 248, 255)\",\"family\":\"Arial\",\"size\":14},\"showarrow\":false,\"text\":\"0.15176021500651912\",\"x\":0.6139088297400981,\"xref\":\"x\",\"y\":\"Clark County, Nevada\",\"yref\":\"y\"},{\"font\":{\"color\":\"rgb(248, 248, 255)\",\"family\":\"Arial\",\"size\":14},\"showarrow\":false,\"text\":\"0.12581025791147868\",\"x\":0.752694066199097,\"xref\":\"x\",\"y\":\"Clark County, Nevada\",\"yref\":\"y\"},{\"font\":{\"color\":\"rgb(248, 248, 255)\",\"family\":\"Arial\",\"size\":14},\"showarrow\":false,\"text\":\"0.18440080484516366\",\"x\":0.9077995975774182,\"xref\":\"x\",\"y\":\"Clark County, Nevada\",\"yref\":\"y\"},{\"align\":\"right\",\"font\":{\"color\":\"rgb(67, 67, 67)\",\"family\":\"Arial\",\"size\":14},\"showarrow\":false,\"text\":\"Riverside County, California\",\"x\":0.14,\"xanchor\":\"right\",\"xref\":\"paper\",\"y\":\"Riverside County, California\",\"yref\":\"y\"},{\"font\":{\"color\":\"rgb(20,20,20)\",\"family\":\"Arial\",\"size\":14},\"showarrow\":false,\"text\":\"0.5078200949714117%\",\"x\":0.25391004748570584,\"xref\":\"x\",\"y\":\"Riverside County, California\",\"yref\":\"y\"},{\"font\":{\"color\":\"rgb(248, 248, 255)\",\"family\":\"Arial\",\"size\":14},\"showarrow\":false,\"text\":\"0.07981117928786743\",\"x\":0.5477256846153454,\"xref\":\"x\",\"y\":\"Riverside County, California\",\"yref\":\"y\"},{\"font\":{\"color\":\"rgb(248, 248, 255)\",\"family\":\"Arial\",\"size\":14},\"showarrow\":false,\"text\":\"0.08734258565023793\",\"x\":0.631302567084398,\"xref\":\"x\",\"y\":\"Riverside County, California\",\"yref\":\"y\"},{\"font\":{\"color\":\"rgb(248, 248, 255)\",\"family\":\"Arial\",\"size\":14},\"showarrow\":false,\"text\":\"0.325026140090483\",\"x\":0.8374869299547585,\"xref\":\"x\",\"y\":\"Riverside County, California\",\"yref\":\"y\"},{\"align\":\"right\",\"font\":{\"color\":\"rgb(67, 67, 67)\",\"family\":\"Arial\",\"size\":14},\"showarrow\":false,\"text\":\"Allegheny County, Pennsylvania\",\"x\":0.14,\"xanchor\":\"right\",\"xref\":\"paper\",\"y\":\"Allegheny County, Pennsylvania\",\"yref\":\"y\"},{\"font\":{\"color\":\"rgb(20,20,20)\",\"family\":\"Arial\",\"size\":14},\"showarrow\":false,\"text\":\"0.8001997283964397%\",\"x\":0.40009986419821986,\"xref\":\"x\",\"y\":\"Allegheny County, Pennsylvania\",\"yref\":\"y\"},{\"font\":{\"color\":\"rgb(248, 248, 255)\",\"family\":\"Arial\",\"size\":14},\"showarrow\":false,\"text\":\"0.13840450665733134\",\"x\":0.8694019817251054,\"xref\":\"x\",\"y\":\"Allegheny County, Pennsylvania\",\"yref\":\"y\"},{\"font\":{\"color\":\"rgb(248, 248, 255)\",\"family\":\"Arial\",\"size\":14},\"showarrow\":false,\"text\":\"0.04950169371709597\",\"x\":0.9633550819123191,\"xref\":\"x\",\"y\":\"Allegheny County, Pennsylvania\",\"yref\":\"y\"},{\"font\":{\"color\":\"rgb(248, 248, 255)\",\"family\":\"Arial\",\"size\":14},\"showarrow\":false,\"text\":\"0.01189407122913295\",\"x\":0.9940529643854336,\"xref\":\"x\",\"y\":\"Allegheny County, Pennsylvania\",\"yref\":\"y\"},{\"align\":\"right\",\"font\":{\"color\":\"rgb(67, 67, 67)\",\"family\":\"Arial\",\"size\":14},\"showarrow\":false,\"text\":\"Dallas County, Texas\",\"x\":0.14,\"xanchor\":\"right\",\"xref\":\"paper\",\"y\":\"Dallas County, Texas\",\"yref\":\"y\"},{\"font\":{\"color\":\"rgb(20,20,20)\",\"family\":\"Arial\",\"size\":14},\"showarrow\":false,\"text\":\"0.4280574273474586%\",\"x\":0.2140287136737293,\"xref\":\"x\",\"y\":\"Dallas County, Texas\",\"yref\":\"y\"},{\"font\":{\"color\":\"rgb(248, 248, 255)\",\"family\":\"Arial\",\"size\":14},\"showarrow\":false,\"text\":\"0.2659177955308556\",\"x\":0.5610163251128863,\"xref\":\"x\",\"y\":\"Dallas County, Texas\",\"yref\":\"y\"},{\"font\":{\"color\":\"rgb(248, 248, 255)\",\"family\":\"Arial\",\"size\":14},\"showarrow\":false,\"text\":\"0.08480907722588862\",\"x\":0.7363797614912586,\"xref\":\"x\",\"y\":\"Dallas County, Texas\",\"yref\":\"y\"},{\"font\":{\"color\":\"rgb(248, 248, 255)\",\"family\":\"Arial\",\"size\":14},\"showarrow\":false,\"text\":\"0.22121569989579715\",\"x\":0.8893921500521014,\"xref\":\"x\",\"y\":\"Dallas County, Texas\",\"yref\":\"y\"},{\"align\":\"right\",\"font\":{\"color\":\"rgb(67, 67, 67)\",\"family\":\"Arial\",\"size\":14},\"showarrow\":false,\"text\":\"Bexar County, Texas\",\"x\":0.14,\"xanchor\":\"right\",\"xref\":\"paper\",\"y\":\"Bexar County, Texas\",\"yref\":\"y\"},{\"font\":{\"color\":\"rgb(20,20,20)\",\"family\":\"Arial\",\"size\":14},\"showarrow\":false,\"text\":\"0.6307977622028461%\",\"x\":0.31539888110142306,\"xref\":\"x\",\"y\":\"Bexar County, Texas\",\"yref\":\"y\"},{\"font\":{\"color\":\"rgb(248, 248, 255)\",\"family\":\"Arial\",\"size\":14},\"showarrow\":false,\"text\":\"0.1106326913989387\",\"x\":0.6861141079023154,\"xref\":\"x\",\"y\":\"Bexar County, Texas\",\"yref\":\"y\"},{\"font\":{\"color\":\"rgb(248, 248, 255)\",\"family\":\"Arial\",\"size\":14},\"showarrow\":false,\"text\":\"0.04710087027731045\",\"x\":0.76498088874044,\"xref\":\"x\",\"y\":\"Bexar County, Texas\",\"yref\":\"y\"},{\"font\":{\"color\":\"rgb(248, 248, 255)\",\"family\":\"Arial\",\"size\":14},\"showarrow\":false,\"text\":\"0.2114686761209047\",\"x\":0.8942656619395477,\"xref\":\"x\",\"y\":\"Bexar County, Texas\",\"yref\":\"y\"},{\"align\":\"right\",\"font\":{\"color\":\"rgb(67, 67, 67)\",\"family\":\"Arial\",\"size\":14},\"showarrow\":false,\"text\":\"Oakland County, Michigan\",\"x\":0.14,\"xanchor\":\"right\",\"xref\":\"paper\",\"y\":\"Oakland County, Michigan\",\"yref\":\"y\"},{\"font\":{\"color\":\"rgb(20,20,20)\",\"family\":\"Arial\",\"size\":14},\"showarrow\":false,\"text\":\"0.749098550637136%\",\"x\":0.374549275318568,\"xref\":\"x\",\"y\":\"Oakland County, Michigan\",\"yref\":\"y\"},{\"font\":{\"color\":\"rgb(248, 248, 255)\",\"family\":\"Arial\",\"size\":14},\"showarrow\":false,\"text\":\"0.14318621679731394\",\"x\":0.820691659035793,\"xref\":\"x\",\"y\":\"Oakland County, Michigan\",\"yref\":\"y\"},{\"font\":{\"color\":\"rgb(248, 248, 255)\",\"family\":\"Arial\",\"size\":14},\"showarrow\":false,\"text\":\"0.08886529746990417\",\"x\":0.9367174161694021,\"xref\":\"x\",\"y\":\"Oakland County, Michigan\",\"yref\":\"y\"},{\"font\":{\"color\":\"rgb(248, 248, 255)\",\"family\":\"Arial\",\"size\":14},\"showarrow\":false,\"text\":\"0.018849935095645875\",\"x\":0.990575032452177,\"xref\":\"x\",\"y\":\"Oakland County, Michigan\",\"yref\":\"y\"},{\"align\":\"right\",\"font\":{\"color\":\"rgb(67, 67, 67)\",\"family\":\"Arial\",\"size\":14},\"showarrow\":false,\"text\":\"Wayne County, Michigan\",\"x\":0.14,\"xanchor\":\"right\",\"xref\":\"paper\",\"y\":\"Wayne County, Michigan\",\"yref\":\"y\"},{\"font\":{\"color\":\"rgb(20,20,20)\",\"family\":\"Arial\",\"size\":14},\"showarrow\":false,\"text\":\"0.5267979357503798%\",\"x\":0.2633989678751899,\"xref\":\"x\",\"y\":\"Wayne County, Michigan\",\"yref\":\"y\"},{\"font\":{\"color\":\"rgb(248, 248, 255)\",\"family\":\"Arial\",\"size\":14},\"showarrow\":false,\"text\":\"0.40281043586230775\",\"x\":0.7282031536815337,\"xref\":\"x\",\"y\":\"Wayne County, Michigan\",\"yref\":\"y\"},{\"font\":{\"color\":\"rgb(248, 248, 255)\",\"family\":\"Arial\",\"size\":14},\"showarrow\":false,\"text\":\"0.038770046293394464\",\"x\":0.9489933947593847,\"xref\":\"x\",\"y\":\"Wayne County, Michigan\",\"yref\":\"y\"},{\"font\":{\"color\":\"rgb(248, 248, 255)\",\"family\":\"Arial\",\"size\":14},\"showarrow\":false,\"text\":\"0.03162158209391799\",\"x\":0.984189208953041,\"xref\":\"x\",\"y\":\"Wayne County, Michigan\",\"yref\":\"y\"},{\"align\":\"right\",\"font\":{\"color\":\"rgb(67, 67, 67)\",\"family\":\"Arial\",\"size\":14},\"showarrow\":false,\"text\":\"Palm Beach County, Florida\",\"x\":0.14,\"xanchor\":\"right\",\"xref\":\"paper\",\"y\":\"Palm Beach County, Florida\",\"yref\":\"y\"},{\"font\":{\"color\":\"rgb(20,20,20)\",\"family\":\"Arial\",\"size\":14},\"showarrow\":false,\"text\":\"0.6718344914222902%\",\"x\":0.3359172457111451,\"xref\":\"x\",\"y\":\"Palm Beach County, Florida\",\"yref\":\"y\"},{\"font\":{\"color\":\"rgb(248, 248, 255)\",\"family\":\"Arial\",\"size\":14},\"showarrow\":false,\"text\":\"0.206039335767283\",\"x\":0.7748541593059317,\"xref\":\"x\",\"y\":\"Palm Beach County, Florida\",\"yref\":\"y\"},{\"font\":{\"color\":\"rgb(248, 248, 255)\",\"family\":\"Arial\",\"size\":14},\"showarrow\":false,\"text\":\"0.03465630275193342\",\"x\":0.8952019785655398,\"xref\":\"x\",\"y\":\"Palm Beach County, Florida\",\"yref\":\"y\"},{\"font\":{\"color\":\"rgb(248, 248, 255)\",\"family\":\"Arial\",\"size\":14},\"showarrow\":false,\"text\":\"0.08746987005849331\",\"x\":0.9562650649707533,\"xref\":\"x\",\"y\":\"Palm Beach County, Florida\",\"yref\":\"y\"},{\"align\":\"right\",\"font\":{\"color\":\"rgb(67, 67, 67)\",\"family\":\"Arial\",\"size\":14},\"showarrow\":false,\"text\":\"Hennepin County, Minnesota\",\"x\":0.14,\"xanchor\":\"right\",\"xref\":\"paper\",\"y\":\"Hennepin County, Minnesota\",\"yref\":\"y\"},{\"font\":{\"color\":\"rgb(20,20,20)\",\"family\":\"Arial\",\"size\":14},\"showarrow\":false,\"text\":\"0.7255792563152451%\",\"x\":0.36278962815762256,\"xref\":\"x\",\"y\":\"Hennepin County, Minnesota\",\"yref\":\"y\"},{\"font\":{\"color\":\"rgb(248, 248, 255)\",\"family\":\"Arial\",\"size\":14},\"showarrow\":false,\"text\":\"0.14552873605156225\",\"x\":0.7983436243410262,\"xref\":\"x\",\"y\":\"Hennepin County, Minnesota\",\"yref\":\"y\"},{\"font\":{\"color\":\"rgb(248, 248, 255)\",\"family\":\"Arial\",\"size\":14},\"showarrow\":false,\"text\":\"0.08303854694421982\",\"x\":0.9126272658389173,\"xref\":\"x\",\"y\":\"Hennepin County, Minnesota\",\"yref\":\"y\"},{\"font\":{\"color\":\"rgb(248, 248, 255)\",\"family\":\"Arial\",\"size\":14},\"showarrow\":false,\"text\":\"0.04585346068897286\",\"x\":0.9770732696555137,\"xref\":\"x\",\"y\":\"Hennepin County, Minnesota\",\"yref\":\"y\"},{\"align\":\"right\",\"font\":{\"color\":\"rgb(67, 67, 67)\",\"family\":\"Arial\",\"size\":14},\"showarrow\":false,\"text\":\"Salt Lake County, Utah\",\"x\":0.14,\"xanchor\":\"right\",\"xref\":\"paper\",\"y\":\"Salt Lake County, Utah\",\"yref\":\"y\"},{\"font\":{\"color\":\"rgb(20,20,20)\",\"family\":\"Arial\",\"size\":14},\"showarrow\":false,\"text\":\"0.820591775986003%\",\"x\":0.4102958879930015,\"xref\":\"x\",\"y\":\"Salt Lake County, Utah\",\"yref\":\"y\"},{\"font\":{\"color\":\"rgb(248, 248, 255)\",\"family\":\"Arial\",\"size\":14},\"showarrow\":false,\"text\":\"0.022716100038321443\",\"x\":0.8319498260051637,\"xref\":\"x\",\"y\":\"Salt Lake County, Utah\",\"yref\":\"y\"},{\"font\":{\"color\":\"rgb(248, 248, 255)\",\"family\":\"Arial\",\"size\":14},\"showarrow\":false,\"text\":\"0.049382405425387375\",\"x\":0.8679990787370181,\"xref\":\"x\",\"y\":\"Salt Lake County, Utah\",\"yref\":\"y\"},{\"font\":{\"color\":\"rgb(248, 248, 255)\",\"family\":\"Arial\",\"size\":14},\"showarrow\":false,\"text\":\"0.10730971855028819\",\"x\":0.946345140724856,\"xref\":\"x\",\"y\":\"Salt Lake County, Utah\",\"yref\":\"y\"},{\"align\":\"right\",\"font\":{\"color\":\"rgb(67, 67, 67)\",\"family\":\"Arial\",\"size\":14},\"showarrow\":false,\"text\":\"New York County, New York\",\"x\":0.14,\"xanchor\":\"right\",\"xref\":\"paper\",\"y\":\"New York County, New York\",\"yref\":\"y\"},{\"font\":{\"color\":\"rgb(20,20,20)\",\"family\":\"Arial\",\"size\":14},\"showarrow\":false,\"text\":\"0.5624274242458426%\",\"x\":0.2812137121229213,\"xref\":\"x\",\"y\":\"New York County, New York\",\"yref\":\"y\"},{\"font\":{\"color\":\"rgb(248, 248, 255)\",\"family\":\"Arial\",\"size\":14},\"showarrow\":false,\"text\":\"0.1521924347365641\",\"x\":0.6385236416141247,\"xref\":\"x\",\"y\":\"New York County, New York\",\"yref\":\"y\"},{\"font\":{\"color\":\"rgb(248, 248, 255)\",\"family\":\"Arial\",\"size\":14},\"showarrow\":false,\"text\":\"0.14730472726114532\",\"x\":0.7882722226129794,\"xref\":\"x\",\"y\":\"New York County, New York\",\"yref\":\"y\"},{\"font\":{\"color\":\"rgb(248, 248, 255)\",\"family\":\"Arial\",\"size\":14},\"showarrow\":false,\"text\":\"0.13807541375644805\",\"x\":0.930962293121776,\"xref\":\"x\",\"y\":\"New York County, New York\",\"yref\":\"y\"},{\"align\":\"right\",\"font\":{\"color\":\"rgb(67, 67, 67)\",\"family\":\"Arial\",\"size\":14},\"showarrow\":false,\"text\":\"Nassau County, New York\",\"x\":0.14,\"xanchor\":\"right\",\"xref\":\"paper\",\"y\":\"Nassau County, New York\",\"yref\":\"y\"},{\"font\":{\"color\":\"rgb(20,20,20)\",\"family\":\"Arial\",\"size\":14},\"showarrow\":false,\"text\":\"0.6425461684891364%\",\"x\":0.3212730842445682,\"xref\":\"x\",\"y\":\"Nassau County, New York\",\"yref\":\"y\"},{\"font\":{\"color\":\"rgb(248, 248, 255)\",\"family\":\"Arial\",\"size\":14},\"showarrow\":false,\"text\":\"0.12051652410071009\",\"x\":0.7028044305394914,\"xref\":\"x\",\"y\":\"Nassau County, New York\",\"yref\":\"y\"},{\"font\":{\"color\":\"rgb(248, 248, 255)\",\"family\":\"Arial\",\"size\":14},\"showarrow\":false,\"text\":\"0.1291082230114742\",\"x\":0.8276168040955836,\"xref\":\"x\",\"y\":\"Nassau County, New York\",\"yref\":\"y\"},{\"font\":{\"color\":\"rgb(248, 248, 255)\",\"family\":\"Arial\",\"size\":14},\"showarrow\":false,\"text\":\"0.10782908439867936\",\"x\":0.9460854578006603,\"xref\":\"x\",\"y\":\"Nassau County, New York\",\"yref\":\"y\"},{\"align\":\"right\",\"font\":{\"color\":\"rgb(67, 67, 67)\",\"family\":\"Arial\",\"size\":14},\"showarrow\":false,\"text\":\"Franklin County, Ohio\",\"x\":0.14,\"xanchor\":\"right\",\"xref\":\"paper\",\"y\":\"Franklin County, Ohio\",\"yref\":\"y\"},{\"font\":{\"color\":\"rgb(20,20,20)\",\"family\":\"Arial\",\"size\":14},\"showarrow\":false,\"text\":\"0.6549269343428986%\",\"x\":0.3274634671714493,\"xref\":\"x\",\"y\":\"Franklin County, Ohio\",\"yref\":\"y\"},{\"font\":{\"color\":\"rgb(248, 248, 255)\",\"family\":\"Arial\",\"size\":14},\"showarrow\":false,\"text\":\"0.24458922495736818\",\"x\":0.7772215468215827,\"xref\":\"x\",\"y\":\"Franklin County, Ohio\",\"yref\":\"y\"},{\"font\":{\"color\":\"rgb(248, 248, 255)\",\"family\":\"Arial\",\"size\":14},\"showarrow\":false,\"text\":\"0.06043602777392482\",\"x\":0.9297341731872292,\"xref\":\"x\",\"y\":\"Franklin County, Ohio\",\"yref\":\"y\"},{\"font\":{\"color\":\"rgb(248, 248, 255)\",\"family\":\"Arial\",\"size\":14},\"showarrow\":false,\"text\":\"0.04004781292580837\",\"x\":0.9799760935370958,\"xref\":\"x\",\"y\":\"Franklin County, Ohio\",\"yref\":\"y\"},{\"align\":\"right\",\"font\":{\"color\":\"rgb(67, 67, 67)\",\"family\":\"Arial\",\"size\":14},\"showarrow\":false,\"text\":\"Miami-Dade County, Florida\",\"x\":0.14,\"xanchor\":\"right\",\"xref\":\"paper\",\"y\":\"Miami-Dade County, Florida\",\"yref\":\"y\"},{\"font\":{\"color\":\"rgb(20,20,20)\",\"family\":\"Arial\",\"size\":14},\"showarrow\":false,\"text\":\"0.5106854613896867%\",\"x\":0.25534273069484337,\"xref\":\"x\",\"y\":\"Miami-Dade County, Florida\",\"yref\":\"y\"},{\"font\":{\"color\":\"rgb(248, 248, 255)\",\"family\":\"Arial\",\"size\":14},\"showarrow\":false,\"text\":\"0.2563395661987211\",\"x\":0.6388552444890473,\"xref\":\"x\",\"y\":\"Miami-Dade County, Florida\",\"yref\":\"y\"},{\"font\":{\"color\":\"rgb(248, 248, 255)\",\"family\":\"Arial\",\"size\":14},\"showarrow\":false,\"text\":\"0.02827667616400011\",\"x\":0.7811633656704079,\"xref\":\"x\",\"y\":\"Miami-Dade County, Florida\",\"yref\":\"y\"},{\"font\":{\"color\":\"rgb(248, 248, 255)\",\"family\":\"Arial\",\"size\":14},\"showarrow\":false,\"text\":\"0.20469829624759203\",\"x\":0.897650851876204,\"xref\":\"x\",\"y\":\"Miami-Dade County, Florida\",\"yref\":\"y\"},{\"align\":\"right\",\"font\":{\"color\":\"rgb(67, 67, 67)\",\"family\":\"Arial\",\"size\":14},\"showarrow\":false,\"text\":\"San Bernardino County, California\",\"x\":0.14,\"xanchor\":\"right\",\"xref\":\"paper\",\"y\":\"San Bernardino County, California\",\"yref\":\"y\"},{\"font\":{\"color\":\"rgb(20,20,20)\",\"family\":\"Arial\",\"size\":14},\"showarrow\":false,\"text\":\"0.44202948478434223%\",\"x\":0.22101474239217112,\"xref\":\"x\",\"y\":\"San Bernardino County, California\",\"yref\":\"y\"},{\"font\":{\"color\":\"rgb(248, 248, 255)\",\"family\":\"Arial\",\"size\":14},\"showarrow\":false,\"text\":\"0.10423024878633923\",\"x\":0.49414460917751185,\"xref\":\"x\",\"y\":\"San Bernardino County, California\",\"yref\":\"y\"},{\"font\":{\"color\":\"rgb(248, 248, 255)\",\"family\":\"Arial\",\"size\":14},\"showarrow\":false,\"text\":\"0.10294768777574215\",\"x\":0.5977335774585526,\"xref\":\"x\",\"y\":\"San Bernardino County, California\",\"yref\":\"y\"},{\"font\":{\"color\":\"rgb(248, 248, 255)\",\"family\":\"Arial\",\"size\":14},\"showarrow\":false,\"text\":\"0.3507925786535764\",\"x\":0.8246037106732118,\"xref\":\"x\",\"y\":\"San Bernardino County, California\",\"yref\":\"y\"},{\"align\":\"right\",\"font\":{\"color\":\"rgb(67, 67, 67)\",\"family\":\"Arial\",\"size\":14},\"showarrow\":false,\"text\":\"Broward County, Florida\",\"x\":0.14,\"xanchor\":\"right\",\"xref\":\"paper\",\"y\":\"Broward County, Florida\",\"yref\":\"y\"},{\"font\":{\"color\":\"rgb(20,20,20)\",\"family\":\"Arial\",\"size\":14},\"showarrow\":false,\"text\":\"0.500356488542729%\",\"x\":0.2501782442713645,\"xref\":\"x\",\"y\":\"Broward County, Florida\",\"yref\":\"y\"},{\"font\":{\"color\":\"rgb(248, 248, 255)\",\"family\":\"Arial\",\"size\":14},\"showarrow\":false,\"text\":\"0.34289298510483857\",\"x\":0.6718029810951482,\"xref\":\"x\",\"y\":\"Broward County, Florida\",\"yref\":\"y\"},{\"font\":{\"color\":\"rgb(248, 248, 255)\",\"family\":\"Arial\",\"size\":14},\"showarrow\":false,\"text\":\"0.04894271815745061\",\"x\":0.8677208327262929,\"xref\":\"x\",\"y\":\"Broward County, Florida\",\"yref\":\"y\"},{\"font\":{\"color\":\"rgb(248, 248, 255)\",\"family\":\"Arial\",\"size\":14},\"showarrow\":false,\"text\":\"0.10780780819498183\",\"x\":0.9460960959025091,\"xref\":\"x\",\"y\":\"Broward County, Florida\",\"yref\":\"y\"},{\"align\":\"right\",\"font\":{\"color\":\"rgb(67, 67, 67)\",\"family\":\"Arial\",\"size\":14},\"showarrow\":false,\"text\":\"Hillsborough County, Florida\",\"x\":0.14,\"xanchor\":\"right\",\"xref\":\"paper\",\"y\":\"Hillsborough County, Florida\",\"yref\":\"y\"},{\"font\":{\"color\":\"rgb(20,20,20)\",\"family\":\"Arial\",\"size\":14},\"showarrow\":false,\"text\":\"0.6366173532710777%\",\"x\":0.31830867663553886,\"xref\":\"x\",\"y\":\"Hillsborough County, Florida\",\"yref\":\"y\"},{\"font\":{\"color\":\"rgb(248, 248, 255)\",\"family\":\"Arial\",\"size\":14},\"showarrow\":false,\"text\":\"0.19698312194280176\",\"x\":0.7351089142424786,\"xref\":\"x\",\"y\":\"Hillsborough County, Florida\",\"yref\":\"y\"},{\"font\":{\"color\":\"rgb(248, 248, 255)\",\"family\":\"Arial\",\"size\":14},\"showarrow\":false,\"text\":\"0.05897032568079698\",\"x\":0.863085638054278,\"xref\":\"x\",\"y\":\"Hillsborough County, Florida\",\"yref\":\"y\"},{\"font\":{\"color\":\"rgb(248, 248, 255)\",\"family\":\"Arial\",\"size\":14},\"showarrow\":false,\"text\":\"0.10742919910532359\",\"x\":0.9462854004473382,\"xref\":\"x\",\"y\":\"Hillsborough County, Florida\",\"yref\":\"y\"},{\"align\":\"right\",\"font\":{\"color\":\"rgb(67, 67, 67)\",\"family\":\"Arial\",\"size\":14},\"showarrow\":false,\"text\":\"Cuyahoga County, Ohio\",\"x\":0.14,\"xanchor\":\"right\",\"xref\":\"paper\",\"y\":\"Cuyahoga County, Ohio\",\"yref\":\"y\"},{\"font\":{\"color\":\"rgb(20,20,20)\",\"family\":\"Arial\",\"size\":14},\"showarrow\":false,\"text\":\"0.6202538258406233%\",\"x\":0.31012691292031164,\"xref\":\"x\",\"y\":\"Cuyahoga County, Ohio\",\"yref\":\"y\"},{\"font\":{\"color\":\"rgb(248, 248, 255)\",\"family\":\"Arial\",\"size\":14},\"showarrow\":false,\"text\":\"0.31251737869460516\",\"x\":0.7765125151879259,\"xref\":\"x\",\"y\":\"Cuyahoga County, Ohio\",\"yref\":\"y\"},{\"font\":{\"color\":\"rgb(248, 248, 255)\",\"family\":\"Arial\",\"size\":14},\"showarrow\":false,\"text\":\"0.037134373330592066\",\"x\":0.9513383912005244,\"xref\":\"x\",\"y\":\"Cuyahoga County, Ohio\",\"yref\":\"y\"},{\"font\":{\"color\":\"rgb(248, 248, 255)\",\"family\":\"Arial\",\"size\":14},\"showarrow\":false,\"text\":\"0.03009442213417953\",\"x\":0.9849527889329103,\"xref\":\"x\",\"y\":\"Cuyahoga County, Ohio\",\"yref\":\"y\"},{\"align\":\"right\",\"font\":{\"color\":\"rgb(67, 67, 67)\",\"family\":\"Arial\",\"size\":14},\"showarrow\":false,\"text\":\"Sacramento County, California\",\"x\":0.14,\"xanchor\":\"right\",\"xref\":\"paper\",\"y\":\"Sacramento County, California\",\"yref\":\"y\"},{\"font\":{\"color\":\"rgb(20,20,20)\",\"family\":\"Arial\",\"size\":14},\"showarrow\":false,\"text\":\"0.5357862310839288%\",\"x\":0.2678931155419644,\"xref\":\"x\",\"y\":\"Sacramento County, California\",\"yref\":\"y\"},{\"font\":{\"color\":\"rgb(67, 67, 67)\",\"family\":\"Arial\",\"size\":14},\"showarrow\":false,\"text\":\"White\",\"x\":0.2678931155419644,\"xref\":\"x\",\"y\":1.1,\"yref\":\"paper\"},{\"font\":{\"color\":\"rgb(248, 248, 255)\",\"family\":\"Arial\",\"size\":14},\"showarrow\":false,\"text\":\"0.11438164144523837\",\"x\":0.5929770518065479,\"xref\":\"x\",\"y\":\"Sacramento County, California\",\"yref\":\"y\"},{\"font\":{\"color\":\"rgb(67, 67, 67)\",\"family\":\"Arial\",\"size\":14},\"showarrow\":false,\"text\":\"Black\",\"x\":0.5929770518065479,\"xref\":\"x\",\"y\":1.1,\"yref\":\"paper\"},{\"font\":{\"color\":\"rgb(248, 248, 255)\",\"family\":\"Arial\",\"size\":14},\"showarrow\":false,\"text\":\"0.2109040412925249\",\"x\":0.7556198931754295,\"xref\":\"x\",\"y\":\"Sacramento County, California\",\"yref\":\"y\"},{\"font\":{\"color\":\"rgb(67, 67, 67)\",\"family\":\"Arial\",\"size\":14},\"showarrow\":false,\"text\":\"Asian\",\"x\":0.7556198931754295,\"xref\":\"x\",\"y\":1.1,\"yref\":\"paper\"},{\"font\":{\"color\":\"rgb(248, 248, 255)\",\"family\":\"Arial\",\"size\":14},\"showarrow\":false,\"text\":\"0.13892808617830796\",\"x\":0.930535956910846,\"xref\":\"x\",\"y\":\"Sacramento County, California\",\"yref\":\"y\"},{\"font\":{\"color\":\"rgb(67, 67, 67)\",\"family\":\"Arial\",\"size\":14},\"showarrow\":false,\"text\":\"Other\",\"x\":0.930535956910846,\"xref\":\"x\",\"y\":1.1,\"yref\":\"paper\"}],\"barmode\":\"stack\",\"height\":800,\"margin\":{\"b\":80,\"l\":120,\"r\":10,\"t\":140},\"paper_bgcolor\":\"rgb(255, 255, 255)\",\"plot_bgcolor\":\"rgb(255, 255, 255)\",\"showlegend\":false,\"template\":{\"data\":{\"bar\":[{\"error_x\":{\"color\":\"#2a3f5f\"},\"error_y\":{\"color\":\"#2a3f5f\"},\"marker\":{\"line\":{\"color\":\"#E5ECF6\",\"width\":0.5},\"pattern\":{\"fillmode\":\"overlay\",\"size\":10,\"solidity\":0.2}},\"type\":\"bar\"}],\"barpolar\":[{\"marker\":{\"line\":{\"color\":\"#E5ECF6\",\"width\":0.5},\"pattern\":{\"fillmode\":\"overlay\",\"size\":10,\"solidity\":0.2}},\"type\":\"barpolar\"}],\"carpet\":[{\"aaxis\":{\"endlinecolor\":\"#2a3f5f\",\"gridcolor\":\"white\",\"linecolor\":\"white\",\"minorgridcolor\":\"white\",\"startlinecolor\":\"#2a3f5f\"},\"baxis\":{\"endlinecolor\":\"#2a3f5f\",\"gridcolor\":\"white\",\"linecolor\":\"white\",\"minorgridcolor\":\"white\",\"startlinecolor\":\"#2a3f5f\"},\"type\":\"carpet\"}],\"choropleth\":[{\"colorbar\":{\"outlinewidth\":0,\"ticks\":\"\"},\"type\":\"choropleth\"}],\"contour\":[{\"colorbar\":{\"outlinewidth\":0,\"ticks\":\"\"},\"colorscale\":[[0.0,\"#0d0887\"],[0.1111111111111111,\"#46039f\"],[0.2222222222222222,\"#7201a8\"],[0.3333333333333333,\"#9c179e\"],[0.4444444444444444,\"#bd3786\"],[0.5555555555555556,\"#d8576b\"],[0.6666666666666666,\"#ed7953\"],[0.7777777777777778,\"#fb9f3a\"],[0.8888888888888888,\"#fdca26\"],[1.0,\"#f0f921\"]],\"type\":\"contour\"}],\"contourcarpet\":[{\"colorbar\":{\"outlinewidth\":0,\"ticks\":\"\"},\"type\":\"contourcarpet\"}],\"heatmap\":[{\"colorbar\":{\"outlinewidth\":0,\"ticks\":\"\"},\"colorscale\":[[0.0,\"#0d0887\"],[0.1111111111111111,\"#46039f\"],[0.2222222222222222,\"#7201a8\"],[0.3333333333333333,\"#9c179e\"],[0.4444444444444444,\"#bd3786\"],[0.5555555555555556,\"#d8576b\"],[0.6666666666666666,\"#ed7953\"],[0.7777777777777778,\"#fb9f3a\"],[0.8888888888888888,\"#fdca26\"],[1.0,\"#f0f921\"]],\"type\":\"heatmap\"}],\"heatmapgl\":[{\"colorbar\":{\"outlinewidth\":0,\"ticks\":\"\"},\"colorscale\":[[0.0,\"#0d0887\"],[0.1111111111111111,\"#46039f\"],[0.2222222222222222,\"#7201a8\"],[0.3333333333333333,\"#9c179e\"],[0.4444444444444444,\"#bd3786\"],[0.5555555555555556,\"#d8576b\"],[0.6666666666666666,\"#ed7953\"],[0.7777777777777778,\"#fb9f3a\"],[0.8888888888888888,\"#fdca26\"],[1.0,\"#f0f921\"]],\"type\":\"heatmapgl\"}],\"histogram\":[{\"marker\":{\"pattern\":{\"fillmode\":\"overlay\",\"size\":10,\"solidity\":0.2}},\"type\":\"histogram\"}],\"histogram2d\":[{\"colorbar\":{\"outlinewidth\":0,\"ticks\":\"\"},\"colorscale\":[[0.0,\"#0d0887\"],[0.1111111111111111,\"#46039f\"],[0.2222222222222222,\"#7201a8\"],[0.3333333333333333,\"#9c179e\"],[0.4444444444444444,\"#bd3786\"],[0.5555555555555556,\"#d8576b\"],[0.6666666666666666,\"#ed7953\"],[0.7777777777777778,\"#fb9f3a\"],[0.8888888888888888,\"#fdca26\"],[1.0,\"#f0f921\"]],\"type\":\"histogram2d\"}],\"histogram2dcontour\":[{\"colorbar\":{\"outlinewidth\":0,\"ticks\":\"\"},\"colorscale\":[[0.0,\"#0d0887\"],[0.1111111111111111,\"#46039f\"],[0.2222222222222222,\"#7201a8\"],[0.3333333333333333,\"#9c179e\"],[0.4444444444444444,\"#bd3786\"],[0.5555555555555556,\"#d8576b\"],[0.6666666666666666,\"#ed7953\"],[0.7777777777777778,\"#fb9f3a\"],[0.8888888888888888,\"#fdca26\"],[1.0,\"#f0f921\"]],\"type\":\"histogram2dcontour\"}],\"mesh3d\":[{\"colorbar\":{\"outlinewidth\":0,\"ticks\":\"\"},\"type\":\"mesh3d\"}],\"parcoords\":[{\"line\":{\"colorbar\":{\"outlinewidth\":0,\"ticks\":\"\"}},\"type\":\"parcoords\"}],\"pie\":[{\"automargin\":true,\"type\":\"pie\"}],\"scatter\":[{\"marker\":{\"colorbar\":{\"outlinewidth\":0,\"ticks\":\"\"}},\"type\":\"scatter\"}],\"scatter3d\":[{\"line\":{\"colorbar\":{\"outlinewidth\":0,\"ticks\":\"\"}},\"marker\":{\"colorbar\":{\"outlinewidth\":0,\"ticks\":\"\"}},\"type\":\"scatter3d\"}],\"scattercarpet\":[{\"marker\":{\"colorbar\":{\"outlinewidth\":0,\"ticks\":\"\"}},\"type\":\"scattercarpet\"}],\"scattergeo\":[{\"marker\":{\"colorbar\":{\"outlinewidth\":0,\"ticks\":\"\"}},\"type\":\"scattergeo\"}],\"scattergl\":[{\"marker\":{\"colorbar\":{\"outlinewidth\":0,\"ticks\":\"\"}},\"type\":\"scattergl\"}],\"scattermapbox\":[{\"marker\":{\"colorbar\":{\"outlinewidth\":0,\"ticks\":\"\"}},\"type\":\"scattermapbox\"}],\"scatterpolar\":[{\"marker\":{\"colorbar\":{\"outlinewidth\":0,\"ticks\":\"\"}},\"type\":\"scatterpolar\"}],\"scatterpolargl\":[{\"marker\":{\"colorbar\":{\"outlinewidth\":0,\"ticks\":\"\"}},\"type\":\"scatterpolargl\"}],\"scatterternary\":[{\"marker\":{\"colorbar\":{\"outlinewidth\":0,\"ticks\":\"\"}},\"type\":\"scatterternary\"}],\"surface\":[{\"colorbar\":{\"outlinewidth\":0,\"ticks\":\"\"},\"colorscale\":[[0.0,\"#0d0887\"],[0.1111111111111111,\"#46039f\"],[0.2222222222222222,\"#7201a8\"],[0.3333333333333333,\"#9c179e\"],[0.4444444444444444,\"#bd3786\"],[0.5555555555555556,\"#d8576b\"],[0.6666666666666666,\"#ed7953\"],[0.7777777777777778,\"#fb9f3a\"],[0.8888888888888888,\"#fdca26\"],[1.0,\"#f0f921\"]],\"type\":\"surface\"}],\"table\":[{\"cells\":{\"fill\":{\"color\":\"#EBF0F8\"},\"line\":{\"color\":\"white\"}},\"header\":{\"fill\":{\"color\":\"#C8D4E3\"},\"line\":{\"color\":\"white\"}},\"type\":\"table\"}]},\"layout\":{\"annotationdefaults\":{\"arrowcolor\":\"#2a3f5f\",\"arrowhead\":0,\"arrowwidth\":1},\"autotypenumbers\":\"strict\",\"coloraxis\":{\"colorbar\":{\"outlinewidth\":0,\"ticks\":\"\"}},\"colorscale\":{\"diverging\":[[0,\"#8e0152\"],[0.1,\"#c51b7d\"],[0.2,\"#de77ae\"],[0.3,\"#f1b6da\"],[0.4,\"#fde0ef\"],[0.5,\"#f7f7f7\"],[0.6,\"#e6f5d0\"],[0.7,\"#b8e186\"],[0.8,\"#7fbc41\"],[0.9,\"#4d9221\"],[1,\"#276419\"]],\"sequential\":[[0.0,\"#0d0887\"],[0.1111111111111111,\"#46039f\"],[0.2222222222222222,\"#7201a8\"],[0.3333333333333333,\"#9c179e\"],[0.4444444444444444,\"#bd3786\"],[0.5555555555555556,\"#d8576b\"],[0.6666666666666666,\"#ed7953\"],[0.7777777777777778,\"#fb9f3a\"],[0.8888888888888888,\"#fdca26\"],[1.0,\"#f0f921\"]],\"sequentialminus\":[[0.0,\"#0d0887\"],[0.1111111111111111,\"#46039f\"],[0.2222222222222222,\"#7201a8\"],[0.3333333333333333,\"#9c179e\"],[0.4444444444444444,\"#bd3786\"],[0.5555555555555556,\"#d8576b\"],[0.6666666666666666,\"#ed7953\"],[0.7777777777777778,\"#fb9f3a\"],[0.8888888888888888,\"#fdca26\"],[1.0,\"#f0f921\"]]},\"colorway\":[\"#636efa\",\"#EF553B\",\"#00cc96\",\"#ab63fa\",\"#FFA15A\",\"#19d3f3\",\"#FF6692\",\"#B6E880\",\"#FF97FF\",\"#FECB52\"],\"font\":{\"color\":\"#2a3f5f\"},\"geo\":{\"bgcolor\":\"white\",\"lakecolor\":\"white\",\"landcolor\":\"#E5ECF6\",\"showlakes\":true,\"showland\":true,\"subunitcolor\":\"white\"},\"hoverlabel\":{\"align\":\"left\"},\"hovermode\":\"closest\",\"mapbox\":{\"style\":\"light\"},\"paper_bgcolor\":\"white\",\"plot_bgcolor\":\"#E5ECF6\",\"polar\":{\"angularaxis\":{\"gridcolor\":\"white\",\"linecolor\":\"white\",\"ticks\":\"\"},\"bgcolor\":\"#E5ECF6\",\"radialaxis\":{\"gridcolor\":\"white\",\"linecolor\":\"white\",\"ticks\":\"\"}},\"scene\":{\"xaxis\":{\"backgroundcolor\":\"#E5ECF6\",\"gridcolor\":\"white\",\"gridwidth\":2,\"linecolor\":\"white\",\"showbackground\":true,\"ticks\":\"\",\"zerolinecolor\":\"white\"},\"yaxis\":{\"backgroundcolor\":\"#E5ECF6\",\"gridcolor\":\"white\",\"gridwidth\":2,\"linecolor\":\"white\",\"showbackground\":true,\"ticks\":\"\",\"zerolinecolor\":\"white\"},\"zaxis\":{\"backgroundcolor\":\"#E5ECF6\",\"gridcolor\":\"white\",\"gridwidth\":2,\"linecolor\":\"white\",\"showbackground\":true,\"ticks\":\"\",\"zerolinecolor\":\"white\"}},\"shapedefaults\":{\"line\":{\"color\":\"#2a3f5f\"}},\"ternary\":{\"aaxis\":{\"gridcolor\":\"white\",\"linecolor\":\"white\",\"ticks\":\"\"},\"baxis\":{\"gridcolor\":\"white\",\"linecolor\":\"white\",\"ticks\":\"\"},\"bgcolor\":\"#E5ECF6\",\"caxis\":{\"gridcolor\":\"white\",\"linecolor\":\"white\",\"ticks\":\"\"}},\"title\":{\"x\":0.05},\"xaxis\":{\"automargin\":true,\"gridcolor\":\"white\",\"linecolor\":\"white\",\"ticks\":\"\",\"title\":{\"standoff\":15},\"zerolinecolor\":\"white\",\"zerolinewidth\":2},\"yaxis\":{\"automargin\":true,\"gridcolor\":\"white\",\"linecolor\":\"white\",\"ticks\":\"\",\"title\":{\"standoff\":15},\"zerolinecolor\":\"white\",\"zerolinewidth\":2}}},\"xaxis\":{\"domain\":[0.15,1],\"showgrid\":false,\"showline\":false,\"showticklabels\":false,\"zeroline\":false},\"yaxis\":{\"showgrid\":false,\"showline\":false,\"showticklabels\":false,\"zeroline\":false}},                        {\"responsive\": true}                    ).then(function(){\n",
       "                            \n",
       "var gd = document.getElementById('3bfa9bf3-465b-4feb-b028-bd5c740c24de');\n",
       "var x = new MutationObserver(function (mutations, observer) {{\n",
       "        var display = window.getComputedStyle(gd).display;\n",
       "        if (!display || display === 'none') {{\n",
       "            console.log([gd, 'removed!']);\n",
       "            Plotly.purge(gd);\n",
       "            observer.disconnect();\n",
       "        }}\n",
       "}});\n",
       "\n",
       "// Listen for the removal of the full notebook cells\n",
       "var notebookContainer = gd.closest('#notebook-container');\n",
       "if (notebookContainer) {{\n",
       "    x.observe(notebookContainer, {childList: true});\n",
       "}}\n",
       "\n",
       "// Listen for the clearing of the current output cell\n",
       "var outputEl = gd.closest('.output');\n",
       "if (outputEl) {{\n",
       "    x.observe(outputEl, {childList: true});\n",
       "}}\n",
       "\n",
       "                        })                };                });            </script>        </div>"
      ]
     },
     "metadata": {},
     "output_type": "display_data"
    }
   ],
   "source": [
    "for i in range(0, len(x_data[0])):\n",
    "    for xd, yd in zip(x_data, y_data):\n",
    "        fig.add_trace(go.Bar(\n",
    "            x=[xd[i]], y=[yd],\n",
    "            orientation='h',\n",
    "            marker=dict(\n",
    "                color=colors[i],\n",
    "                line=dict(color='rgb(248, 248, 249)', width=1)\n",
    "            )\n",
    "        ))\n",
    "\n",
    "fig.update_layout(\n",
    "    xaxis=dict(\n",
    "        showgrid=False,\n",
    "        showline=False,\n",
    "        showticklabels=False,\n",
    "        zeroline=False,\n",
    "        domain=[0.15, 1]\n",
    "    ),\n",
    "    yaxis=dict(\n",
    "        showgrid=False,\n",
    "        showline=False,\n",
    "        showticklabels=False,\n",
    "        zeroline=False,\n",
    "    ),\n",
    "    barmode='stack',\n",
    "    paper_bgcolor='rgb(255, 255, 255)',\n",
    "    plot_bgcolor='rgb(255, 255, 255)',\n",
    "    margin=dict(l=120, r=10, t=140, b=80),\n",
    "    showlegend=False,\n",
    "    height=800\n",
    ")\n",
    "\n",
    "annotations = []\n",
    "\n",
    "for yd, xd in zip(y_data, x_data):\n",
    "    # labeling the y-axis\n",
    "    annotations.append(dict(xref='paper', yref='y',\n",
    "                            x=0.14, y=yd,\n",
    "                            xanchor='right',\n",
    "                            text=str(yd),\n",
    "                            font=dict(family='Arial', size=14,\n",
    "                                      color='rgb(67, 67, 67)'),\n",
    "                            showarrow=False, align='right'))\n",
    "    # labeling the first percentage of each bar (x_axis)\n",
    "    annotations.append(dict(xref='x', yref='y',\n",
    "                            x=xd[0] / 2, y=yd,\n",
    "                            text=str(xd[0]) + '%',\n",
    "                            font=dict(family='Arial', size=14,\n",
    "                                      color='rgb(20,20,20)'),\n",
    "                            showarrow=False))\n",
    "    # labeling the first Likert scale (on the top)\n",
    "    if yd == y_data[-1]:\n",
    "        annotations.append(dict(xref='x', yref='paper',\n",
    "                                x=xd[0] / 2, y=1.1,\n",
    "                                text=top_labels[0],\n",
    "                                font=dict(family='Arial', size=14,\n",
    "                                          color='rgb(67, 67, 67)'),\n",
    "                                showarrow=False))\n",
    "    space = xd[0]\n",
    "    for i in range(1, len(xd)):\n",
    "            # labeling the rest of percentages for each bar (x_axis)\n",
    "            annotations.append(dict(xref='x', yref='y',\n",
    "                                    x=space + (xd[i]/2), y=yd,\n",
    "                                    text=str(xd[i]) ,\n",
    "                                    font=dict(family='Arial', size=14,\n",
    "                                              color='rgb(248, 248, 255)'),\n",
    "                                    showarrow=False))\n",
    "            # labeling the Likert scale\n",
    "            if yd == y_data[-1]:\n",
    "                annotations.append(dict(xref='x', yref='paper',\n",
    "                                        x=space + (xd[i]/2), y=1.1,\n",
    "                                        text=top_labels[i],\n",
    "                                        font=dict(family='Arial', size=14,\n",
    "                                                  color='rgb(67, 67, 67)'),\n",
    "                                        showarrow=False))\n",
    "            space += xd[i]\n",
    "\n",
    "fig.update_layout(annotations=annotations)\n",
    "\n",
    "fig.show()"
   ]
  },
  {
   "cell_type": "code",
   "execution_count": 215,
   "id": "2cadbf0d",
   "metadata": {
    "scrolled": true
   },
   "outputs": [
    {
     "name": "stdout",
     "output_type": "stream",
     "text": [
      "[[3259427, 794364, 1499984, 2784180], [2645512, 260469, 203696, 598605], [2345983, 1205824, 413271, 705153], [1720356, 907063, 349268, 895151], [1633129, 155813, 410752, 520994], [1383257, 53842, 706813, 548539], [1273054, 151468, 452475, 117830], [1112445, 84670, 210462, 85566], [1044549, 366727, 129437, 250491], [1028774, 772050, 373680, 302186], [1022846, 114294, 65779, 166174], [1016368, 286684, 237663, 348344], [995627, 156477, 171243, 637243], [946321, 163678, 58541, 14066], [924283, 574183, 183124, 477660], [919729, 161307, 68675, 308330], [893318, 170753, 105974, 22479], [882484, 674782, 64947, 52972], [855682, 262422, 44140, 111406], [855122, 171511, 97864, 54040], [847970, 23474, 51030, 110890], [847604, 229361, 221995, 208086], [817196, 153274, 164201, 137138], [802685, 299771, 74071, 49083], [796893, 400002, 44124, 319419], [782691, 184558, 182287, 621140], [776174, 531910, 75922, 167236], [767348, 237434, 71080, 129490], [736116, 370895, 44071, 35716], [715722, 152795, 281733, 185585]]\n"
     ]
    }
   ],
   "source": [
    "print(x_data)"
   ]
  },
  {
   "cell_type": "code",
   "execution_count": 219,
   "id": "311ac5ca",
   "metadata": {},
   "outputs": [
    {
     "name": "stdout",
     "output_type": "stream",
     "text": [
      "[[0.39091444 0.09527084 0.17989831 0.33391641]\n",
      " [0.71340637 0.0702398  0.05493002 0.16142381]\n",
      " [0.50232697 0.25819365 0.08849048 0.15098889]\n",
      " [0.44432541 0.23427194 0.09020729 0.23119537]\n",
      " [0.60026324 0.05726971 0.15097358 0.19149348]\n",
      " [0.51375383 0.01999739 0.26251657 0.20373221]\n",
      " [0.63817765 0.07593039 0.22682418 0.05906778]\n",
      " [0.74503581 0.05670589 0.14095234 0.05730596]\n",
      " [0.58315468 0.20473771 0.07226257 0.13984504]\n",
      " [0.41538263 0.31172654 0.15087879 0.12201204]\n",
      " [0.74709753 0.08348155 0.04804568 0.12137525]\n",
      " [0.53802872 0.15176022 0.12581026 0.1844008 ]\n",
      " [0.50782009 0.07981118 0.08734259 0.32502614]\n",
      " [0.80019973 0.13840451 0.04950169 0.01189407]\n",
      " [0.42805743 0.2659178  0.08480908 0.2212157 ]\n",
      " [0.63079776 0.11063269 0.04710087 0.21146868]\n",
      " [0.74909855 0.14318622 0.0888653  0.01884994]\n",
      " [0.52679794 0.40281044 0.03877005 0.03162158]\n",
      " [0.67183449 0.20603934 0.0346563  0.08746987]\n",
      " [0.72557926 0.14552874 0.08303855 0.04585346]\n",
      " [0.82059178 0.0227161  0.04938241 0.10730972]\n",
      " [0.56242742 0.15219243 0.14730473 0.13807541]\n",
      " [0.64254617 0.12051652 0.12910822 0.10782908]\n",
      " [0.65492693 0.24458922 0.06043603 0.04004781]\n",
      " [0.51068546 0.25633957 0.02827668 0.2046983 ]\n",
      " [0.44202948 0.10423025 0.10294769 0.35079258]\n",
      " [0.50035649 0.34289299 0.04894272 0.10780781]\n",
      " [0.63661735 0.19698312 0.05897033 0.1074292 ]\n",
      " [0.62025383 0.31251738 0.03713437 0.03009442]\n",
      " [0.53578623 0.11438164 0.21090404 0.13892809]]\n"
     ]
    },
    {
     "name": "stderr",
     "output_type": "stream",
     "text": [
      "<ipython-input-219-22ae3a35939f>:2: FutureWarning:\n",
      "\n",
      "Support for multi-dimensional indexing (e.g. `obj[:, None]`) is deprecated and will be removed in a future version.  Convert to a numpy array before indexing instead.\n",
      "\n"
     ]
    }
   ],
   "source": [
    "sum_of_rows = x_datax.sum(axis=1)\n",
    "normalized_array = x_data / sum_of_rows[:, np.newaxis]\n",
    "\n",
    "print(normalized_array)"
   ]
  },
  {
   "cell_type": "code",
   "execution_count": 212,
   "id": "cd2fac5b",
   "metadata": {},
   "outputs": [
    {
     "data": {
      "text/html": [
       "<div>\n",
       "<style scoped>\n",
       "    .dataframe tbody tr th:only-of-type {\n",
       "        vertical-align: middle;\n",
       "    }\n",
       "\n",
       "    .dataframe tbody tr th {\n",
       "        vertical-align: top;\n",
       "    }\n",
       "\n",
       "    .dataframe thead th {\n",
       "        text-align: right;\n",
       "    }\n",
       "</style>\n",
       "<table border=\"1\" class=\"dataframe\">\n",
       "  <thead>\n",
       "    <tr style=\"text-align: right;\">\n",
       "      <th></th>\n",
       "      <th>race_white</th>\n",
       "      <th>race_black</th>\n",
       "      <th>race_asian</th>\n",
       "      <th>race_other</th>\n",
       "    </tr>\n",
       "    <tr>\n",
       "      <th>geoid</th>\n",
       "      <th></th>\n",
       "      <th></th>\n",
       "      <th></th>\n",
       "      <th></th>\n",
       "    </tr>\n",
       "  </thead>\n",
       "  <tbody>\n",
       "    <tr>\n",
       "      <th>6037</th>\n",
       "      <td>1.000000</td>\n",
       "      <td>0.651998</td>\n",
       "      <td>1.000000</td>\n",
       "      <td>1.000000</td>\n",
       "    </tr>\n",
       "    <tr>\n",
       "      <th>4013</th>\n",
       "      <td>0.758653</td>\n",
       "      <td>0.200444</td>\n",
       "      <td>0.109639</td>\n",
       "      <td>0.211016</td>\n",
       "    </tr>\n",
       "    <tr>\n",
       "      <th>17031</th>\n",
       "      <td>0.640900</td>\n",
       "      <td>1.000000</td>\n",
       "      <td>0.253587</td>\n",
       "      <td>0.249480</td>\n",
       "    </tr>\n",
       "    <tr>\n",
       "      <th>48201</th>\n",
       "      <td>0.394949</td>\n",
       "      <td>0.747316</td>\n",
       "      <td>0.209626</td>\n",
       "      <td>0.318068</td>\n",
       "    </tr>\n",
       "    <tr>\n",
       "      <th>6073</th>\n",
       "      <td>0.360658</td>\n",
       "      <td>0.111929</td>\n",
       "      <td>0.251856</td>\n",
       "      <td>0.182999</td>\n",
       "    </tr>\n",
       "    <tr>\n",
       "      <th>6059</th>\n",
       "      <td>0.262426</td>\n",
       "      <td>0.025684</td>\n",
       "      <td>0.455207</td>\n",
       "      <td>0.192943</td>\n",
       "    </tr>\n",
       "    <tr>\n",
       "      <th>53033</th>\n",
       "      <td>0.219102</td>\n",
       "      <td>0.108254</td>\n",
       "      <td>0.280514</td>\n",
       "      <td>0.037458</td>\n",
       "    </tr>\n",
       "    <tr>\n",
       "      <th>25017</th>\n",
       "      <td>0.155963</td>\n",
       "      <td>0.051758</td>\n",
       "      <td>0.114286</td>\n",
       "      <td>0.025811</td>\n",
       "    </tr>\n",
       "    <tr>\n",
       "      <th>48439</th>\n",
       "      <td>0.129271</td>\n",
       "      <td>0.290314</td>\n",
       "      <td>0.058634</td>\n",
       "      <td>0.085348</td>\n",
       "    </tr>\n",
       "    <tr>\n",
       "      <th>36047</th>\n",
       "      <td>0.123069</td>\n",
       "      <td>0.633126</td>\n",
       "      <td>0.226393</td>\n",
       "      <td>0.104010</td>\n",
       "    </tr>\n",
       "    <tr>\n",
       "      <th>36103</th>\n",
       "      <td>0.120739</td>\n",
       "      <td>0.076813</td>\n",
       "      <td>0.014910</td>\n",
       "      <td>0.054910</td>\n",
       "    </tr>\n",
       "    <tr>\n",
       "      <th>32003</th>\n",
       "      <td>0.118192</td>\n",
       "      <td>0.222616</td>\n",
       "      <td>0.132969</td>\n",
       "      <td>0.120673</td>\n",
       "    </tr>\n",
       "    <tr>\n",
       "      <th>6065</th>\n",
       "      <td>0.110038</td>\n",
       "      <td>0.112490</td>\n",
       "      <td>0.087349</td>\n",
       "      <td>0.224964</td>\n",
       "    </tr>\n",
       "    <tr>\n",
       "      <th>42003</th>\n",
       "      <td>0.090655</td>\n",
       "      <td>0.118581</td>\n",
       "      <td>0.009939</td>\n",
       "      <td>0.000000</td>\n",
       "    </tr>\n",
       "    <tr>\n",
       "      <th>48113</th>\n",
       "      <td>0.081991</td>\n",
       "      <td>0.465775</td>\n",
       "      <td>0.095509</td>\n",
       "      <td>0.167356</td>\n",
       "    </tr>\n",
       "    <tr>\n",
       "      <th>48029</th>\n",
       "      <td>0.080201</td>\n",
       "      <td>0.116575</td>\n",
       "      <td>0.016899</td>\n",
       "      <td>0.106228</td>\n",
       "    </tr>\n",
       "    <tr>\n",
       "      <th>26125</th>\n",
       "      <td>0.069818</td>\n",
       "      <td>0.124565</td>\n",
       "      <td>0.042518</td>\n",
       "      <td>0.003037</td>\n",
       "    </tr>\n",
       "    <tr>\n",
       "      <th>26163</th>\n",
       "      <td>0.065559</td>\n",
       "      <td>0.550859</td>\n",
       "      <td>0.014339</td>\n",
       "      <td>0.014045</td>\n",
       "    </tr>\n",
       "    <tr>\n",
       "      <th>12099</th>\n",
       "      <td>0.055022</td>\n",
       "      <td>0.202096</td>\n",
       "      <td>0.000047</td>\n",
       "      <td>0.035139</td>\n",
       "    </tr>\n",
       "    <tr>\n",
       "      <th>27053</th>\n",
       "      <td>0.054802</td>\n",
       "      <td>0.125206</td>\n",
       "      <td>0.036948</td>\n",
       "      <td>0.014430</td>\n",
       "    </tr>\n",
       "    <tr>\n",
       "      <th>49035</th>\n",
       "      <td>0.051990</td>\n",
       "      <td>0.000000</td>\n",
       "      <td>0.004780</td>\n",
       "      <td>0.034953</td>\n",
       "    </tr>\n",
       "    <tr>\n",
       "      <th>36061</th>\n",
       "      <td>0.051846</td>\n",
       "      <td>0.174134</td>\n",
       "      <td>0.122208</td>\n",
       "      <td>0.070040</td>\n",
       "    </tr>\n",
       "    <tr>\n",
       "      <th>36059</th>\n",
       "      <td>0.039892</td>\n",
       "      <td>0.109781</td>\n",
       "      <td>0.082512</td>\n",
       "      <td>0.044428</td>\n",
       "    </tr>\n",
       "    <tr>\n",
       "      <th>39049</th>\n",
       "      <td>0.034188</td>\n",
       "      <td>0.233685</td>\n",
       "      <td>0.020606</td>\n",
       "      <td>0.012641</td>\n",
       "    </tr>\n",
       "    <tr>\n",
       "      <th>12086</th>\n",
       "      <td>0.031911</td>\n",
       "      <td>0.318457</td>\n",
       "      <td>0.000036</td>\n",
       "      <td>0.110231</td>\n",
       "    </tr>\n",
       "    <tr>\n",
       "      <th>6071</th>\n",
       "      <td>0.026327</td>\n",
       "      <td>0.136241</td>\n",
       "      <td>0.094934</td>\n",
       "      <td>0.219151</td>\n",
       "    </tr>\n",
       "    <tr>\n",
       "      <th>12011</th>\n",
       "      <td>0.023765</td>\n",
       "      <td>0.430022</td>\n",
       "      <td>0.021877</td>\n",
       "      <td>0.055294</td>\n",
       "    </tr>\n",
       "    <tr>\n",
       "      <th>12057</th>\n",
       "      <td>0.020296</td>\n",
       "      <td>0.180962</td>\n",
       "      <td>0.018551</td>\n",
       "      <td>0.041668</td>\n",
       "    </tr>\n",
       "    <tr>\n",
       "      <th>39035</th>\n",
       "      <td>0.008017</td>\n",
       "      <td>0.293839</td>\n",
       "      <td>0.000000</td>\n",
       "      <td>0.007816</td>\n",
       "    </tr>\n",
       "    <tr>\n",
       "      <th>6067</th>\n",
       "      <td>0.000000</td>\n",
       "      <td>0.109376</td>\n",
       "      <td>0.163239</td>\n",
       "      <td>0.061918</td>\n",
       "    </tr>\n",
       "  </tbody>\n",
       "</table>\n",
       "</div>"
      ],
      "text/plain": [
       "       race_white  race_black  race_asian  race_other\n",
       "geoid                                                \n",
       "6037     1.000000    0.651998    1.000000    1.000000\n",
       "4013     0.758653    0.200444    0.109639    0.211016\n",
       "17031    0.640900    1.000000    0.253587    0.249480\n",
       "48201    0.394949    0.747316    0.209626    0.318068\n",
       "6073     0.360658    0.111929    0.251856    0.182999\n",
       "6059     0.262426    0.025684    0.455207    0.192943\n",
       "53033    0.219102    0.108254    0.280514    0.037458\n",
       "25017    0.155963    0.051758    0.114286    0.025811\n",
       "48439    0.129271    0.290314    0.058634    0.085348\n",
       "36047    0.123069    0.633126    0.226393    0.104010\n",
       "36103    0.120739    0.076813    0.014910    0.054910\n",
       "32003    0.118192    0.222616    0.132969    0.120673\n",
       "6065     0.110038    0.112490    0.087349    0.224964\n",
       "42003    0.090655    0.118581    0.009939    0.000000\n",
       "48113    0.081991    0.465775    0.095509    0.167356\n",
       "48029    0.080201    0.116575    0.016899    0.106228\n",
       "26125    0.069818    0.124565    0.042518    0.003037\n",
       "26163    0.065559    0.550859    0.014339    0.014045\n",
       "12099    0.055022    0.202096    0.000047    0.035139\n",
       "27053    0.054802    0.125206    0.036948    0.014430\n",
       "49035    0.051990    0.000000    0.004780    0.034953\n",
       "36061    0.051846    0.174134    0.122208    0.070040\n",
       "36059    0.039892    0.109781    0.082512    0.044428\n",
       "39049    0.034188    0.233685    0.020606    0.012641\n",
       "12086    0.031911    0.318457    0.000036    0.110231\n",
       "6071     0.026327    0.136241    0.094934    0.219151\n",
       "12011    0.023765    0.430022    0.021877    0.055294\n",
       "12057    0.020296    0.180962    0.018551    0.041668\n",
       "39035    0.008017    0.293839    0.000000    0.007816\n",
       "6067     0.000000    0.109376    0.163239    0.061918"
      ]
     },
     "execution_count": 212,
     "metadata": {},
     "output_type": "execute_result"
    }
   ],
   "source": [
    "df2 = df.copy()[['race_white', 'race_black', 'race_asian', 'race_other']][0:30]\n",
    "df_norm = (df2-df2.min())/(df2.max()-df2.min())\n",
    "df_norm"
   ]
  },
  {
   "cell_type": "code",
   "execution_count": null,
   "id": "49119632",
   "metadata": {},
   "outputs": [],
   "source": []
  },
  {
   "cell_type": "code",
   "execution_count": null,
   "id": "4b692690",
   "metadata": {},
   "outputs": [],
   "source": []
  }
 ],
 "metadata": {
  "kernelspec": {
   "display_name": "Python 3 (ipykernel)",
   "language": "python",
   "name": "python3"
  },
  "language_info": {
   "codemirror_mode": {
    "name": "ipython",
    "version": 3
   },
   "file_extension": ".py",
   "mimetype": "text/x-python",
   "name": "python",
   "nbconvert_exporter": "python",
   "pygments_lexer": "ipython3",
   "version": "3.9.7"
  }
 },
 "nbformat": 4,
 "nbformat_minor": 5
}
