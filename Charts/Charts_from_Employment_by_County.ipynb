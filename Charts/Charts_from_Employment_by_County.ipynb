{
 "cells": [
  {
   "cell_type": "code",
   "execution_count": 1,
   "id": "13e57616",
   "metadata": {},
   "outputs": [],
   "source": [
    "import pandas as pd\n",
    "import numpy as np\n",
    "%matplotlib inline\n",
    "from matplotlib import pyplot as plt\n",
    "import requests\n",
    "import json\n",
    "\n",
    "from sqlalchemy import create_engine\n",
    "import psycopg2 \n",
    "import io\n",
    "from config import AWS"
   ]
  },
  {
   "cell_type": "code",
   "execution_count": 2,
   "id": "562e89c7",
   "metadata": {},
   "outputs": [
    {
     "data": {
      "text/html": [
       "<div>\n",
       "<style scoped>\n",
       "    .dataframe tbody tr th:only-of-type {\n",
       "        vertical-align: middle;\n",
       "    }\n",
       "\n",
       "    .dataframe tbody tr th {\n",
       "        vertical-align: top;\n",
       "    }\n",
       "\n",
       "    .dataframe thead th {\n",
       "        text-align: right;\n",
       "    }\n",
       "</style>\n",
       "<table border=\"1\" class=\"dataframe\">\n",
       "  <thead>\n",
       "    <tr style=\"text-align: right;\">\n",
       "      <th></th>\n",
       "      <th>index</th>\n",
       "      <th>geoid</th>\n",
       "      <th>county</th>\n",
       "      <th>labor_force</th>\n",
       "      <th>employed</th>\n",
       "      <th>unemployed</th>\n",
       "      <th>unemployed_pct</th>\n",
       "      <th>population</th>\n",
       "      <th>race_white</th>\n",
       "      <th>race_black</th>\n",
       "      <th>race_native</th>\n",
       "      <th>race_asian</th>\n",
       "      <th>race_islander</th>\n",
       "      <th>race_other</th>\n",
       "      <th>race_two_or_more</th>\n",
       "    </tr>\n",
       "  </thead>\n",
       "  <tbody>\n",
       "    <tr>\n",
       "      <th>0</th>\n",
       "      <td>0</td>\n",
       "      <td>1001</td>\n",
       "      <td>Autauga County, Alabama</td>\n",
       "      <td>25838</td>\n",
       "      <td>24576</td>\n",
       "      <td>1262</td>\n",
       "      <td>4.9</td>\n",
       "      <td>58805</td>\n",
       "      <td>42160</td>\n",
       "      <td>11445</td>\n",
       "      <td>217</td>\n",
       "      <td>881</td>\n",
       "      <td>35</td>\n",
       "      <td>910</td>\n",
       "      <td>3157</td>\n",
       "    </tr>\n",
       "    <tr>\n",
       "      <th>1</th>\n",
       "      <td>1</td>\n",
       "      <td>1003</td>\n",
       "      <td>Baldwin County, Alabama</td>\n",
       "      <td>96763</td>\n",
       "      <td>91338</td>\n",
       "      <td>5425</td>\n",
       "      <td>5.6</td>\n",
       "      <td>231767</td>\n",
       "      <td>189399</td>\n",
       "      <td>18217</td>\n",
       "      <td>1582</td>\n",
       "      <td>2067</td>\n",
       "      <td>143</td>\n",
       "      <td>5335</td>\n",
       "      <td>15024</td>\n",
       "    </tr>\n",
       "    <tr>\n",
       "      <th>2</th>\n",
       "      <td>2</td>\n",
       "      <td>1005</td>\n",
       "      <td>Barbour County, Alabama</td>\n",
       "      <td>8587</td>\n",
       "      <td>7982</td>\n",
       "      <td>605</td>\n",
       "      <td>7.0</td>\n",
       "      <td>25223</td>\n",
       "      <td>11317</td>\n",
       "      <td>11933</td>\n",
       "      <td>116</td>\n",
       "      <td>117</td>\n",
       "      <td>1</td>\n",
       "      <td>1039</td>\n",
       "      <td>700</td>\n",
       "    </tr>\n",
       "    <tr>\n",
       "      <th>3</th>\n",
       "      <td>3</td>\n",
       "      <td>1007</td>\n",
       "      <td>Bibb County, Alabama</td>\n",
       "      <td>8640</td>\n",
       "      <td>8067</td>\n",
       "      <td>573</td>\n",
       "      <td>6.6</td>\n",
       "      <td>22293</td>\n",
       "      <td>16555</td>\n",
       "      <td>4413</td>\n",
       "      <td>60</td>\n",
       "      <td>32</td>\n",
       "      <td>9</td>\n",
       "      <td>465</td>\n",
       "      <td>759</td>\n",
       "    </tr>\n",
       "    <tr>\n",
       "      <th>4</th>\n",
       "      <td>4</td>\n",
       "      <td>1009</td>\n",
       "      <td>Blount County, Alabama</td>\n",
       "      <td>24661</td>\n",
       "      <td>23653</td>\n",
       "      <td>1008</td>\n",
       "      <td>4.1</td>\n",
       "      <td>59134</td>\n",
       "      <td>50663</td>\n",
       "      <td>845</td>\n",
       "      <td>337</td>\n",
       "      <td>178</td>\n",
       "      <td>24</td>\n",
       "      <td>3431</td>\n",
       "      <td>3656</td>\n",
       "    </tr>\n",
       "    <tr>\n",
       "      <th>...</th>\n",
       "      <td>...</td>\n",
       "      <td>...</td>\n",
       "      <td>...</td>\n",
       "      <td>...</td>\n",
       "      <td>...</td>\n",
       "      <td>...</td>\n",
       "      <td>...</td>\n",
       "      <td>...</td>\n",
       "      <td>...</td>\n",
       "      <td>...</td>\n",
       "      <td>...</td>\n",
       "      <td>...</td>\n",
       "      <td>...</td>\n",
       "      <td>...</td>\n",
       "      <td>...</td>\n",
       "    </tr>\n",
       "    <tr>\n",
       "      <th>3120</th>\n",
       "      <td>3120</td>\n",
       "      <td>56037</td>\n",
       "      <td>Sweetwater County, Wyoming</td>\n",
       "      <td>20840</td>\n",
       "      <td>19308</td>\n",
       "      <td>1532</td>\n",
       "      <td>7.4</td>\n",
       "      <td>42272</td>\n",
       "      <td>34389</td>\n",
       "      <td>366</td>\n",
       "      <td>433</td>\n",
       "      <td>295</td>\n",
       "      <td>70</td>\n",
       "      <td>2508</td>\n",
       "      <td>4211</td>\n",
       "    </tr>\n",
       "    <tr>\n",
       "      <th>3121</th>\n",
       "      <td>3121</td>\n",
       "      <td>56039</td>\n",
       "      <td>Teton County, Wyoming</td>\n",
       "      <td>15204</td>\n",
       "      <td>14292</td>\n",
       "      <td>912</td>\n",
       "      <td>6.0</td>\n",
       "      <td>23331</td>\n",
       "      <td>19202</td>\n",
       "      <td>55</td>\n",
       "      <td>185</td>\n",
       "      <td>317</td>\n",
       "      <td>5</td>\n",
       "      <td>1415</td>\n",
       "      <td>2152</td>\n",
       "    </tr>\n",
       "    <tr>\n",
       "      <th>3122</th>\n",
       "      <td>3122</td>\n",
       "      <td>56041</td>\n",
       "      <td>Uinta County, Wyoming</td>\n",
       "      <td>9312</td>\n",
       "      <td>8730</td>\n",
       "      <td>582</td>\n",
       "      <td>6.3</td>\n",
       "      <td>20450</td>\n",
       "      <td>18007</td>\n",
       "      <td>66</td>\n",
       "      <td>191</td>\n",
       "      <td>114</td>\n",
       "      <td>27</td>\n",
       "      <td>864</td>\n",
       "      <td>1181</td>\n",
       "    </tr>\n",
       "    <tr>\n",
       "      <th>3123</th>\n",
       "      <td>3123</td>\n",
       "      <td>56043</td>\n",
       "      <td>Washakie County, Wyoming</td>\n",
       "      <td>4004</td>\n",
       "      <td>3793</td>\n",
       "      <td>211</td>\n",
       "      <td>5.3</td>\n",
       "      <td>7685</td>\n",
       "      <td>6600</td>\n",
       "      <td>12</td>\n",
       "      <td>77</td>\n",
       "      <td>33</td>\n",
       "      <td>3</td>\n",
       "      <td>388</td>\n",
       "      <td>572</td>\n",
       "    </tr>\n",
       "    <tr>\n",
       "      <th>3124</th>\n",
       "      <td>3124</td>\n",
       "      <td>56045</td>\n",
       "      <td>Weston County, Wyoming</td>\n",
       "      <td>3836</td>\n",
       "      <td>3688</td>\n",
       "      <td>148</td>\n",
       "      <td>3.9</td>\n",
       "      <td>6838</td>\n",
       "      <td>6197</td>\n",
       "      <td>30</td>\n",
       "      <td>97</td>\n",
       "      <td>27</td>\n",
       "      <td>9</td>\n",
       "      <td>138</td>\n",
       "      <td>340</td>\n",
       "    </tr>\n",
       "  </tbody>\n",
       "</table>\n",
       "<p>3125 rows × 15 columns</p>\n",
       "</div>"
      ],
      "text/plain": [
       "      index  geoid                      county  labor_force  employed  \\\n",
       "0         0   1001     Autauga County, Alabama        25838     24576   \n",
       "1         1   1003     Baldwin County, Alabama        96763     91338   \n",
       "2         2   1005     Barbour County, Alabama         8587      7982   \n",
       "3         3   1007        Bibb County, Alabama         8640      8067   \n",
       "4         4   1009      Blount County, Alabama        24661     23653   \n",
       "...     ...    ...                         ...          ...       ...   \n",
       "3120   3120  56037  Sweetwater County, Wyoming        20840     19308   \n",
       "3121   3121  56039       Teton County, Wyoming        15204     14292   \n",
       "3122   3122  56041       Uinta County, Wyoming         9312      8730   \n",
       "3123   3123  56043    Washakie County, Wyoming         4004      3793   \n",
       "3124   3124  56045      Weston County, Wyoming         3836      3688   \n",
       "\n",
       "      unemployed  unemployed_pct  population  race_white  race_black  \\\n",
       "0           1262             4.9       58805       42160       11445   \n",
       "1           5425             5.6      231767      189399       18217   \n",
       "2            605             7.0       25223       11317       11933   \n",
       "3            573             6.6       22293       16555        4413   \n",
       "4           1008             4.1       59134       50663         845   \n",
       "...          ...             ...         ...         ...         ...   \n",
       "3120        1532             7.4       42272       34389         366   \n",
       "3121         912             6.0       23331       19202          55   \n",
       "3122         582             6.3       20450       18007          66   \n",
       "3123         211             5.3        7685        6600          12   \n",
       "3124         148             3.9        6838        6197          30   \n",
       "\n",
       "      race_native  race_asian  race_islander  race_other  race_two_or_more  \n",
       "0             217         881             35         910              3157  \n",
       "1            1582        2067            143        5335             15024  \n",
       "2             116         117              1        1039               700  \n",
       "3              60          32              9         465               759  \n",
       "4             337         178             24        3431              3656  \n",
       "...           ...         ...            ...         ...               ...  \n",
       "3120          433         295             70        2508              4211  \n",
       "3121          185         317              5        1415              2152  \n",
       "3122          191         114             27         864              1181  \n",
       "3123           77          33              3         388               572  \n",
       "3124           97          27              9         138               340  \n",
       "\n",
       "[3125 rows x 15 columns]"
      ]
     },
     "execution_count": 2,
     "metadata": {},
     "output_type": "execute_result"
    }
   ],
   "source": [
    "engine = create_engine(AWS)\n",
    "\n",
    "Employment_by_County_df = pd.read_sql('employ_county', engine)\n",
    "Employment_by_County_df"
   ]
  },
  {
   "cell_type": "code",
   "execution_count": 3,
   "id": "1cb7c893",
   "metadata": {},
   "outputs": [],
   "source": [
    "# Employment_by_County_df  = pd.read_csv('../data_files/Employment_by_County.csv')\n",
    "# Employment_by_County_df.head(5)"
   ]
  },
  {
   "cell_type": "code",
   "execution_count": 54,
   "id": "a2b66272",
   "metadata": {},
   "outputs": [],
   "source": [
    "Employment_by_County_df_copy =Employment_by_County_df.copy()"
   ]
  },
  {
   "cell_type": "code",
   "execution_count": 65,
   "id": "168d1d21",
   "metadata": {},
   "outputs": [],
   "source": [
    "\n",
    "Employment_by_County_df_copy[\"state\"]= Employment_by_County_df_copy['county'].str.split(\",\").str[1]"
   ]
  },
  {
   "cell_type": "code",
   "execution_count": 66,
   "id": "25568639",
   "metadata": {},
   "outputs": [
    {
     "data": {
      "text/html": [
       "<div>\n",
       "<style scoped>\n",
       "    .dataframe tbody tr th:only-of-type {\n",
       "        vertical-align: middle;\n",
       "    }\n",
       "\n",
       "    .dataframe tbody tr th {\n",
       "        vertical-align: top;\n",
       "    }\n",
       "\n",
       "    .dataframe thead th {\n",
       "        text-align: right;\n",
       "    }\n",
       "</style>\n",
       "<table border=\"1\" class=\"dataframe\">\n",
       "  <thead>\n",
       "    <tr style=\"text-align: right;\">\n",
       "      <th></th>\n",
       "      <th>index</th>\n",
       "      <th>geoid</th>\n",
       "      <th>county</th>\n",
       "      <th>labor_force</th>\n",
       "      <th>employed</th>\n",
       "      <th>unemployed</th>\n",
       "      <th>unemployed_pct</th>\n",
       "      <th>population</th>\n",
       "      <th>race_white</th>\n",
       "      <th>race_black</th>\n",
       "      <th>race_native</th>\n",
       "      <th>race_asian</th>\n",
       "      <th>race_islander</th>\n",
       "      <th>race_other</th>\n",
       "      <th>race_two_or_more</th>\n",
       "      <th>state</th>\n",
       "    </tr>\n",
       "  </thead>\n",
       "  <tbody>\n",
       "    <tr>\n",
       "      <th>0</th>\n",
       "      <td>0</td>\n",
       "      <td>1001</td>\n",
       "      <td>Autauga County, Alabama</td>\n",
       "      <td>25838</td>\n",
       "      <td>24576</td>\n",
       "      <td>1262</td>\n",
       "      <td>4.9</td>\n",
       "      <td>58805</td>\n",
       "      <td>42160</td>\n",
       "      <td>11445</td>\n",
       "      <td>217</td>\n",
       "      <td>881</td>\n",
       "      <td>35</td>\n",
       "      <td>910</td>\n",
       "      <td>3157</td>\n",
       "      <td>Alabama</td>\n",
       "    </tr>\n",
       "    <tr>\n",
       "      <th>1</th>\n",
       "      <td>1</td>\n",
       "      <td>1003</td>\n",
       "      <td>Baldwin County, Alabama</td>\n",
       "      <td>96763</td>\n",
       "      <td>91338</td>\n",
       "      <td>5425</td>\n",
       "      <td>5.6</td>\n",
       "      <td>231767</td>\n",
       "      <td>189399</td>\n",
       "      <td>18217</td>\n",
       "      <td>1582</td>\n",
       "      <td>2067</td>\n",
       "      <td>143</td>\n",
       "      <td>5335</td>\n",
       "      <td>15024</td>\n",
       "      <td>Alabama</td>\n",
       "    </tr>\n",
       "    <tr>\n",
       "      <th>2</th>\n",
       "      <td>2</td>\n",
       "      <td>1005</td>\n",
       "      <td>Barbour County, Alabama</td>\n",
       "      <td>8587</td>\n",
       "      <td>7982</td>\n",
       "      <td>605</td>\n",
       "      <td>7.0</td>\n",
       "      <td>25223</td>\n",
       "      <td>11317</td>\n",
       "      <td>11933</td>\n",
       "      <td>116</td>\n",
       "      <td>117</td>\n",
       "      <td>1</td>\n",
       "      <td>1039</td>\n",
       "      <td>700</td>\n",
       "      <td>Alabama</td>\n",
       "    </tr>\n",
       "    <tr>\n",
       "      <th>3</th>\n",
       "      <td>3</td>\n",
       "      <td>1007</td>\n",
       "      <td>Bibb County, Alabama</td>\n",
       "      <td>8640</td>\n",
       "      <td>8067</td>\n",
       "      <td>573</td>\n",
       "      <td>6.6</td>\n",
       "      <td>22293</td>\n",
       "      <td>16555</td>\n",
       "      <td>4413</td>\n",
       "      <td>60</td>\n",
       "      <td>32</td>\n",
       "      <td>9</td>\n",
       "      <td>465</td>\n",
       "      <td>759</td>\n",
       "      <td>Alabama</td>\n",
       "    </tr>\n",
       "    <tr>\n",
       "      <th>4</th>\n",
       "      <td>4</td>\n",
       "      <td>1009</td>\n",
       "      <td>Blount County, Alabama</td>\n",
       "      <td>24661</td>\n",
       "      <td>23653</td>\n",
       "      <td>1008</td>\n",
       "      <td>4.1</td>\n",
       "      <td>59134</td>\n",
       "      <td>50663</td>\n",
       "      <td>845</td>\n",
       "      <td>337</td>\n",
       "      <td>178</td>\n",
       "      <td>24</td>\n",
       "      <td>3431</td>\n",
       "      <td>3656</td>\n",
       "      <td>Alabama</td>\n",
       "    </tr>\n",
       "  </tbody>\n",
       "</table>\n",
       "</div>"
      ],
      "text/plain": [
       "   index  geoid                   county  labor_force  employed  unemployed  \\\n",
       "0      0   1001  Autauga County, Alabama        25838     24576        1262   \n",
       "1      1   1003  Baldwin County, Alabama        96763     91338        5425   \n",
       "2      2   1005  Barbour County, Alabama         8587      7982         605   \n",
       "3      3   1007     Bibb County, Alabama         8640      8067         573   \n",
       "4      4   1009   Blount County, Alabama        24661     23653        1008   \n",
       "\n",
       "   unemployed_pct  population  race_white  race_black  race_native  \\\n",
       "0             4.9       58805       42160       11445          217   \n",
       "1             5.6      231767      189399       18217         1582   \n",
       "2             7.0       25223       11317       11933          116   \n",
       "3             6.6       22293       16555        4413           60   \n",
       "4             4.1       59134       50663         845          337   \n",
       "\n",
       "   race_asian  race_islander  race_other  race_two_or_more     state  \n",
       "0         881             35         910              3157   Alabama  \n",
       "1        2067            143        5335             15024   Alabama  \n",
       "2         117              1        1039               700   Alabama  \n",
       "3          32              9         465               759   Alabama  \n",
       "4         178             24        3431              3656   Alabama  "
      ]
     },
     "execution_count": 66,
     "metadata": {},
     "output_type": "execute_result"
    }
   ],
   "source": [
    "Employment_by_County_df_copy.head()"
   ]
  },
  {
   "cell_type": "code",
   "execution_count": 69,
   "id": "d7a716bd",
   "metadata": {},
   "outputs": [],
   "source": [
    "#Employment_by_County_df_copy.to_csv('..//data_files/Employment_by_County_with_state.csv')"
   ]
  },
  {
   "cell_type": "code",
   "execution_count": 70,
   "id": "361722b0",
   "metadata": {},
   "outputs": [
    {
     "data": {
      "text/html": [
       "<div>\n",
       "<style scoped>\n",
       "    .dataframe tbody tr th:only-of-type {\n",
       "        vertical-align: middle;\n",
       "    }\n",
       "\n",
       "    .dataframe tbody tr th {\n",
       "        vertical-align: top;\n",
       "    }\n",
       "\n",
       "    .dataframe thead th {\n",
       "        text-align: right;\n",
       "    }\n",
       "</style>\n",
       "<table border=\"1\" class=\"dataframe\">\n",
       "  <thead>\n",
       "    <tr style=\"text-align: right;\">\n",
       "      <th></th>\n",
       "      <th>Unnamed: 0</th>\n",
       "      <th>index</th>\n",
       "      <th>geoid</th>\n",
       "      <th>county</th>\n",
       "      <th>labor_force</th>\n",
       "      <th>employed</th>\n",
       "      <th>unemployed</th>\n",
       "      <th>unemployed_pct</th>\n",
       "      <th>population</th>\n",
       "      <th>race_white</th>\n",
       "      <th>race_black</th>\n",
       "      <th>race_native</th>\n",
       "      <th>race_asian</th>\n",
       "      <th>race_islander</th>\n",
       "      <th>race_other</th>\n",
       "      <th>race_two_or_more</th>\n",
       "      <th>state</th>\n",
       "    </tr>\n",
       "  </thead>\n",
       "  <tbody>\n",
       "    <tr>\n",
       "      <th>0</th>\n",
       "      <td>0</td>\n",
       "      <td>0</td>\n",
       "      <td>1001</td>\n",
       "      <td>Autauga County, Alabama</td>\n",
       "      <td>25838</td>\n",
       "      <td>24576</td>\n",
       "      <td>1262</td>\n",
       "      <td>4.9</td>\n",
       "      <td>58805</td>\n",
       "      <td>42160</td>\n",
       "      <td>11445</td>\n",
       "      <td>217</td>\n",
       "      <td>881</td>\n",
       "      <td>35</td>\n",
       "      <td>910</td>\n",
       "      <td>3157</td>\n",
       "      <td>Alabama</td>\n",
       "    </tr>\n",
       "    <tr>\n",
       "      <th>1</th>\n",
       "      <td>1</td>\n",
       "      <td>1</td>\n",
       "      <td>1003</td>\n",
       "      <td>Baldwin County, Alabama</td>\n",
       "      <td>96763</td>\n",
       "      <td>91338</td>\n",
       "      <td>5425</td>\n",
       "      <td>5.6</td>\n",
       "      <td>231767</td>\n",
       "      <td>189399</td>\n",
       "      <td>18217</td>\n",
       "      <td>1582</td>\n",
       "      <td>2067</td>\n",
       "      <td>143</td>\n",
       "      <td>5335</td>\n",
       "      <td>15024</td>\n",
       "      <td>Alabama</td>\n",
       "    </tr>\n",
       "    <tr>\n",
       "      <th>2</th>\n",
       "      <td>2</td>\n",
       "      <td>2</td>\n",
       "      <td>1005</td>\n",
       "      <td>Barbour County, Alabama</td>\n",
       "      <td>8587</td>\n",
       "      <td>7982</td>\n",
       "      <td>605</td>\n",
       "      <td>7.0</td>\n",
       "      <td>25223</td>\n",
       "      <td>11317</td>\n",
       "      <td>11933</td>\n",
       "      <td>116</td>\n",
       "      <td>117</td>\n",
       "      <td>1</td>\n",
       "      <td>1039</td>\n",
       "      <td>700</td>\n",
       "      <td>Alabama</td>\n",
       "    </tr>\n",
       "    <tr>\n",
       "      <th>3</th>\n",
       "      <td>3</td>\n",
       "      <td>3</td>\n",
       "      <td>1007</td>\n",
       "      <td>Bibb County, Alabama</td>\n",
       "      <td>8640</td>\n",
       "      <td>8067</td>\n",
       "      <td>573</td>\n",
       "      <td>6.6</td>\n",
       "      <td>22293</td>\n",
       "      <td>16555</td>\n",
       "      <td>4413</td>\n",
       "      <td>60</td>\n",
       "      <td>32</td>\n",
       "      <td>9</td>\n",
       "      <td>465</td>\n",
       "      <td>759</td>\n",
       "      <td>Alabama</td>\n",
       "    </tr>\n",
       "    <tr>\n",
       "      <th>4</th>\n",
       "      <td>4</td>\n",
       "      <td>4</td>\n",
       "      <td>1009</td>\n",
       "      <td>Blount County, Alabama</td>\n",
       "      <td>24661</td>\n",
       "      <td>23653</td>\n",
       "      <td>1008</td>\n",
       "      <td>4.1</td>\n",
       "      <td>59134</td>\n",
       "      <td>50663</td>\n",
       "      <td>845</td>\n",
       "      <td>337</td>\n",
       "      <td>178</td>\n",
       "      <td>24</td>\n",
       "      <td>3431</td>\n",
       "      <td>3656</td>\n",
       "      <td>Alabama</td>\n",
       "    </tr>\n",
       "  </tbody>\n",
       "</table>\n",
       "</div>"
      ],
      "text/plain": [
       "   Unnamed: 0  index  geoid                   county  labor_force  employed  \\\n",
       "0           0      0   1001  Autauga County, Alabama        25838     24576   \n",
       "1           1      1   1003  Baldwin County, Alabama        96763     91338   \n",
       "2           2      2   1005  Barbour County, Alabama         8587      7982   \n",
       "3           3      3   1007     Bibb County, Alabama         8640      8067   \n",
       "4           4      4   1009   Blount County, Alabama        24661     23653   \n",
       "\n",
       "   unemployed  unemployed_pct  population  race_white  race_black  \\\n",
       "0        1262             4.9       58805       42160       11445   \n",
       "1        5425             5.6      231767      189399       18217   \n",
       "2         605             7.0       25223       11317       11933   \n",
       "3         573             6.6       22293       16555        4413   \n",
       "4        1008             4.1       59134       50663         845   \n",
       "\n",
       "   race_native  race_asian  race_islander  race_other  race_two_or_more  \\\n",
       "0          217         881             35         910              3157   \n",
       "1         1582        2067            143        5335             15024   \n",
       "2          116         117              1        1039               700   \n",
       "3           60          32              9         465               759   \n",
       "4          337         178             24        3431              3656   \n",
       "\n",
       "      state  \n",
       "0   Alabama  \n",
       "1   Alabama  \n",
       "2   Alabama  \n",
       "3   Alabama  \n",
       "4   Alabama  "
      ]
     },
     "execution_count": 70,
     "metadata": {},
     "output_type": "execute_result"
    }
   ],
   "source": [
    "#Employment_by_County_with_state_df  = pd.read_csv('../data_files/Employment_by_County_with_state.csv')\n",
    "Employment_by_County_with_state_df.head()"
   ]
  },
  {
   "cell_type": "code",
   "execution_count": 74,
   "id": "b2439ab1",
   "metadata": {},
   "outputs": [
    {
     "data": {
      "text/html": [
       "<div>\n",
       "<style scoped>\n",
       "    .dataframe tbody tr th:only-of-type {\n",
       "        vertical-align: middle;\n",
       "    }\n",
       "\n",
       "    .dataframe tbody tr th {\n",
       "        vertical-align: top;\n",
       "    }\n",
       "\n",
       "    .dataframe thead th {\n",
       "        text-align: right;\n",
       "    }\n",
       "</style>\n",
       "<table border=\"1\" class=\"dataframe\">\n",
       "  <thead>\n",
       "    <tr style=\"text-align: right;\">\n",
       "      <th></th>\n",
       "      <th>index</th>\n",
       "      <th>geoid</th>\n",
       "      <th>county</th>\n",
       "      <th>labor_force</th>\n",
       "      <th>employed</th>\n",
       "      <th>unemployed</th>\n",
       "      <th>unemployed_pct</th>\n",
       "      <th>population</th>\n",
       "      <th>race_white</th>\n",
       "      <th>race_black</th>\n",
       "      <th>race_native</th>\n",
       "      <th>race_asian</th>\n",
       "      <th>race_islander</th>\n",
       "      <th>race_other</th>\n",
       "      <th>race_two_or_more</th>\n",
       "      <th>state</th>\n",
       "    </tr>\n",
       "  </thead>\n",
       "  <tbody>\n",
       "    <tr>\n",
       "      <th>0</th>\n",
       "      <td>0</td>\n",
       "      <td>1001</td>\n",
       "      <td>Autauga County, Alabama</td>\n",
       "      <td>25838</td>\n",
       "      <td>24576</td>\n",
       "      <td>1262</td>\n",
       "      <td>4.9</td>\n",
       "      <td>58805</td>\n",
       "      <td>42160</td>\n",
       "      <td>11445</td>\n",
       "      <td>217</td>\n",
       "      <td>881</td>\n",
       "      <td>35</td>\n",
       "      <td>910</td>\n",
       "      <td>3157</td>\n",
       "      <td>Alabama</td>\n",
       "    </tr>\n",
       "    <tr>\n",
       "      <th>1</th>\n",
       "      <td>1</td>\n",
       "      <td>1003</td>\n",
       "      <td>Baldwin County, Alabama</td>\n",
       "      <td>96763</td>\n",
       "      <td>91338</td>\n",
       "      <td>5425</td>\n",
       "      <td>5.6</td>\n",
       "      <td>231767</td>\n",
       "      <td>189399</td>\n",
       "      <td>18217</td>\n",
       "      <td>1582</td>\n",
       "      <td>2067</td>\n",
       "      <td>143</td>\n",
       "      <td>5335</td>\n",
       "      <td>15024</td>\n",
       "      <td>Alabama</td>\n",
       "    </tr>\n",
       "    <tr>\n",
       "      <th>2</th>\n",
       "      <td>2</td>\n",
       "      <td>1005</td>\n",
       "      <td>Barbour County, Alabama</td>\n",
       "      <td>8587</td>\n",
       "      <td>7982</td>\n",
       "      <td>605</td>\n",
       "      <td>7.0</td>\n",
       "      <td>25223</td>\n",
       "      <td>11317</td>\n",
       "      <td>11933</td>\n",
       "      <td>116</td>\n",
       "      <td>117</td>\n",
       "      <td>1</td>\n",
       "      <td>1039</td>\n",
       "      <td>700</td>\n",
       "      <td>Alabama</td>\n",
       "    </tr>\n",
       "    <tr>\n",
       "      <th>3</th>\n",
       "      <td>3</td>\n",
       "      <td>1007</td>\n",
       "      <td>Bibb County, Alabama</td>\n",
       "      <td>8640</td>\n",
       "      <td>8067</td>\n",
       "      <td>573</td>\n",
       "      <td>6.6</td>\n",
       "      <td>22293</td>\n",
       "      <td>16555</td>\n",
       "      <td>4413</td>\n",
       "      <td>60</td>\n",
       "      <td>32</td>\n",
       "      <td>9</td>\n",
       "      <td>465</td>\n",
       "      <td>759</td>\n",
       "      <td>Alabama</td>\n",
       "    </tr>\n",
       "    <tr>\n",
       "      <th>4</th>\n",
       "      <td>4</td>\n",
       "      <td>1009</td>\n",
       "      <td>Blount County, Alabama</td>\n",
       "      <td>24661</td>\n",
       "      <td>23653</td>\n",
       "      <td>1008</td>\n",
       "      <td>4.1</td>\n",
       "      <td>59134</td>\n",
       "      <td>50663</td>\n",
       "      <td>845</td>\n",
       "      <td>337</td>\n",
       "      <td>178</td>\n",
       "      <td>24</td>\n",
       "      <td>3431</td>\n",
       "      <td>3656</td>\n",
       "      <td>Alabama</td>\n",
       "    </tr>\n",
       "    <tr>\n",
       "      <th>...</th>\n",
       "      <td>...</td>\n",
       "      <td>...</td>\n",
       "      <td>...</td>\n",
       "      <td>...</td>\n",
       "      <td>...</td>\n",
       "      <td>...</td>\n",
       "      <td>...</td>\n",
       "      <td>...</td>\n",
       "      <td>...</td>\n",
       "      <td>...</td>\n",
       "      <td>...</td>\n",
       "      <td>...</td>\n",
       "      <td>...</td>\n",
       "      <td>...</td>\n",
       "      <td>...</td>\n",
       "      <td>...</td>\n",
       "    </tr>\n",
       "    <tr>\n",
       "      <th>3120</th>\n",
       "      <td>3120</td>\n",
       "      <td>56037</td>\n",
       "      <td>Sweetwater County, Wyoming</td>\n",
       "      <td>20840</td>\n",
       "      <td>19308</td>\n",
       "      <td>1532</td>\n",
       "      <td>7.4</td>\n",
       "      <td>42272</td>\n",
       "      <td>34389</td>\n",
       "      <td>366</td>\n",
       "      <td>433</td>\n",
       "      <td>295</td>\n",
       "      <td>70</td>\n",
       "      <td>2508</td>\n",
       "      <td>4211</td>\n",
       "      <td>Wyoming</td>\n",
       "    </tr>\n",
       "    <tr>\n",
       "      <th>3121</th>\n",
       "      <td>3121</td>\n",
       "      <td>56039</td>\n",
       "      <td>Teton County, Wyoming</td>\n",
       "      <td>15204</td>\n",
       "      <td>14292</td>\n",
       "      <td>912</td>\n",
       "      <td>6.0</td>\n",
       "      <td>23331</td>\n",
       "      <td>19202</td>\n",
       "      <td>55</td>\n",
       "      <td>185</td>\n",
       "      <td>317</td>\n",
       "      <td>5</td>\n",
       "      <td>1415</td>\n",
       "      <td>2152</td>\n",
       "      <td>Wyoming</td>\n",
       "    </tr>\n",
       "    <tr>\n",
       "      <th>3122</th>\n",
       "      <td>3122</td>\n",
       "      <td>56041</td>\n",
       "      <td>Uinta County, Wyoming</td>\n",
       "      <td>9312</td>\n",
       "      <td>8730</td>\n",
       "      <td>582</td>\n",
       "      <td>6.3</td>\n",
       "      <td>20450</td>\n",
       "      <td>18007</td>\n",
       "      <td>66</td>\n",
       "      <td>191</td>\n",
       "      <td>114</td>\n",
       "      <td>27</td>\n",
       "      <td>864</td>\n",
       "      <td>1181</td>\n",
       "      <td>Wyoming</td>\n",
       "    </tr>\n",
       "    <tr>\n",
       "      <th>3123</th>\n",
       "      <td>3123</td>\n",
       "      <td>56043</td>\n",
       "      <td>Washakie County, Wyoming</td>\n",
       "      <td>4004</td>\n",
       "      <td>3793</td>\n",
       "      <td>211</td>\n",
       "      <td>5.3</td>\n",
       "      <td>7685</td>\n",
       "      <td>6600</td>\n",
       "      <td>12</td>\n",
       "      <td>77</td>\n",
       "      <td>33</td>\n",
       "      <td>3</td>\n",
       "      <td>388</td>\n",
       "      <td>572</td>\n",
       "      <td>Wyoming</td>\n",
       "    </tr>\n",
       "    <tr>\n",
       "      <th>3124</th>\n",
       "      <td>3124</td>\n",
       "      <td>56045</td>\n",
       "      <td>Weston County, Wyoming</td>\n",
       "      <td>3836</td>\n",
       "      <td>3688</td>\n",
       "      <td>148</td>\n",
       "      <td>3.9</td>\n",
       "      <td>6838</td>\n",
       "      <td>6197</td>\n",
       "      <td>30</td>\n",
       "      <td>97</td>\n",
       "      <td>27</td>\n",
       "      <td>9</td>\n",
       "      <td>138</td>\n",
       "      <td>340</td>\n",
       "      <td>Wyoming</td>\n",
       "    </tr>\n",
       "  </tbody>\n",
       "</table>\n",
       "<p>3125 rows × 16 columns</p>\n",
       "</div>"
      ],
      "text/plain": [
       "      index  geoid                      county  labor_force  employed  \\\n",
       "0         0   1001     Autauga County, Alabama        25838     24576   \n",
       "1         1   1003     Baldwin County, Alabama        96763     91338   \n",
       "2         2   1005     Barbour County, Alabama         8587      7982   \n",
       "3         3   1007        Bibb County, Alabama         8640      8067   \n",
       "4         4   1009      Blount County, Alabama        24661     23653   \n",
       "...     ...    ...                         ...          ...       ...   \n",
       "3120   3120  56037  Sweetwater County, Wyoming        20840     19308   \n",
       "3121   3121  56039       Teton County, Wyoming        15204     14292   \n",
       "3122   3122  56041       Uinta County, Wyoming         9312      8730   \n",
       "3123   3123  56043    Washakie County, Wyoming         4004      3793   \n",
       "3124   3124  56045      Weston County, Wyoming         3836      3688   \n",
       "\n",
       "      unemployed  unemployed_pct  population  race_white  race_black  \\\n",
       "0           1262             4.9       58805       42160       11445   \n",
       "1           5425             5.6      231767      189399       18217   \n",
       "2            605             7.0       25223       11317       11933   \n",
       "3            573             6.6       22293       16555        4413   \n",
       "4           1008             4.1       59134       50663         845   \n",
       "...          ...             ...         ...         ...         ...   \n",
       "3120        1532             7.4       42272       34389         366   \n",
       "3121         912             6.0       23331       19202          55   \n",
       "3122         582             6.3       20450       18007          66   \n",
       "3123         211             5.3        7685        6600          12   \n",
       "3124         148             3.9        6838        6197          30   \n",
       "\n",
       "      race_native  race_asian  race_islander  race_other  race_two_or_more  \\\n",
       "0             217         881             35         910              3157   \n",
       "1            1582        2067            143        5335             15024   \n",
       "2             116         117              1        1039               700   \n",
       "3              60          32              9         465               759   \n",
       "4             337         178             24        3431              3656   \n",
       "...           ...         ...            ...         ...               ...   \n",
       "3120          433         295             70        2508              4211   \n",
       "3121          185         317              5        1415              2152   \n",
       "3122          191         114             27         864              1181   \n",
       "3123           77          33              3         388               572   \n",
       "3124           97          27              9         138               340   \n",
       "\n",
       "         state  \n",
       "0      Alabama  \n",
       "1      Alabama  \n",
       "2      Alabama  \n",
       "3      Alabama  \n",
       "4      Alabama  \n",
       "...        ...  \n",
       "3120   Wyoming  \n",
       "3121   Wyoming  \n",
       "3122   Wyoming  \n",
       "3123   Wyoming  \n",
       "3124   Wyoming  \n",
       "\n",
       "[3125 rows x 16 columns]"
      ]
     },
     "execution_count": 74,
     "metadata": {},
     "output_type": "execute_result"
    }
   ],
   "source": [
    "Employment_by_County_with_state_df.drop('Unnamed: 0',axis=1)"
   ]
  },
  {
   "cell_type": "markdown",
   "id": "8b7e7f4f",
   "metadata": {},
   "source": [
    "# Total number of counties in the data"
   ]
  },
  {
   "cell_type": "code",
   "execution_count": 4,
   "id": "413df8d9",
   "metadata": {},
   "outputs": [
    {
     "data": {
      "text/plain": [
       "3125"
      ]
     },
     "execution_count": 4,
     "metadata": {},
     "output_type": "execute_result"
    }
   ],
   "source": [
    "# Number of counties \n",
    "total_county=len(Employment_by_County_df[\"county\"].unique())\n",
    "total_county\n"
   ]
  },
  {
   "cell_type": "code",
   "execution_count": 5,
   "id": "cb5c13e3",
   "metadata": {},
   "outputs": [
    {
     "data": {
      "text/plain": [
       "county\n",
       "Abbeville County, South Carolina      670.0\n",
       "Acadia Parish, Louisiana             1705.0\n",
       "Accomack County, Virginia            1041.0\n",
       "Ada County, Idaho                   13893.0\n",
       "Adair County, Iowa                    166.0\n",
       "                                     ...   \n",
       "Yuma County, Arizona                16810.0\n",
       "Yuma County, Colorado                 159.0\n",
       "Zapata County, Texas                  571.0\n",
       "Zavala County, Texas                  484.0\n",
       "Ziebach County, South Dakota           45.0\n",
       "Name: unemployed, Length: 3125, dtype: float64"
      ]
     },
     "execution_count": 5,
     "metadata": {},
     "output_type": "execute_result"
    }
   ],
   "source": [
    "#Average Unemployement\n",
    "Avg_Unemployment = Employment_by_County_df.groupby([\"county\"]).mean()[\"unemployed\"]\n",
    "Avg_Unemployment"
   ]
  },
  {
   "cell_type": "markdown",
   "id": "a1b2a095",
   "metadata": {},
   "source": [
    "# which counties has highest_Unemployment "
   ]
  },
  {
   "cell_type": "code",
   "execution_count": 15,
   "id": "a63ffb9e",
   "metadata": {},
   "outputs": [
    {
     "data": {
      "text/plain": [
       "county\n",
       "Los Angeles County, California    629811.0\n",
       "Cook County, Illinois             281454.0\n",
       "Harris County, Texas              204310.0\n",
       "Maricopa County, Arizona          172361.0\n",
       "Clark County, Nevada              165513.0\n",
       "                                    ...   \n",
       "Petroleum County, Montana              9.0\n",
       "Blaine County, Nebraska                9.0\n",
       "Grant County, Nebraska                 8.0\n",
       "Loving County, Texas                   5.0\n",
       "King County, Texas                     4.0\n",
       "Name: unemployed, Length: 3125, dtype: float64"
      ]
     },
     "execution_count": 15,
     "metadata": {},
     "output_type": "execute_result"
    }
   ],
   "source": [
    "Avg_Unemployment.sort_values(ascending=False)"
   ]
  },
  {
   "cell_type": "code",
   "execution_count": 7,
   "id": "c3e60714",
   "metadata": {},
   "outputs": [
    {
     "data": {
      "text/plain": [
       "county\n",
       "Los Angeles County, California    629811.0\n",
       "Cook County, Illinois             281454.0\n",
       "Harris County, Texas              204310.0\n",
       "Maricopa County, Arizona          172361.0\n",
       "Clark County, Nevada              165513.0\n",
       "Kings County, New York            144278.0\n",
       "San Diego County, California      141814.0\n",
       "Queens County, New York           137723.0\n",
       "Orange County, California         136563.0\n",
       "Wayne County, Michigan            110086.0\n",
       "Riverside County, California      109998.0\n",
       "Dallas County, Texas              103841.0\n",
       "Miami-Dade County, Florida        103681.0\n",
       "King County, Washington            96440.0\n",
       "Bronx County, New York             94436.0\n",
       "Name: unemployed, dtype: float64"
      ]
     },
     "execution_count": 7,
     "metadata": {},
     "output_type": "execute_result"
    }
   ],
   "source": [
    "#TOP 10 county with high unemployed \n",
    "high_Unemployment=Avg_Unemployment.nlargest(15)\n",
    "high_Unemployment"
   ]
  },
  {
   "cell_type": "code",
   "execution_count": 8,
   "id": "f5c610f4",
   "metadata": {},
   "outputs": [
    {
     "data": {
      "image/png": "[encoded data removed]",
      "text/plain": [
       "<Figure size 1440x720 with 1 Axes>"
      ]
     },
     "metadata": {
      "needs_background": "light"
     },
     "output_type": "display_data"
    },
    {
     "data": {
      "text/plain": [
       "<Figure size 432x288 with 0 Axes>"
      ]
     },
     "metadata": {},
     "output_type": "display_data"
    }
   ],
   "source": [
    "# Bar chart for top couties with high unemployement rate\n",
    "\n",
    "high_Unemployment.sort_values().plot(kind=\"barh\",figsize=(20,10))\n",
    "plt.title(\"Top 15 counties with high unemployement \") \n",
    "plt.ylabel(\"county\")\n",
    "plt.xlabel(\"total unemployment\")\n",
    "plt.show()\n",
    "plt.tight_layout()\n"
   ]
  },
  {
   "cell_type": "markdown",
   "id": "8e81e3d1",
   "metadata": {},
   "source": [
    "# Which counties have lowest_Unemployment "
   ]
  },
  {
   "cell_type": "code",
   "execution_count": 9,
   "id": "db38e3f5",
   "metadata": {},
   "outputs": [
    {
     "data": {
      "text/plain": [
       "county\n",
       "King County, Texas             4.0\n",
       "Loving County, Texas           5.0\n",
       "Grant County, Nebraska         8.0\n",
       "Blaine County, Nebraska        9.0\n",
       "Petroleum County, Montana      9.0\n",
       "Banner County, Nebraska       10.0\n",
       "Kenedy County, Texas          10.0\n",
       "Wheeler County, Nebraska      10.0\n",
       "Hooker County, Nebraska       11.0\n",
       "Arthur County, Nebraska       12.0\n",
       "Harding County, New Mexico    12.0\n",
       "Keya Paha County, Nebraska    12.0\n",
       "Logan County, Nebraska        12.0\n",
       "Loup County, Nebraska         12.0\n",
       "McPherson County, Nebraska    12.0\n",
       "Name: unemployed, dtype: float64"
      ]
     },
     "execution_count": 9,
     "metadata": {},
     "output_type": "execute_result"
    }
   ],
   "source": [
    "#Low unemployement\n",
    "low_Unemployment = Avg_Unemployment.nsmallest(15)\n",
    "low_Unemployment"
   ]
  },
  {
   "cell_type": "code",
   "execution_count": 16,
   "id": "ffd0a9b9",
   "metadata": {},
   "outputs": [
    {
     "data": {
      "text/plain": [
       "county\n",
       "King County, Texas             4.0\n",
       "Loving County, Texas           5.0\n",
       "Grant County, Nebraska         8.0\n",
       "Blaine County, Nebraska        9.0\n",
       "Petroleum County, Montana      9.0\n",
       "Banner County, Nebraska       10.0\n",
       "Kenedy County, Texas          10.0\n",
       "Wheeler County, Nebraska      10.0\n",
       "Hooker County, Nebraska       11.0\n",
       "Arthur County, Nebraska       12.0\n",
       "Harding County, New Mexico    12.0\n",
       "Keya Paha County, Nebraska    12.0\n",
       "Logan County, Nebraska        12.0\n",
       "Loup County, Nebraska         12.0\n",
       "McPherson County, Nebraska    12.0\n",
       "Name: unemployed, dtype: float64"
      ]
     },
     "execution_count": 16,
     "metadata": {},
     "output_type": "execute_result"
    }
   ],
   "source": [
    "low_Unemployment.sort_values(ascending=True)"
   ]
  },
  {
   "cell_type": "code",
   "execution_count": 17,
   "id": "cf34755a",
   "metadata": {},
   "outputs": [
    {
     "data": {
      "image/png": "[encoded data removed]",
      "text/plain": [
       "<Figure size 1440x360 with 1 Axes>"
      ]
     },
     "metadata": {
      "needs_background": "light"
     },
     "output_type": "display_data"
    },
    {
     "data": {
      "text/plain": [
       "<Figure size 432x288 with 0 Axes>"
      ]
     },
     "metadata": {},
     "output_type": "display_data"
    }
   ],
   "source": [
    "\n",
    "low_Unemployment.plot(kind=\"bar\",figsize=(20,5))\n",
    "plt.title(\"Top 15 counties with low unemployement \") \n",
    "plt.ylabel(\"county\")\n",
    "plt.xlabel(\"total unemployment\")\n",
    "plt.show()\n",
    "plt.tight_layout()\n"
   ]
  },
  {
   "cell_type": "markdown",
   "id": "0f8bf264",
   "metadata": {},
   "source": [
    "# counties with high employement"
   ]
  },
  {
   "cell_type": "code",
   "execution_count": 18,
   "id": "b5ba40b6",
   "metadata": {},
   "outputs": [
    {
     "data": {
      "text/plain": [
       "county\n",
       "Abbeville County, South Carolina      9454.0\n",
       "Acadia Parish, Louisiana             21758.0\n",
       "Accomack County, Virginia            15011.0\n",
       "Ada County, Idaho                   243784.0\n",
       "Adair County, Iowa                    4013.0\n",
       "                                      ...   \n",
       "Yuma County, Arizona                 81310.0\n",
       "Yuma County, Colorado                 5445.0\n",
       "Zapata County, Texas                  4029.0\n",
       "Zavala County, Texas                  2946.0\n",
       "Ziebach County, South Dakota           899.0\n",
       "Name: employed, Length: 3125, dtype: float64"
      ]
     },
     "execution_count": 18,
     "metadata": {},
     "output_type": "execute_result"
    }
   ],
   "source": [
    "#Average employement\n",
    "Avg_employment = Employment_by_County_df.groupby([\"county\"]).mean()[\"employed\"]\n",
    "Avg_employment"
   ]
  },
  {
   "cell_type": "code",
   "execution_count": 19,
   "id": "64274221",
   "metadata": {},
   "outputs": [
    {
     "data": {
      "text/plain": [
       "county\n",
       "Los Angeles County, California    4291688.0\n",
       "Cook County, Illinois             2258453.0\n",
       "Maricopa County, Arizona          2159267.0\n",
       "Harris County, Texas              2088449.0\n",
       "Orange County, California         1416738.0\n",
       "                                    ...    \n",
       "Petroleum County, Montana             255.0\n",
       "Blaine County, Nebraska               246.0\n",
       "King County, Texas                    232.0\n",
       "Arthur County, Nebraska               219.0\n",
       "Kenedy County, Texas                  174.0\n",
       "Name: employed, Length: 3125, dtype: float64"
      ]
     },
     "execution_count": 19,
     "metadata": {},
     "output_type": "execute_result"
    }
   ],
   "source": [
    "Avg_employment.sort_values(ascending=False)"
   ]
  },
  {
   "cell_type": "code",
   "execution_count": 20,
   "id": "29e3ee2f",
   "metadata": {},
   "outputs": [
    {
     "data": {
      "text/plain": [
       "county\n",
       "Kenedy County, Texas                  174.0\n",
       "Arthur County, Nebraska               219.0\n",
       "King County, Texas                    232.0\n",
       "Blaine County, Nebraska               246.0\n",
       "Petroleum County, Montana             255.0\n",
       "                                    ...    \n",
       "Orange County, California         1416738.0\n",
       "Harris County, Texas              2088449.0\n",
       "Maricopa County, Arizona          2159267.0\n",
       "Cook County, Illinois             2258453.0\n",
       "Los Angeles County, California    4291688.0\n",
       "Name: employed, Length: 3125, dtype: float64"
      ]
     },
     "execution_count": 20,
     "metadata": {},
     "output_type": "execute_result"
    }
   ],
   "source": [
    "Avg_employment.sort_values(ascending=True)"
   ]
  },
  {
   "cell_type": "code",
   "execution_count": 36,
   "id": "96368d93",
   "metadata": {},
   "outputs": [
    {
     "data": {
      "text/plain": [
       "county\n",
       "Los Angeles County, California    4291688.0\n",
       "Cook County, Illinois             2258453.0\n",
       "Maricopa County, Arizona          2159267.0\n",
       "Harris County, Texas              2088449.0\n",
       "Orange County, California         1416738.0\n",
       "San Diego County, California      1396547.0\n",
       "Dallas County, Texas              1251192.0\n",
       "King County, Washington           1190168.0\n",
       "Miami-Dade County, Florida        1188173.0\n",
       "Kings County, New York            1006852.0\n",
       "Tarrant County, Texas             1003269.0\n",
       "Riverside County, California       997725.0\n",
       "Queens County, New York            961214.0\n",
       "Clark County, Nevada               958069.0\n",
       "Santa Clara County, California     949353.0\n",
       "Name: employed, dtype: float64"
      ]
     },
     "execution_count": 36,
     "metadata": {},
     "output_type": "execute_result"
    }
   ],
   "source": [
    "# Top empolyed \n",
    "high_employment=Avg_employment.nlargest(15)\n",
    "high_employment\n",
    "\n"
   ]
  },
  {
   "cell_type": "code",
   "execution_count": 51,
   "id": "2e1a7bfe",
   "metadata": {},
   "outputs": [
    {
     "data": {
      "text/plain": [
       "county\n",
       "Kenedy County, Texas             174.0\n",
       "Arthur County, Nebraska          219.0\n",
       "King County, Texas               232.0\n",
       "Blaine County, Nebraska          246.0\n",
       "Petroleum County, Montana        255.0\n",
       "Harding County, New Mexico       264.0\n",
       "Loving County, Texas             284.0\n",
       "Issaquena County, Mississippi    307.0\n",
       "Treasure County, Montana         326.0\n",
       "Golden Valley County, Montana    346.0\n",
       "Clark County, Idaho              363.0\n",
       "Banner County, Nebraska          370.0\n",
       "Terrell County, Texas            375.0\n",
       "Slope County, North Dakota       379.0\n",
       "Daggett County, Utah             383.0\n",
       "Name: employed, dtype: float64"
      ]
     },
     "execution_count": 51,
     "metadata": {},
     "output_type": "execute_result"
    }
   ],
   "source": [
    "low_employment=Avg_employment.nsmallest(15)\n",
    "low_employment"
   ]
  },
  {
   "cell_type": "code",
   "execution_count": 35,
   "id": "d7c61465",
   "metadata": {},
   "outputs": [
    {
     "data": {
      "image/png": "[encoded data removed]",
      "text/plain": [
       "<Figure size 1440x720 with 1 Axes>"
      ]
     },
     "metadata": {},
     "output_type": "display_data"
    },
    {
     "data": {
      "text/plain": [
       "<Figure size 720x432 with 0 Axes>"
      ]
     },
     "metadata": {},
     "output_type": "display_data"
    }
   ],
   "source": [
    "high_employment.sort_values().plot(kind=\"barh\",figsize=(20,10))\n",
    "plt.title(\"Top 15 counties with high employement \") \n",
    "plt.ylabel(\"county\")\n",
    "plt.xlabel(\"total employment\")\n",
    "plt.show()\n",
    "plt.tight_layout()\n"
   ]
  },
  {
   "cell_type": "code",
   "execution_count": 53,
   "id": "f9ffdef2",
   "metadata": {},
   "outputs": [
    {
     "data": {
      "image/png": "[encoded data removed]",
      "text/plain": [
       "<Figure size 1440x720 with 1 Axes>"
      ]
     },
     "metadata": {},
     "output_type": "display_data"
    },
    {
     "data": {
      "text/plain": [
       "<Figure size 720x432 with 0 Axes>"
      ]
     },
     "metadata": {},
     "output_type": "display_data"
    }
   ],
   "source": [
    "low_employment.plot(kind=\"barh\",figsize=(20,10))\n",
    "plt.title(\"Top 15 counties with high employement \") \n",
    "plt.ylabel(\"county\")\n",
    "plt.xlabel(\"total employment\")\n",
    "plt.show()\n",
    "plt.tight_layout()\n"
   ]
  },
  {
   "cell_type": "code",
   "execution_count": 37,
   "id": "0f7b1624",
   "metadata": {},
   "outputs": [
    {
     "data": {
      "text/plain": [
       "county\n",
       "Abbeville County, South Carolina     10124\n",
       "Acadia Parish, Louisiana             23463\n",
       "Accomack County, Virginia            16052\n",
       "Ada County, Idaho                   257677\n",
       "Adair County, Iowa                    4179\n",
       "                                     ...  \n",
       "Yuma County, Arizona                 98120\n",
       "Yuma County, Colorado                 5604\n",
       "Zapata County, Texas                  4600\n",
       "Zavala County, Texas                  3430\n",
       "Ziebach County, South Dakota           944\n",
       "Name: labor_force, Length: 3125, dtype: int64"
      ]
     },
     "execution_count": 37,
     "metadata": {},
     "output_type": "execute_result"
    }
   ],
   "source": [
    "# total labor force\n",
    "total_laborforce = Employment_by_County_df.groupby([\"county\"]).sum()[\"labor_force\"]\n",
    "total_laborforce"
   ]
  },
  {
   "cell_type": "code",
   "execution_count": 40,
   "id": "a6fb73b2",
   "metadata": {},
   "outputs": [
    {
     "data": {
      "text/plain": [
       "county\n",
       "Los Angeles County, California    4921499\n",
       "Cook County, Illinois             2539907\n",
       "Maricopa County, Arizona          2331628\n",
       "Harris County, Texas              2292759\n",
       "Orange County, California         1553301\n",
       "                                   ...   \n",
       "Petroleum County, Montana             264\n",
       "Blaine County, Nebraska               255\n",
       "King County, Texas                    236\n",
       "Arthur County, Nebraska               231\n",
       "Kenedy County, Texas                  184\n",
       "Name: labor_force, Length: 3125, dtype: int64"
      ]
     },
     "execution_count": 40,
     "metadata": {},
     "output_type": "execute_result"
    }
   ],
   "source": [
    "# counties with more labor force\n",
    "total_laborforce.sort_values(ascending=False)"
   ]
  },
  {
   "cell_type": "code",
   "execution_count": 39,
   "id": "ccee5543",
   "metadata": {},
   "outputs": [
    {
     "data": {
      "text/plain": [
       "county\n",
       "Abbeville County, South Carolina     10124.0\n",
       "Acadia Parish, Louisiana             23463.0\n",
       "Accomack County, Virginia            16052.0\n",
       "Ada County, Idaho                   257677.0\n",
       "Adair County, Iowa                    4179.0\n",
       "                                      ...   \n",
       "Yuma County, Arizona                 98120.0\n",
       "Yuma County, Colorado                 5604.0\n",
       "Zapata County, Texas                  4600.0\n",
       "Zavala County, Texas                  3430.0\n",
       "Ziebach County, South Dakota           944.0\n",
       "Name: labor_force, Length: 3125, dtype: float64"
      ]
     },
     "execution_count": 39,
     "metadata": {},
     "output_type": "execute_result"
    }
   ],
   "source": [
    "Avg_laborforce= Employment_by_County_df.groupby(['county']).mean()[\"labor_force\"]\n",
    "Avg_laborforce"
   ]
  },
  {
   "cell_type": "markdown",
   "id": "f3d2fa66",
   "metadata": {},
   "source": [
    "# unemployement data"
   ]
  },
  {
   "cell_type": "code",
   "execution_count": 49,
   "id": "03dc398d",
   "metadata": {},
   "outputs": [
    {
     "name": "stderr",
     "output_type": "stream",
     "text": [
      "*c* argument looks like a single numeric RGB or RGBA sequence, which should be avoided as value-mapping will have precedence in case its length matches with *x* & *y*.  Please use the *color* keyword-argument or provide a 2D array with a single row if you intend to specify the same RGB or RGBA value for all points.\n"
     ]
    },
    {
     "data": {
      "text/plain": [
       "<AxesSubplot:xlabel='population', ylabel='unemployed'>"
      ]
     },
     "execution_count": 49,
     "metadata": {},
     "output_type": "execute_result"
    },
    {
     "data": {
      "image/png": "[encoded data removed]",
      "text/plain": [
       "<Figure size 720x432 with 1 Axes>"
      ]
     },
     "metadata": {},
     "output_type": "display_data"
    }
   ],
   "source": [
    "#plt.scatter(Employment_by_County_df.labor_force, Employment_by_County_df.employed, s=Employment_by_County_df.unemployed)\n",
    "# OR (with pandas 0.13 and up)\n",
    "Employment_by_County_df.plot(kind='scatter', x='population', y='unemployed',s=100)\n"
   ]
  },
  {
   "cell_type": "code",
   "execution_count": 75,
   "id": "0292289f",
   "metadata": {},
   "outputs": [
    {
     "data": {
      "text/html": [
       "<div>\n",
       "<style scoped>\n",
       "    .dataframe tbody tr th:only-of-type {\n",
       "        vertical-align: middle;\n",
       "    }\n",
       "\n",
       "    .dataframe tbody tr th {\n",
       "        vertical-align: top;\n",
       "    }\n",
       "\n",
       "    .dataframe thead th {\n",
       "        text-align: right;\n",
       "    }\n",
       "</style>\n",
       "<table border=\"1\" class=\"dataframe\">\n",
       "  <thead>\n",
       "    <tr style=\"text-align: right;\">\n",
       "      <th></th>\n",
       "      <th>Unnamed: 0</th>\n",
       "      <th>index</th>\n",
       "      <th>geoid</th>\n",
       "      <th>county</th>\n",
       "      <th>labor_force</th>\n",
       "      <th>employed</th>\n",
       "      <th>unemployed</th>\n",
       "      <th>unemployed_pct</th>\n",
       "      <th>population</th>\n",
       "      <th>race_white</th>\n",
       "      <th>race_black</th>\n",
       "      <th>race_native</th>\n",
       "      <th>race_asian</th>\n",
       "      <th>race_islander</th>\n",
       "      <th>race_other</th>\n",
       "      <th>race_two_or_more</th>\n",
       "      <th>state</th>\n",
       "    </tr>\n",
       "  </thead>\n",
       "  <tbody>\n",
       "    <tr>\n",
       "      <th>0</th>\n",
       "      <td>0</td>\n",
       "      <td>0</td>\n",
       "      <td>1001</td>\n",
       "      <td>Autauga County, Alabama</td>\n",
       "      <td>25838</td>\n",
       "      <td>24576</td>\n",
       "      <td>1262</td>\n",
       "      <td>4.9</td>\n",
       "      <td>58805</td>\n",
       "      <td>42160</td>\n",
       "      <td>11445</td>\n",
       "      <td>217</td>\n",
       "      <td>881</td>\n",
       "      <td>35</td>\n",
       "      <td>910</td>\n",
       "      <td>3157</td>\n",
       "      <td>Alabama</td>\n",
       "    </tr>\n",
       "    <tr>\n",
       "      <th>1</th>\n",
       "      <td>1</td>\n",
       "      <td>1</td>\n",
       "      <td>1003</td>\n",
       "      <td>Baldwin County, Alabama</td>\n",
       "      <td>96763</td>\n",
       "      <td>91338</td>\n",
       "      <td>5425</td>\n",
       "      <td>5.6</td>\n",
       "      <td>231767</td>\n",
       "      <td>189399</td>\n",
       "      <td>18217</td>\n",
       "      <td>1582</td>\n",
       "      <td>2067</td>\n",
       "      <td>143</td>\n",
       "      <td>5335</td>\n",
       "      <td>15024</td>\n",
       "      <td>Alabama</td>\n",
       "    </tr>\n",
       "    <tr>\n",
       "      <th>2</th>\n",
       "      <td>2</td>\n",
       "      <td>2</td>\n",
       "      <td>1005</td>\n",
       "      <td>Barbour County, Alabama</td>\n",
       "      <td>8587</td>\n",
       "      <td>7982</td>\n",
       "      <td>605</td>\n",
       "      <td>7.0</td>\n",
       "      <td>25223</td>\n",
       "      <td>11317</td>\n",
       "      <td>11933</td>\n",
       "      <td>116</td>\n",
       "      <td>117</td>\n",
       "      <td>1</td>\n",
       "      <td>1039</td>\n",
       "      <td>700</td>\n",
       "      <td>Alabama</td>\n",
       "    </tr>\n",
       "    <tr>\n",
       "      <th>3</th>\n",
       "      <td>3</td>\n",
       "      <td>3</td>\n",
       "      <td>1007</td>\n",
       "      <td>Bibb County, Alabama</td>\n",
       "      <td>8640</td>\n",
       "      <td>8067</td>\n",
       "      <td>573</td>\n",
       "      <td>6.6</td>\n",
       "      <td>22293</td>\n",
       "      <td>16555</td>\n",
       "      <td>4413</td>\n",
       "      <td>60</td>\n",
       "      <td>32</td>\n",
       "      <td>9</td>\n",
       "      <td>465</td>\n",
       "      <td>759</td>\n",
       "      <td>Alabama</td>\n",
       "    </tr>\n",
       "    <tr>\n",
       "      <th>4</th>\n",
       "      <td>4</td>\n",
       "      <td>4</td>\n",
       "      <td>1009</td>\n",
       "      <td>Blount County, Alabama</td>\n",
       "      <td>24661</td>\n",
       "      <td>23653</td>\n",
       "      <td>1008</td>\n",
       "      <td>4.1</td>\n",
       "      <td>59134</td>\n",
       "      <td>50663</td>\n",
       "      <td>845</td>\n",
       "      <td>337</td>\n",
       "      <td>178</td>\n",
       "      <td>24</td>\n",
       "      <td>3431</td>\n",
       "      <td>3656</td>\n",
       "      <td>Alabama</td>\n",
       "    </tr>\n",
       "  </tbody>\n",
       "</table>\n",
       "</div>"
      ],
      "text/plain": [
       "   Unnamed: 0  index  geoid                   county  labor_force  employed  \\\n",
       "0           0      0   1001  Autauga County, Alabama        25838     24576   \n",
       "1           1      1   1003  Baldwin County, Alabama        96763     91338   \n",
       "2           2      2   1005  Barbour County, Alabama         8587      7982   \n",
       "3           3      3   1007     Bibb County, Alabama         8640      8067   \n",
       "4           4      4   1009   Blount County, Alabama        24661     23653   \n",
       "\n",
       "   unemployed  unemployed_pct  population  race_white  race_black  \\\n",
       "0        1262             4.9       58805       42160       11445   \n",
       "1        5425             5.6      231767      189399       18217   \n",
       "2         605             7.0       25223       11317       11933   \n",
       "3         573             6.6       22293       16555        4413   \n",
       "4        1008             4.1       59134       50663         845   \n",
       "\n",
       "   race_native  race_asian  race_islander  race_other  race_two_or_more  \\\n",
       "0          217         881             35         910              3157   \n",
       "1         1582        2067            143        5335             15024   \n",
       "2          116         117              1        1039               700   \n",
       "3           60          32              9         465               759   \n",
       "4          337         178             24        3431              3656   \n",
       "\n",
       "      state  \n",
       "0   Alabama  \n",
       "1   Alabama  \n",
       "2   Alabama  \n",
       "3   Alabama  \n",
       "4   Alabama  "
      ]
     },
     "execution_count": 75,
     "metadata": {},
     "output_type": "execute_result"
    }
   ],
   "source": [
    "Employment_by_County_with_state_df.head(5)"
   ]
  },
  {
   "cell_type": "code",
   "execution_count": 81,
   "id": "35147b39",
   "metadata": {},
   "outputs": [
    {
     "data": {
      "text/plain": [
       "state\n",
       " Alabama            1956.194030\n",
       " Alaska              647.090909\n",
       " Arizona           18804.600000\n",
       " Arkansas           1092.693333\n",
       " California        32711.719298\n",
       " Colorado           3051.596774\n",
       " Connecticut       18501.125000\n",
       " Delaware          12633.666667\n",
       " Florida           11664.119403\n",
       " Georgia            2081.559748\n",
       " Hawaii            10205.333333\n",
       " Idaho              1086.113636\n",
       " Illinois           5800.147059\n",
       " Indiana            2565.586957\n",
       " Iowa                885.454545\n",
       " Kansas              838.190476\n",
       " Kentucky           1118.741667\n",
       " Louisiana          2715.555556\n",
       " Maine              2299.125000\n",
       " Maryland           8937.916667\n",
       " Massachusetts     24877.153846\n",
       " Michigan           5760.409639\n",
       " Minnesota          2197.045977\n",
       " Mississippi        1241.560976\n",
       " Missouri           1613.417391\n",
       " Montana             567.660714\n",
       " Nebraska            470.881720\n",
       " Nevada            11556.294118\n",
       " New Hampshire      5091.400000\n",
       " New Jersey        20947.904762\n",
       " New Mexico         2229.375000\n",
       " New York          14970.435484\n",
       " North Carolina     3634.580000\n",
       " North Dakota        393.150943\n",
       " Ohio               5327.306818\n",
       " Oklahoma           1474.870130\n",
       " Oregon             4429.055556\n",
       " Pennsylvania       7430.348485\n",
       " Rhode Island      10167.200000\n",
       " South Carolina     3199.760870\n",
       " South Dakota        325.939394\n",
       " Tennessee          2584.547368\n",
       " Texas              4204.700787\n",
       " Utah               2635.793103\n",
       " Vermont            1315.214286\n",
       " Virginia           2040.691729\n",
       " Washington         8438.153846\n",
       " West Virginia      1202.436364\n",
       " Wisconsin          2677.680556\n",
       " Wyoming             753.913043\n",
       "Name: unemployed, dtype: float64"
      ]
     },
     "execution_count": 81,
     "metadata": {},
     "output_type": "execute_result"
    }
   ],
   "source": [
    "unemployed_mean = Employment_by_County_with_state_df.groupby('state').mean()['unemployed']\n",
    "unemployed_mean"
   ]
  },
  {
   "cell_type": "code",
   "execution_count": 84,
   "id": "04e78fd3",
   "metadata": {},
   "outputs": [
    {
     "data": {
      "text/plain": [
       "<AxesSubplot:ylabel='state'>"
      ]
     },
     "execution_count": 84,
     "metadata": {},
     "output_type": "execute_result"
    },
    {
     "data": {
      "image/png": "[encoded data removed]",
      "text/plain": [
       "<Figure size 720x432 with 1 Axes>"
      ]
     },
     "metadata": {},
     "output_type": "display_data"
    }
   ],
   "source": [
    "unemployed_mean.sort_values(ascending=True).plot(kind=\"barh\")"
   ]
  },
  {
   "cell_type": "code",
   "execution_count": null,
   "id": "af34e252",
   "metadata": {},
   "outputs": [],
   "source": []
  }
 ],
 "metadata": {
  "kernelspec": {
   "display_name": "mlenv",
   "language": "python",
   "name": "mlenv"
  },
  "language_info": {
   "codemirror_mode": {
    "name": "ipython",
    "version": 3
   },
   "file_extension": ".py",
   "mimetype": "text/x-python",
   "name": "python",
   "nbconvert_exporter": "python",
   "pygments_lexer": "ipython3",
   "version": "3.7.11"
  }
 },
 "nbformat": 4,
 "nbformat_minor": 5
}
