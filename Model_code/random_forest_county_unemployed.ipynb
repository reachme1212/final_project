{
 "cells": [
  {
   "cell_type": "code",
   "execution_count": 64,
   "id": "2aa3f4b0",
   "metadata": {},
   "outputs": [],
   "source": [
    "import pandas as pd\n",
    "import numpy as np\n",
    "from sklearn.preprocessing import MinMaxScaler, LabelEncoder\n",
    "from sklearn.linear_model import LinearRegression\n",
    "from sklearn.datasets import make_classification\n",
    "\n",
    "from sklearn.ensemble import RandomForestRegressor\n",
    "from sklearn.model_selection import train_test_split\n",
    "from sklearn.preprocessing import StandardScaler\n",
    "\n",
    "%matplotlib inline\n",
    "from matplotlib import pyplot as plt"
   ]
  },
  {
   "cell_type": "markdown",
   "id": "e90ffc15",
   "metadata": {},
   "source": [
    "# Datasource: US Census.gov\n",
    "\n",
    "### - Employment data by County\n",
    "#### -- county (county/state)\n",
    "#### -- labor_force\n",
    "#### -- employed\n",
    "#### -- unemployed_pct\n",
    "\n",
    "### - Demographic population and race data by County\n",
    "\n",
    "#### -- county (county/state)\n",
    "#### -- population\n",
    "#### -- race_white\n",
    "#### -- race_black\n",
    "#### -- race_native\n",
    "#### -- race_asian\n",
    "#### -- race_islander\n",
    "#### -- race_other\n",
    "#### -- race_two_or_more\n",
    "\n",
    "---\n",
    "\n",
    "# This model uses these X columns:\n",
    "---\n",
    "#### - race_white\n",
    "#### - race_black\n",
    "#### - race_asian\n",
    "#### - race_other (combined race_other, race_islander, race_native)\n",
    "#### - race_two_or_more\n",
    "\n",
    "---\n",
    "\n",
    "## To Predict one of these Y column:\n",
    "\n",
    "# labor_force\n",
    "# employed\n",
    "# unemployed\n",
    "\n",
    "---\n",
    "\n",
    "There are sample tests way at the bottom that simulates simulate the response the user would get if we were to provide them with a form for them to enter in values and hit submit. \n",
    "\n",
    "The tests below shows you the \"change\" in labor_force.\n",
    "\n",
    "\n",
    "---"
   ]
  },
  {
   "cell_type": "code",
   "execution_count": 65,
   "id": "82fb5546",
   "metadata": {
    "scrolled": true
   },
   "outputs": [
    {
     "data": {
      "text/html": [
       "<div>\n",
       "<style scoped>\n",
       "    .dataframe tbody tr th:only-of-type {\n",
       "        vertical-align: middle;\n",
       "    }\n",
       "\n",
       "    .dataframe tbody tr th {\n",
       "        vertical-align: top;\n",
       "    }\n",
       "\n",
       "    .dataframe thead th {\n",
       "        text-align: right;\n",
       "    }\n",
       "</style>\n",
       "<table border=\"1\" class=\"dataframe\">\n",
       "  <thead>\n",
       "    <tr style=\"text-align: right;\">\n",
       "      <th></th>\n",
       "      <th>county</th>\n",
       "      <th>labor_force</th>\n",
       "      <th>employed</th>\n",
       "      <th>unemployed</th>\n",
       "      <th>unemployed_pct</th>\n",
       "      <th>population</th>\n",
       "      <th>race_white</th>\n",
       "      <th>race_black</th>\n",
       "      <th>race_native</th>\n",
       "      <th>race_asian</th>\n",
       "      <th>race_islander</th>\n",
       "      <th>race_other</th>\n",
       "      <th>race_two_or_more</th>\n",
       "    </tr>\n",
       "    <tr>\n",
       "      <th>geoid</th>\n",
       "      <th></th>\n",
       "      <th></th>\n",
       "      <th></th>\n",
       "      <th></th>\n",
       "      <th></th>\n",
       "      <th></th>\n",
       "      <th></th>\n",
       "      <th></th>\n",
       "      <th></th>\n",
       "      <th></th>\n",
       "      <th></th>\n",
       "      <th></th>\n",
       "      <th></th>\n",
       "    </tr>\n",
       "  </thead>\n",
       "  <tbody>\n",
       "    <tr>\n",
       "      <th>1001</th>\n",
       "      <td>Autauga County, Alabama</td>\n",
       "      <td>25838</td>\n",
       "      <td>24576</td>\n",
       "      <td>1262</td>\n",
       "      <td>4.9</td>\n",
       "      <td>58805</td>\n",
       "      <td>42160</td>\n",
       "      <td>11445</td>\n",
       "      <td>217</td>\n",
       "      <td>881</td>\n",
       "      <td>35</td>\n",
       "      <td>910</td>\n",
       "      <td>3157</td>\n",
       "    </tr>\n",
       "    <tr>\n",
       "      <th>1003</th>\n",
       "      <td>Baldwin County, Alabama</td>\n",
       "      <td>96763</td>\n",
       "      <td>91338</td>\n",
       "      <td>5425</td>\n",
       "      <td>5.6</td>\n",
       "      <td>231767</td>\n",
       "      <td>189399</td>\n",
       "      <td>18217</td>\n",
       "      <td>1582</td>\n",
       "      <td>2067</td>\n",
       "      <td>143</td>\n",
       "      <td>5335</td>\n",
       "      <td>15024</td>\n",
       "    </tr>\n",
       "    <tr>\n",
       "      <th>1005</th>\n",
       "      <td>Barbour County, Alabama</td>\n",
       "      <td>8587</td>\n",
       "      <td>7982</td>\n",
       "      <td>605</td>\n",
       "      <td>7.0</td>\n",
       "      <td>25223</td>\n",
       "      <td>11317</td>\n",
       "      <td>11933</td>\n",
       "      <td>116</td>\n",
       "      <td>117</td>\n",
       "      <td>1</td>\n",
       "      <td>1039</td>\n",
       "      <td>700</td>\n",
       "    </tr>\n",
       "    <tr>\n",
       "      <th>1007</th>\n",
       "      <td>Bibb County, Alabama</td>\n",
       "      <td>8640</td>\n",
       "      <td>8067</td>\n",
       "      <td>573</td>\n",
       "      <td>6.6</td>\n",
       "      <td>22293</td>\n",
       "      <td>16555</td>\n",
       "      <td>4413</td>\n",
       "      <td>60</td>\n",
       "      <td>32</td>\n",
       "      <td>9</td>\n",
       "      <td>465</td>\n",
       "      <td>759</td>\n",
       "    </tr>\n",
       "    <tr>\n",
       "      <th>1009</th>\n",
       "      <td>Blount County, Alabama</td>\n",
       "      <td>24661</td>\n",
       "      <td>23653</td>\n",
       "      <td>1008</td>\n",
       "      <td>4.1</td>\n",
       "      <td>59134</td>\n",
       "      <td>50663</td>\n",
       "      <td>845</td>\n",
       "      <td>337</td>\n",
       "      <td>178</td>\n",
       "      <td>24</td>\n",
       "      <td>3431</td>\n",
       "      <td>3656</td>\n",
       "    </tr>\n",
       "  </tbody>\n",
       "</table>\n",
       "</div>"
      ],
      "text/plain": [
       "                        county  labor_force  employed  unemployed  \\\n",
       "geoid                                                               \n",
       "1001   Autauga County, Alabama        25838     24576        1262   \n",
       "1003   Baldwin County, Alabama        96763     91338        5425   \n",
       "1005   Barbour County, Alabama         8587      7982         605   \n",
       "1007      Bibb County, Alabama         8640      8067         573   \n",
       "1009    Blount County, Alabama        24661     23653        1008   \n",
       "\n",
       "       unemployed_pct  population  race_white  race_black  race_native  \\\n",
       "geoid                                                                    \n",
       "1001              4.9       58805       42160       11445          217   \n",
       "1003              5.6      231767      189399       18217         1582   \n",
       "1005              7.0       25223       11317       11933          116   \n",
       "1007              6.6       22293       16555        4413           60   \n",
       "1009              4.1       59134       50663         845          337   \n",
       "\n",
       "       race_asian  race_islander  race_other  race_two_or_more  \n",
       "geoid                                                           \n",
       "1001          881             35         910              3157  \n",
       "1003         2067            143        5335             15024  \n",
       "1005          117              1        1039               700  \n",
       "1007           32              9         465               759  \n",
       "1009          178             24        3431              3656  "
      ]
     },
     "execution_count": 65,
     "metadata": {},
     "output_type": "execute_result"
    }
   ],
   "source": [
    "employment_county_df  = pd.read_csv('../data_files/Employment_by_County.csv', index_col=0)\n",
    "employment_county_df.head(5)"
   ]
  },
  {
   "cell_type": "markdown",
   "id": "d70c8292",
   "metadata": {},
   "source": [
    "# Copy of the dataframe to feed ML \n",
    "\n"
   ]
  },
  {
   "cell_type": "code",
   "execution_count": 66,
   "id": "8dc869b2",
   "metadata": {},
   "outputs": [],
   "source": [
    "employment_county_copy = employment_county_df.copy()"
   ]
  },
  {
   "cell_type": "code",
   "execution_count": 67,
   "id": "9757c1f1",
   "metadata": {},
   "outputs": [
    {
     "data": {
      "text/plain": [
       "['county',\n",
       " 'labor_force',\n",
       " 'employed',\n",
       " 'unemployed',\n",
       " 'unemployed_pct',\n",
       " 'population',\n",
       " 'race_white',\n",
       " 'race_black',\n",
       " 'race_native',\n",
       " 'race_asian',\n",
       " 'race_islander',\n",
       " 'race_other',\n",
       " 'race_two_or_more']"
      ]
     },
     "execution_count": 67,
     "metadata": {},
     "output_type": "execute_result"
    }
   ],
   "source": [
    "employment_county_copy.columns.to_list()"
   ]
  },
  {
   "cell_type": "code",
   "execution_count": 68,
   "id": "c07325d2",
   "metadata": {},
   "outputs": [
    {
     "name": "stdout",
     "output_type": "stream",
     "text": [
      "<class 'pandas.core.frame.DataFrame'>\n",
      "Int64Index: 3125 entries, 1001 to 56045\n",
      "Data columns (total 13 columns):\n",
      " #   Column            Non-Null Count  Dtype  \n",
      "---  ------            --------------  -----  \n",
      " 0   county            3125 non-null   object \n",
      " 1   labor_force       3125 non-null   int64  \n",
      " 2   employed          3125 non-null   int64  \n",
      " 3   unemployed        3125 non-null   int64  \n",
      " 4   unemployed_pct    3125 non-null   float64\n",
      " 5   population        3125 non-null   int64  \n",
      " 6   race_white        3125 non-null   int64  \n",
      " 7   race_black        3125 non-null   int64  \n",
      " 8   race_native       3125 non-null   int64  \n",
      " 9   race_asian        3125 non-null   int64  \n",
      " 10  race_islander     3125 non-null   int64  \n",
      " 11  race_other        3125 non-null   int64  \n",
      " 12  race_two_or_more  3125 non-null   int64  \n",
      "dtypes: float64(1), int64(11), object(1)\n",
      "memory usage: 341.8+ KB\n"
     ]
    }
   ],
   "source": [
    "employment_county_copy.info()"
   ]
  },
  {
   "cell_type": "code",
   "execution_count": 69,
   "id": "7b42ef24",
   "metadata": {
    "scrolled": true
   },
   "outputs": [
    {
     "data": {
      "text/html": [
       "<div>\n",
       "<style scoped>\n",
       "    .dataframe tbody tr th:only-of-type {\n",
       "        vertical-align: middle;\n",
       "    }\n",
       "\n",
       "    .dataframe tbody tr th {\n",
       "        vertical-align: top;\n",
       "    }\n",
       "\n",
       "    .dataframe thead th {\n",
       "        text-align: right;\n",
       "    }\n",
       "</style>\n",
       "<table border=\"1\" class=\"dataframe\">\n",
       "  <thead>\n",
       "    <tr style=\"text-align: right;\">\n",
       "      <th></th>\n",
       "      <th>county</th>\n",
       "      <th>labor_force</th>\n",
       "      <th>employed</th>\n",
       "      <th>unemployed</th>\n",
       "      <th>unemployed_pct</th>\n",
       "      <th>population</th>\n",
       "      <th>race_white</th>\n",
       "      <th>race_black</th>\n",
       "      <th>race_native</th>\n",
       "      <th>race_asian</th>\n",
       "      <th>race_islander</th>\n",
       "      <th>race_other</th>\n",
       "      <th>race_two_or_more</th>\n",
       "      <th>race_others</th>\n",
       "    </tr>\n",
       "    <tr>\n",
       "      <th>geoid</th>\n",
       "      <th></th>\n",
       "      <th></th>\n",
       "      <th></th>\n",
       "      <th></th>\n",
       "      <th></th>\n",
       "      <th></th>\n",
       "      <th></th>\n",
       "      <th></th>\n",
       "      <th></th>\n",
       "      <th></th>\n",
       "      <th></th>\n",
       "      <th></th>\n",
       "      <th></th>\n",
       "      <th></th>\n",
       "    </tr>\n",
       "  </thead>\n",
       "  <tbody>\n",
       "    <tr>\n",
       "      <th>1001</th>\n",
       "      <td>Autauga County, Alabama</td>\n",
       "      <td>25838</td>\n",
       "      <td>24576</td>\n",
       "      <td>1262</td>\n",
       "      <td>4.9</td>\n",
       "      <td>58805</td>\n",
       "      <td>42160</td>\n",
       "      <td>11445</td>\n",
       "      <td>217</td>\n",
       "      <td>881</td>\n",
       "      <td>35</td>\n",
       "      <td>910</td>\n",
       "      <td>3157</td>\n",
       "      <td>1162</td>\n",
       "    </tr>\n",
       "    <tr>\n",
       "      <th>1003</th>\n",
       "      <td>Baldwin County, Alabama</td>\n",
       "      <td>96763</td>\n",
       "      <td>91338</td>\n",
       "      <td>5425</td>\n",
       "      <td>5.6</td>\n",
       "      <td>231767</td>\n",
       "      <td>189399</td>\n",
       "      <td>18217</td>\n",
       "      <td>1582</td>\n",
       "      <td>2067</td>\n",
       "      <td>143</td>\n",
       "      <td>5335</td>\n",
       "      <td>15024</td>\n",
       "      <td>7060</td>\n",
       "    </tr>\n",
       "    <tr>\n",
       "      <th>1005</th>\n",
       "      <td>Barbour County, Alabama</td>\n",
       "      <td>8587</td>\n",
       "      <td>7982</td>\n",
       "      <td>605</td>\n",
       "      <td>7.0</td>\n",
       "      <td>25223</td>\n",
       "      <td>11317</td>\n",
       "      <td>11933</td>\n",
       "      <td>116</td>\n",
       "      <td>117</td>\n",
       "      <td>1</td>\n",
       "      <td>1039</td>\n",
       "      <td>700</td>\n",
       "      <td>1156</td>\n",
       "    </tr>\n",
       "    <tr>\n",
       "      <th>1007</th>\n",
       "      <td>Bibb County, Alabama</td>\n",
       "      <td>8640</td>\n",
       "      <td>8067</td>\n",
       "      <td>573</td>\n",
       "      <td>6.6</td>\n",
       "      <td>22293</td>\n",
       "      <td>16555</td>\n",
       "      <td>4413</td>\n",
       "      <td>60</td>\n",
       "      <td>32</td>\n",
       "      <td>9</td>\n",
       "      <td>465</td>\n",
       "      <td>759</td>\n",
       "      <td>534</td>\n",
       "    </tr>\n",
       "    <tr>\n",
       "      <th>1009</th>\n",
       "      <td>Blount County, Alabama</td>\n",
       "      <td>24661</td>\n",
       "      <td>23653</td>\n",
       "      <td>1008</td>\n",
       "      <td>4.1</td>\n",
       "      <td>59134</td>\n",
       "      <td>50663</td>\n",
       "      <td>845</td>\n",
       "      <td>337</td>\n",
       "      <td>178</td>\n",
       "      <td>24</td>\n",
       "      <td>3431</td>\n",
       "      <td>3656</td>\n",
       "      <td>3792</td>\n",
       "    </tr>\n",
       "  </tbody>\n",
       "</table>\n",
       "</div>"
      ],
      "text/plain": [
       "                        county  labor_force  employed  unemployed  \\\n",
       "geoid                                                               \n",
       "1001   Autauga County, Alabama        25838     24576        1262   \n",
       "1003   Baldwin County, Alabama        96763     91338        5425   \n",
       "1005   Barbour County, Alabama         8587      7982         605   \n",
       "1007      Bibb County, Alabama         8640      8067         573   \n",
       "1009    Blount County, Alabama        24661     23653        1008   \n",
       "\n",
       "       unemployed_pct  population  race_white  race_black  race_native  \\\n",
       "geoid                                                                    \n",
       "1001              4.9       58805       42160       11445          217   \n",
       "1003              5.6      231767      189399       18217         1582   \n",
       "1005              7.0       25223       11317       11933          116   \n",
       "1007              6.6       22293       16555        4413           60   \n",
       "1009              4.1       59134       50663         845          337   \n",
       "\n",
       "       race_asian  race_islander  race_other  race_two_or_more  race_others  \n",
       "geoid                                                                        \n",
       "1001          881             35         910              3157         1162  \n",
       "1003         2067            143        5335             15024         7060  \n",
       "1005          117              1        1039               700         1156  \n",
       "1007           32              9         465               759          534  \n",
       "1009          178             24        3431              3656         3792  "
      ]
     },
     "execution_count": 69,
     "metadata": {},
     "output_type": "execute_result"
    }
   ],
   "source": [
    "employment_county_copy['race_others']= employment_county_copy[['race_native','race_islander','race_other']].sum(axis=1)\n",
    "employment_county_copy.head(5)"
   ]
  },
  {
   "cell_type": "code",
   "execution_count": 70,
   "id": "8820a696",
   "metadata": {},
   "outputs": [],
   "source": [
    "# reducing columns to improve model performance \n",
    "employment_county_copy = employment_county_copy.drop(['race_native','race_islander','race_other'],axis=1)"
   ]
  },
  {
   "cell_type": "code",
   "execution_count": 71,
   "id": "be91c668",
   "metadata": {},
   "outputs": [
    {
     "data": {
      "text/plain": [
       "False"
      ]
     },
     "execution_count": 71,
     "metadata": {},
     "output_type": "execute_result"
    }
   ],
   "source": [
    "employment_county_copy.isnull().values.any()"
   ]
  },
  {
   "cell_type": "code",
   "execution_count": 72,
   "id": "647defb9",
   "metadata": {},
   "outputs": [
    {
     "data": {
      "text/plain": [
       "(3125, 11)"
      ]
     },
     "execution_count": 72,
     "metadata": {},
     "output_type": "execute_result"
    }
   ],
   "source": [
    "employment_county_copy.shape"
   ]
  },
  {
   "cell_type": "code",
   "execution_count": 73,
   "id": "698dc8a8",
   "metadata": {},
   "outputs": [
    {
     "data": {
      "text/plain": [
       "['county',\n",
       " 'labor_force',\n",
       " 'employed',\n",
       " 'unemployed',\n",
       " 'unemployed_pct',\n",
       " 'population',\n",
       " 'race_white',\n",
       " 'race_black',\n",
       " 'race_asian',\n",
       " 'race_two_or_more',\n",
       " 'race_others']"
      ]
     },
     "execution_count": 73,
     "metadata": {},
     "output_type": "execute_result"
    }
   ],
   "source": [
    "employment_county_copy.columns.to_list()"
   ]
  },
  {
   "cell_type": "code",
   "execution_count": 74,
   "id": "0dc4b394",
   "metadata": {
    "scrolled": true
   },
   "outputs": [
    {
     "name": "stdout",
     "output_type": "stream",
     "text": [
      "<class 'pandas.core.frame.DataFrame'>\n",
      "Int64Index: 3125 entries, 1001 to 56045\n",
      "Data columns (total 11 columns):\n",
      " #   Column            Non-Null Count  Dtype  \n",
      "---  ------            --------------  -----  \n",
      " 0   county            3125 non-null   object \n",
      " 1   labor_force       3125 non-null   int64  \n",
      " 2   employed          3125 non-null   int64  \n",
      " 3   unemployed        3125 non-null   int64  \n",
      " 4   unemployed_pct    3125 non-null   float64\n",
      " 5   population        3125 non-null   int64  \n",
      " 6   race_white        3125 non-null   int64  \n",
      " 7   race_black        3125 non-null   int64  \n",
      " 8   race_asian        3125 non-null   int64  \n",
      " 9   race_two_or_more  3125 non-null   int64  \n",
      " 10  race_others       3125 non-null   int64  \n",
      "dtypes: float64(1), int64(9), object(1)\n",
      "memory usage: 293.0+ KB\n"
     ]
    }
   ],
   "source": [
    "employment_county_copy.info()"
   ]
  },
  {
   "cell_type": "markdown",
   "id": "f0887277",
   "metadata": {},
   "source": [
    "# Targeting \"labor_force\" but we can target any of the employment columns\n",
    "\n",
    "- labor_force\n",
    "- employed\n",
    "- unemployed_pct"
   ]
  },
  {
   "cell_type": "code",
   "execution_count": 75,
   "id": "43dd0f51",
   "metadata": {},
   "outputs": [],
   "source": [
    "X = employment_county_copy[['race_white', 'race_black', 'race_asian', 'race_two_or_more', 'race_others']]\n",
    "y = employment_county_copy['unemployed'] "
   ]
  },
  {
   "cell_type": "code",
   "execution_count": 76,
   "id": "fa19d77f",
   "metadata": {},
   "outputs": [],
   "source": [
    "X_train, X_test, y_train, y_test = train_test_split(X, y,test_size=0.20, random_state=0)"
   ]
  },
  {
   "cell_type": "code",
   "execution_count": 77,
   "id": "e4e7e79a",
   "metadata": {},
   "outputs": [
    {
     "data": {
      "text/plain": [
       "RandomForestRegressor(n_estimators=10, random_state=0)"
      ]
     },
     "execution_count": 77,
     "metadata": {},
     "output_type": "execute_result"
    }
   ],
   "source": [
    "model = RandomForestRegressor(n_estimators=10,random_state=0)\n",
    "model.fit(X_train,y_train)"
   ]
  },
  {
   "cell_type": "code",
   "execution_count": 78,
   "id": "b8cddb2e",
   "metadata": {},
   "outputs": [],
   "source": [
    "y_pred = model.predict(X_test)"
   ]
  },
  {
   "cell_type": "code",
   "execution_count": 79,
   "id": "a08d495f",
   "metadata": {},
   "outputs": [
    {
     "data": {
      "text/plain": [
       "0.9208485402280945"
      ]
     },
     "execution_count": 79,
     "metadata": {},
     "output_type": "execute_result"
    }
   ],
   "source": [
    "from sklearn.metrics import r2_score\n",
    "r2_score(y_test,y_pred)"
   ]
  },
  {
   "cell_type": "code",
   "execution_count": 80,
   "id": "c0dd0607",
   "metadata": {},
   "outputs": [
    {
     "data": {
      "text/plain": [
       "0.9300568140070107"
      ]
     },
     "execution_count": 80,
     "metadata": {},
     "output_type": "execute_result"
    }
   ],
   "source": [
    "model.score(X_train,y_train)"
   ]
  },
  {
   "cell_type": "code",
   "execution_count": 81,
   "id": "f3c41cae",
   "metadata": {
    "scrolled": true
   },
   "outputs": [
    {
     "data": {
      "text/plain": [
       "0.9208485402280945"
      ]
     },
     "execution_count": 81,
     "metadata": {},
     "output_type": "execute_result"
    }
   ],
   "source": [
    "model.score(X_test,y_test)"
   ]
  },
  {
   "cell_type": "code",
   "execution_count": 82,
   "id": "6d0d0119",
   "metadata": {
    "scrolled": false
   },
   "outputs": [
    {
     "data": {
      "text/plain": [
       "807.2108800000001"
      ]
     },
     "execution_count": 82,
     "metadata": {},
     "output_type": "execute_result"
    }
   ],
   "source": [
    "from sklearn.metrics import mean_absolute_error\n",
    "mae = mean_absolute_error(y_test, y_pred)\n",
    "mae"
   ]
  },
  {
   "cell_type": "markdown",
   "id": "0599c149",
   "metadata": {},
   "source": [
    "## Feature importance"
   ]
  },
  {
   "cell_type": "code",
   "execution_count": 83,
   "id": "fc60e42d",
   "metadata": {},
   "outputs": [
    {
     "data": {
      "text/plain": [
       "[(0.31313917769364513, 'race_white'),\n",
       " (0.20811900505711378, 'race_others'),\n",
       " (0.20096570924356402, 'race_two_or_more'),\n",
       " (0.16777759355891686, 'race_asian'),\n",
       " (0.1099985144467602, 'race_black')]"
      ]
     },
     "execution_count": 83,
     "metadata": {},
     "output_type": "execute_result"
    }
   ],
   "source": [
    "sorted(zip(model.feature_importances_, X.columns), reverse=True)"
   ]
  },
  {
   "cell_type": "markdown",
   "id": "dc15288f",
   "metadata": {},
   "source": [
    "### MAE seem a bit high, but consider the min max range"
   ]
  },
  {
   "cell_type": "code",
   "execution_count": 84,
   "id": "8d86e7e8",
   "metadata": {},
   "outputs": [
    {
     "name": "stdout",
     "output_type": "stream",
     "text": [
      "min =  184\n",
      "max =  4921499\n"
     ]
    }
   ],
   "source": [
    "max_labor_force = employment_county_df['labor_force'].max()\n",
    "min_labor_force = employment_county_df['labor_force'].min()\n",
    "print ('min = ', min_labor_force)\n",
    "print('max = ', max_labor_force)"
   ]
  },
  {
   "cell_type": "code",
   "execution_count": 85,
   "id": "58a9332e",
   "metadata": {},
   "outputs": [
    {
     "data": {
      "image/png": "[encoded data removed]",
      "text/plain": [
       "<Figure size 432x288 with 1 Axes>"
      ]
     },
     "metadata": {
      "needs_background": "light"
     },
     "output_type": "display_data"
    }
   ],
   "source": [
    "plt.scatter(model.predict(X_train), model.predict(X_train) - y_train, c=\"blue\", label=\"Training Data\")\n",
    "plt.scatter(model.predict(X_test), model.predict(X_test) - y_test, c=\"orange\", label=\"Testing Data\")\n",
    "plt.legend()\n",
    "plt.hlines(y=0, xmin=y.min(), xmax=y.max())\n",
    "plt.title(\"Train_Test_comparison\")\n",
    "plt.show()"
   ]
  },
  {
   "cell_type": "code",
   "execution_count": 86,
   "id": "78e8e83b",
   "metadata": {
    "scrolled": true
   },
   "outputs": [
    {
     "name": "stdout",
     "output_type": "stream",
     "text": [
      "Actual:\t\t[369, 129, 2149, 1436, 678, 1009, 1069, 11366, 186, 844]\n",
      "Predicted:\t[344.7, 198.3, 2488.5, 1638.1, 561.8, 1388.0, 1249.9, 10691.0, 331.8, 995.0]\n"
     ]
    }
   ],
   "source": [
    "print(f'Actual:\\t\\t{list(y_test[:10])}')\n",
    "print(f'Predicted:\\t{list(model.predict(X_test[:10]))}')"
   ]
  },
  {
   "cell_type": "markdown",
   "id": "28bfcb08",
   "metadata": {},
   "source": [
    "# START MODEL TESTING\n",
    "\n",
    "- A random row was selected to use as baseline values for comparison\n",
    "- Ran the prediction 5 times\n",
    " - each time changing the population of a race by N\n",
    "- Prints out the change in labor_force\n",
    "\n",
    "# TEST : Start with a random Baseline as reference"
   ]
  },
  {
   "cell_type": "code",
   "execution_count": 87,
   "id": "62d5810d",
   "metadata": {},
   "outputs": [
    {
     "data": {
      "text/html": [
       "<div>\n",
       "<style scoped>\n",
       "    .dataframe tbody tr th:only-of-type {\n",
       "        vertical-align: middle;\n",
       "    }\n",
       "\n",
       "    .dataframe tbody tr th {\n",
       "        vertical-align: top;\n",
       "    }\n",
       "\n",
       "    .dataframe thead th {\n",
       "        text-align: right;\n",
       "    }\n",
       "</style>\n",
       "<table border=\"1\" class=\"dataframe\">\n",
       "  <thead>\n",
       "    <tr style=\"text-align: right;\">\n",
       "      <th></th>\n",
       "      <th>race_white</th>\n",
       "      <th>race_black</th>\n",
       "      <th>race_asian</th>\n",
       "      <th>race_two_or_more</th>\n",
       "      <th>race_others</th>\n",
       "    </tr>\n",
       "    <tr>\n",
       "      <th>geoid</th>\n",
       "      <th></th>\n",
       "      <th></th>\n",
       "      <th></th>\n",
       "      <th></th>\n",
       "      <th></th>\n",
       "    </tr>\n",
       "  </thead>\n",
       "  <tbody>\n",
       "    <tr>\n",
       "      <th>54011</th>\n",
       "      <td>82665</td>\n",
       "      <td>4811</td>\n",
       "      <td>1345</td>\n",
       "      <td>4642</td>\n",
       "      <td>887</td>\n",
       "    </tr>\n",
       "  </tbody>\n",
       "</table>\n",
       "</div>"
      ],
      "text/plain": [
       "       race_white  race_black  race_asian  race_two_or_more  race_others\n",
       "geoid                                                                   \n",
       "54011       82665        4811        1345              4642          887"
      ]
     },
     "execution_count": 87,
     "metadata": {},
     "output_type": "execute_result"
    }
   ],
   "source": [
    "XA = X_test[11:12]\n",
    "XA"
   ]
  },
  {
   "cell_type": "code",
   "execution_count": 88,
   "id": "0c4f84c2",
   "metadata": {},
   "outputs": [
    {
     "name": "stdout",
     "output_type": "stream",
     "text": [
      "TEST A : Baseline labor_force before change 2860.9\n"
     ]
    }
   ],
   "source": [
    "baselineA = model.predict(XA)[0]\n",
    "print (f\"TEST A : Baseline labor_force before change {baselineA}\")"
   ]
  },
  {
   "cell_type": "markdown",
   "id": "c8df243b",
   "metadata": {},
   "source": [
    "# Change in unemployed when adding to each race"
   ]
  },
  {
   "cell_type": "code",
   "execution_count": 95,
   "id": "081d45a9",
   "metadata": {},
   "outputs": [],
   "source": [
    "increase_by = 1000"
   ]
  },
  {
   "cell_type": "code",
   "execution_count": 96,
   "id": "0946f18b",
   "metadata": {},
   "outputs": [
    {
     "name": "stdout",
     "output_type": "stream",
     "text": [
      "Predict labor_force to be 3101.5, a change of 240.5999999999999\n"
     ]
    }
   ],
   "source": [
    "# increase white\n",
    "X1 = XA.copy()\n",
    "X1.iat[0,0] = X1.iat[0,0] + increase_by\n",
    "prediction = model.predict(X1)[0]\n",
    "print(f\"Predict labor_force to be {prediction}, a change of {prediction-baselineA}\")"
   ]
  },
  {
   "cell_type": "code",
   "execution_count": 97,
   "id": "fd1b6504",
   "metadata": {},
   "outputs": [
    {
     "name": "stdout",
     "output_type": "stream",
     "text": [
      "Predict labor_force to be 2860.9, a change of 0.0\n"
     ]
    }
   ],
   "source": [
    "# increase black\n",
    "X2 = XA.copy()\n",
    "X2.iat[0,1] = X2.iat[0,1] + increase_by\n",
    "prediction = model.predict(X2)[0]\n",
    "print(f\"Predict labor_force to be {prediction}, a change of {prediction-baselineA}\")"
   ]
  },
  {
   "cell_type": "code",
   "execution_count": 98,
   "id": "1705db5c",
   "metadata": {},
   "outputs": [
    {
     "name": "stdout",
     "output_type": "stream",
     "text": [
      "Predict labor_force to be 2826.8, a change of -34.09999999999991\n"
     ]
    }
   ],
   "source": [
    "# increase asian\n",
    "X3 = XA.copy()\n",
    "X3.iat[0,2] = X3.iat[0,2] + increase_by\n",
    "prediction = model.predict(X3)[0]\n",
    "print(f\"Predict labor_force to be {prediction}, a change of {prediction-baselineA}\")"
   ]
  },
  {
   "cell_type": "code",
   "execution_count": 99,
   "id": "078c4cbe",
   "metadata": {},
   "outputs": [
    {
     "name": "stdout",
     "output_type": "stream",
     "text": [
      "Predict labor_force to be 3204.3, a change of 343.4000000000001\n"
     ]
    }
   ],
   "source": [
    "# increase race_two_or_more\n",
    "X4 = XA.copy()\n",
    "X4.iat[0,3] = X4.iat[0,3] + increase_by\n",
    "prediction = model.predict(X4)[0]\n",
    "print(f\"Predict labor_force to be {prediction}, a change of {prediction-baselineA}\")"
   ]
  },
  {
   "cell_type": "code",
   "execution_count": 94,
   "id": "eb510ec6",
   "metadata": {},
   "outputs": [
    {
     "name": "stdout",
     "output_type": "stream",
     "text": [
      "Predict labor_force to be 2538.2, a change of -322.7000000000003\n"
     ]
    }
   ],
   "source": [
    "# increase race_others\n",
    "X5 = XA.copy()\n",
    "X5.iat[0,4] = X5.iat[0,4] + increase_by\n",
    "prediction = model.predict(X5)[0]\n",
    "print(f\"Predict labor_force to be {prediction}, a change of {prediction-baselineA}\")"
   ]
  },
  {
   "cell_type": "code",
   "execution_count": null,
   "id": "66af3652",
   "metadata": {},
   "outputs": [],
   "source": []
  }
 ],
 "metadata": {
  "kernelspec": {
   "display_name": "Python 3",
   "language": "python",
   "name": "python3"
  },
  "language_info": {
   "codemirror_mode": {
    "name": "ipython",
    "version": 3
   },
   "file_extension": ".py",
   "mimetype": "text/x-python",
   "name": "python",
   "nbconvert_exporter": "python",
   "pygments_lexer": "ipython3",
   "version": "3.9.5"
  }
 },
 "nbformat": 4,
 "nbformat_minor": 5
}
