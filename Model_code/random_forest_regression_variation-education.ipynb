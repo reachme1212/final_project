{
 "cells": [
  {
   "cell_type": "code",
   "execution_count": 1,
   "id": "2aa3f4b0",
   "metadata": {},
   "outputs": [],
   "source": [
    "import pandas as pd\n",
    "import numpy as np\n",
    "from sklearn.preprocessing import MinMaxScaler, LabelEncoder\n",
    "from sklearn.linear_model import LinearRegression\n",
    "from sklearn.datasets import make_classification\n",
    "\n",
    "from sklearn.ensemble import RandomForestRegressor\n",
    "from sklearn.model_selection import train_test_split\n",
    "from sklearn.preprocessing import StandardScaler\n",
    "\n",
    "%matplotlib inline\n",
    "from matplotlib import pyplot as plt\n",
    "import seaborn as sns\n",
    "from config import AWS\n",
    "from sqlalchemy import create_engine\n",
    "import psycopg2 \n",
    "import io\n",
    "\n",
    "import warnings\n",
    "warnings.filterwarnings('ignore')"
   ]
  },
  {
   "cell_type": "code",
   "execution_count": 2,
   "id": "18e4fb4d",
   "metadata": {},
   "outputs": [
    {
     "data": {
      "text/html": [
       "<div>\n",
       "<style scoped>\n",
       "    .dataframe tbody tr th:only-of-type {\n",
       "        vertical-align: middle;\n",
       "    }\n",
       "\n",
       "    .dataframe tbody tr th {\n",
       "        vertical-align: top;\n",
       "    }\n",
       "\n",
       "    .dataframe thead th {\n",
       "        text-align: right;\n",
       "    }\n",
       "</style>\n",
       "<table border=\"1\" class=\"dataframe\">\n",
       "  <thead>\n",
       "    <tr style=\"text-align: right;\">\n",
       "      <th></th>\n",
       "      <th>level_0</th>\n",
       "      <th>index</th>\n",
       "      <th>geoid</th>\n",
       "      <th>county</th>\n",
       "      <th>labor_force</th>\n",
       "      <th>employed</th>\n",
       "      <th>unemployed</th>\n",
       "      <th>unemployed%_county</th>\n",
       "      <th>population</th>\n",
       "      <th>race_white</th>\n",
       "      <th>...</th>\n",
       "      <th>race_asian</th>\n",
       "      <th>race_islander</th>\n",
       "      <th>race_other</th>\n",
       "      <th>race_two_or_more</th>\n",
       "      <th>state</th>\n",
       "      <th>unemployement%_state</th>\n",
       "      <th>% completed_college_county</th>\n",
       "      <th>%not_completed_college_county</th>\n",
       "      <th>completed_college_county</th>\n",
       "      <th>Not_completed_college_county</th>\n",
       "    </tr>\n",
       "  </thead>\n",
       "  <tbody>\n",
       "    <tr>\n",
       "      <th>0</th>\n",
       "      <td>0</td>\n",
       "      <td>0</td>\n",
       "      <td>1001</td>\n",
       "      <td>Autauga County, Alabama</td>\n",
       "      <td>25838</td>\n",
       "      <td>24576</td>\n",
       "      <td>1262</td>\n",
       "      <td>4.9</td>\n",
       "      <td>58805</td>\n",
       "      <td>42160</td>\n",
       "      <td>...</td>\n",
       "      <td>881</td>\n",
       "      <td>35</td>\n",
       "      <td>910</td>\n",
       "      <td>3157</td>\n",
       "      <td>Alabama</td>\n",
       "      <td>5.88</td>\n",
       "      <td>0.27</td>\n",
       "      <td>0.34</td>\n",
       "      <td>15625.41</td>\n",
       "      <td>19751.69</td>\n",
       "    </tr>\n",
       "    <tr>\n",
       "      <th>1</th>\n",
       "      <td>1</td>\n",
       "      <td>1</td>\n",
       "      <td>1003</td>\n",
       "      <td>Baldwin County, Alabama</td>\n",
       "      <td>96763</td>\n",
       "      <td>91338</td>\n",
       "      <td>5425</td>\n",
       "      <td>5.6</td>\n",
       "      <td>231767</td>\n",
       "      <td>189399</td>\n",
       "      <td>...</td>\n",
       "      <td>2067</td>\n",
       "      <td>143</td>\n",
       "      <td>5335</td>\n",
       "      <td>15024</td>\n",
       "      <td>Alabama</td>\n",
       "      <td>5.88</td>\n",
       "      <td>0.32</td>\n",
       "      <td>0.28</td>\n",
       "      <td>73846.67</td>\n",
       "      <td>64105.86</td>\n",
       "    </tr>\n",
       "    <tr>\n",
       "      <th>2</th>\n",
       "      <td>2</td>\n",
       "      <td>2</td>\n",
       "      <td>1005</td>\n",
       "      <td>Barbour County, Alabama</td>\n",
       "      <td>8587</td>\n",
       "      <td>7982</td>\n",
       "      <td>605</td>\n",
       "      <td>7.0</td>\n",
       "      <td>25223</td>\n",
       "      <td>11317</td>\n",
       "      <td>...</td>\n",
       "      <td>117</td>\n",
       "      <td>1</td>\n",
       "      <td>1039</td>\n",
       "      <td>700</td>\n",
       "      <td>Alabama</td>\n",
       "      <td>5.88</td>\n",
       "      <td>0.12</td>\n",
       "      <td>0.36</td>\n",
       "      <td>2920.50</td>\n",
       "      <td>8980.53</td>\n",
       "    </tr>\n",
       "    <tr>\n",
       "      <th>3</th>\n",
       "      <td>3</td>\n",
       "      <td>3</td>\n",
       "      <td>1007</td>\n",
       "      <td>Bibb County, Alabama</td>\n",
       "      <td>8640</td>\n",
       "      <td>8067</td>\n",
       "      <td>573</td>\n",
       "      <td>6.6</td>\n",
       "      <td>22293</td>\n",
       "      <td>16555</td>\n",
       "      <td>...</td>\n",
       "      <td>32</td>\n",
       "      <td>9</td>\n",
       "      <td>465</td>\n",
       "      <td>759</td>\n",
       "      <td>Alabama</td>\n",
       "      <td>5.88</td>\n",
       "      <td>0.10</td>\n",
       "      <td>0.45</td>\n",
       "      <td>2313.68</td>\n",
       "      <td>10004.82</td>\n",
       "    </tr>\n",
       "    <tr>\n",
       "      <th>4</th>\n",
       "      <td>4</td>\n",
       "      <td>4</td>\n",
       "      <td>1009</td>\n",
       "      <td>Blount County, Alabama</td>\n",
       "      <td>24661</td>\n",
       "      <td>23653</td>\n",
       "      <td>1008</td>\n",
       "      <td>4.1</td>\n",
       "      <td>59134</td>\n",
       "      <td>50663</td>\n",
       "      <td>...</td>\n",
       "      <td>178</td>\n",
       "      <td>24</td>\n",
       "      <td>3431</td>\n",
       "      <td>3656</td>\n",
       "      <td>Alabama</td>\n",
       "      <td>5.88</td>\n",
       "      <td>0.13</td>\n",
       "      <td>0.33</td>\n",
       "      <td>7742.66</td>\n",
       "      <td>19763.84</td>\n",
       "    </tr>\n",
       "    <tr>\n",
       "      <th>...</th>\n",
       "      <td>...</td>\n",
       "      <td>...</td>\n",
       "      <td>...</td>\n",
       "      <td>...</td>\n",
       "      <td>...</td>\n",
       "      <td>...</td>\n",
       "      <td>...</td>\n",
       "      <td>...</td>\n",
       "      <td>...</td>\n",
       "      <td>...</td>\n",
       "      <td>...</td>\n",
       "      <td>...</td>\n",
       "      <td>...</td>\n",
       "      <td>...</td>\n",
       "      <td>...</td>\n",
       "      <td>...</td>\n",
       "      <td>...</td>\n",
       "      <td>...</td>\n",
       "      <td>...</td>\n",
       "      <td>...</td>\n",
       "      <td>...</td>\n",
       "    </tr>\n",
       "    <tr>\n",
       "      <th>3120</th>\n",
       "      <td>3120</td>\n",
       "      <td>3120</td>\n",
       "      <td>56037</td>\n",
       "      <td>Sweetwater County, Wyoming</td>\n",
       "      <td>20840</td>\n",
       "      <td>19308</td>\n",
       "      <td>1532</td>\n",
       "      <td>7.4</td>\n",
       "      <td>42272</td>\n",
       "      <td>34389</td>\n",
       "      <td>...</td>\n",
       "      <td>295</td>\n",
       "      <td>70</td>\n",
       "      <td>2508</td>\n",
       "      <td>4211</td>\n",
       "      <td>Wyoming</td>\n",
       "      <td>5.84</td>\n",
       "      <td>0.23</td>\n",
       "      <td>0.33</td>\n",
       "      <td>9510.52</td>\n",
       "      <td>13967.21</td>\n",
       "    </tr>\n",
       "    <tr>\n",
       "      <th>3121</th>\n",
       "      <td>3121</td>\n",
       "      <td>3121</td>\n",
       "      <td>56039</td>\n",
       "      <td>Teton County, Wyoming</td>\n",
       "      <td>15204</td>\n",
       "      <td>14292</td>\n",
       "      <td>912</td>\n",
       "      <td>6.0</td>\n",
       "      <td>23331</td>\n",
       "      <td>19202</td>\n",
       "      <td>...</td>\n",
       "      <td>317</td>\n",
       "      <td>5</td>\n",
       "      <td>1415</td>\n",
       "      <td>2152</td>\n",
       "      <td>Wyoming</td>\n",
       "      <td>5.84</td>\n",
       "      <td>0.57</td>\n",
       "      <td>0.15</td>\n",
       "      <td>13299.87</td>\n",
       "      <td>3470.76</td>\n",
       "    </tr>\n",
       "    <tr>\n",
       "      <th>3122</th>\n",
       "      <td>3122</td>\n",
       "      <td>3122</td>\n",
       "      <td>56041</td>\n",
       "      <td>Uinta County, Wyoming</td>\n",
       "      <td>9312</td>\n",
       "      <td>8730</td>\n",
       "      <td>582</td>\n",
       "      <td>6.3</td>\n",
       "      <td>20450</td>\n",
       "      <td>18007</td>\n",
       "      <td>...</td>\n",
       "      <td>114</td>\n",
       "      <td>27</td>\n",
       "      <td>864</td>\n",
       "      <td>1181</td>\n",
       "      <td>Wyoming</td>\n",
       "      <td>5.84</td>\n",
       "      <td>0.16</td>\n",
       "      <td>0.42</td>\n",
       "      <td>3277.93</td>\n",
       "      <td>8491.39</td>\n",
       "    </tr>\n",
       "    <tr>\n",
       "      <th>3123</th>\n",
       "      <td>3123</td>\n",
       "      <td>3123</td>\n",
       "      <td>56043</td>\n",
       "      <td>Washakie County, Wyoming</td>\n",
       "      <td>4004</td>\n",
       "      <td>3793</td>\n",
       "      <td>211</td>\n",
       "      <td>5.3</td>\n",
       "      <td>7685</td>\n",
       "      <td>6600</td>\n",
       "      <td>...</td>\n",
       "      <td>33</td>\n",
       "      <td>3</td>\n",
       "      <td>388</td>\n",
       "      <td>572</td>\n",
       "      <td>Wyoming</td>\n",
       "      <td>5.84</td>\n",
       "      <td>0.23</td>\n",
       "      <td>0.30</td>\n",
       "      <td>1797.23</td>\n",
       "      <td>2286.38</td>\n",
       "    </tr>\n",
       "    <tr>\n",
       "      <th>3124</th>\n",
       "      <td>3124</td>\n",
       "      <td>3124</td>\n",
       "      <td>56045</td>\n",
       "      <td>Weston County, Wyoming</td>\n",
       "      <td>3836</td>\n",
       "      <td>3688</td>\n",
       "      <td>148</td>\n",
       "      <td>3.9</td>\n",
       "      <td>6838</td>\n",
       "      <td>6197</td>\n",
       "      <td>...</td>\n",
       "      <td>27</td>\n",
       "      <td>9</td>\n",
       "      <td>138</td>\n",
       "      <td>340</td>\n",
       "      <td>Wyoming</td>\n",
       "      <td>5.84</td>\n",
       "      <td>0.20</td>\n",
       "      <td>0.37</td>\n",
       "      <td>1365.72</td>\n",
       "      <td>2559.38</td>\n",
       "    </tr>\n",
       "  </tbody>\n",
       "</table>\n",
       "<p>3125 rows × 22 columns</p>\n",
       "</div>"
      ],
      "text/plain": [
       "      level_0  index  geoid                      county  labor_force  \\\n",
       "0           0      0   1001     Autauga County, Alabama        25838   \n",
       "1           1      1   1003     Baldwin County, Alabama        96763   \n",
       "2           2      2   1005     Barbour County, Alabama         8587   \n",
       "3           3      3   1007        Bibb County, Alabama         8640   \n",
       "4           4      4   1009      Blount County, Alabama        24661   \n",
       "...       ...    ...    ...                         ...          ...   \n",
       "3120     3120   3120  56037  Sweetwater County, Wyoming        20840   \n",
       "3121     3121   3121  56039       Teton County, Wyoming        15204   \n",
       "3122     3122   3122  56041       Uinta County, Wyoming         9312   \n",
       "3123     3123   3123  56043    Washakie County, Wyoming         4004   \n",
       "3124     3124   3124  56045      Weston County, Wyoming         3836   \n",
       "\n",
       "      employed  unemployed  unemployed%_county  population  race_white  ...  \\\n",
       "0        24576        1262                 4.9       58805       42160  ...   \n",
       "1        91338        5425                 5.6      231767      189399  ...   \n",
       "2         7982         605                 7.0       25223       11317  ...   \n",
       "3         8067         573                 6.6       22293       16555  ...   \n",
       "4        23653        1008                 4.1       59134       50663  ...   \n",
       "...        ...         ...                 ...         ...         ...  ...   \n",
       "3120     19308        1532                 7.4       42272       34389  ...   \n",
       "3121     14292         912                 6.0       23331       19202  ...   \n",
       "3122      8730         582                 6.3       20450       18007  ...   \n",
       "3123      3793         211                 5.3        7685        6600  ...   \n",
       "3124      3688         148                 3.9        6838        6197  ...   \n",
       "\n",
       "      race_asian  race_islander  race_other  race_two_or_more    state  \\\n",
       "0            881             35         910              3157  Alabama   \n",
       "1           2067            143        5335             15024  Alabama   \n",
       "2            117              1        1039               700  Alabama   \n",
       "3             32              9         465               759  Alabama   \n",
       "4            178             24        3431              3656  Alabama   \n",
       "...          ...            ...         ...               ...      ...   \n",
       "3120         295             70        2508              4211  Wyoming   \n",
       "3121         317              5        1415              2152  Wyoming   \n",
       "3122         114             27         864              1181  Wyoming   \n",
       "3123          33              3         388               572  Wyoming   \n",
       "3124          27              9         138               340  Wyoming   \n",
       "\n",
       "      unemployement%_state % completed_college_county  \\\n",
       "0                     5.88                       0.27   \n",
       "1                     5.88                       0.32   \n",
       "2                     5.88                       0.12   \n",
       "3                     5.88                       0.10   \n",
       "4                     5.88                       0.13   \n",
       "...                    ...                        ...   \n",
       "3120                  5.84                       0.23   \n",
       "3121                  5.84                       0.57   \n",
       "3122                  5.84                       0.16   \n",
       "3123                  5.84                       0.23   \n",
       "3124                  5.84                       0.20   \n",
       "\n",
       "      %not_completed_college_county  completed_college_county  \\\n",
       "0                              0.34                  15625.41   \n",
       "1                              0.28                  73846.67   \n",
       "2                              0.36                   2920.50   \n",
       "3                              0.45                   2313.68   \n",
       "4                              0.33                   7742.66   \n",
       "...                             ...                       ...   \n",
       "3120                           0.33                   9510.52   \n",
       "3121                           0.15                  13299.87   \n",
       "3122                           0.42                   3277.93   \n",
       "3123                           0.30                   1797.23   \n",
       "3124                           0.37                   1365.72   \n",
       "\n",
       "      Not_completed_college_county  \n",
       "0                         19751.69  \n",
       "1                         64105.86  \n",
       "2                          8980.53  \n",
       "3                         10004.82  \n",
       "4                         19763.84  \n",
       "...                            ...  \n",
       "3120                      13967.21  \n",
       "3121                       3470.76  \n",
       "3122                       8491.39  \n",
       "3123                       2286.38  \n",
       "3124                       2559.38  \n",
       "\n",
       "[3125 rows x 22 columns]"
      ]
     },
     "execution_count": 2,
     "metadata": {},
     "output_type": "execute_result"
    }
   ],
   "source": [
    "# pull from database table with education data \n",
    "\n",
    "engine = create_engine(AWS)\n",
    "\n",
    "employment_county_df = pd.read_sql('employ_county_edu', engine )\n",
    "employment_county_df"
   ]
  },
  {
   "cell_type": "code",
   "execution_count": null,
   "id": "82fb5546",
   "metadata": {
    "scrolled": true
   },
   "outputs": [],
   "source": [
    "# employment_county_df  = pd.read_csv('../data_files/Employment_by_County_with_education_info.csv', index_col=0)\n",
    "# employment_county_df.head(5)"
   ]
  },
  {
   "cell_type": "code",
   "execution_count": 3,
   "id": "de66b57c",
   "metadata": {},
   "outputs": [
    {
     "data": {
      "text/plain": [
       "False"
      ]
     },
     "execution_count": 3,
     "metadata": {},
     "output_type": "execute_result"
    }
   ],
   "source": [
    "employment_county_df.isnull().values.any()"
   ]
  },
  {
   "cell_type": "markdown",
   "id": "d70c8292",
   "metadata": {},
   "source": [
    "# Copy of the dataframe to feed ML \n",
    "\n"
   ]
  },
  {
   "cell_type": "code",
   "execution_count": 6,
   "id": "b055a8d0",
   "metadata": {},
   "outputs": [],
   "source": [
    "employment_county_df.drop(['level_0','index'],axis=1, inplace=True)"
   ]
  },
  {
   "cell_type": "code",
   "execution_count": 7,
   "id": "4d89e28b",
   "metadata": {},
   "outputs": [
    {
     "data": {
      "text/html": [
       "<div>\n",
       "<style scoped>\n",
       "    .dataframe tbody tr th:only-of-type {\n",
       "        vertical-align: middle;\n",
       "    }\n",
       "\n",
       "    .dataframe tbody tr th {\n",
       "        vertical-align: top;\n",
       "    }\n",
       "\n",
       "    .dataframe thead th {\n",
       "        text-align: right;\n",
       "    }\n",
       "</style>\n",
       "<table border=\"1\" class=\"dataframe\">\n",
       "  <thead>\n",
       "    <tr style=\"text-align: right;\">\n",
       "      <th></th>\n",
       "      <th>geoid</th>\n",
       "      <th>county</th>\n",
       "      <th>labor_force</th>\n",
       "      <th>employed</th>\n",
       "      <th>unemployed</th>\n",
       "      <th>unemployed%_county</th>\n",
       "      <th>population</th>\n",
       "      <th>race_white</th>\n",
       "      <th>race_black</th>\n",
       "      <th>race_native</th>\n",
       "      <th>race_asian</th>\n",
       "      <th>race_islander</th>\n",
       "      <th>race_other</th>\n",
       "      <th>race_two_or_more</th>\n",
       "      <th>state</th>\n",
       "      <th>unemployement%_state</th>\n",
       "      <th>% completed_college_county</th>\n",
       "      <th>%not_completed_college_county</th>\n",
       "      <th>completed_college_county</th>\n",
       "      <th>Not_completed_college_county</th>\n",
       "    </tr>\n",
       "  </thead>\n",
       "  <tbody>\n",
       "    <tr>\n",
       "      <th>0</th>\n",
       "      <td>1001</td>\n",
       "      <td>Autauga County, Alabama</td>\n",
       "      <td>25838</td>\n",
       "      <td>24576</td>\n",
       "      <td>1262</td>\n",
       "      <td>4.9</td>\n",
       "      <td>58805</td>\n",
       "      <td>42160</td>\n",
       "      <td>11445</td>\n",
       "      <td>217</td>\n",
       "      <td>881</td>\n",
       "      <td>35</td>\n",
       "      <td>910</td>\n",
       "      <td>3157</td>\n",
       "      <td>Alabama</td>\n",
       "      <td>5.88</td>\n",
       "      <td>0.27</td>\n",
       "      <td>0.34</td>\n",
       "      <td>15625.41</td>\n",
       "      <td>19751.69</td>\n",
       "    </tr>\n",
       "    <tr>\n",
       "      <th>1</th>\n",
       "      <td>1003</td>\n",
       "      <td>Baldwin County, Alabama</td>\n",
       "      <td>96763</td>\n",
       "      <td>91338</td>\n",
       "      <td>5425</td>\n",
       "      <td>5.6</td>\n",
       "      <td>231767</td>\n",
       "      <td>189399</td>\n",
       "      <td>18217</td>\n",
       "      <td>1582</td>\n",
       "      <td>2067</td>\n",
       "      <td>143</td>\n",
       "      <td>5335</td>\n",
       "      <td>15024</td>\n",
       "      <td>Alabama</td>\n",
       "      <td>5.88</td>\n",
       "      <td>0.32</td>\n",
       "      <td>0.28</td>\n",
       "      <td>73846.67</td>\n",
       "      <td>64105.86</td>\n",
       "    </tr>\n",
       "    <tr>\n",
       "      <th>2</th>\n",
       "      <td>1005</td>\n",
       "      <td>Barbour County, Alabama</td>\n",
       "      <td>8587</td>\n",
       "      <td>7982</td>\n",
       "      <td>605</td>\n",
       "      <td>7.0</td>\n",
       "      <td>25223</td>\n",
       "      <td>11317</td>\n",
       "      <td>11933</td>\n",
       "      <td>116</td>\n",
       "      <td>117</td>\n",
       "      <td>1</td>\n",
       "      <td>1039</td>\n",
       "      <td>700</td>\n",
       "      <td>Alabama</td>\n",
       "      <td>5.88</td>\n",
       "      <td>0.12</td>\n",
       "      <td>0.36</td>\n",
       "      <td>2920.50</td>\n",
       "      <td>8980.53</td>\n",
       "    </tr>\n",
       "    <tr>\n",
       "      <th>3</th>\n",
       "      <td>1007</td>\n",
       "      <td>Bibb County, Alabama</td>\n",
       "      <td>8640</td>\n",
       "      <td>8067</td>\n",
       "      <td>573</td>\n",
       "      <td>6.6</td>\n",
       "      <td>22293</td>\n",
       "      <td>16555</td>\n",
       "      <td>4413</td>\n",
       "      <td>60</td>\n",
       "      <td>32</td>\n",
       "      <td>9</td>\n",
       "      <td>465</td>\n",
       "      <td>759</td>\n",
       "      <td>Alabama</td>\n",
       "      <td>5.88</td>\n",
       "      <td>0.10</td>\n",
       "      <td>0.45</td>\n",
       "      <td>2313.68</td>\n",
       "      <td>10004.82</td>\n",
       "    </tr>\n",
       "    <tr>\n",
       "      <th>4</th>\n",
       "      <td>1009</td>\n",
       "      <td>Blount County, Alabama</td>\n",
       "      <td>24661</td>\n",
       "      <td>23653</td>\n",
       "      <td>1008</td>\n",
       "      <td>4.1</td>\n",
       "      <td>59134</td>\n",
       "      <td>50663</td>\n",
       "      <td>845</td>\n",
       "      <td>337</td>\n",
       "      <td>178</td>\n",
       "      <td>24</td>\n",
       "      <td>3431</td>\n",
       "      <td>3656</td>\n",
       "      <td>Alabama</td>\n",
       "      <td>5.88</td>\n",
       "      <td>0.13</td>\n",
       "      <td>0.33</td>\n",
       "      <td>7742.66</td>\n",
       "      <td>19763.84</td>\n",
       "    </tr>\n",
       "    <tr>\n",
       "      <th>...</th>\n",
       "      <td>...</td>\n",
       "      <td>...</td>\n",
       "      <td>...</td>\n",
       "      <td>...</td>\n",
       "      <td>...</td>\n",
       "      <td>...</td>\n",
       "      <td>...</td>\n",
       "      <td>...</td>\n",
       "      <td>...</td>\n",
       "      <td>...</td>\n",
       "      <td>...</td>\n",
       "      <td>...</td>\n",
       "      <td>...</td>\n",
       "      <td>...</td>\n",
       "      <td>...</td>\n",
       "      <td>...</td>\n",
       "      <td>...</td>\n",
       "      <td>...</td>\n",
       "      <td>...</td>\n",
       "      <td>...</td>\n",
       "    </tr>\n",
       "    <tr>\n",
       "      <th>3120</th>\n",
       "      <td>56037</td>\n",
       "      <td>Sweetwater County, Wyoming</td>\n",
       "      <td>20840</td>\n",
       "      <td>19308</td>\n",
       "      <td>1532</td>\n",
       "      <td>7.4</td>\n",
       "      <td>42272</td>\n",
       "      <td>34389</td>\n",
       "      <td>366</td>\n",
       "      <td>433</td>\n",
       "      <td>295</td>\n",
       "      <td>70</td>\n",
       "      <td>2508</td>\n",
       "      <td>4211</td>\n",
       "      <td>Wyoming</td>\n",
       "      <td>5.84</td>\n",
       "      <td>0.23</td>\n",
       "      <td>0.33</td>\n",
       "      <td>9510.52</td>\n",
       "      <td>13967.21</td>\n",
       "    </tr>\n",
       "    <tr>\n",
       "      <th>3121</th>\n",
       "      <td>56039</td>\n",
       "      <td>Teton County, Wyoming</td>\n",
       "      <td>15204</td>\n",
       "      <td>14292</td>\n",
       "      <td>912</td>\n",
       "      <td>6.0</td>\n",
       "      <td>23331</td>\n",
       "      <td>19202</td>\n",
       "      <td>55</td>\n",
       "      <td>185</td>\n",
       "      <td>317</td>\n",
       "      <td>5</td>\n",
       "      <td>1415</td>\n",
       "      <td>2152</td>\n",
       "      <td>Wyoming</td>\n",
       "      <td>5.84</td>\n",
       "      <td>0.57</td>\n",
       "      <td>0.15</td>\n",
       "      <td>13299.87</td>\n",
       "      <td>3470.76</td>\n",
       "    </tr>\n",
       "    <tr>\n",
       "      <th>3122</th>\n",
       "      <td>56041</td>\n",
       "      <td>Uinta County, Wyoming</td>\n",
       "      <td>9312</td>\n",
       "      <td>8730</td>\n",
       "      <td>582</td>\n",
       "      <td>6.3</td>\n",
       "      <td>20450</td>\n",
       "      <td>18007</td>\n",
       "      <td>66</td>\n",
       "      <td>191</td>\n",
       "      <td>114</td>\n",
       "      <td>27</td>\n",
       "      <td>864</td>\n",
       "      <td>1181</td>\n",
       "      <td>Wyoming</td>\n",
       "      <td>5.84</td>\n",
       "      <td>0.16</td>\n",
       "      <td>0.42</td>\n",
       "      <td>3277.93</td>\n",
       "      <td>8491.39</td>\n",
       "    </tr>\n",
       "    <tr>\n",
       "      <th>3123</th>\n",
       "      <td>56043</td>\n",
       "      <td>Washakie County, Wyoming</td>\n",
       "      <td>4004</td>\n",
       "      <td>3793</td>\n",
       "      <td>211</td>\n",
       "      <td>5.3</td>\n",
       "      <td>7685</td>\n",
       "      <td>6600</td>\n",
       "      <td>12</td>\n",
       "      <td>77</td>\n",
       "      <td>33</td>\n",
       "      <td>3</td>\n",
       "      <td>388</td>\n",
       "      <td>572</td>\n",
       "      <td>Wyoming</td>\n",
       "      <td>5.84</td>\n",
       "      <td>0.23</td>\n",
       "      <td>0.30</td>\n",
       "      <td>1797.23</td>\n",
       "      <td>2286.38</td>\n",
       "    </tr>\n",
       "    <tr>\n",
       "      <th>3124</th>\n",
       "      <td>56045</td>\n",
       "      <td>Weston County, Wyoming</td>\n",
       "      <td>3836</td>\n",
       "      <td>3688</td>\n",
       "      <td>148</td>\n",
       "      <td>3.9</td>\n",
       "      <td>6838</td>\n",
       "      <td>6197</td>\n",
       "      <td>30</td>\n",
       "      <td>97</td>\n",
       "      <td>27</td>\n",
       "      <td>9</td>\n",
       "      <td>138</td>\n",
       "      <td>340</td>\n",
       "      <td>Wyoming</td>\n",
       "      <td>5.84</td>\n",
       "      <td>0.20</td>\n",
       "      <td>0.37</td>\n",
       "      <td>1365.72</td>\n",
       "      <td>2559.38</td>\n",
       "    </tr>\n",
       "  </tbody>\n",
       "</table>\n",
       "<p>3125 rows × 20 columns</p>\n",
       "</div>"
      ],
      "text/plain": [
       "      geoid                      county  labor_force  employed  unemployed  \\\n",
       "0      1001     Autauga County, Alabama        25838     24576        1262   \n",
       "1      1003     Baldwin County, Alabama        96763     91338        5425   \n",
       "2      1005     Barbour County, Alabama         8587      7982         605   \n",
       "3      1007        Bibb County, Alabama         8640      8067         573   \n",
       "4      1009      Blount County, Alabama        24661     23653        1008   \n",
       "...     ...                         ...          ...       ...         ...   \n",
       "3120  56037  Sweetwater County, Wyoming        20840     19308        1532   \n",
       "3121  56039       Teton County, Wyoming        15204     14292         912   \n",
       "3122  56041       Uinta County, Wyoming         9312      8730         582   \n",
       "3123  56043    Washakie County, Wyoming         4004      3793         211   \n",
       "3124  56045      Weston County, Wyoming         3836      3688         148   \n",
       "\n",
       "      unemployed%_county  population  race_white  race_black  race_native  \\\n",
       "0                    4.9       58805       42160       11445          217   \n",
       "1                    5.6      231767      189399       18217         1582   \n",
       "2                    7.0       25223       11317       11933          116   \n",
       "3                    6.6       22293       16555        4413           60   \n",
       "4                    4.1       59134       50663         845          337   \n",
       "...                  ...         ...         ...         ...          ...   \n",
       "3120                 7.4       42272       34389         366          433   \n",
       "3121                 6.0       23331       19202          55          185   \n",
       "3122                 6.3       20450       18007          66          191   \n",
       "3123                 5.3        7685        6600          12           77   \n",
       "3124                 3.9        6838        6197          30           97   \n",
       "\n",
       "      race_asian  race_islander  race_other  race_two_or_more    state  \\\n",
       "0            881             35         910              3157  Alabama   \n",
       "1           2067            143        5335             15024  Alabama   \n",
       "2            117              1        1039               700  Alabama   \n",
       "3             32              9         465               759  Alabama   \n",
       "4            178             24        3431              3656  Alabama   \n",
       "...          ...            ...         ...               ...      ...   \n",
       "3120         295             70        2508              4211  Wyoming   \n",
       "3121         317              5        1415              2152  Wyoming   \n",
       "3122         114             27         864              1181  Wyoming   \n",
       "3123          33              3         388               572  Wyoming   \n",
       "3124          27              9         138               340  Wyoming   \n",
       "\n",
       "      unemployement%_state  % completed_college_county  \\\n",
       "0                     5.88                        0.27   \n",
       "1                     5.88                        0.32   \n",
       "2                     5.88                        0.12   \n",
       "3                     5.88                        0.10   \n",
       "4                     5.88                        0.13   \n",
       "...                    ...                         ...   \n",
       "3120                  5.84                        0.23   \n",
       "3121                  5.84                        0.57   \n",
       "3122                  5.84                        0.16   \n",
       "3123                  5.84                        0.23   \n",
       "3124                  5.84                        0.20   \n",
       "\n",
       "      %not_completed_college_county  completed_college_county  \\\n",
       "0                              0.34                  15625.41   \n",
       "1                              0.28                  73846.67   \n",
       "2                              0.36                   2920.50   \n",
       "3                              0.45                   2313.68   \n",
       "4                              0.33                   7742.66   \n",
       "...                             ...                       ...   \n",
       "3120                           0.33                   9510.52   \n",
       "3121                           0.15                  13299.87   \n",
       "3122                           0.42                   3277.93   \n",
       "3123                           0.30                   1797.23   \n",
       "3124                           0.37                   1365.72   \n",
       "\n",
       "      Not_completed_college_county  \n",
       "0                         19751.69  \n",
       "1                         64105.86  \n",
       "2                          8980.53  \n",
       "3                         10004.82  \n",
       "4                         19763.84  \n",
       "...                            ...  \n",
       "3120                      13967.21  \n",
       "3121                       3470.76  \n",
       "3122                       8491.39  \n",
       "3123                       2286.38  \n",
       "3124                       2559.38  \n",
       "\n",
       "[3125 rows x 20 columns]"
      ]
     },
     "execution_count": 7,
     "metadata": {},
     "output_type": "execute_result"
    }
   ],
   "source": [
    "employment_county_df"
   ]
  },
  {
   "cell_type": "code",
   "execution_count": 8,
   "id": "8dc869b2",
   "metadata": {},
   "outputs": [],
   "source": [
    "employment_county_copy = employment_county_df.copy()"
   ]
  },
  {
   "cell_type": "code",
   "execution_count": 9,
   "id": "9757c1f1",
   "metadata": {},
   "outputs": [
    {
     "data": {
      "text/plain": [
       "['geoid',\n",
       " 'county',\n",
       " 'labor_force',\n",
       " 'employed',\n",
       " 'unemployed',\n",
       " 'unemployed%_county',\n",
       " 'population',\n",
       " 'race_white',\n",
       " 'race_black',\n",
       " 'race_native',\n",
       " 'race_asian',\n",
       " 'race_islander',\n",
       " 'race_other',\n",
       " 'race_two_or_more',\n",
       " 'state',\n",
       " 'unemployement%_state',\n",
       " '% completed_college_county',\n",
       " '%not_completed_college_county',\n",
       " 'completed_college_county',\n",
       " 'Not_completed_college_county']"
      ]
     },
     "execution_count": 9,
     "metadata": {},
     "output_type": "execute_result"
    }
   ],
   "source": [
    "employment_county_copy.columns.to_list()"
   ]
  },
  {
   "cell_type": "code",
   "execution_count": 10,
   "id": "c07325d2",
   "metadata": {},
   "outputs": [
    {
     "name": "stdout",
     "output_type": "stream",
     "text": [
      "<class 'pandas.core.frame.DataFrame'>\n",
      "RangeIndex: 3125 entries, 0 to 3124\n",
      "Data columns (total 20 columns):\n",
      " #   Column                         Non-Null Count  Dtype  \n",
      "---  ------                         --------------  -----  \n",
      " 0   geoid                          3125 non-null   int64  \n",
      " 1   county                         3125 non-null   object \n",
      " 2   labor_force                    3125 non-null   int64  \n",
      " 3   employed                       3125 non-null   int64  \n",
      " 4   unemployed                     3125 non-null   int64  \n",
      " 5   unemployed%_county             3125 non-null   float64\n",
      " 6   population                     3125 non-null   int64  \n",
      " 7   race_white                     3125 non-null   int64  \n",
      " 8   race_black                     3125 non-null   int64  \n",
      " 9   race_native                    3125 non-null   int64  \n",
      " 10  race_asian                     3125 non-null   int64  \n",
      " 11  race_islander                  3125 non-null   int64  \n",
      " 12  race_other                     3125 non-null   int64  \n",
      " 13  race_two_or_more               3125 non-null   int64  \n",
      " 14  state                          3125 non-null   object \n",
      " 15  unemployement%_state           3125 non-null   float64\n",
      " 16  % completed_college_county     3125 non-null   float64\n",
      " 17  %not_completed_college_county  3125 non-null   float64\n",
      " 18  completed_college_county       3125 non-null   float64\n",
      " 19  Not_completed_college_county   3125 non-null   float64\n",
      "dtypes: float64(6), int64(12), object(2)\n",
      "memory usage: 488.4+ KB\n"
     ]
    }
   ],
   "source": [
    "employment_county_copy.info()"
   ]
  },
  {
   "cell_type": "code",
   "execution_count": 11,
   "id": "7b42ef24",
   "metadata": {
    "scrolled": true
   },
   "outputs": [
    {
     "data": {
      "text/html": [
       "<div>\n",
       "<style scoped>\n",
       "    .dataframe tbody tr th:only-of-type {\n",
       "        vertical-align: middle;\n",
       "    }\n",
       "\n",
       "    .dataframe tbody tr th {\n",
       "        vertical-align: top;\n",
       "    }\n",
       "\n",
       "    .dataframe thead th {\n",
       "        text-align: right;\n",
       "    }\n",
       "</style>\n",
       "<table border=\"1\" class=\"dataframe\">\n",
       "  <thead>\n",
       "    <tr style=\"text-align: right;\">\n",
       "      <th></th>\n",
       "      <th>geoid</th>\n",
       "      <th>county</th>\n",
       "      <th>labor_force</th>\n",
       "      <th>employed</th>\n",
       "      <th>unemployed</th>\n",
       "      <th>unemployed%_county</th>\n",
       "      <th>population</th>\n",
       "      <th>race_white</th>\n",
       "      <th>race_black</th>\n",
       "      <th>race_native</th>\n",
       "      <th>...</th>\n",
       "      <th>race_islander</th>\n",
       "      <th>race_other</th>\n",
       "      <th>race_two_or_more</th>\n",
       "      <th>state</th>\n",
       "      <th>unemployement%_state</th>\n",
       "      <th>% completed_college_county</th>\n",
       "      <th>%not_completed_college_county</th>\n",
       "      <th>completed_college_county</th>\n",
       "      <th>Not_completed_college_county</th>\n",
       "      <th>race_others</th>\n",
       "    </tr>\n",
       "  </thead>\n",
       "  <tbody>\n",
       "    <tr>\n",
       "      <th>0</th>\n",
       "      <td>1001</td>\n",
       "      <td>Autauga County, Alabama</td>\n",
       "      <td>25838</td>\n",
       "      <td>24576</td>\n",
       "      <td>1262</td>\n",
       "      <td>4.9</td>\n",
       "      <td>58805</td>\n",
       "      <td>42160</td>\n",
       "      <td>11445</td>\n",
       "      <td>217</td>\n",
       "      <td>...</td>\n",
       "      <td>35</td>\n",
       "      <td>910</td>\n",
       "      <td>3157</td>\n",
       "      <td>Alabama</td>\n",
       "      <td>5.88</td>\n",
       "      <td>0.27</td>\n",
       "      <td>0.34</td>\n",
       "      <td>15625.41</td>\n",
       "      <td>19751.69</td>\n",
       "      <td>4319</td>\n",
       "    </tr>\n",
       "    <tr>\n",
       "      <th>1</th>\n",
       "      <td>1003</td>\n",
       "      <td>Baldwin County, Alabama</td>\n",
       "      <td>96763</td>\n",
       "      <td>91338</td>\n",
       "      <td>5425</td>\n",
       "      <td>5.6</td>\n",
       "      <td>231767</td>\n",
       "      <td>189399</td>\n",
       "      <td>18217</td>\n",
       "      <td>1582</td>\n",
       "      <td>...</td>\n",
       "      <td>143</td>\n",
       "      <td>5335</td>\n",
       "      <td>15024</td>\n",
       "      <td>Alabama</td>\n",
       "      <td>5.88</td>\n",
       "      <td>0.32</td>\n",
       "      <td>0.28</td>\n",
       "      <td>73846.67</td>\n",
       "      <td>64105.86</td>\n",
       "      <td>22084</td>\n",
       "    </tr>\n",
       "    <tr>\n",
       "      <th>2</th>\n",
       "      <td>1005</td>\n",
       "      <td>Barbour County, Alabama</td>\n",
       "      <td>8587</td>\n",
       "      <td>7982</td>\n",
       "      <td>605</td>\n",
       "      <td>7.0</td>\n",
       "      <td>25223</td>\n",
       "      <td>11317</td>\n",
       "      <td>11933</td>\n",
       "      <td>116</td>\n",
       "      <td>...</td>\n",
       "      <td>1</td>\n",
       "      <td>1039</td>\n",
       "      <td>700</td>\n",
       "      <td>Alabama</td>\n",
       "      <td>5.88</td>\n",
       "      <td>0.12</td>\n",
       "      <td>0.36</td>\n",
       "      <td>2920.50</td>\n",
       "      <td>8980.53</td>\n",
       "      <td>1856</td>\n",
       "    </tr>\n",
       "    <tr>\n",
       "      <th>3</th>\n",
       "      <td>1007</td>\n",
       "      <td>Bibb County, Alabama</td>\n",
       "      <td>8640</td>\n",
       "      <td>8067</td>\n",
       "      <td>573</td>\n",
       "      <td>6.6</td>\n",
       "      <td>22293</td>\n",
       "      <td>16555</td>\n",
       "      <td>4413</td>\n",
       "      <td>60</td>\n",
       "      <td>...</td>\n",
       "      <td>9</td>\n",
       "      <td>465</td>\n",
       "      <td>759</td>\n",
       "      <td>Alabama</td>\n",
       "      <td>5.88</td>\n",
       "      <td>0.10</td>\n",
       "      <td>0.45</td>\n",
       "      <td>2313.68</td>\n",
       "      <td>10004.82</td>\n",
       "      <td>1293</td>\n",
       "    </tr>\n",
       "    <tr>\n",
       "      <th>4</th>\n",
       "      <td>1009</td>\n",
       "      <td>Blount County, Alabama</td>\n",
       "      <td>24661</td>\n",
       "      <td>23653</td>\n",
       "      <td>1008</td>\n",
       "      <td>4.1</td>\n",
       "      <td>59134</td>\n",
       "      <td>50663</td>\n",
       "      <td>845</td>\n",
       "      <td>337</td>\n",
       "      <td>...</td>\n",
       "      <td>24</td>\n",
       "      <td>3431</td>\n",
       "      <td>3656</td>\n",
       "      <td>Alabama</td>\n",
       "      <td>5.88</td>\n",
       "      <td>0.13</td>\n",
       "      <td>0.33</td>\n",
       "      <td>7742.66</td>\n",
       "      <td>19763.84</td>\n",
       "      <td>7448</td>\n",
       "    </tr>\n",
       "  </tbody>\n",
       "</table>\n",
       "<p>5 rows × 21 columns</p>\n",
       "</div>"
      ],
      "text/plain": [
       "   geoid                   county  labor_force  employed  unemployed  \\\n",
       "0   1001  Autauga County, Alabama        25838     24576        1262   \n",
       "1   1003  Baldwin County, Alabama        96763     91338        5425   \n",
       "2   1005  Barbour County, Alabama         8587      7982         605   \n",
       "3   1007     Bibb County, Alabama         8640      8067         573   \n",
       "4   1009   Blount County, Alabama        24661     23653        1008   \n",
       "\n",
       "   unemployed%_county  population  race_white  race_black  race_native  ...  \\\n",
       "0                 4.9       58805       42160       11445          217  ...   \n",
       "1                 5.6      231767      189399       18217         1582  ...   \n",
       "2                 7.0       25223       11317       11933          116  ...   \n",
       "3                 6.6       22293       16555        4413           60  ...   \n",
       "4                 4.1       59134       50663         845          337  ...   \n",
       "\n",
       "   race_islander  race_other  race_two_or_more    state unemployement%_state  \\\n",
       "0             35         910              3157  Alabama                 5.88   \n",
       "1            143        5335             15024  Alabama                 5.88   \n",
       "2              1        1039               700  Alabama                 5.88   \n",
       "3              9         465               759  Alabama                 5.88   \n",
       "4             24        3431              3656  Alabama                 5.88   \n",
       "\n",
       "   % completed_college_county  %not_completed_college_county  \\\n",
       "0                        0.27                           0.34   \n",
       "1                        0.32                           0.28   \n",
       "2                        0.12                           0.36   \n",
       "3                        0.10                           0.45   \n",
       "4                        0.13                           0.33   \n",
       "\n",
       "   completed_college_county  Not_completed_college_county  race_others  \n",
       "0                  15625.41                      19751.69         4319  \n",
       "1                  73846.67                      64105.86        22084  \n",
       "2                   2920.50                       8980.53         1856  \n",
       "3                   2313.68                      10004.82         1293  \n",
       "4                   7742.66                      19763.84         7448  \n",
       "\n",
       "[5 rows x 21 columns]"
      ]
     },
     "execution_count": 11,
     "metadata": {},
     "output_type": "execute_result"
    }
   ],
   "source": [
    "# to increase model performance merging some of the race columns \n",
    "employment_county_copy['race_others']= employment_county_copy[['race_native','race_islander','race_other','race_two_or_more']].sum(axis=1)\n",
    "employment_county_copy.head(5)"
   ]
  },
  {
   "cell_type": "code",
   "execution_count": null,
   "id": "8820a696",
   "metadata": {},
   "outputs": [],
   "source": [
    "# reducing columns to improve model performance \n",
    "# employment_county_copy = employment_county_copy.drop(['race_native','race_islander','race_other','race_two_or_more'],axis=1)"
   ]
  },
  {
   "cell_type": "code",
   "execution_count": 12,
   "id": "be91c668",
   "metadata": {},
   "outputs": [
    {
     "data": {
      "text/plain": [
       "False"
      ]
     },
     "execution_count": 12,
     "metadata": {},
     "output_type": "execute_result"
    }
   ],
   "source": [
    "employment_county_copy.isnull().values.any()"
   ]
  },
  {
   "cell_type": "code",
   "execution_count": 13,
   "id": "698dc8a8",
   "metadata": {},
   "outputs": [
    {
     "data": {
      "text/plain": [
       "['geoid',\n",
       " 'county',\n",
       " 'labor_force',\n",
       " 'employed',\n",
       " 'unemployed',\n",
       " 'unemployed%_county',\n",
       " 'population',\n",
       " 'race_white',\n",
       " 'race_black',\n",
       " 'race_native',\n",
       " 'race_asian',\n",
       " 'race_islander',\n",
       " 'race_other',\n",
       " 'race_two_or_more',\n",
       " 'state',\n",
       " 'unemployement%_state',\n",
       " '% completed_college_county',\n",
       " '%not_completed_college_county',\n",
       " 'completed_college_county',\n",
       " 'Not_completed_college_county',\n",
       " 'race_others']"
      ]
     },
     "execution_count": 13,
     "metadata": {},
     "output_type": "execute_result"
    }
   ],
   "source": [
    "employment_county_copy.columns.to_list()"
   ]
  },
  {
   "cell_type": "code",
   "execution_count": 14,
   "id": "0dc4b394",
   "metadata": {
    "scrolled": true
   },
   "outputs": [
    {
     "name": "stdout",
     "output_type": "stream",
     "text": [
      "<class 'pandas.core.frame.DataFrame'>\n",
      "RangeIndex: 3125 entries, 0 to 3124\n",
      "Data columns (total 21 columns):\n",
      " #   Column                         Non-Null Count  Dtype  \n",
      "---  ------                         --------------  -----  \n",
      " 0   geoid                          3125 non-null   int64  \n",
      " 1   county                         3125 non-null   object \n",
      " 2   labor_force                    3125 non-null   int64  \n",
      " 3   employed                       3125 non-null   int64  \n",
      " 4   unemployed                     3125 non-null   int64  \n",
      " 5   unemployed%_county             3125 non-null   float64\n",
      " 6   population                     3125 non-null   int64  \n",
      " 7   race_white                     3125 non-null   int64  \n",
      " 8   race_black                     3125 non-null   int64  \n",
      " 9   race_native                    3125 non-null   int64  \n",
      " 10  race_asian                     3125 non-null   int64  \n",
      " 11  race_islander                  3125 non-null   int64  \n",
      " 12  race_other                     3125 non-null   int64  \n",
      " 13  race_two_or_more               3125 non-null   int64  \n",
      " 14  state                          3125 non-null   object \n",
      " 15  unemployement%_state           3125 non-null   float64\n",
      " 16  % completed_college_county     3125 non-null   float64\n",
      " 17  %not_completed_college_county  3125 non-null   float64\n",
      " 18  completed_college_county       3125 non-null   float64\n",
      " 19  Not_completed_college_county   3125 non-null   float64\n",
      " 20  race_others                    3125 non-null   int64  \n",
      "dtypes: float64(6), int64(13), object(2)\n",
      "memory usage: 512.8+ KB\n"
     ]
    }
   ],
   "source": [
    "employment_county_copy.info()"
   ]
  },
  {
   "cell_type": "code",
   "execution_count": 15,
   "id": "df12cf9f",
   "metadata": {},
   "outputs": [],
   "source": [
    "employment_county_copy = employment_county_copy.drop(['county','state'],axis=1)"
   ]
  },
  {
   "cell_type": "code",
   "execution_count": 16,
   "id": "a6b70128",
   "metadata": {},
   "outputs": [
    {
     "name": "stdout",
     "output_type": "stream",
     "text": [
      "<class 'pandas.core.frame.DataFrame'>\n",
      "RangeIndex: 3125 entries, 0 to 3124\n",
      "Data columns (total 19 columns):\n",
      " #   Column                         Non-Null Count  Dtype  \n",
      "---  ------                         --------------  -----  \n",
      " 0   geoid                          3125 non-null   int64  \n",
      " 1   labor_force                    3125 non-null   int64  \n",
      " 2   employed                       3125 non-null   int64  \n",
      " 3   unemployed                     3125 non-null   int64  \n",
      " 4   unemployed%_county             3125 non-null   float64\n",
      " 5   population                     3125 non-null   int64  \n",
      " 6   race_white                     3125 non-null   int64  \n",
      " 7   race_black                     3125 non-null   int64  \n",
      " 8   race_native                    3125 non-null   int64  \n",
      " 9   race_asian                     3125 non-null   int64  \n",
      " 10  race_islander                  3125 non-null   int64  \n",
      " 11  race_other                     3125 non-null   int64  \n",
      " 12  race_two_or_more               3125 non-null   int64  \n",
      " 13  unemployement%_state           3125 non-null   float64\n",
      " 14  % completed_college_county     3125 non-null   float64\n",
      " 15  %not_completed_college_county  3125 non-null   float64\n",
      " 16  completed_college_county       3125 non-null   float64\n",
      " 17  Not_completed_college_county   3125 non-null   float64\n",
      " 18  race_others                    3125 non-null   int64  \n",
      "dtypes: float64(6), int64(13)\n",
      "memory usage: 464.0 KB\n"
     ]
    }
   ],
   "source": [
    "employment_county_copy.info()"
   ]
  },
  {
   "cell_type": "code",
   "execution_count": 17,
   "id": "716ef509",
   "metadata": {},
   "outputs": [
    {
     "data": {
      "text/plain": [
       "(3125, 19)"
      ]
     },
     "execution_count": 17,
     "metadata": {},
     "output_type": "execute_result"
    }
   ],
   "source": [
    "employment_county_copy.shape"
   ]
  },
  {
   "cell_type": "markdown",
   "id": "f0887277",
   "metadata": {},
   "source": [
    "# Targeting \"unemployed\" but we can target any of the employment columns\n"
   ]
  },
  {
   "cell_type": "code",
   "execution_count": 18,
   "id": "43dd0f51",
   "metadata": {},
   "outputs": [],
   "source": [
    "# trying to drop some heavily weighing features to see how it affects model accuracy\n",
    "\n",
    "# for true prediction our X should not have anything related to employment need so add education to the X \n",
    "\n",
    "X = employment_county_copy[['race_white', 'race_black', 'race_asian','race_others','completed_college_county','Not_completed_college_county']]\n",
    "\n",
    "y = employment_county_copy['unemployed']\n"
   ]
  },
  {
   "cell_type": "code",
   "execution_count": 21,
   "id": "be412cfd",
   "metadata": {},
   "outputs": [
    {
     "data": {
      "text/plain": [
       "(3125, 6)"
      ]
     },
     "execution_count": 21,
     "metadata": {},
     "output_type": "execute_result"
    }
   ],
   "source": [
    "X.shape"
   ]
  },
  {
   "cell_type": "code",
   "execution_count": 23,
   "id": "f80bcabe",
   "metadata": {},
   "outputs": [
    {
     "data": {
      "text/plain": [
       "(3125,)"
      ]
     },
     "execution_count": 23,
     "metadata": {},
     "output_type": "execute_result"
    }
   ],
   "source": [
    "y.shape"
   ]
  },
  {
   "cell_type": "code",
   "execution_count": 24,
   "id": "fa19d77f",
   "metadata": {},
   "outputs": [],
   "source": [
    "X_train, X_test, y_train, y_test = train_test_split(X, y,test_size=0.20, random_state=0)"
   ]
  },
  {
   "cell_type": "code",
   "execution_count": 25,
   "id": "e4e7e79a",
   "metadata": {},
   "outputs": [
    {
     "data": {
      "text/plain": [
       "RandomForestRegressor(random_state=0)"
      ]
     },
     "execution_count": 25,
     "metadata": {},
     "output_type": "execute_result"
    }
   ],
   "source": [
    "regressor = RandomForestRegressor(n_estimators=100,random_state=0)\n",
    "regressor.fit(X_train,y_train)"
   ]
  },
  {
   "cell_type": "code",
   "execution_count": 26,
   "id": "b8cddb2e",
   "metadata": {},
   "outputs": [],
   "source": [
    "y_pred = regressor.predict(X_test)"
   ]
  },
  {
   "cell_type": "code",
   "execution_count": 27,
   "id": "a08d495f",
   "metadata": {},
   "outputs": [
    {
     "data": {
      "text/plain": [
       "0.951290615704643"
      ]
     },
     "execution_count": 27,
     "metadata": {},
     "output_type": "execute_result"
    }
   ],
   "source": [
    "from sklearn.metrics import r2_score\n",
    "r2_score(y_test,y_pred)"
   ]
  },
  {
   "cell_type": "code",
   "execution_count": 28,
   "id": "c0dd0607",
   "metadata": {},
   "outputs": [
    {
     "data": {
      "text/plain": [
       "0.9745377632348398"
      ]
     },
     "execution_count": 28,
     "metadata": {},
     "output_type": "execute_result"
    }
   ],
   "source": [
    "regressor.score(X_train,y_train)"
   ]
  },
  {
   "cell_type": "code",
   "execution_count": 29,
   "id": "f3c41cae",
   "metadata": {
    "scrolled": true
   },
   "outputs": [
    {
     "data": {
      "text/plain": [
       "0.951290615704643"
      ]
     },
     "execution_count": 29,
     "metadata": {},
     "output_type": "execute_result"
    }
   ],
   "source": [
    "regressor.score(X_test,y_test)"
   ]
  },
  {
   "cell_type": "code",
   "execution_count": 30,
   "id": "6d0d0119",
   "metadata": {
    "scrolled": false
   },
   "outputs": [
    {
     "data": {
      "text/plain": [
       "574.5358560000001"
      ]
     },
     "execution_count": 30,
     "metadata": {},
     "output_type": "execute_result"
    }
   ],
   "source": [
    "from sklearn.metrics import mean_absolute_error\n",
    "mae = mean_absolute_error(y_test, y_pred)\n",
    "mae"
   ]
  },
  {
   "cell_type": "markdown",
   "id": "0599c149",
   "metadata": {},
   "source": [
    "## Feature importance"
   ]
  },
  {
   "cell_type": "code",
   "execution_count": 31,
   "id": "fc60e42d",
   "metadata": {},
   "outputs": [
    {
     "data": {
      "text/plain": [
       "[(0.5064562737311682, 'Not_completed_college_county'),\n",
       " (0.14741987937110243, 'race_white'),\n",
       " (0.14472279919031447, 'completed_college_county'),\n",
       " (0.09618073078467852, 'race_others'),\n",
       " (0.07055631673469305, 'race_asian'),\n",
       " (0.0346640001880433, 'race_black')]"
      ]
     },
     "execution_count": 31,
     "metadata": {},
     "output_type": "execute_result"
    }
   ],
   "source": [
    "sorted(zip(regressor.feature_importances_, X.columns), reverse=True)"
   ]
  },
  {
   "cell_type": "markdown",
   "id": "dc15288f",
   "metadata": {},
   "source": [
    "### MAE consider the min max range"
   ]
  },
  {
   "cell_type": "code",
   "execution_count": 32,
   "id": "8d86e7e8",
   "metadata": {},
   "outputs": [
    {
     "name": "stdout",
     "output_type": "stream",
     "text": [
      "min =  4\n",
      "max =  629811\n"
     ]
    }
   ],
   "source": [
    "max_unemployed = employment_county_df['unemployed'].max()\n",
    "min_unemployed = employment_county_df['unemployed'].min()\n",
    "print ('min = ', min_unemployed)\n",
    "print('max = ', max_unemployed)"
   ]
  },
  {
   "cell_type": "code",
   "execution_count": 33,
   "id": "58a9332e",
   "metadata": {},
   "outputs": [
    {
     "data": {
      "image/png": "[encoded data removed]",
      "text/plain": [
       "<Figure size 432x288 with 1 Axes>"
      ]
     },
     "metadata": {
      "needs_background": "light"
     },
     "output_type": "display_data"
    }
   ],
   "source": [
    "plt.scatter(regressor.predict(X_train), regressor.predict(X_train) - y_train, c=\"blue\", label=\"Training Data\")\n",
    "plt.scatter(regressor.predict(X_test), regressor.predict(X_test) - y_test, c=\"orange\", label=\"Testing Data\")\n",
    "plt.legend()\n",
    "plt.hlines(y=0, xmin=y.min(), xmax=y.max())\n",
    "plt.title(\"Train_Test_comparison\")\n",
    "plt.show()"
   ]
  },
  {
   "cell_type": "code",
   "execution_count": 34,
   "id": "78e8e83b",
   "metadata": {
    "scrolled": true
   },
   "outputs": [
    {
     "name": "stdout",
     "output_type": "stream",
     "text": [
      "Actual:\t\t[369, 129, 2149, 1436, 678, 1009, 1069, 11366, 186, 844]\n",
      "Predicted:\t[343.23, 160.96, 2585.06, 1687.85, 615.81, 1276.95, 1252.18, 8529.02, 421.02, 883.05]\n"
     ]
    }
   ],
   "source": [
    "print(f'Actual:\\t\\t{list(y_test[:10])}')\n",
    "print(f'Predicted:\\t{list(regressor.predict(X_test[:10]))}')"
   ]
  },
  {
   "cell_type": "code",
   "execution_count": 35,
   "id": "bfd6a7ba",
   "metadata": {},
   "outputs": [
    {
     "data": {
      "text/plain": [
       "0.9328408811984836"
      ]
     },
     "execution_count": 35,
     "metadata": {},
     "output_type": "execute_result"
    }
   ],
   "source": [
    "# correlation between college education and unemployement \n",
    "employment_county_copy['completed_college_county'].corr(employment_county_copy['unemployed'],method='pearson')"
   ]
  },
  {
   "cell_type": "code",
   "execution_count": 36,
   "id": "76d7c8e9",
   "metadata": {},
   "outputs": [
    {
     "data": {
      "text/plain": [
       "0.9742513547841045"
      ]
     },
     "execution_count": 36,
     "metadata": {},
     "output_type": "execute_result"
    }
   ],
   "source": [
    "# correlation between population education and unemployement \n",
    "employment_county_copy['population'].corr(employment_county_copy['unemployed'],method='pearson')"
   ]
  },
  {
   "cell_type": "code",
   "execution_count": 37,
   "id": "ff6f2744",
   "metadata": {},
   "outputs": [
    {
     "data": {
      "text/plain": [
       "0.9557224475947075"
      ]
     },
     "execution_count": 37,
     "metadata": {},
     "output_type": "execute_result"
    }
   ],
   "source": [
    "# correlation between population education and unemployement \n",
    "employment_county_copy['Not_completed_college_county'].corr(employment_county_copy['unemployed'],method='pearson')"
   ]
  },
  {
   "cell_type": "code",
   "execution_count": 38,
   "id": "9c977f2a",
   "metadata": {},
   "outputs": [
    {
     "data": {
      "image/png": "[encoded data removed]",
      "text/plain": [
       "<Figure size 432x288 with 1 Axes>"
      ]
     },
     "metadata": {
      "needs_background": "light"
     },
     "output_type": "display_data"
    }
   ],
   "source": [
    "x=employment_county_copy['population']\n",
    "y=employment_county_copy['unemployed']\n",
    "sns.scatterplot(x=\"population\", y=\"unemployed\", data=employment_county_copy);"
   ]
  },
  {
   "cell_type": "code",
   "execution_count": 39,
   "id": "d602236a",
   "metadata": {},
   "outputs": [
    {
     "data": {
      "image/png": "[encoded data removed]",
      "text/plain": [
       "<Figure size 432x288 with 1 Axes>"
      ]
     },
     "metadata": {
      "needs_background": "light"
     },
     "output_type": "display_data"
    }
   ],
   "source": [
    "x=employment_county_copy['Not_completed_college_county']\n",
    "y=employment_county_copy['unemployed']\n",
    "sns.scatterplot(x=\"Not_completed_college_county\", y=\"unemployed\", data=employment_county_copy);"
   ]
  },
  {
   "cell_type": "code",
   "execution_count": null,
   "id": "b61e3474",
   "metadata": {},
   "outputs": [],
   "source": []
  },
  {
   "cell_type": "code",
   "execution_count": null,
   "id": "e1edd453",
   "metadata": {},
   "outputs": [],
   "source": []
  },
  {
   "cell_type": "code",
   "execution_count": null,
   "id": "f0f88062",
   "metadata": {},
   "outputs": [],
   "source": []
  },
  {
   "cell_type": "code",
   "execution_count": null,
   "id": "8a451306",
   "metadata": {},
   "outputs": [],
   "source": []
  }
 ],
 "metadata": {
  "kernelspec": {
   "display_name": "mlenv",
   "language": "python",
   "name": "mlenv"
  },
  "language_info": {
   "codemirror_mode": {
    "name": "ipython",
    "version": 3
   },
   "file_extension": ".py",
   "mimetype": "text/x-python",
   "name": "python",
   "nbconvert_exporter": "python",
   "pygments_lexer": "ipython3",
   "version": "3.7.11"
  }
 },
 "nbformat": 4,
 "nbformat_minor": 5
}
