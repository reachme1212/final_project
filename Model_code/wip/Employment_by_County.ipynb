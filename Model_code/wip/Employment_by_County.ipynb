{
 "cells": [
  {
   "cell_type": "code",
   "execution_count": 21,
   "id": "dfbdb7a5",
   "metadata": {},
   "outputs": [],
   "source": [
    "import pandas as pd\n",
    "import numpy as np\n",
    "import re"
   ]
  },
  {
   "cell_type": "code",
   "execution_count": 46,
   "id": "49e886e6",
   "metadata": {},
   "outputs": [
    {
     "data": {
      "text/plain": [
       "(3222,)"
      ]
     },
     "execution_count": 46,
     "metadata": {},
     "output_type": "execute_result"
    }
   ],
   "source": [
    "# Load raw csv DEMOGRAPHICS\n",
    "COUNTY_DEMOGRACHICS_CSV  = pd.read_csv('COUNTY_demographics.csv')\n",
    "COUNTY_DEMOGRACHICS_CSV['county'].unique().shape"
   ]
  },
  {
   "cell_type": "code",
   "execution_count": 23,
   "id": "8a0e10f2",
   "metadata": {},
   "outputs": [
    {
     "data": {
      "text/html": [
       "<div>\n",
       "<style scoped>\n",
       "    .dataframe tbody tr th:only-of-type {\n",
       "        vertical-align: middle;\n",
       "    }\n",
       "\n",
       "    .dataframe tbody tr th {\n",
       "        vertical-align: top;\n",
       "    }\n",
       "\n",
       "    .dataframe thead th {\n",
       "        text-align: right;\n",
       "    }\n",
       "</style>\n",
       "<table border=\"1\" class=\"dataframe\">\n",
       "  <thead>\n",
       "    <tr style=\"text-align: right;\">\n",
       "      <th></th>\n",
       "      <th>county</th>\n",
       "      <th>labor_force</th>\n",
       "      <th>employed</th>\n",
       "      <th>unemployed</th>\n",
       "      <th>unemployed_pct</th>\n",
       "    </tr>\n",
       "  </thead>\n",
       "  <tbody>\n",
       "    <tr>\n",
       "      <th>0</th>\n",
       "      <td>Autauga County, AL</td>\n",
       "      <td>25838</td>\n",
       "      <td>24576</td>\n",
       "      <td>1262</td>\n",
       "      <td>4.9</td>\n",
       "    </tr>\n",
       "    <tr>\n",
       "      <th>1</th>\n",
       "      <td>Baldwin County, AL</td>\n",
       "      <td>96763</td>\n",
       "      <td>91338</td>\n",
       "      <td>5425</td>\n",
       "      <td>5.6</td>\n",
       "    </tr>\n",
       "    <tr>\n",
       "      <th>2</th>\n",
       "      <td>Barbour County, AL</td>\n",
       "      <td>8587</td>\n",
       "      <td>7982</td>\n",
       "      <td>605</td>\n",
       "      <td>7.0</td>\n",
       "    </tr>\n",
       "    <tr>\n",
       "      <th>3</th>\n",
       "      <td>Bibb County, AL</td>\n",
       "      <td>8640</td>\n",
       "      <td>8067</td>\n",
       "      <td>573</td>\n",
       "      <td>6.6</td>\n",
       "    </tr>\n",
       "    <tr>\n",
       "      <th>4</th>\n",
       "      <td>Blount County, AL</td>\n",
       "      <td>24661</td>\n",
       "      <td>23653</td>\n",
       "      <td>1008</td>\n",
       "      <td>4.1</td>\n",
       "    </tr>\n",
       "  </tbody>\n",
       "</table>\n",
       "</div>"
      ],
      "text/plain": [
       "               county labor_force employed unemployed unemployed_pct\n",
       "0  Autauga County, AL       25838    24576       1262       4.9     \n",
       "1  Baldwin County, AL       96763    91338       5425       5.6     \n",
       "2  Barbour County, AL        8587     7982        605       7.0     \n",
       "3     Bibb County, AL        8640     8067        573       6.6     \n",
       "4   Blount County, AL       24661    23653       1008       4.1     "
      ]
     },
     "execution_count": 23,
     "metadata": {},
     "output_type": "execute_result"
    }
   ],
   "source": [
    "# Load raw csv LABOR \n",
    "COUNTY_LABOR_CSV  = pd.read_csv('COUNTY_Labor.csv')\n",
    "COUNTY_LABOR_CSV.head(5)"
   ]
  },
  {
   "cell_type": "code",
   "execution_count": 43,
   "id": "6a5eefec",
   "metadata": {},
   "outputs": [],
   "source": [
    "# Lookup dict, convert metro state abbreviation to full string\n",
    "# We have abbreviations, database expects full state name\n",
    "states = {\n",
    "    \"Alabama\": \"AL\",\n",
    "    \"Alaska\": \"AK\",\n",
    "    \"Arizona\": \"AZ\",\n",
    "    \"Arkansas\": \"AR\",\n",
    "    \"California\": \"CA\",\n",
    "    \"Colorado\": \"CO\",\n",
    "    \"Connecticut\": \"CT\",\n",
    "    \"Delaware\": \"DE\",\n",
    "    \"Florida\": \"FL\",\n",
    "    \"Georgia\": \"GA\",\n",
    "    \"Hawaii\": \"HI\",\n",
    "    \"Idaho\": \"ID\",\n",
    "    \"Illinois\": \"IL\",\n",
    "    \"Indiana\": \"IN\",\n",
    "    \"Iowa\": \"IA\",\n",
    "    \"Kansas\": \"KS\",\n",
    "    \"Kentucky\": \"KY\",\n",
    "    \"Louisiana\": \"LA\",\n",
    "    \"Maine\": \"ME\",\n",
    "    \"Maryland\": \"MD\",\n",
    "    \"Massachusetts\": \"MA\",\n",
    "    \"Michigan\": \"MI\",\n",
    "    \"Minnesota\": \"MN\",\n",
    "    \"Mississippi\": \"MS\",\n",
    "    \"Missouri\": \"MO\",\n",
    "    \"Montana\": \"MT\",\n",
    "    \"Nebraska\": \"NE\",\n",
    "    \"Nevada\": \"NV\",\n",
    "    \"New Hampshire\": \"NH\",\n",
    "    \"New Jersey\": \"NJ\",\n",
    "    \"New Mexico\": \"NM\",\n",
    "    \"New York\": \"NY\",\n",
    "    \"North Carolina\": \"NC\",\n",
    "    \"North Dakota\": \"ND\",\n",
    "    \"Ohio\": \"OH\",\n",
    "    \"Oklahoma\": \"OK\",\n",
    "    \"Oregon\": \"OR\",\n",
    "    \"Pennsylvania\": \"PA\",\n",
    "    \"Rhode Island\": \"RI\",\n",
    "    \"South Carolina\": \"SC\",\n",
    "    \"South Dakota\": \"SD\",\n",
    "    \"Tennessee\": \"TN\",\n",
    "    \"Texas\": \"TX\",\n",
    "    \"Utah\": \"UT\",\n",
    "    \"Vermont\": \"VT\",\n",
    "    \"Virginia\": \"VA\",\n",
    "    \"Washington\": \"WA\",\n",
    "    \"West Virginia\": \"WV\",\n",
    "    \"Wisconsin\": \"WI\",\n",
    "    \"Wyoming\": \"WY\",\n",
    "    \"District of Columbia\": \"DC\",\n",
    "    \"American Samoa\": \"AS\",\n",
    "    \"Guam\": \"GU\",\n",
    "    \"Northern Mariana Islands\": \"MP\",\n",
    "    \"Puerto Rico\": \"PR\",\n",
    "    \"United States Minor Outlying Islands\": \"UM\",\n",
    "    \"U.S. Virgin Islands\": \"VI\",\n",
    "}\n",
    "    \n",
    "# invert the dictionary\n",
    "states = dict(map(reversed, states.items()))\n"
   ]
  },
  {
   "cell_type": "code",
   "execution_count": null,
   "id": "73475a48",
   "metadata": {},
   "outputs": [],
   "source": []
  },
  {
   "cell_type": "code",
   "execution_count": 27,
   "id": "247addf5",
   "metadata": {
    "scrolled": true
   },
   "outputs": [
    {
     "name": "stdout",
     "output_type": "stream",
     "text": [
      "nope county            District of Columbia\n",
      "labor_force                     409734\n",
      "employed                        376839\n",
      "unemployed                       32895\n",
      "unemployed_pct                8.0     \n",
      "abbr                                  \n",
      "Name: 319, dtype: object\n",
      "nope county            NaN\n",
      "labor_force       NaN\n",
      "employed          NaN\n",
      "unemployed        NaN\n",
      "unemployed_pct    NaN\n",
      "abbr                 \n",
      "Name: 3219, dtype: object\n"
     ]
    }
   ],
   "source": [
    "COUNTY_LABOR_CSV['abbr'] = \"\"\n",
    "for index, row in COUNTY_LABOR_CSV.iterrows():\n",
    "    try:\n",
    "        locationParts = row['county'].split(', ')\n",
    "        row['abbr']=locationParts[0] + \", \"+states[locationParts[1]]\n",
    "    except:\n",
    "        print('nope', row)"
   ]
  },
  {
   "cell_type": "code",
   "execution_count": 28,
   "id": "a2a6219a",
   "metadata": {},
   "outputs": [],
   "source": [
    "COUNTY_LABOR_CSV['county'] = COUNTY_LABOR_CSV['abbr']"
   ]
  },
  {
   "cell_type": "code",
   "execution_count": 29,
   "id": "f62ef825",
   "metadata": {},
   "outputs": [],
   "source": [
    "COUNTY_LABOR_CSV.drop(columns=['abbr'], inplace=True)"
   ]
  },
  {
   "cell_type": "code",
   "execution_count": 30,
   "id": "00a756f1",
   "metadata": {},
   "outputs": [
    {
     "data": {
      "text/html": [
       "<div>\n",
       "<style scoped>\n",
       "    .dataframe tbody tr th:only-of-type {\n",
       "        vertical-align: middle;\n",
       "    }\n",
       "\n",
       "    .dataframe tbody tr th {\n",
       "        vertical-align: top;\n",
       "    }\n",
       "\n",
       "    .dataframe thead th {\n",
       "        text-align: right;\n",
       "    }\n",
       "</style>\n",
       "<table border=\"1\" class=\"dataframe\">\n",
       "  <thead>\n",
       "    <tr style=\"text-align: right;\">\n",
       "      <th></th>\n",
       "      <th>county</th>\n",
       "      <th>labor_force</th>\n",
       "      <th>employed</th>\n",
       "      <th>unemployed</th>\n",
       "      <th>unemployed_pct</th>\n",
       "    </tr>\n",
       "  </thead>\n",
       "  <tbody>\n",
       "    <tr>\n",
       "      <th>0</th>\n",
       "      <td>Autauga County, Alabama</td>\n",
       "      <td>25838</td>\n",
       "      <td>24576</td>\n",
       "      <td>1262</td>\n",
       "      <td>4.9</td>\n",
       "    </tr>\n",
       "    <tr>\n",
       "      <th>1</th>\n",
       "      <td>Baldwin County, Alabama</td>\n",
       "      <td>96763</td>\n",
       "      <td>91338</td>\n",
       "      <td>5425</td>\n",
       "      <td>5.6</td>\n",
       "    </tr>\n",
       "    <tr>\n",
       "      <th>2</th>\n",
       "      <td>Barbour County, Alabama</td>\n",
       "      <td>8587</td>\n",
       "      <td>7982</td>\n",
       "      <td>605</td>\n",
       "      <td>7.0</td>\n",
       "    </tr>\n",
       "    <tr>\n",
       "      <th>3</th>\n",
       "      <td>Bibb County, Alabama</td>\n",
       "      <td>8640</td>\n",
       "      <td>8067</td>\n",
       "      <td>573</td>\n",
       "      <td>6.6</td>\n",
       "    </tr>\n",
       "    <tr>\n",
       "      <th>4</th>\n",
       "      <td>Blount County, Alabama</td>\n",
       "      <td>24661</td>\n",
       "      <td>23653</td>\n",
       "      <td>1008</td>\n",
       "      <td>4.1</td>\n",
       "    </tr>\n",
       "    <tr>\n",
       "      <th>...</th>\n",
       "      <td>...</td>\n",
       "      <td>...</td>\n",
       "      <td>...</td>\n",
       "      <td>...</td>\n",
       "      <td>...</td>\n",
       "    </tr>\n",
       "    <tr>\n",
       "      <th>3215</th>\n",
       "      <td>Vieques Municipio, Puerto Rico</td>\n",
       "      <td>N.A.</td>\n",
       "      <td>N.A.</td>\n",
       "      <td>N.A.</td>\n",
       "      <td>N.A.</td>\n",
       "    </tr>\n",
       "    <tr>\n",
       "      <th>3216</th>\n",
       "      <td>Villalba Municipio, Puerto Rico</td>\n",
       "      <td>N.A.</td>\n",
       "      <td>N.A.</td>\n",
       "      <td>N.A.</td>\n",
       "      <td>N.A.</td>\n",
       "    </tr>\n",
       "    <tr>\n",
       "      <th>3217</th>\n",
       "      <td>Yabucoa Municipio, Puerto Rico</td>\n",
       "      <td>N.A.</td>\n",
       "      <td>N.A.</td>\n",
       "      <td>N.A.</td>\n",
       "      <td>N.A.</td>\n",
       "    </tr>\n",
       "    <tr>\n",
       "      <th>3218</th>\n",
       "      <td>Yauco Municipio, Puerto Rico</td>\n",
       "      <td>N.A.</td>\n",
       "      <td>N.A.</td>\n",
       "      <td>N.A.</td>\n",
       "      <td>N.A.</td>\n",
       "    </tr>\n",
       "    <tr>\n",
       "      <th>3219</th>\n",
       "      <td></td>\n",
       "      <td>NaN</td>\n",
       "      <td>NaN</td>\n",
       "      <td>NaN</td>\n",
       "      <td>NaN</td>\n",
       "    </tr>\n",
       "  </tbody>\n",
       "</table>\n",
       "<p>3220 rows × 5 columns</p>\n",
       "</div>"
      ],
      "text/plain": [
       "                               county labor_force employed unemployed  \\\n",
       "0             Autauga County, Alabama       25838    24576       1262   \n",
       "1             Baldwin County, Alabama       96763    91338       5425   \n",
       "2             Barbour County, Alabama        8587     7982        605   \n",
       "3                Bibb County, Alabama        8640     8067        573   \n",
       "4              Blount County, Alabama       24661    23653       1008   \n",
       "...                               ...         ...      ...        ...   \n",
       "3215   Vieques Municipio, Puerto Rico        N.A.     N.A.       N.A.   \n",
       "3216  Villalba Municipio, Puerto Rico        N.A.     N.A.       N.A.   \n",
       "3217   Yabucoa Municipio, Puerto Rico        N.A.     N.A.       N.A.   \n",
       "3218     Yauco Municipio, Puerto Rico        N.A.     N.A.       N.A.   \n",
       "3219                                          NaN      NaN        NaN   \n",
       "\n",
       "     unemployed_pct  \n",
       "0          4.9       \n",
       "1          5.6       \n",
       "2          7.0       \n",
       "3          6.6       \n",
       "4          4.1       \n",
       "...             ...  \n",
       "3215           N.A.  \n",
       "3216           N.A.  \n",
       "3217           N.A.  \n",
       "3218           N.A.  \n",
       "3219            NaN  \n",
       "\n",
       "[3220 rows x 5 columns]"
      ]
     },
     "execution_count": 30,
     "metadata": {},
     "output_type": "execute_result"
    }
   ],
   "source": [
    "COUNTY_LABOR_CSV"
   ]
  },
  {
   "cell_type": "code",
   "execution_count": 31,
   "id": "de1a05d7",
   "metadata": {},
   "outputs": [],
   "source": [
    "merged_df = pd.merge(COUNTY_LABOR_CSV, COUNTY_DEMOGRACHICS_CSV, on=['county'])"
   ]
  },
  {
   "cell_type": "code",
   "execution_count": 32,
   "id": "e7c8b6a6",
   "metadata": {},
   "outputs": [
    {
     "data": {
      "text/plain": [
       "county              object\n",
       "labor_force         object\n",
       "employed            object\n",
       "unemployed          object\n",
       "unemployed_pct      object\n",
       "population           int64\n",
       "race_white           int64\n",
       "race_black           int64\n",
       "race_native          int64\n",
       "race_asian           int64\n",
       "race_islander        int64\n",
       "race_other           int64\n",
       "race_two_or_more     int64\n",
       "dtype: object"
      ]
     },
     "execution_count": 32,
     "metadata": {},
     "output_type": "execute_result"
    }
   ],
   "source": [
    "merged_df.dtypes"
   ]
  },
  {
   "cell_type": "code",
   "execution_count": 37,
   "id": "e937684f",
   "metadata": {},
   "outputs": [
    {
     "data": {
      "text/plain": [
       "(3256, 13)"
      ]
     },
     "execution_count": 37,
     "metadata": {},
     "output_type": "execute_result"
    }
   ],
   "source": [
    "merged_df.shape"
   ]
  },
  {
   "cell_type": "code",
   "execution_count": 51,
   "id": "4e0c7e08",
   "metadata": {},
   "outputs": [],
   "source": [
    "# Drop rows where labor_force is null\n",
    "merged_df = merged_df[pd.to_numeric(merged_df['labor_force'], errors='coerce').notnull()] "
   ]
  },
  {
   "cell_type": "code",
   "execution_count": 52,
   "id": "6159f085",
   "metadata": {},
   "outputs": [
    {
     "data": {
      "text/plain": [
       "(3194, 13)"
      ]
     },
     "execution_count": 52,
     "metadata": {},
     "output_type": "execute_result"
    }
   ],
   "source": [
    "merged_df.shape"
   ]
  },
  {
   "cell_type": "code",
   "execution_count": 53,
   "id": "eea9f2c7",
   "metadata": {},
   "outputs": [
    {
     "data": {
      "text/plain": [
       "(3127,)"
      ]
     },
     "execution_count": 53,
     "metadata": {},
     "output_type": "execute_result"
    }
   ],
   "source": [
    "merged_df['county'].unique().shape"
   ]
  },
  {
   "cell_type": "code",
   "execution_count": 54,
   "id": "77b274bb",
   "metadata": {},
   "outputs": [
    {
     "data": {
      "text/html": [
       "<div>\n",
       "<style scoped>\n",
       "    .dataframe tbody tr th:only-of-type {\n",
       "        vertical-align: middle;\n",
       "    }\n",
       "\n",
       "    .dataframe tbody tr th {\n",
       "        vertical-align: top;\n",
       "    }\n",
       "\n",
       "    .dataframe thead th {\n",
       "        text-align: right;\n",
       "    }\n",
       "</style>\n",
       "<table border=\"1\" class=\"dataframe\">\n",
       "  <thead>\n",
       "    <tr style=\"text-align: right;\">\n",
       "      <th></th>\n",
       "      <th>county</th>\n",
       "      <th>size</th>\n",
       "    </tr>\n",
       "  </thead>\n",
       "  <tbody>\n",
       "    <tr>\n",
       "      <th>0</th>\n",
       "      <td>Abbeville County, South Carolina</td>\n",
       "      <td>1</td>\n",
       "    </tr>\n",
       "    <tr>\n",
       "      <th>1</th>\n",
       "      <td>Acadia Parish, Louisiana</td>\n",
       "      <td>1</td>\n",
       "    </tr>\n",
       "    <tr>\n",
       "      <th>2</th>\n",
       "      <td>Accomack County, Virginia</td>\n",
       "      <td>1</td>\n",
       "    </tr>\n",
       "    <tr>\n",
       "      <th>3</th>\n",
       "      <td>Ada County, Idaho</td>\n",
       "      <td>1</td>\n",
       "    </tr>\n",
       "    <tr>\n",
       "      <th>4</th>\n",
       "      <td>Adair County, Iowa</td>\n",
       "      <td>1</td>\n",
       "    </tr>\n",
       "    <tr>\n",
       "      <th>...</th>\n",
       "      <td>...</td>\n",
       "      <td>...</td>\n",
       "    </tr>\n",
       "    <tr>\n",
       "      <th>3122</th>\n",
       "      <td>Yuma County, Arizona</td>\n",
       "      <td>1</td>\n",
       "    </tr>\n",
       "    <tr>\n",
       "      <th>3123</th>\n",
       "      <td>Yuma County, Colorado</td>\n",
       "      <td>1</td>\n",
       "    </tr>\n",
       "    <tr>\n",
       "      <th>3124</th>\n",
       "      <td>Zapata County, Texas</td>\n",
       "      <td>1</td>\n",
       "    </tr>\n",
       "    <tr>\n",
       "      <th>3125</th>\n",
       "      <td>Zavala County, Texas</td>\n",
       "      <td>1</td>\n",
       "    </tr>\n",
       "    <tr>\n",
       "      <th>3126</th>\n",
       "      <td>Ziebach County, South Dakota</td>\n",
       "      <td>1</td>\n",
       "    </tr>\n",
       "  </tbody>\n",
       "</table>\n",
       "<p>3127 rows × 2 columns</p>\n",
       "</div>"
      ],
      "text/plain": [
       "                                county  size\n",
       "0     Abbeville County, South Carolina     1\n",
       "1             Acadia Parish, Louisiana     1\n",
       "2            Accomack County, Virginia     1\n",
       "3                    Ada County, Idaho     1\n",
       "4                   Adair County, Iowa     1\n",
       "...                                ...   ...\n",
       "3122              Yuma County, Arizona     1\n",
       "3123             Yuma County, Colorado     1\n",
       "3124              Zapata County, Texas     1\n",
       "3125              Zavala County, Texas     1\n",
       "3126      Ziebach County, South Dakota     1\n",
       "\n",
       "[3127 rows x 2 columns]"
      ]
     },
     "execution_count": 54,
     "metadata": {},
     "output_type": "execute_result"
    }
   ],
   "source": [
    "merged_df.groupby(merged_df['county'],as_index=False).size()"
   ]
  },
  {
   "cell_type": "code",
   "execution_count": 59,
   "id": "fd52453f",
   "metadata": {},
   "outputs": [],
   "source": [
    "merged_df = merged_df.drop_duplicates()"
   ]
  },
  {
   "cell_type": "code",
   "execution_count": 60,
   "id": "8beb04b5",
   "metadata": {},
   "outputs": [],
   "source": [
    "# write to csv\n",
    "merged_df.to_csv('Employment_by_County.csv') "
   ]
  },
  {
   "cell_type": "code",
   "execution_count": null,
   "id": "1ec1ccaa",
   "metadata": {},
   "outputs": [],
   "source": []
  }
 ],
 "metadata": {
  "kernelspec": {
   "display_name": "Python 3",
   "language": "python",
   "name": "python3"
  },
  "language_info": {
   "codemirror_mode": {
    "name": "ipython",
    "version": 3
   },
   "file_extension": ".py",
   "mimetype": "text/x-python",
   "name": "python",
   "nbconvert_exporter": "python",
   "pygments_lexer": "ipython3",
   "version": "3.9.5"
  }
 },
 "nbformat": 4,
 "nbformat_minor": 5
}
