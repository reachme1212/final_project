{
 "cells": [
  {
   "cell_type": "code",
   "execution_count": 134,
   "id": "2aa3f4b0",
   "metadata": {},
   "outputs": [],
   "source": [
    "import pandas as pd\n",
    "import numpy as np\n",
    "from sklearn.preprocessing import MinMaxScaler, LabelEncoder\n",
    "from sklearn.linear_model import LinearRegression\n",
    "from sklearn.datasets import make_classification\n",
    "\n",
    "from sklearn.ensemble import RandomForestRegressor\n",
    "from sklearn.model_selection import train_test_split\n",
    "from sklearn.preprocessing import StandardScaler\n",
    "import pickle\n",
    "%matplotlib inline\n",
    "from matplotlib import pyplot as plt"
   ]
  },
  {
   "cell_type": "code",
   "execution_count": 135,
   "id": "82fb5546",
   "metadata": {
    "scrolled": true
   },
   "outputs": [
    {
     "data": {
      "text/html": [
       "<div>\n",
       "<style scoped>\n",
       "    .dataframe tbody tr th:only-of-type {\n",
       "        vertical-align: middle;\n",
       "    }\n",
       "\n",
       "    .dataframe tbody tr th {\n",
       "        vertical-align: top;\n",
       "    }\n",
       "\n",
       "    .dataframe thead th {\n",
       "        text-align: right;\n",
       "    }\n",
       "</style>\n",
       "<table border=\"1\" class=\"dataframe\">\n",
       "  <thead>\n",
       "    <tr style=\"text-align: right;\">\n",
       "      <th></th>\n",
       "      <th>county</th>\n",
       "      <th>labor_force</th>\n",
       "      <th>employed</th>\n",
       "      <th>unemployed</th>\n",
       "      <th>unemployed_pct</th>\n",
       "      <th>population</th>\n",
       "      <th>race_white</th>\n",
       "      <th>race_black</th>\n",
       "      <th>race_native</th>\n",
       "      <th>race_asian</th>\n",
       "      <th>race_islander</th>\n",
       "      <th>race_other</th>\n",
       "      <th>race_two_or_more</th>\n",
       "    </tr>\n",
       "    <tr>\n",
       "      <th>geoid</th>\n",
       "      <th></th>\n",
       "      <th></th>\n",
       "      <th></th>\n",
       "      <th></th>\n",
       "      <th></th>\n",
       "      <th></th>\n",
       "      <th></th>\n",
       "      <th></th>\n",
       "      <th></th>\n",
       "      <th></th>\n",
       "      <th></th>\n",
       "      <th></th>\n",
       "      <th></th>\n",
       "    </tr>\n",
       "  </thead>\n",
       "  <tbody>\n",
       "    <tr>\n",
       "      <th>1001</th>\n",
       "      <td>Autauga County, Alabama</td>\n",
       "      <td>25838</td>\n",
       "      <td>24576</td>\n",
       "      <td>1262</td>\n",
       "      <td>4.9</td>\n",
       "      <td>58805</td>\n",
       "      <td>42160</td>\n",
       "      <td>11445</td>\n",
       "      <td>217</td>\n",
       "      <td>881</td>\n",
       "      <td>35</td>\n",
       "      <td>910</td>\n",
       "      <td>3157</td>\n",
       "    </tr>\n",
       "    <tr>\n",
       "      <th>1003</th>\n",
       "      <td>Baldwin County, Alabama</td>\n",
       "      <td>96763</td>\n",
       "      <td>91338</td>\n",
       "      <td>5425</td>\n",
       "      <td>5.6</td>\n",
       "      <td>231767</td>\n",
       "      <td>189399</td>\n",
       "      <td>18217</td>\n",
       "      <td>1582</td>\n",
       "      <td>2067</td>\n",
       "      <td>143</td>\n",
       "      <td>5335</td>\n",
       "      <td>15024</td>\n",
       "    </tr>\n",
       "    <tr>\n",
       "      <th>1005</th>\n",
       "      <td>Barbour County, Alabama</td>\n",
       "      <td>8587</td>\n",
       "      <td>7982</td>\n",
       "      <td>605</td>\n",
       "      <td>7.0</td>\n",
       "      <td>25223</td>\n",
       "      <td>11317</td>\n",
       "      <td>11933</td>\n",
       "      <td>116</td>\n",
       "      <td>117</td>\n",
       "      <td>1</td>\n",
       "      <td>1039</td>\n",
       "      <td>700</td>\n",
       "    </tr>\n",
       "    <tr>\n",
       "      <th>1007</th>\n",
       "      <td>Bibb County, Alabama</td>\n",
       "      <td>8640</td>\n",
       "      <td>8067</td>\n",
       "      <td>573</td>\n",
       "      <td>6.6</td>\n",
       "      <td>22293</td>\n",
       "      <td>16555</td>\n",
       "      <td>4413</td>\n",
       "      <td>60</td>\n",
       "      <td>32</td>\n",
       "      <td>9</td>\n",
       "      <td>465</td>\n",
       "      <td>759</td>\n",
       "    </tr>\n",
       "    <tr>\n",
       "      <th>1009</th>\n",
       "      <td>Blount County, Alabama</td>\n",
       "      <td>24661</td>\n",
       "      <td>23653</td>\n",
       "      <td>1008</td>\n",
       "      <td>4.1</td>\n",
       "      <td>59134</td>\n",
       "      <td>50663</td>\n",
       "      <td>845</td>\n",
       "      <td>337</td>\n",
       "      <td>178</td>\n",
       "      <td>24</td>\n",
       "      <td>3431</td>\n",
       "      <td>3656</td>\n",
       "    </tr>\n",
       "  </tbody>\n",
       "</table>\n",
       "</div>"
      ],
      "text/plain": [
       "                        county  labor_force  employed  unemployed  \\\n",
       "geoid                                                               \n",
       "1001   Autauga County, Alabama        25838     24576        1262   \n",
       "1003   Baldwin County, Alabama        96763     91338        5425   \n",
       "1005   Barbour County, Alabama         8587      7982         605   \n",
       "1007      Bibb County, Alabama         8640      8067         573   \n",
       "1009    Blount County, Alabama        24661     23653        1008   \n",
       "\n",
       "       unemployed_pct  population  race_white  race_black  race_native  \\\n",
       "geoid                                                                    \n",
       "1001              4.9       58805       42160       11445          217   \n",
       "1003              5.6      231767      189399       18217         1582   \n",
       "1005              7.0       25223       11317       11933          116   \n",
       "1007              6.6       22293       16555        4413           60   \n",
       "1009              4.1       59134       50663         845          337   \n",
       "\n",
       "       race_asian  race_islander  race_other  race_two_or_more  \n",
       "geoid                                                           \n",
       "1001          881             35         910              3157  \n",
       "1003         2067            143        5335             15024  \n",
       "1005          117              1        1039               700  \n",
       "1007           32              9         465               759  \n",
       "1009          178             24        3431              3656  "
      ]
     },
     "execution_count": 135,
     "metadata": {},
     "output_type": "execute_result"
    }
   ],
   "source": [
    "employment_county_df  = pd.read_csv('../data_files/Employment_by_County.csv', index_col=0)\n",
    "employment_county_df.head(5)"
   ]
  },
  {
   "cell_type": "code",
   "execution_count": 136,
   "id": "8dc869b2",
   "metadata": {},
   "outputs": [],
   "source": [
    "employment_county_copy = employment_county_df.copy()"
   ]
  },
  {
   "cell_type": "code",
   "execution_count": 137,
   "id": "7b42ef24",
   "metadata": {
    "scrolled": true
   },
   "outputs": [
    {
     "data": {
      "text/html": [
       "<div>\n",
       "<style scoped>\n",
       "    .dataframe tbody tr th:only-of-type {\n",
       "        vertical-align: middle;\n",
       "    }\n",
       "\n",
       "    .dataframe tbody tr th {\n",
       "        vertical-align: top;\n",
       "    }\n",
       "\n",
       "    .dataframe thead th {\n",
       "        text-align: right;\n",
       "    }\n",
       "</style>\n",
       "<table border=\"1\" class=\"dataframe\">\n",
       "  <thead>\n",
       "    <tr style=\"text-align: right;\">\n",
       "      <th></th>\n",
       "      <th>county</th>\n",
       "      <th>labor_force</th>\n",
       "      <th>employed</th>\n",
       "      <th>unemployed</th>\n",
       "      <th>unemployed_pct</th>\n",
       "      <th>population</th>\n",
       "      <th>race_white</th>\n",
       "      <th>race_black</th>\n",
       "      <th>race_native</th>\n",
       "      <th>race_asian</th>\n",
       "      <th>race_islander</th>\n",
       "      <th>race_other</th>\n",
       "      <th>race_two_or_more</th>\n",
       "      <th>race_others</th>\n",
       "    </tr>\n",
       "    <tr>\n",
       "      <th>geoid</th>\n",
       "      <th></th>\n",
       "      <th></th>\n",
       "      <th></th>\n",
       "      <th></th>\n",
       "      <th></th>\n",
       "      <th></th>\n",
       "      <th></th>\n",
       "      <th></th>\n",
       "      <th></th>\n",
       "      <th></th>\n",
       "      <th></th>\n",
       "      <th></th>\n",
       "      <th></th>\n",
       "      <th></th>\n",
       "    </tr>\n",
       "  </thead>\n",
       "  <tbody>\n",
       "    <tr>\n",
       "      <th>1001</th>\n",
       "      <td>Autauga County, Alabama</td>\n",
       "      <td>25838</td>\n",
       "      <td>24576</td>\n",
       "      <td>1262</td>\n",
       "      <td>4.9</td>\n",
       "      <td>58805</td>\n",
       "      <td>42160</td>\n",
       "      <td>11445</td>\n",
       "      <td>217</td>\n",
       "      <td>881</td>\n",
       "      <td>35</td>\n",
       "      <td>910</td>\n",
       "      <td>3157</td>\n",
       "      <td>1162</td>\n",
       "    </tr>\n",
       "    <tr>\n",
       "      <th>1003</th>\n",
       "      <td>Baldwin County, Alabama</td>\n",
       "      <td>96763</td>\n",
       "      <td>91338</td>\n",
       "      <td>5425</td>\n",
       "      <td>5.6</td>\n",
       "      <td>231767</td>\n",
       "      <td>189399</td>\n",
       "      <td>18217</td>\n",
       "      <td>1582</td>\n",
       "      <td>2067</td>\n",
       "      <td>143</td>\n",
       "      <td>5335</td>\n",
       "      <td>15024</td>\n",
       "      <td>7060</td>\n",
       "    </tr>\n",
       "    <tr>\n",
       "      <th>1005</th>\n",
       "      <td>Barbour County, Alabama</td>\n",
       "      <td>8587</td>\n",
       "      <td>7982</td>\n",
       "      <td>605</td>\n",
       "      <td>7.0</td>\n",
       "      <td>25223</td>\n",
       "      <td>11317</td>\n",
       "      <td>11933</td>\n",
       "      <td>116</td>\n",
       "      <td>117</td>\n",
       "      <td>1</td>\n",
       "      <td>1039</td>\n",
       "      <td>700</td>\n",
       "      <td>1156</td>\n",
       "    </tr>\n",
       "    <tr>\n",
       "      <th>1007</th>\n",
       "      <td>Bibb County, Alabama</td>\n",
       "      <td>8640</td>\n",
       "      <td>8067</td>\n",
       "      <td>573</td>\n",
       "      <td>6.6</td>\n",
       "      <td>22293</td>\n",
       "      <td>16555</td>\n",
       "      <td>4413</td>\n",
       "      <td>60</td>\n",
       "      <td>32</td>\n",
       "      <td>9</td>\n",
       "      <td>465</td>\n",
       "      <td>759</td>\n",
       "      <td>534</td>\n",
       "    </tr>\n",
       "    <tr>\n",
       "      <th>1009</th>\n",
       "      <td>Blount County, Alabama</td>\n",
       "      <td>24661</td>\n",
       "      <td>23653</td>\n",
       "      <td>1008</td>\n",
       "      <td>4.1</td>\n",
       "      <td>59134</td>\n",
       "      <td>50663</td>\n",
       "      <td>845</td>\n",
       "      <td>337</td>\n",
       "      <td>178</td>\n",
       "      <td>24</td>\n",
       "      <td>3431</td>\n",
       "      <td>3656</td>\n",
       "      <td>3792</td>\n",
       "    </tr>\n",
       "  </tbody>\n",
       "</table>\n",
       "</div>"
      ],
      "text/plain": [
       "                        county  labor_force  employed  unemployed  \\\n",
       "geoid                                                               \n",
       "1001   Autauga County, Alabama        25838     24576        1262   \n",
       "1003   Baldwin County, Alabama        96763     91338        5425   \n",
       "1005   Barbour County, Alabama         8587      7982         605   \n",
       "1007      Bibb County, Alabama         8640      8067         573   \n",
       "1009    Blount County, Alabama        24661     23653        1008   \n",
       "\n",
       "       unemployed_pct  population  race_white  race_black  race_native  \\\n",
       "geoid                                                                    \n",
       "1001              4.9       58805       42160       11445          217   \n",
       "1003              5.6      231767      189399       18217         1582   \n",
       "1005              7.0       25223       11317       11933          116   \n",
       "1007              6.6       22293       16555        4413           60   \n",
       "1009              4.1       59134       50663         845          337   \n",
       "\n",
       "       race_asian  race_islander  race_other  race_two_or_more  race_others  \n",
       "geoid                                                                        \n",
       "1001          881             35         910              3157         1162  \n",
       "1003         2067            143        5335             15024         7060  \n",
       "1005          117              1        1039               700         1156  \n",
       "1007           32              9         465               759          534  \n",
       "1009          178             24        3431              3656         3792  "
      ]
     },
     "execution_count": 137,
     "metadata": {},
     "output_type": "execute_result"
    }
   ],
   "source": [
    "employment_county_copy['race_others']= employment_county_copy[['race_native','race_islander','race_other']].sum(axis=1)\n",
    "employment_county_copy.head(5)"
   ]
  },
  {
   "cell_type": "code",
   "execution_count": 138,
   "id": "8820a696",
   "metadata": {},
   "outputs": [],
   "source": [
    "# reducing columns to improve model performance \n",
    "employment_county_copy = employment_county_copy.drop(['race_native','race_islander','race_other'],axis=1)"
   ]
  },
  {
   "cell_type": "code",
   "execution_count": 139,
   "id": "be91c668",
   "metadata": {},
   "outputs": [
    {
     "data": {
      "text/plain": [
       "False"
      ]
     },
     "execution_count": 139,
     "metadata": {},
     "output_type": "execute_result"
    }
   ],
   "source": [
    "employment_county_copy.isnull().values.any()"
   ]
  },
  {
   "cell_type": "code",
   "execution_count": 140,
   "id": "647defb9",
   "metadata": {},
   "outputs": [
    {
     "data": {
      "text/plain": [
       "(3125, 11)"
      ]
     },
     "execution_count": 140,
     "metadata": {},
     "output_type": "execute_result"
    }
   ],
   "source": [
    "employment_county_copy.shape"
   ]
  },
  {
   "cell_type": "code",
   "execution_count": 141,
   "id": "698dc8a8",
   "metadata": {},
   "outputs": [
    {
     "data": {
      "text/plain": [
       "['county',\n",
       " 'labor_force',\n",
       " 'employed',\n",
       " 'unemployed',\n",
       " 'unemployed_pct',\n",
       " 'population',\n",
       " 'race_white',\n",
       " 'race_black',\n",
       " 'race_asian',\n",
       " 'race_two_or_more',\n",
       " 'race_others']"
      ]
     },
     "execution_count": 141,
     "metadata": {},
     "output_type": "execute_result"
    }
   ],
   "source": [
    "employment_county_copy.columns.to_list()"
   ]
  },
  {
   "cell_type": "code",
   "execution_count": 142,
   "id": "0dc4b394",
   "metadata": {
    "scrolled": true
   },
   "outputs": [
    {
     "name": "stdout",
     "output_type": "stream",
     "text": [
      "<class 'pandas.core.frame.DataFrame'>\n",
      "Int64Index: 3125 entries, 1001 to 56045\n",
      "Data columns (total 11 columns):\n",
      " #   Column            Non-Null Count  Dtype  \n",
      "---  ------            --------------  -----  \n",
      " 0   county            3125 non-null   object \n",
      " 1   labor_force       3125 non-null   int64  \n",
      " 2   employed          3125 non-null   int64  \n",
      " 3   unemployed        3125 non-null   int64  \n",
      " 4   unemployed_pct    3125 non-null   float64\n",
      " 5   population        3125 non-null   int64  \n",
      " 6   race_white        3125 non-null   int64  \n",
      " 7   race_black        3125 non-null   int64  \n",
      " 8   race_asian        3125 non-null   int64  \n",
      " 9   race_two_or_more  3125 non-null   int64  \n",
      " 10  race_others       3125 non-null   int64  \n",
      "dtypes: float64(1), int64(9), object(1)\n",
      "memory usage: 293.0+ KB\n"
     ]
    }
   ],
   "source": [
    "employment_county_copy.info()"
   ]
  },
  {
   "cell_type": "code",
   "execution_count": 143,
   "id": "43dd0f51",
   "metadata": {},
   "outputs": [],
   "source": [
    "X = employment_county_copy[['race_white', 'race_black', 'race_asian', 'race_two_or_more', 'race_others']]\n",
    "y = employment_county_copy['labor_force'] "
   ]
  },
  {
   "cell_type": "code",
   "execution_count": 144,
   "id": "fa19d77f",
   "metadata": {},
   "outputs": [],
   "source": [
    "X_train, X_test, y_train, y_test = train_test_split(X, y,test_size=0.20, random_state=0)"
   ]
  },
  {
   "cell_type": "code",
   "execution_count": 145,
   "id": "90c764ef",
   "metadata": {},
   "outputs": [
    {
     "data": {
      "text/plain": [
       "RandomForestRegressor(n_estimators=10, random_state=0)"
      ]
     },
     "execution_count": 145,
     "metadata": {},
     "output_type": "execute_result"
    }
   ],
   "source": [
    "model = RandomForestRegressor(n_estimators=10,random_state=0)\n",
    "model.fit(X_train,y_train)"
   ]
  },
  {
   "cell_type": "code",
   "execution_count": 146,
   "id": "b8cddb2e",
   "metadata": {},
   "outputs": [],
   "source": [
    "y_pred = model.predict(X_test)"
   ]
  },
  {
   "cell_type": "code",
   "execution_count": 147,
   "id": "a08d495f",
   "metadata": {},
   "outputs": [
    {
     "data": {
      "text/plain": [
       "0.9808327818575827"
      ]
     },
     "execution_count": 147,
     "metadata": {},
     "output_type": "execute_result"
    }
   ],
   "source": [
    "from sklearn.metrics import r2_score\n",
    "r2_score(y_test,y_pred)"
   ]
  },
  {
   "cell_type": "code",
   "execution_count": 148,
   "id": "c0dd0607",
   "metadata": {},
   "outputs": [
    {
     "data": {
      "text/plain": [
       "0.9756797782440916"
      ]
     },
     "execution_count": 148,
     "metadata": {},
     "output_type": "execute_result"
    }
   ],
   "source": [
    "model.score(X_train,y_train)"
   ]
  },
  {
   "cell_type": "code",
   "execution_count": 149,
   "id": "f3c41cae",
   "metadata": {
    "scrolled": true
   },
   "outputs": [
    {
     "data": {
      "text/plain": [
       "0.9808327818575827"
      ]
     },
     "execution_count": 149,
     "metadata": {},
     "output_type": "execute_result"
    }
   ],
   "source": [
    "model.score(X_test,y_test)"
   ]
  },
  {
   "cell_type": "code",
   "execution_count": 150,
   "id": "6d0d0119",
   "metadata": {
    "scrolled": false
   },
   "outputs": [
    {
     "data": {
      "text/plain": [
       "4423.9664"
      ]
     },
     "execution_count": 150,
     "metadata": {},
     "output_type": "execute_result"
    }
   ],
   "source": [
    "from sklearn.metrics import mean_absolute_error\n",
    "mae = mean_absolute_error(y_test, y_pred)\n",
    "mae"
   ]
  },
  {
   "cell_type": "markdown",
   "id": "0599c149",
   "metadata": {},
   "source": [
    "## Feature importance"
   ]
  },
  {
   "cell_type": "code",
   "execution_count": 151,
   "id": "fc60e42d",
   "metadata": {},
   "outputs": [
    {
     "data": {
      "text/plain": [
       "[(0.5845257307770042, 'race_white'),\n",
       " (0.20918184329404005, 'race_two_or_more'),\n",
       " (0.10531549717435326, 'race_asian'),\n",
       " (0.06333469709843384, 'race_black'),\n",
       " (0.03764223165616864, 'race_others')]"
      ]
     },
     "execution_count": 151,
     "metadata": {},
     "output_type": "execute_result"
    }
   ],
   "source": [
    "sorted(zip(model.feature_importances_, X.columns), reverse=True)"
   ]
  },
  {
   "cell_type": "markdown",
   "id": "dc15288f",
   "metadata": {},
   "source": [
    "### MAE seem a bit high, but consider the min max range"
   ]
  },
  {
   "cell_type": "code",
   "execution_count": 152,
   "id": "8d86e7e8",
   "metadata": {},
   "outputs": [
    {
     "name": "stdout",
     "output_type": "stream",
     "text": [
      "min =  184\n",
      "max =  4921499\n"
     ]
    }
   ],
   "source": [
    "max_labor_force = employment_county_df['labor_force'].max()\n",
    "min_labor_force = employment_county_df['labor_force'].min()\n",
    "print ('min = ', min_labor_force)\n",
    "print('max = ', max_labor_force)"
   ]
  },
  {
   "cell_type": "code",
   "execution_count": 153,
   "id": "78e8e83b",
   "metadata": {
    "scrolled": true
   },
   "outputs": [
    {
     "name": "stdout",
     "output_type": "stream",
     "text": [
      "Actual:\t\t[5008, 3075, 28305, 27311, 9649, 20710, 15909, 136480, 5561, 13659]\n",
      "Predicted:\t[5178.6, 3277.1, 28422.4, 25899.3, 9625.8, 21722.4, 18502.6, 133694.6, 5313.1, 12604.8]\n"
     ]
    }
   ],
   "source": [
    "print(f'Actual:\\t\\t{list(y_test[:10])}')\n",
    "print(f'Predicted:\\t{list(model.predict(X_test[:10]))}')"
   ]
  },
  {
   "cell_type": "code",
   "execution_count": 154,
   "id": "201ff236",
   "metadata": {},
   "outputs": [],
   "source": [
    "filename = '../Flask_presentation/static/model/finalized_model.sav'\n",
    "pickle.dump(model, open(filename, 'wb'))"
   ]
  },
  {
   "cell_type": "code",
   "execution_count": null,
   "id": "2d6f516d",
   "metadata": {},
   "outputs": [],
   "source": []
  }
 ],
 "metadata": {
  "kernelspec": {
   "display_name": "Python 3",
   "language": "python",
   "name": "python3"
  },
  "language_info": {
   "codemirror_mode": {
    "name": "ipython",
    "version": 3
   },
   "file_extension": ".py",
   "mimetype": "text/x-python",
   "name": "python",
   "nbconvert_exporter": "python",
   "pygments_lexer": "ipython3",
   "version": "3.9.5"
  }
 },
 "nbformat": 4,
 "nbformat_minor": 5
}
