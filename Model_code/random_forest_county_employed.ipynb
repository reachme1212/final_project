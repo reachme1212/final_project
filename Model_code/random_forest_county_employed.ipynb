{
 "cells": [
  {
   "cell_type": "code",
   "execution_count": 1,
   "id": "2aa3f4b0",
   "metadata": {},
   "outputs": [],
   "source": [
    "import pandas as pd\n",
    "import numpy as np\n",
    "from sklearn.preprocessing import MinMaxScaler, LabelEncoder\n",
    "from sklearn.linear_model import LinearRegression\n",
    "from sklearn.datasets import make_classification\n",
    "\n",
    "from sklearn.ensemble import RandomForestRegressor\n",
    "from sklearn.model_selection import train_test_split\n",
    "from sklearn.preprocessing import StandardScaler\n",
    "\n",
    "%matplotlib inline\n",
    "from matplotlib import pyplot as plt"
   ]
  },
  {
   "cell_type": "markdown",
   "id": "e90ffc15",
   "metadata": {},
   "source": [
    "# Datasource: US Census.gov\n",
    "\n",
    "### - Employment data by County\n",
    "#### -- county (county/state)\n",
    "#### -- labor_force\n",
    "#### -- employed\n",
    "#### -- unemployed_pct\n",
    "\n",
    "### - Demographic population and race data by County\n",
    "\n",
    "#### -- county (county/state)\n",
    "#### -- population\n",
    "#### -- race_white\n",
    "#### -- race_black\n",
    "#### -- race_native\n",
    "#### -- race_asian\n",
    "#### -- race_islander\n",
    "#### -- race_other\n",
    "#### -- race_two_or_more\n",
    "\n",
    "---\n",
    "\n",
    "# This model uses these X columns:\n",
    "---\n",
    "#### - race_white\n",
    "#### - race_black\n",
    "#### - race_asian\n",
    "#### - race_other (combined race_other, race_islander, race_native)\n",
    "#### - race_two_or_more\n",
    "\n",
    "---\n",
    "\n",
    "## To Predict one of these Y column:\n",
    "\n",
    "# labor_force\n",
    "# employed\n",
    "# unemployed\n",
    "\n",
    "---\n",
    "\n",
    "There are sample tests way at the bottom that simulates simulate the response the user would get if we were to provide them with a form for them to enter in values and hit submit. \n",
    "\n",
    "The tests below shows you the \"change\" in labor_force.\n",
    "\n",
    "\n",
    "---"
   ]
  },
  {
   "cell_type": "code",
   "execution_count": 2,
   "id": "82fb5546",
   "metadata": {
    "scrolled": true
   },
   "outputs": [
    {
     "data": {
      "text/html": [
       "<div>\n",
       "<style scoped>\n",
       "    .dataframe tbody tr th:only-of-type {\n",
       "        vertical-align: middle;\n",
       "    }\n",
       "\n",
       "    .dataframe tbody tr th {\n",
       "        vertical-align: top;\n",
       "    }\n",
       "\n",
       "    .dataframe thead th {\n",
       "        text-align: right;\n",
       "    }\n",
       "</style>\n",
       "<table border=\"1\" class=\"dataframe\">\n",
       "  <thead>\n",
       "    <tr style=\"text-align: right;\">\n",
       "      <th></th>\n",
       "      <th>county</th>\n",
       "      <th>labor_force</th>\n",
       "      <th>employed</th>\n",
       "      <th>unemployed</th>\n",
       "      <th>unemployed_pct</th>\n",
       "      <th>population</th>\n",
       "      <th>race_white</th>\n",
       "      <th>race_black</th>\n",
       "      <th>race_native</th>\n",
       "      <th>race_asian</th>\n",
       "      <th>race_islander</th>\n",
       "      <th>race_other</th>\n",
       "      <th>race_two_or_more</th>\n",
       "    </tr>\n",
       "    <tr>\n",
       "      <th>geoid</th>\n",
       "      <th></th>\n",
       "      <th></th>\n",
       "      <th></th>\n",
       "      <th></th>\n",
       "      <th></th>\n",
       "      <th></th>\n",
       "      <th></th>\n",
       "      <th></th>\n",
       "      <th></th>\n",
       "      <th></th>\n",
       "      <th></th>\n",
       "      <th></th>\n",
       "      <th></th>\n",
       "    </tr>\n",
       "  </thead>\n",
       "  <tbody>\n",
       "    <tr>\n",
       "      <th>1001</th>\n",
       "      <td>Autauga County, Alabama</td>\n",
       "      <td>25838</td>\n",
       "      <td>24576</td>\n",
       "      <td>1262</td>\n",
       "      <td>4.9</td>\n",
       "      <td>58805</td>\n",
       "      <td>42160</td>\n",
       "      <td>11445</td>\n",
       "      <td>217</td>\n",
       "      <td>881</td>\n",
       "      <td>35</td>\n",
       "      <td>910</td>\n",
       "      <td>3157</td>\n",
       "    </tr>\n",
       "    <tr>\n",
       "      <th>1003</th>\n",
       "      <td>Baldwin County, Alabama</td>\n",
       "      <td>96763</td>\n",
       "      <td>91338</td>\n",
       "      <td>5425</td>\n",
       "      <td>5.6</td>\n",
       "      <td>231767</td>\n",
       "      <td>189399</td>\n",
       "      <td>18217</td>\n",
       "      <td>1582</td>\n",
       "      <td>2067</td>\n",
       "      <td>143</td>\n",
       "      <td>5335</td>\n",
       "      <td>15024</td>\n",
       "    </tr>\n",
       "    <tr>\n",
       "      <th>1005</th>\n",
       "      <td>Barbour County, Alabama</td>\n",
       "      <td>8587</td>\n",
       "      <td>7982</td>\n",
       "      <td>605</td>\n",
       "      <td>7.0</td>\n",
       "      <td>25223</td>\n",
       "      <td>11317</td>\n",
       "      <td>11933</td>\n",
       "      <td>116</td>\n",
       "      <td>117</td>\n",
       "      <td>1</td>\n",
       "      <td>1039</td>\n",
       "      <td>700</td>\n",
       "    </tr>\n",
       "    <tr>\n",
       "      <th>1007</th>\n",
       "      <td>Bibb County, Alabama</td>\n",
       "      <td>8640</td>\n",
       "      <td>8067</td>\n",
       "      <td>573</td>\n",
       "      <td>6.6</td>\n",
       "      <td>22293</td>\n",
       "      <td>16555</td>\n",
       "      <td>4413</td>\n",
       "      <td>60</td>\n",
       "      <td>32</td>\n",
       "      <td>9</td>\n",
       "      <td>465</td>\n",
       "      <td>759</td>\n",
       "    </tr>\n",
       "    <tr>\n",
       "      <th>1009</th>\n",
       "      <td>Blount County, Alabama</td>\n",
       "      <td>24661</td>\n",
       "      <td>23653</td>\n",
       "      <td>1008</td>\n",
       "      <td>4.1</td>\n",
       "      <td>59134</td>\n",
       "      <td>50663</td>\n",
       "      <td>845</td>\n",
       "      <td>337</td>\n",
       "      <td>178</td>\n",
       "      <td>24</td>\n",
       "      <td>3431</td>\n",
       "      <td>3656</td>\n",
       "    </tr>\n",
       "  </tbody>\n",
       "</table>\n",
       "</div>"
      ],
      "text/plain": [
       "                        county  labor_force  employed  unemployed  \\\n",
       "geoid                                                               \n",
       "1001   Autauga County, Alabama        25838     24576        1262   \n",
       "1003   Baldwin County, Alabama        96763     91338        5425   \n",
       "1005   Barbour County, Alabama         8587      7982         605   \n",
       "1007      Bibb County, Alabama         8640      8067         573   \n",
       "1009    Blount County, Alabama        24661     23653        1008   \n",
       "\n",
       "       unemployed_pct  population  race_white  race_black  race_native  \\\n",
       "geoid                                                                    \n",
       "1001              4.9       58805       42160       11445          217   \n",
       "1003              5.6      231767      189399       18217         1582   \n",
       "1005              7.0       25223       11317       11933          116   \n",
       "1007              6.6       22293       16555        4413           60   \n",
       "1009              4.1       59134       50663         845          337   \n",
       "\n",
       "       race_asian  race_islander  race_other  race_two_or_more  \n",
       "geoid                                                           \n",
       "1001          881             35         910              3157  \n",
       "1003         2067            143        5335             15024  \n",
       "1005          117              1        1039               700  \n",
       "1007           32              9         465               759  \n",
       "1009          178             24        3431              3656  "
      ]
     },
     "execution_count": 2,
     "metadata": {},
     "output_type": "execute_result"
    }
   ],
   "source": [
    "employment_county_df  = pd.read_csv('../data_files/Employment_by_County.csv', index_col=0)\n",
    "employment_county_df.head(5)"
   ]
  },
  {
   "cell_type": "markdown",
   "id": "d70c8292",
   "metadata": {},
   "source": [
    "# Copy of the dataframe to feed ML \n",
    "\n"
   ]
  },
  {
   "cell_type": "code",
   "execution_count": 3,
   "id": "8dc869b2",
   "metadata": {},
   "outputs": [],
   "source": [
    "employment_county_copy = employment_county_df.copy()"
   ]
  },
  {
   "cell_type": "code",
   "execution_count": 4,
   "id": "9757c1f1",
   "metadata": {},
   "outputs": [
    {
     "data": {
      "text/plain": [
       "['county',\n",
       " 'labor_force',\n",
       " 'employed',\n",
       " 'unemployed',\n",
       " 'unemployed_pct',\n",
       " 'population',\n",
       " 'race_white',\n",
       " 'race_black',\n",
       " 'race_native',\n",
       " 'race_asian',\n",
       " 'race_islander',\n",
       " 'race_other',\n",
       " 'race_two_or_more']"
      ]
     },
     "execution_count": 4,
     "metadata": {},
     "output_type": "execute_result"
    }
   ],
   "source": [
    "employment_county_copy.columns.to_list()"
   ]
  },
  {
   "cell_type": "code",
   "execution_count": 5,
   "id": "c07325d2",
   "metadata": {},
   "outputs": [
    {
     "name": "stdout",
     "output_type": "stream",
     "text": [
      "<class 'pandas.core.frame.DataFrame'>\n",
      "Int64Index: 3125 entries, 1001 to 56045\n",
      "Data columns (total 13 columns):\n",
      " #   Column            Non-Null Count  Dtype  \n",
      "---  ------            --------------  -----  \n",
      " 0   county            3125 non-null   object \n",
      " 1   labor_force       3125 non-null   int64  \n",
      " 2   employed          3125 non-null   int64  \n",
      " 3   unemployed        3125 non-null   int64  \n",
      " 4   unemployed_pct    3125 non-null   float64\n",
      " 5   population        3125 non-null   int64  \n",
      " 6   race_white        3125 non-null   int64  \n",
      " 7   race_black        3125 non-null   int64  \n",
      " 8   race_native       3125 non-null   int64  \n",
      " 9   race_asian        3125 non-null   int64  \n",
      " 10  race_islander     3125 non-null   int64  \n",
      " 11  race_other        3125 non-null   int64  \n",
      " 12  race_two_or_more  3125 non-null   int64  \n",
      "dtypes: float64(1), int64(11), object(1)\n",
      "memory usage: 341.8+ KB\n"
     ]
    }
   ],
   "source": [
    "employment_county_copy.info()"
   ]
  },
  {
   "cell_type": "code",
   "execution_count": 6,
   "id": "7b42ef24",
   "metadata": {
    "scrolled": true
   },
   "outputs": [
    {
     "data": {
      "text/html": [
       "<div>\n",
       "<style scoped>\n",
       "    .dataframe tbody tr th:only-of-type {\n",
       "        vertical-align: middle;\n",
       "    }\n",
       "\n",
       "    .dataframe tbody tr th {\n",
       "        vertical-align: top;\n",
       "    }\n",
       "\n",
       "    .dataframe thead th {\n",
       "        text-align: right;\n",
       "    }\n",
       "</style>\n",
       "<table border=\"1\" class=\"dataframe\">\n",
       "  <thead>\n",
       "    <tr style=\"text-align: right;\">\n",
       "      <th></th>\n",
       "      <th>county</th>\n",
       "      <th>labor_force</th>\n",
       "      <th>employed</th>\n",
       "      <th>unemployed</th>\n",
       "      <th>unemployed_pct</th>\n",
       "      <th>population</th>\n",
       "      <th>race_white</th>\n",
       "      <th>race_black</th>\n",
       "      <th>race_native</th>\n",
       "      <th>race_asian</th>\n",
       "      <th>race_islander</th>\n",
       "      <th>race_other</th>\n",
       "      <th>race_two_or_more</th>\n",
       "      <th>race_others</th>\n",
       "    </tr>\n",
       "    <tr>\n",
       "      <th>geoid</th>\n",
       "      <th></th>\n",
       "      <th></th>\n",
       "      <th></th>\n",
       "      <th></th>\n",
       "      <th></th>\n",
       "      <th></th>\n",
       "      <th></th>\n",
       "      <th></th>\n",
       "      <th></th>\n",
       "      <th></th>\n",
       "      <th></th>\n",
       "      <th></th>\n",
       "      <th></th>\n",
       "      <th></th>\n",
       "    </tr>\n",
       "  </thead>\n",
       "  <tbody>\n",
       "    <tr>\n",
       "      <th>1001</th>\n",
       "      <td>Autauga County, Alabama</td>\n",
       "      <td>25838</td>\n",
       "      <td>24576</td>\n",
       "      <td>1262</td>\n",
       "      <td>4.9</td>\n",
       "      <td>58805</td>\n",
       "      <td>42160</td>\n",
       "      <td>11445</td>\n",
       "      <td>217</td>\n",
       "      <td>881</td>\n",
       "      <td>35</td>\n",
       "      <td>910</td>\n",
       "      <td>3157</td>\n",
       "      <td>1162</td>\n",
       "    </tr>\n",
       "    <tr>\n",
       "      <th>1003</th>\n",
       "      <td>Baldwin County, Alabama</td>\n",
       "      <td>96763</td>\n",
       "      <td>91338</td>\n",
       "      <td>5425</td>\n",
       "      <td>5.6</td>\n",
       "      <td>231767</td>\n",
       "      <td>189399</td>\n",
       "      <td>18217</td>\n",
       "      <td>1582</td>\n",
       "      <td>2067</td>\n",
       "      <td>143</td>\n",
       "      <td>5335</td>\n",
       "      <td>15024</td>\n",
       "      <td>7060</td>\n",
       "    </tr>\n",
       "    <tr>\n",
       "      <th>1005</th>\n",
       "      <td>Barbour County, Alabama</td>\n",
       "      <td>8587</td>\n",
       "      <td>7982</td>\n",
       "      <td>605</td>\n",
       "      <td>7.0</td>\n",
       "      <td>25223</td>\n",
       "      <td>11317</td>\n",
       "      <td>11933</td>\n",
       "      <td>116</td>\n",
       "      <td>117</td>\n",
       "      <td>1</td>\n",
       "      <td>1039</td>\n",
       "      <td>700</td>\n",
       "      <td>1156</td>\n",
       "    </tr>\n",
       "    <tr>\n",
       "      <th>1007</th>\n",
       "      <td>Bibb County, Alabama</td>\n",
       "      <td>8640</td>\n",
       "      <td>8067</td>\n",
       "      <td>573</td>\n",
       "      <td>6.6</td>\n",
       "      <td>22293</td>\n",
       "      <td>16555</td>\n",
       "      <td>4413</td>\n",
       "      <td>60</td>\n",
       "      <td>32</td>\n",
       "      <td>9</td>\n",
       "      <td>465</td>\n",
       "      <td>759</td>\n",
       "      <td>534</td>\n",
       "    </tr>\n",
       "    <tr>\n",
       "      <th>1009</th>\n",
       "      <td>Blount County, Alabama</td>\n",
       "      <td>24661</td>\n",
       "      <td>23653</td>\n",
       "      <td>1008</td>\n",
       "      <td>4.1</td>\n",
       "      <td>59134</td>\n",
       "      <td>50663</td>\n",
       "      <td>845</td>\n",
       "      <td>337</td>\n",
       "      <td>178</td>\n",
       "      <td>24</td>\n",
       "      <td>3431</td>\n",
       "      <td>3656</td>\n",
       "      <td>3792</td>\n",
       "    </tr>\n",
       "  </tbody>\n",
       "</table>\n",
       "</div>"
      ],
      "text/plain": [
       "                        county  labor_force  employed  unemployed  \\\n",
       "geoid                                                               \n",
       "1001   Autauga County, Alabama        25838     24576        1262   \n",
       "1003   Baldwin County, Alabama        96763     91338        5425   \n",
       "1005   Barbour County, Alabama         8587      7982         605   \n",
       "1007      Bibb County, Alabama         8640      8067         573   \n",
       "1009    Blount County, Alabama        24661     23653        1008   \n",
       "\n",
       "       unemployed_pct  population  race_white  race_black  race_native  \\\n",
       "geoid                                                                    \n",
       "1001              4.9       58805       42160       11445          217   \n",
       "1003              5.6      231767      189399       18217         1582   \n",
       "1005              7.0       25223       11317       11933          116   \n",
       "1007              6.6       22293       16555        4413           60   \n",
       "1009              4.1       59134       50663         845          337   \n",
       "\n",
       "       race_asian  race_islander  race_other  race_two_or_more  race_others  \n",
       "geoid                                                                        \n",
       "1001          881             35         910              3157         1162  \n",
       "1003         2067            143        5335             15024         7060  \n",
       "1005          117              1        1039               700         1156  \n",
       "1007           32              9         465               759          534  \n",
       "1009          178             24        3431              3656         3792  "
      ]
     },
     "execution_count": 6,
     "metadata": {},
     "output_type": "execute_result"
    }
   ],
   "source": [
    "employment_county_copy['race_others']= employment_county_copy[['race_native','race_islander','race_other']].sum(axis=1)\n",
    "employment_county_copy.head(5)"
   ]
  },
  {
   "cell_type": "code",
   "execution_count": 7,
   "id": "8820a696",
   "metadata": {},
   "outputs": [],
   "source": [
    "# reducing columns to improve model performance \n",
    "employment_county_copy = employment_county_copy.drop(['race_native','race_islander','race_other'],axis=1)"
   ]
  },
  {
   "cell_type": "code",
   "execution_count": 8,
   "id": "be91c668",
   "metadata": {},
   "outputs": [
    {
     "data": {
      "text/plain": [
       "False"
      ]
     },
     "execution_count": 8,
     "metadata": {},
     "output_type": "execute_result"
    }
   ],
   "source": [
    "employment_county_copy.isnull().values.any()"
   ]
  },
  {
   "cell_type": "code",
   "execution_count": 9,
   "id": "647defb9",
   "metadata": {},
   "outputs": [
    {
     "data": {
      "text/plain": [
       "(3125, 11)"
      ]
     },
     "execution_count": 9,
     "metadata": {},
     "output_type": "execute_result"
    }
   ],
   "source": [
    "employment_county_copy.shape"
   ]
  },
  {
   "cell_type": "code",
   "execution_count": 10,
   "id": "698dc8a8",
   "metadata": {},
   "outputs": [
    {
     "data": {
      "text/plain": [
       "['county',\n",
       " 'labor_force',\n",
       " 'employed',\n",
       " 'unemployed',\n",
       " 'unemployed_pct',\n",
       " 'population',\n",
       " 'race_white',\n",
       " 'race_black',\n",
       " 'race_asian',\n",
       " 'race_two_or_more',\n",
       " 'race_others']"
      ]
     },
     "execution_count": 10,
     "metadata": {},
     "output_type": "execute_result"
    }
   ],
   "source": [
    "employment_county_copy.columns.to_list()"
   ]
  },
  {
   "cell_type": "code",
   "execution_count": 11,
   "id": "0dc4b394",
   "metadata": {
    "scrolled": true
   },
   "outputs": [
    {
     "name": "stdout",
     "output_type": "stream",
     "text": [
      "<class 'pandas.core.frame.DataFrame'>\n",
      "Int64Index: 3125 entries, 1001 to 56045\n",
      "Data columns (total 11 columns):\n",
      " #   Column            Non-Null Count  Dtype  \n",
      "---  ------            --------------  -----  \n",
      " 0   county            3125 non-null   object \n",
      " 1   labor_force       3125 non-null   int64  \n",
      " 2   employed          3125 non-null   int64  \n",
      " 3   unemployed        3125 non-null   int64  \n",
      " 4   unemployed_pct    3125 non-null   float64\n",
      " 5   population        3125 non-null   int64  \n",
      " 6   race_white        3125 non-null   int64  \n",
      " 7   race_black        3125 non-null   int64  \n",
      " 8   race_asian        3125 non-null   int64  \n",
      " 9   race_two_or_more  3125 non-null   int64  \n",
      " 10  race_others       3125 non-null   int64  \n",
      "dtypes: float64(1), int64(9), object(1)\n",
      "memory usage: 293.0+ KB\n"
     ]
    }
   ],
   "source": [
    "employment_county_copy.info()"
   ]
  },
  {
   "cell_type": "markdown",
   "id": "f0887277",
   "metadata": {},
   "source": [
    "# Targeting \"labor_force\" but we can target any of the employment columns\n",
    "\n",
    "- labor_force\n",
    "- employed\n",
    "- unemployed_pct"
   ]
  },
  {
   "cell_type": "code",
   "execution_count": 12,
   "id": "43dd0f51",
   "metadata": {},
   "outputs": [],
   "source": [
    "X = employment_county_copy[['race_white', 'race_black', 'race_asian', 'race_two_or_more', 'race_others']]\n",
    "y = employment_county_copy['employed'] "
   ]
  },
  {
   "cell_type": "code",
   "execution_count": 13,
   "id": "fa19d77f",
   "metadata": {},
   "outputs": [],
   "source": [
    "X_train, X_test, y_train, y_test = train_test_split(X, y,test_size=0.20, random_state=0)"
   ]
  },
  {
   "cell_type": "code",
   "execution_count": 16,
   "id": "e4e7e79a",
   "metadata": {},
   "outputs": [
    {
     "data": {
      "text/plain": [
       "RandomForestRegressor(n_estimators=10, random_state=0)"
      ]
     },
     "execution_count": 16,
     "metadata": {},
     "output_type": "execute_result"
    }
   ],
   "source": [
    "regressor = RandomForestRegressor(n_estimators=10,random_state=0)\n",
    "regressor.fit(X_train,y_train)"
   ]
  },
  {
   "cell_type": "code",
   "execution_count": 17,
   "id": "b8cddb2e",
   "metadata": {},
   "outputs": [],
   "source": [
    "y_pred = regressor.predict(X_test)"
   ]
  },
  {
   "cell_type": "code",
   "execution_count": 18,
   "id": "a08d495f",
   "metadata": {},
   "outputs": [
    {
     "data": {
      "text/plain": [
       "0.9769284289216615"
      ]
     },
     "execution_count": 18,
     "metadata": {},
     "output_type": "execute_result"
    }
   ],
   "source": [
    "from sklearn.metrics import r2_score\n",
    "r2_score(y_test,y_pred)"
   ]
  },
  {
   "cell_type": "code",
   "execution_count": 19,
   "id": "c0dd0607",
   "metadata": {},
   "outputs": [
    {
     "data": {
      "text/plain": [
       "0.9724440917750865"
      ]
     },
     "execution_count": 19,
     "metadata": {},
     "output_type": "execute_result"
    }
   ],
   "source": [
    "regressor.score(X_train,y_train)"
   ]
  },
  {
   "cell_type": "code",
   "execution_count": 20,
   "id": "f3c41cae",
   "metadata": {
    "scrolled": true
   },
   "outputs": [
    {
     "data": {
      "text/plain": [
       "0.9769284289216615"
      ]
     },
     "execution_count": 20,
     "metadata": {},
     "output_type": "execute_result"
    }
   ],
   "source": [
    "regressor.score(X_test,y_test)"
   ]
  },
  {
   "cell_type": "code",
   "execution_count": 21,
   "id": "6d0d0119",
   "metadata": {
    "scrolled": false
   },
   "outputs": [
    {
     "data": {
      "text/plain": [
       "4515.648"
      ]
     },
     "execution_count": 21,
     "metadata": {},
     "output_type": "execute_result"
    }
   ],
   "source": [
    "from sklearn.metrics import mean_absolute_error\n",
    "mae = mean_absolute_error(y_test, y_pred)\n",
    "mae"
   ]
  },
  {
   "cell_type": "markdown",
   "id": "0599c149",
   "metadata": {},
   "source": [
    "## Feature importance"
   ]
  },
  {
   "cell_type": "code",
   "execution_count": 22,
   "id": "fc60e42d",
   "metadata": {},
   "outputs": [
    {
     "data": {
      "text/plain": [
       "[(0.5592371981682375, 'race_white'),\n",
       " (0.23269816198244708, 'race_two_or_more'),\n",
       " (0.10103205161474171, 'race_asian'),\n",
       " (0.06629645451238447, 'race_black'),\n",
       " (0.040736133722189094, 'race_others')]"
      ]
     },
     "execution_count": 22,
     "metadata": {},
     "output_type": "execute_result"
    }
   ],
   "source": [
    "sorted(zip(regressor.feature_importances_, X.columns), reverse=True)"
   ]
  },
  {
   "cell_type": "markdown",
   "id": "dc15288f",
   "metadata": {},
   "source": [
    "### MAE seem a bit high, but consider the min max range"
   ]
  },
  {
   "cell_type": "code",
   "execution_count": 23,
   "id": "8d86e7e8",
   "metadata": {},
   "outputs": [
    {
     "name": "stdout",
     "output_type": "stream",
     "text": [
      "min =  184\n",
      "max =  4921499\n"
     ]
    }
   ],
   "source": [
    "max_labor_force = employment_county_df['labor_force'].max()\n",
    "min_labor_force = employment_county_df['labor_force'].min()\n",
    "print ('min = ', min_labor_force)\n",
    "print('max = ', max_labor_force)"
   ]
  },
  {
   "cell_type": "code",
   "execution_count": 24,
   "id": "58a9332e",
   "metadata": {},
   "outputs": [
    {
     "data": {
      "image/png": "[encoded data removed]",
      "text/plain": [
       "<Figure size 432x288 with 1 Axes>"
      ]
     },
     "metadata": {
      "needs_background": "light"
     },
     "output_type": "display_data"
    }
   ],
   "source": [
    "plt.scatter(regressor.predict(X_train), regressor.predict(X_train) - y_train, c=\"blue\", label=\"Training Data\")\n",
    "plt.scatter(regressor.predict(X_test), regressor.predict(X_test) - y_test, c=\"orange\", label=\"Testing Data\")\n",
    "plt.legend()\n",
    "plt.hlines(y=0, xmin=y.min(), xmax=y.max())\n",
    "plt.title(\"Train_Test_comparison\")\n",
    "plt.show()"
   ]
  },
  {
   "cell_type": "code",
   "execution_count": 25,
   "id": "78e8e83b",
   "metadata": {
    "scrolled": true
   },
   "outputs": [
    {
     "name": "stdout",
     "output_type": "stream",
     "text": [
      "Actual:\t\t[4639, 2946, 26156, 25875, 8971, 19701, 14840, 125114, 5375, 12815]\n",
      "Predicted:\t[4314.4, 3455.8, 28800.8, 24286.8, 9739.0, 20772.6, 16806.8, 126448.0, 5054.4, 12584.9]\n"
     ]
    }
   ],
   "source": [
    "print(f'Actual:\\t\\t{list(y_test[:10])}')\n",
    "print(f'Predicted:\\t{list(regressor.predict(X_test[:10]))}')"
   ]
  },
  {
   "cell_type": "code",
   "execution_count": null,
   "id": "201ff236",
   "metadata": {},
   "outputs": [],
   "source": []
  },
  {
   "cell_type": "markdown",
   "id": "892cfb64",
   "metadata": {},
   "source": [
    "# START MODEL TESTING\n",
    "\n",
    "- A random row was selected to use as baseline values for comparison\n",
    "- Ran the prediction 5 times\n",
    " - each time changing the population of a race by N\n",
    "- Prints out the change in labor_force"
   ]
  },
  {
   "cell_type": "markdown",
   "id": "137042de",
   "metadata": {},
   "source": [
    "### Ignore block below - wip testing"
   ]
  },
  {
   "cell_type": "code",
   "execution_count": 26,
   "id": "73f466d4",
   "metadata": {},
   "outputs": [
    {
     "data": {
      "text/html": [
       "<div>\n",
       "<style scoped>\n",
       "    .dataframe tbody tr th:only-of-type {\n",
       "        vertical-align: middle;\n",
       "    }\n",
       "\n",
       "    .dataframe tbody tr th {\n",
       "        vertical-align: top;\n",
       "    }\n",
       "\n",
       "    .dataframe thead th {\n",
       "        text-align: right;\n",
       "    }\n",
       "</style>\n",
       "<table border=\"1\" class=\"dataframe\">\n",
       "  <thead>\n",
       "    <tr style=\"text-align: right;\">\n",
       "      <th></th>\n",
       "      <th>race_white</th>\n",
       "      <th>race_black</th>\n",
       "      <th>race_asian</th>\n",
       "      <th>race_two_or_more</th>\n",
       "      <th>race_others</th>\n",
       "    </tr>\n",
       "    <tr>\n",
       "      <th>geoid</th>\n",
       "      <th></th>\n",
       "      <th></th>\n",
       "      <th></th>\n",
       "      <th></th>\n",
       "      <th></th>\n",
       "    </tr>\n",
       "  </thead>\n",
       "  <tbody>\n",
       "    <tr>\n",
       "      <th>1001</th>\n",
       "      <td>42160</td>\n",
       "      <td>11445</td>\n",
       "      <td>881</td>\n",
       "      <td>3157</td>\n",
       "      <td>1162</td>\n",
       "    </tr>\n",
       "  </tbody>\n",
       "</table>\n",
       "</div>"
      ],
      "text/plain": [
       "       race_white  race_black  race_asian  race_two_or_more  race_others\n",
       "geoid                                                                   \n",
       "1001        42160       11445         881              3157         1162"
      ]
     },
     "execution_count": 26,
     "metadata": {},
     "output_type": "execute_result"
    }
   ],
   "source": [
    "test1 = employment_county_df[employment_county_df['county']=='Autauga County, Alabama']\n",
    "test1 = test1[['race_white', 'race_black', 'race_asian', 'race_other', 'race_native', 'race_islander', 'race_two_or_more']].copy()\n",
    "test1['race_others']= test1[['race_native','race_islander','race_other']].sum(axis=1)\n",
    "test1.drop(columns=['race_other', 'race_native', 'race_islander'], inplace=True)\n",
    "test1[:1]"
   ]
  },
  {
   "cell_type": "markdown",
   "id": "fc459811",
   "metadata": {},
   "source": [
    "---"
   ]
  },
  {
   "cell_type": "markdown",
   "id": "b2984d58",
   "metadata": {},
   "source": [
    "# TEST A : Start with a random Baseline as reference"
   ]
  },
  {
   "cell_type": "code",
   "execution_count": 27,
   "id": "2bebcd62",
   "metadata": {
    "scrolled": true
   },
   "outputs": [
    {
     "data": {
      "text/html": [
       "<div>\n",
       "<style scoped>\n",
       "    .dataframe tbody tr th:only-of-type {\n",
       "        vertical-align: middle;\n",
       "    }\n",
       "\n",
       "    .dataframe tbody tr th {\n",
       "        vertical-align: top;\n",
       "    }\n",
       "\n",
       "    .dataframe thead th {\n",
       "        text-align: right;\n",
       "    }\n",
       "</style>\n",
       "<table border=\"1\" class=\"dataframe\">\n",
       "  <thead>\n",
       "    <tr style=\"text-align: right;\">\n",
       "      <th></th>\n",
       "      <th>race_white</th>\n",
       "      <th>race_black</th>\n",
       "      <th>race_asian</th>\n",
       "      <th>race_two_or_more</th>\n",
       "      <th>race_others</th>\n",
       "    </tr>\n",
       "    <tr>\n",
       "      <th>geoid</th>\n",
       "      <th></th>\n",
       "      <th></th>\n",
       "      <th></th>\n",
       "      <th></th>\n",
       "      <th></th>\n",
       "    </tr>\n",
       "  </thead>\n",
       "  <tbody>\n",
       "    <tr>\n",
       "      <th>54011</th>\n",
       "      <td>82665</td>\n",
       "      <td>4811</td>\n",
       "      <td>1345</td>\n",
       "      <td>4642</td>\n",
       "      <td>887</td>\n",
       "    </tr>\n",
       "  </tbody>\n",
       "</table>\n",
       "</div>"
      ],
      "text/plain": [
       "       race_white  race_black  race_asian  race_two_or_more  race_others\n",
       "geoid                                                                   \n",
       "54011       82665        4811        1345              4642          887"
      ]
     },
     "execution_count": 27,
     "metadata": {},
     "output_type": "execute_result"
    }
   ],
   "source": [
    "X_test[11:12]"
   ]
  },
  {
   "cell_type": "code",
   "execution_count": 28,
   "id": "c38d7951",
   "metadata": {},
   "outputs": [
    {
     "name": "stdout",
     "output_type": "stream",
     "text": [
      "TEST A : Baseline labor_force before change 41796.8\n"
     ]
    }
   ],
   "source": [
    "baselineA = regressor.predict(X_test[11:12])[0]\n",
    "print (f\"TEST A : Baseline labor_force before change {baselineA}\")"
   ]
  },
  {
   "cell_type": "markdown",
   "id": "1603268d",
   "metadata": {},
   "source": [
    "# Change in labor_force when 500 to each race"
   ]
  },
  {
   "cell_type": "code",
   "execution_count": 52,
   "id": "8458c638",
   "metadata": {},
   "outputs": [
    {
     "name": "stdout",
     "output_type": "stream",
     "text": [
      "Predict labor_force to be 41796.8, a change of 0.0\n"
     ]
    }
   ],
   "source": [
    "# increase white by 500\n",
    "prediction = regressor.predict([[82665,4811,1345,4642,887]])[0]\n",
    "print(f\"Predict labor_force to be {prediction}, a change of {prediction-baselineA}\")"
   ]
  },
  {
   "cell_type": "code",
   "execution_count": 30,
   "id": "08b18b9a",
   "metadata": {},
   "outputs": [
    {
     "name": "stdout",
     "output_type": "stream",
     "text": [
      "Predict labor_force to be 4534.8, a change of -37262.0\n"
     ]
    }
   ],
   "source": [
    "# increase black by 500\n",
    "prediction = regressor.predict([[7448,2898,108,1279,1731]])[0]\n",
    "print(f\"Predict labor_force to be {prediction}, a change of {prediction-baselineA}\")"
   ]
  },
  {
   "cell_type": "code",
   "execution_count": 31,
   "id": "c4aa516e",
   "metadata": {},
   "outputs": [
    {
     "name": "stdout",
     "output_type": "stream",
     "text": [
      "Predict labor_force to be 5263.8, a change of -36533.0\n"
     ]
    }
   ],
   "source": [
    "# increase asian by 500\n",
    "prediction = regressor.predict([[7448,1898,608,1279,1731]])[0]\n",
    "print(f\"Predict labor_force to be {prediction}, a change of {prediction-baselineA}\")"
   ]
  },
  {
   "cell_type": "code",
   "execution_count": 32,
   "id": "f33b4b23",
   "metadata": {},
   "outputs": [
    {
     "name": "stdout",
     "output_type": "stream",
     "text": [
      "Predict labor_force to be 4321.4, a change of -37475.4\n"
     ]
    }
   ],
   "source": [
    "# increase race_two_or_more by 500\n",
    "prediction = regressor.predict([[7448,1898,108,1779,1731]])[0]\n",
    "print(f\"Predict labor_force to be {prediction}, a change of {prediction-baselineA}\")"
   ]
  },
  {
   "cell_type": "code",
   "execution_count": 33,
   "id": "57cbd808",
   "metadata": {},
   "outputs": [
    {
     "name": "stdout",
     "output_type": "stream",
     "text": [
      "Predict labor_force to be 4719.3, a change of -37077.5\n"
     ]
    }
   ],
   "source": [
    "# increase race_others by 500\n",
    "prediction = regressor.predict([[7448,1898,108,1279,3231]])[0]\n",
    "print(f\"Predict labor_force to be {prediction}, a change of {prediction-baselineA}\")"
   ]
  },
  {
   "cell_type": "markdown",
   "id": "40aac8d7",
   "metadata": {},
   "source": [
    "# TEST B : Start with a random Baseline as reference"
   ]
  },
  {
   "cell_type": "code",
   "execution_count": 34,
   "id": "0974ad9b",
   "metadata": {},
   "outputs": [
    {
     "data": {
      "text/html": [
       "<div>\n",
       "<style scoped>\n",
       "    .dataframe tbody tr th:only-of-type {\n",
       "        vertical-align: middle;\n",
       "    }\n",
       "\n",
       "    .dataframe tbody tr th {\n",
       "        vertical-align: top;\n",
       "    }\n",
       "\n",
       "    .dataframe thead th {\n",
       "        text-align: right;\n",
       "    }\n",
       "</style>\n",
       "<table border=\"1\" class=\"dataframe\">\n",
       "  <thead>\n",
       "    <tr style=\"text-align: right;\">\n",
       "      <th></th>\n",
       "      <th>race_white</th>\n",
       "      <th>race_black</th>\n",
       "      <th>race_asian</th>\n",
       "      <th>race_two_or_more</th>\n",
       "      <th>race_others</th>\n",
       "    </tr>\n",
       "    <tr>\n",
       "      <th>geoid</th>\n",
       "      <th></th>\n",
       "      <th></th>\n",
       "      <th></th>\n",
       "      <th></th>\n",
       "      <th></th>\n",
       "    </tr>\n",
       "  </thead>\n",
       "  <tbody>\n",
       "    <tr>\n",
       "      <th>30019</th>\n",
       "      <td>1474</td>\n",
       "      <td>0</td>\n",
       "      <td>13</td>\n",
       "      <td>129</td>\n",
       "      <td>45</td>\n",
       "    </tr>\n",
       "  </tbody>\n",
       "</table>\n",
       "</div>"
      ],
      "text/plain": [
       "       race_white  race_black  race_asian  race_two_or_more  race_others\n",
       "geoid                                                                   \n",
       "30019        1474           0          13               129           45"
      ]
     },
     "execution_count": 34,
     "metadata": {},
     "output_type": "execute_result"
    }
   ],
   "source": [
    "(X_test[258:259])"
   ]
  },
  {
   "cell_type": "code",
   "execution_count": 40,
   "id": "6f131c74",
   "metadata": {},
   "outputs": [
    {
     "name": "stdout",
     "output_type": "stream",
     "text": [
      "TEST B : Baseline labor_force = 895.8\n"
     ]
    }
   ],
   "source": [
    "baselineB = regressor.predict(X_test[258:259])[0]\n",
    "print (f\"TEST B : Baseline labor_force = {baselineB}\")"
   ]
  },
  {
   "cell_type": "markdown",
   "id": "3ad28905",
   "metadata": {},
   "source": [
    "## Change in labor_force when adding 1000 to each race"
   ]
  },
  {
   "cell_type": "code",
   "execution_count": 46,
   "id": "ff01c5ea",
   "metadata": {},
   "outputs": [
    {
     "name": "stdout",
     "output_type": "stream",
     "text": [
      "Predict labor_force to be 1382.5, a change of 486.70000000000005\n"
     ]
    }
   ],
   "source": [
    "# increase white by 1000\n",
    "prediction = regressor.predict([[2474,0,13,129,45]])[0]\n",
    "print(f\"Predict labor_force to be {prediction}, a change of {prediction-baselineB}\")"
   ]
  },
  {
   "cell_type": "code",
   "execution_count": 47,
   "id": "af187700",
   "metadata": {
    "scrolled": true
   },
   "outputs": [
    {
     "name": "stdout",
     "output_type": "stream",
     "text": [
      "Predict labor_force to be 1055.5, a change of 159.70000000000005\n"
     ]
    }
   ],
   "source": [
    "# increase black by 1000\n",
    "prediction = regressor.predict([[1474,1000,13,129,45]])[0]\n",
    "print(f\"Predict labor_force to be {prediction}, a change of {prediction-baselineB}\")"
   ]
  },
  {
   "cell_type": "code",
   "execution_count": 48,
   "id": "f732abc1",
   "metadata": {},
   "outputs": [
    {
     "name": "stdout",
     "output_type": "stream",
     "text": [
      "Predict labor_force to be 1178.8, a change of 283.0\n"
     ]
    }
   ],
   "source": [
    "# increase asian by 1000\n",
    "prediction = regressor.predict([[1474,0,1013,129,45]])[0]\n",
    "print(f\"Predict labor_force to be {prediction}, a change of {prediction-baselineB}\")"
   ]
  },
  {
   "cell_type": "code",
   "execution_count": 49,
   "id": "8ab5bd59",
   "metadata": {},
   "outputs": [
    {
     "name": "stdout",
     "output_type": "stream",
     "text": [
      "Predict labor_force to be 1355.1, a change of 459.29999999999995\n"
     ]
    }
   ],
   "source": [
    "# increase race_two_or_more by 1000\n",
    "prediction = regressor.predict([[1474,0,13,1129,45]])[0]\n",
    "print(f\"Predict labor_force to be {prediction}, a change of {prediction-baselineB}\")"
   ]
  },
  {
   "cell_type": "code",
   "execution_count": 50,
   "id": "72f078c3",
   "metadata": {},
   "outputs": [
    {
     "name": "stdout",
     "output_type": "stream",
     "text": [
      "Predict labor_force to be 1050.6, a change of 154.79999999999995\n"
     ]
    }
   ],
   "source": [
    "# increase race_others by 1000\n",
    "prediction = regressor.predict([[1474,0,13,129,1045]])[0]\n",
    "print(f\"Predict labor_force to be {prediction}, a change of {prediction-baselineB}\")"
   ]
  },
  {
   "cell_type": "markdown",
   "id": "06fa73cc",
   "metadata": {},
   "source": [
    "# TEST C : Start with a random Baseline as reference"
   ]
  },
  {
   "cell_type": "code",
   "execution_count": 54,
   "id": "83f9b430",
   "metadata": {
    "scrolled": true
   },
   "outputs": [
    {
     "data": {
      "text/html": [
       "<div>\n",
       "<style scoped>\n",
       "    .dataframe tbody tr th:only-of-type {\n",
       "        vertical-align: middle;\n",
       "    }\n",
       "\n",
       "    .dataframe tbody tr th {\n",
       "        vertical-align: top;\n",
       "    }\n",
       "\n",
       "    .dataframe thead th {\n",
       "        text-align: right;\n",
       "    }\n",
       "</style>\n",
       "<table border=\"1\" class=\"dataframe\">\n",
       "  <thead>\n",
       "    <tr style=\"text-align: right;\">\n",
       "      <th></th>\n",
       "      <th>race_white</th>\n",
       "      <th>race_black</th>\n",
       "      <th>race_asian</th>\n",
       "      <th>race_two_or_more</th>\n",
       "      <th>race_others</th>\n",
       "    </tr>\n",
       "    <tr>\n",
       "      <th>geoid</th>\n",
       "      <th></th>\n",
       "      <th></th>\n",
       "      <th></th>\n",
       "      <th></th>\n",
       "      <th></th>\n",
       "    </tr>\n",
       "  </thead>\n",
       "  <tbody>\n",
       "    <tr>\n",
       "      <th>51143</th>\n",
       "      <td>44672</td>\n",
       "      <td>12417</td>\n",
       "      <td>292</td>\n",
       "      <td>2129</td>\n",
       "      <td>991</td>\n",
       "    </tr>\n",
       "  </tbody>\n",
       "</table>\n",
       "</div>"
      ],
      "text/plain": [
       "       race_white  race_black  race_asian  race_two_or_more  race_others\n",
       "geoid                                                                   \n",
       "51143       44672       12417         292              2129          991"
      ]
     },
     "execution_count": 54,
     "metadata": {},
     "output_type": "execute_result"
    }
   ],
   "source": [
    "(X_test[347:348])"
   ]
  },
  {
   "cell_type": "code",
   "execution_count": 55,
   "id": "8808e364",
   "metadata": {},
   "outputs": [
    {
     "name": "stdout",
     "output_type": "stream",
     "text": [
      "TEST C : Baseline labor_force = 24475.4\n"
     ]
    }
   ],
   "source": [
    "baselineC = regressor.predict(X_test[347:348])[0]\n",
    "print (f\"TEST C : Baseline labor_force = {baselineC}\")"
   ]
  },
  {
   "cell_type": "markdown",
   "id": "e0bb8af4",
   "metadata": {},
   "source": [
    "## Change in labor_force when 1000 to each race"
   ]
  },
  {
   "cell_type": "code",
   "execution_count": 61,
   "id": "ed9fa44d",
   "metadata": {},
   "outputs": [
    {
     "name": "stdout",
     "output_type": "stream",
     "text": [
      "Predict labor_force to be 24165.7, a change of -309.7000000000007\n"
     ]
    }
   ],
   "source": [
    "# increase white by 1000\n",
    "prediction = regressor.predict([[45672,12417,292,2129,991]])[0]\n",
    "print(f\"Predict labor_force to be {prediction}, a change of {prediction-baselineC}\")"
   ]
  },
  {
   "cell_type": "code",
   "execution_count": 62,
   "id": "57e37338",
   "metadata": {
    "scrolled": true
   },
   "outputs": [
    {
     "name": "stdout",
     "output_type": "stream",
     "text": [
      "Predict labor_force to be 24475.4, a change of 0.0\n"
     ]
    }
   ],
   "source": [
    "# increase black by 1000\n",
    "prediction = regressor.predict([[44672,13417,292,2129,991]])[0]\n",
    "print(f\"Predict labor_force to be {prediction}, a change of {prediction-baselineC}\")"
   ]
  },
  {
   "cell_type": "code",
   "execution_count": 63,
   "id": "3c601203",
   "metadata": {},
   "outputs": [
    {
     "name": "stdout",
     "output_type": "stream",
     "text": [
      "Predict labor_force to be 26051.0, a change of 1575.5999999999985\n"
     ]
    }
   ],
   "source": [
    "# increase asian by 1000\n",
    "prediction = regressor.predict([[44672,12417,1292,2129,991]])[0]\n",
    "print(f\"Predict labor_force to be {prediction}, a change of {prediction-baselineC}\")"
   ]
  },
  {
   "cell_type": "code",
   "execution_count": 64,
   "id": "47b6df61",
   "metadata": {},
   "outputs": [
    {
     "name": "stdout",
     "output_type": "stream",
     "text": [
      "Predict labor_force to be 25200.2, a change of 724.7999999999993\n"
     ]
    }
   ],
   "source": [
    "# increase race_two_or_more by 1000\n",
    "prediction = regressor.predict([[44672,12417,292,3129,991]])[0]\n",
    "print(f\"Predict labor_force to be {prediction}, a change of {prediction-baselineC}\")"
   ]
  },
  {
   "cell_type": "code",
   "execution_count": 65,
   "id": "bb3657f5",
   "metadata": {},
   "outputs": [
    {
     "name": "stdout",
     "output_type": "stream",
     "text": [
      "Predict labor_force to be 24523.7, a change of 48.29999999999927\n"
     ]
    }
   ],
   "source": [
    "# increase race_others by 1000\n",
    "prediction = regressor.predict([[44672,12417,292,2129,1991]])[0]\n",
    "print(f\"Predict labor_force to be {prediction}, a change of {prediction-baselineC}\")"
   ]
  },
  {
   "cell_type": "code",
   "execution_count": null,
   "id": "63a3eb34",
   "metadata": {},
   "outputs": [],
   "source": []
  },
  {
   "cell_type": "code",
   "execution_count": null,
   "id": "181b30b0",
   "metadata": {},
   "outputs": [],
   "source": []
  }
 ],
 "metadata": {
  "kernelspec": {
   "display_name": "Python 3",
   "language": "python",
   "name": "python3"
  },
  "language_info": {
   "codemirror_mode": {
    "name": "ipython",
    "version": 3
   },
   "file_extension": ".py",
   "mimetype": "text/x-python",
   "name": "python",
   "nbconvert_exporter": "python",
   "pygments_lexer": "ipython3",
   "version": "3.9.5"
  }
 },
 "nbformat": 4,
 "nbformat_minor": 5
}
