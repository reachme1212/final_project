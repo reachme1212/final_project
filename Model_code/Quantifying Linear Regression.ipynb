{
 "cells": [
  {
   "cell_type": "markdown",
   "metadata": {
    "slideshow": {
     "slide_type": "slide"
    }
   },
   "source": [
    "# Quantifying Linear Regression\n",
    "\n",
    "## Work In Progress"
   ]
  },
  {
   "cell_type": "code",
   "execution_count": 36,
   "metadata": {
    "slideshow": {
     "slide_type": "fragment"
    }
   },
   "outputs": [],
   "source": [
    "# Import dependencies\n",
    "import pandas as pd\n",
    "from sklearn.preprocessing import MinMaxScaler, LabelEncoder\n",
    "from sklearn.datasets import make_regression\n",
    "from sklearn.linear_model import LinearRegression"
   ]
  },
  {
   "cell_type": "code",
   "execution_count": 12,
   "metadata": {
    "scrolled": true
   },
   "outputs": [],
   "source": [
    "df = pd.read_csv('../data_files/TechnicalJobs_DF_draft.csv', index_col=[0], header=0)"
   ]
  },
  {
   "cell_type": "code",
   "execution_count": 13,
   "metadata": {},
   "outputs": [
    {
     "data": {
      "text/plain": [
       "Index(['area_title', 'jobs_1000', 'tot_emp', 'emp_prse', 'population',\n",
       "       'median_age', 'average_household_income', 'family_poverty',\n",
       "       'educational_attainment_bachelors', 'educational_attainment_graduate',\n",
       "       'educational_attainment_high_school',\n",
       "       'educational_attainment_no_diploma',\n",
       "       'educational_attainment_some_college', 'race_asian', 'race_white',\n",
       "       'race_black', 'race_hispanic', 'race_native', 'race_islander',\n",
       "       'race_two', 'race_other'],\n",
       "      dtype='object')"
      ]
     },
     "execution_count": 13,
     "metadata": {},
     "output_type": "execute_result"
    }
   ],
   "source": [
    "df.columns"
   ]
  },
  {
   "cell_type": "code",
   "execution_count": 91,
   "metadata": {},
   "outputs": [],
   "source": [
    "# Target\n",
    "y = df['jobs_1000']\n",
    "\n",
    "# Adding all demographic column as X, comment to test\n",
    "X = df[['population',\n",
    "       'median_age', 'average_household_income', 'family_poverty',\n",
    "       'educational_attainment_bachelors', 'educational_attainment_graduate',\n",
    "       'educational_attainment_high_school',\n",
    "       'educational_attainment_no_diploma',\n",
    "       'educational_attainment_some_college', 'race_asian', 'race_white',\n",
    "       'race_black', 'race_hispanic', 'race_native', 'race_islander',\n",
    "       'race_two', 'race_other']].copy()\n"
   ]
  },
  {
   "cell_type": "code",
   "execution_count": 90,
   "metadata": {},
   "outputs": [],
   "source": [
    "# LabelEncode all, comment to test\n",
    "# ToDo: Assign variable weights to some/each variable\n",
    "# Convert any column directly proportional to population into a percent value (Suggested by Kyle)\n",
    "X['population'] = LabelEncoder().fit_transform(X['population'])\n",
    "X['family_poverty'] = LabelEncoder().fit_transform(X['family_poverty'])\n",
    "X['educational_attainment_graduate'] = LabelEncoder().fit_transform(X['educational_attainment_graduate'])\n",
    "X['average_household_income'] = LabelEncoder().fit_transform(X['average_household_income'])\n",
    "X['educational_attainment_bachelors'] = LabelEncoder().fit_transform(X['educational_attainment_bachelors'])\n",
    "X['educational_attainment_high_school'] = LabelEncoder().fit_transform(X['educational_attainment_high_school'])\n",
    "X['educational_attainment_no_diploma'] = LabelEncoder().fit_transform(X['educational_attainment_no_diploma'])\n",
    "X['educational_attainment_some_college'] = LabelEncoder().fit_transform(X['educational_attainment_some_college'])\n",
    "X['race_asian'] = LabelEncoder().fit_transform(X['race_asian'])\n",
    "X['race_white'] = LabelEncoder().fit_transform(X['race_white'])\n",
    "X['race_black'] = LabelEncoder().fit_transform(X['race_black'])\n",
    "X['race_hispanic'] = LabelEncoder().fit_transform(X['race_hispanic'])\n",
    "X['race_native'] = LabelEncoder().fit_transform(X['race_native'])\n",
    "X['race_islander'] = LabelEncoder().fit_transform(X['race_islander'])\n",
    "X['race_two'] = LabelEncoder().fit_transform(X['race_two'])\n",
    "X['race_other'] = LabelEncoder().fit_transform(X['race_other'])\n"
   ]
  },
  {
   "cell_type": "code",
   "execution_count": 83,
   "metadata": {},
   "outputs": [
    {
     "data": {
      "text/html": [
       "<div>\n",
       "<style scoped>\n",
       "    .dataframe tbody tr th:only-of-type {\n",
       "        vertical-align: middle;\n",
       "    }\n",
       "\n",
       "    .dataframe tbody tr th {\n",
       "        vertical-align: top;\n",
       "    }\n",
       "\n",
       "    .dataframe thead th {\n",
       "        text-align: right;\n",
       "    }\n",
       "</style>\n",
       "<table border=\"1\" class=\"dataframe\">\n",
       "  <thead>\n",
       "    <tr style=\"text-align: right;\">\n",
       "      <th></th>\n",
       "      <th>population</th>\n",
       "      <th>median_age</th>\n",
       "      <th>average_household_income</th>\n",
       "      <th>family_poverty</th>\n",
       "      <th>educational_attainment_bachelors</th>\n",
       "      <th>educational_attainment_graduate</th>\n",
       "      <th>educational_attainment_high_school</th>\n",
       "      <th>educational_attainment_no_diploma</th>\n",
       "      <th>educational_attainment_some_college</th>\n",
       "      <th>race_asian</th>\n",
       "      <th>race_white</th>\n",
       "      <th>race_black</th>\n",
       "      <th>race_hispanic</th>\n",
       "      <th>race_native</th>\n",
       "      <th>race_islander</th>\n",
       "      <th>race_two</th>\n",
       "      <th>race_other</th>\n",
       "      <th>educational_attainment_graduate\\t</th>\n",
       "    </tr>\n",
       "  </thead>\n",
       "  <tbody>\n",
       "    <tr>\n",
       "      <th>0</th>\n",
       "      <td>110</td>\n",
       "      <td>27</td>\n",
       "      <td>47</td>\n",
       "      <td>93</td>\n",
       "      <td>98</td>\n",
       "      <td>92</td>\n",
       "      <td>108</td>\n",
       "      <td>98</td>\n",
       "      <td>114</td>\n",
       "      <td>99</td>\n",
       "      <td>110</td>\n",
       "      <td>95</td>\n",
       "      <td>122</td>\n",
       "      <td>100</td>\n",
       "      <td>21</td>\n",
       "      <td>97</td>\n",
       "      <td>80</td>\n",
       "      <td>92</td>\n",
       "    </tr>\n",
       "    <tr>\n",
       "      <th>1</th>\n",
       "      <td>109</td>\n",
       "      <td>33</td>\n",
       "      <td>32</td>\n",
       "      <td>118</td>\n",
       "      <td>82</td>\n",
       "      <td>71</td>\n",
       "      <td>113</td>\n",
       "      <td>104</td>\n",
       "      <td>109</td>\n",
       "      <td>94</td>\n",
       "      <td>107</td>\n",
       "      <td>129</td>\n",
       "      <td>50</td>\n",
       "      <td>54</td>\n",
       "      <td>25</td>\n",
       "      <td>119</td>\n",
       "      <td>40</td>\n",
       "      <td>71</td>\n",
       "    </tr>\n",
       "    <tr>\n",
       "      <th>2</th>\n",
       "      <td>85</td>\n",
       "      <td>37</td>\n",
       "      <td>76</td>\n",
       "      <td>100</td>\n",
       "      <td>74</td>\n",
       "      <td>85</td>\n",
       "      <td>82</td>\n",
       "      <td>84</td>\n",
       "      <td>89</td>\n",
       "      <td>70</td>\n",
       "      <td>53</td>\n",
       "      <td>136</td>\n",
       "      <td>49</td>\n",
       "      <td>49</td>\n",
       "      <td>26</td>\n",
       "      <td>71</td>\n",
       "      <td>34</td>\n",
       "      <td>85</td>\n",
       "    </tr>\n",
       "    <tr>\n",
       "      <th>3</th>\n",
       "      <td>146</td>\n",
       "      <td>35</td>\n",
       "      <td>83</td>\n",
       "      <td>136</td>\n",
       "      <td>141</td>\n",
       "      <td>147</td>\n",
       "      <td>137</td>\n",
       "      <td>128</td>\n",
       "      <td>148</td>\n",
       "      <td>133</td>\n",
       "      <td>144</td>\n",
       "      <td>100</td>\n",
       "      <td>151</td>\n",
       "      <td>133</td>\n",
       "      <td>74</td>\n",
       "      <td>133</td>\n",
       "      <td>110</td>\n",
       "      <td>147</td>\n",
       "    </tr>\n",
       "    <tr>\n",
       "      <th>4</th>\n",
       "      <td>32</td>\n",
       "      <td>38</td>\n",
       "      <td>73</td>\n",
       "      <td>40</td>\n",
       "      <td>27</td>\n",
       "      <td>28</td>\n",
       "      <td>40</td>\n",
       "      <td>51</td>\n",
       "      <td>29</td>\n",
       "      <td>49</td>\n",
       "      <td>22</td>\n",
       "      <td>97</td>\n",
       "      <td>23</td>\n",
       "      <td>39</td>\n",
       "      <td>2</td>\n",
       "      <td>30</td>\n",
       "      <td>8</td>\n",
       "      <td>28</td>\n",
       "    </tr>\n",
       "    <tr>\n",
       "      <th>...</th>\n",
       "      <td>...</td>\n",
       "      <td>...</td>\n",
       "      <td>...</td>\n",
       "      <td>...</td>\n",
       "      <td>...</td>\n",
       "      <td>...</td>\n",
       "      <td>...</td>\n",
       "      <td>...</td>\n",
       "      <td>...</td>\n",
       "      <td>...</td>\n",
       "      <td>...</td>\n",
       "      <td>...</td>\n",
       "      <td>...</td>\n",
       "      <td>...</td>\n",
       "      <td>...</td>\n",
       "      <td>...</td>\n",
       "      <td>...</td>\n",
       "      <td>...</td>\n",
       "    </tr>\n",
       "    <tr>\n",
       "      <th>150</th>\n",
       "      <td>53</td>\n",
       "      <td>31</td>\n",
       "      <td>66</td>\n",
       "      <td>66</td>\n",
       "      <td>41</td>\n",
       "      <td>31</td>\n",
       "      <td>54</td>\n",
       "      <td>67</td>\n",
       "      <td>56</td>\n",
       "      <td>40</td>\n",
       "      <td>49</td>\n",
       "      <td>76</td>\n",
       "      <td>95</td>\n",
       "      <td>68</td>\n",
       "      <td>16</td>\n",
       "      <td>53</td>\n",
       "      <td>64</td>\n",
       "      <td>31</td>\n",
       "    </tr>\n",
       "    <tr>\n",
       "      <th>151</th>\n",
       "      <td>130</td>\n",
       "      <td>34</td>\n",
       "      <td>115</td>\n",
       "      <td>127</td>\n",
       "      <td>127</td>\n",
       "      <td>120</td>\n",
       "      <td>128</td>\n",
       "      <td>129</td>\n",
       "      <td>132</td>\n",
       "      <td>119</td>\n",
       "      <td>139</td>\n",
       "      <td>117</td>\n",
       "      <td>137</td>\n",
       "      <td>123</td>\n",
       "      <td>34</td>\n",
       "      <td>134</td>\n",
       "      <td>60</td>\n",
       "      <td>120</td>\n",
       "    </tr>\n",
       "    <tr>\n",
       "      <th>152</th>\n",
       "      <td>59</td>\n",
       "      <td>27</td>\n",
       "      <td>21</td>\n",
       "      <td>28</td>\n",
       "      <td>85</td>\n",
       "      <td>95</td>\n",
       "      <td>25</td>\n",
       "      <td>25</td>\n",
       "      <td>62</td>\n",
       "      <td>86</td>\n",
       "      <td>67</td>\n",
       "      <td>86</td>\n",
       "      <td>59</td>\n",
       "      <td>38</td>\n",
       "      <td>0</td>\n",
       "      <td>57</td>\n",
       "      <td>47</td>\n",
       "      <td>95</td>\n",
       "    </tr>\n",
       "    <tr>\n",
       "      <th>153</th>\n",
       "      <td>78</td>\n",
       "      <td>32</td>\n",
       "      <td>53</td>\n",
       "      <td>80</td>\n",
       "      <td>44</td>\n",
       "      <td>54</td>\n",
       "      <td>74</td>\n",
       "      <td>107</td>\n",
       "      <td>75</td>\n",
       "      <td>34</td>\n",
       "      <td>61</td>\n",
       "      <td>22</td>\n",
       "      <td>130</td>\n",
       "      <td>97</td>\n",
       "      <td>13</td>\n",
       "      <td>74</td>\n",
       "      <td>29</td>\n",
       "      <td>54</td>\n",
       "    </tr>\n",
       "    <tr>\n",
       "      <th>154</th>\n",
       "      <td>74</td>\n",
       "      <td>33</td>\n",
       "      <td>78</td>\n",
       "      <td>77</td>\n",
       "      <td>46</td>\n",
       "      <td>37</td>\n",
       "      <td>66</td>\n",
       "      <td>92</td>\n",
       "      <td>78</td>\n",
       "      <td>113</td>\n",
       "      <td>57</td>\n",
       "      <td>46</td>\n",
       "      <td>113</td>\n",
       "      <td>85</td>\n",
       "      <td>71</td>\n",
       "      <td>90</td>\n",
       "      <td>49</td>\n",
       "      <td>37</td>\n",
       "    </tr>\n",
       "  </tbody>\n",
       "</table>\n",
       "<p>155 rows × 18 columns</p>\n",
       "</div>"
      ],
      "text/plain": [
       "     population  median_age  average_household_income  family_poverty  \\\n",
       "0           110          27                        47              93   \n",
       "1           109          33                        32             118   \n",
       "2            85          37                        76             100   \n",
       "3           146          35                        83             136   \n",
       "4            32          38                        73              40   \n",
       "..          ...         ...                       ...             ...   \n",
       "150          53          31                        66              66   \n",
       "151         130          34                       115             127   \n",
       "152          59          27                        21              28   \n",
       "153          78          32                        53              80   \n",
       "154          74          33                        78              77   \n",
       "\n",
       "     educational_attainment_bachelors  educational_attainment_graduate  \\\n",
       "0                                  98                               92   \n",
       "1                                  82                               71   \n",
       "2                                  74                               85   \n",
       "3                                 141                              147   \n",
       "4                                  27                               28   \n",
       "..                                ...                              ...   \n",
       "150                                41                               31   \n",
       "151                               127                              120   \n",
       "152                                85                               95   \n",
       "153                                44                               54   \n",
       "154                                46                               37   \n",
       "\n",
       "     educational_attainment_high_school  educational_attainment_no_diploma  \\\n",
       "0                                   108                                 98   \n",
       "1                                   113                                104   \n",
       "2                                    82                                 84   \n",
       "3                                   137                                128   \n",
       "4                                    40                                 51   \n",
       "..                                  ...                                ...   \n",
       "150                                  54                                 67   \n",
       "151                                 128                                129   \n",
       "152                                  25                                 25   \n",
       "153                                  74                                107   \n",
       "154                                  66                                 92   \n",
       "\n",
       "     educational_attainment_some_college  race_asian  race_white  race_black  \\\n",
       "0                                    114          99         110          95   \n",
       "1                                    109          94         107         129   \n",
       "2                                     89          70          53         136   \n",
       "3                                    148         133         144         100   \n",
       "4                                     29          49          22          97   \n",
       "..                                   ...         ...         ...         ...   \n",
       "150                                   56          40          49          76   \n",
       "151                                  132         119         139         117   \n",
       "152                                   62          86          67          86   \n",
       "153                                   75          34          61          22   \n",
       "154                                   78         113          57          46   \n",
       "\n",
       "     race_hispanic  race_native  race_islander  race_two  race_other  \\\n",
       "0              122          100             21        97          80   \n",
       "1               50           54             25       119          40   \n",
       "2               49           49             26        71          34   \n",
       "3              151          133             74       133         110   \n",
       "4               23           39              2        30           8   \n",
       "..             ...          ...            ...       ...         ...   \n",
       "150             95           68             16        53          64   \n",
       "151            137          123             34       134          60   \n",
       "152             59           38              0        57          47   \n",
       "153            130           97             13        74          29   \n",
       "154            113           85             71        90          49   \n",
       "\n",
       "     educational_attainment_graduate\\t  \n",
       "0                                   92  \n",
       "1                                   71  \n",
       "2                                   85  \n",
       "3                                  147  \n",
       "4                                   28  \n",
       "..                                 ...  \n",
       "150                                 31  \n",
       "151                                120  \n",
       "152                                 95  \n",
       "153                                 54  \n",
       "154                                 37  \n",
       "\n",
       "[155 rows x 18 columns]"
      ]
     },
     "execution_count": 83,
     "metadata": {},
     "output_type": "execute_result"
    }
   ],
   "source": [
    "X"
   ]
  },
  {
   "cell_type": "code",
   "execution_count": 84,
   "metadata": {},
   "outputs": [
    {
     "data": {
      "text/plain": [
       "LinearRegression()"
      ]
     },
     "execution_count": 84,
     "metadata": {},
     "output_type": "execute_result"
    }
   ],
   "source": [
    "\n",
    "# Create a linear model\n",
    "model = LinearRegression()\n",
    "\n",
    "# Fit (train) our model to the data\n",
    "model.fit(X, y)"
   ]
  },
  {
   "cell_type": "markdown",
   "metadata": {
    "slideshow": {
     "slide_type": "slide"
    }
   },
   "source": [
    "## Quantifying our model\n",
    "\n",
    "* mean squared error (MSE)\n",
    "\n",
    "* R2 Score"
   ]
  },
  {
   "cell_type": "markdown",
   "metadata": {
    "slideshow": {
     "slide_type": "subslide"
    }
   },
   "source": [
    "There are a variety of ways to quantify the model, but MSE and R2 are very common"
   ]
  },
  {
   "cell_type": "code",
   "execution_count": 85,
   "metadata": {
    "slideshow": {
     "slide_type": "fragment"
    }
   },
   "outputs": [
    {
     "name": "stdout",
     "output_type": "stream",
     "text": [
      "mean squared error (MSE): 376.4697414422712\n",
      "R-squared (R2 ): 0.403740095034936\n"
     ]
    }
   ],
   "source": [
    "from sklearn.metrics import mean_squared_error, r2_score\n",
    "\n",
    "# Use our model to predict a value\n",
    "predicted = model.predict(X)\n",
    "\n",
    "# Score the prediction with MSE and R2\n",
    "mse = mean_squared_error(y, predicted)\n",
    "r2 = r2_score(y, predicted)\n",
    "\n",
    "print(f\"mean squared error (MSE): {mse}\")\n",
    "print(f\"R-squared (R2 ): {r2}\")"
   ]
  },
  {
   "cell_type": "markdown",
   "metadata": {
    "slideshow": {
     "slide_type": "fragment"
    }
   },
   "source": [
    "A good MSE score will be close to zero, while a good [R2 score](https://en.wikipedia.org/wiki/Coefficient_of_determination) will be close to 1."
   ]
  },
  {
   "cell_type": "markdown",
   "metadata": {
    "slideshow": {
     "slide_type": "subslide"
    }
   },
   "source": [
    "R2 score is the default scoring for many of the Sklearn models"
   ]
  },
  {
   "cell_type": "code",
   "execution_count": 86,
   "metadata": {
    "slideshow": {
     "slide_type": "fragment"
    }
   },
   "outputs": [
    {
     "data": {
      "text/plain": [
       "0.403740095034936"
      ]
     },
     "execution_count": 86,
     "metadata": {},
     "output_type": "execute_result"
    }
   ],
   "source": [
    "# Overall Score for the model\n",
    "model.score(X, y)"
   ]
  },
  {
   "cell_type": "markdown",
   "metadata": {
    "slideshow": {
     "slide_type": "notes"
    }
   },
   "source": [
    "## Validation\n",
    "\n",
    "We also want to understand how well our model performs on new data. \n",
    "\n",
    "One approach for this is to split the data into a training and a testing dataset.\n",
    "\n",
    "We fit (train) the model by using the training data, and we score and validate the model by using the testing data.\n",
    "\n",
    "This train/test splitting is so common that Sklearn provides a mechanism for doing this. "
   ]
  },
  {
   "cell_type": "markdown",
   "metadata": {
    "slideshow": {
     "slide_type": "slide"
    }
   },
   "source": [
    "## Testing and training data\n",
    "\n",
    "To quantify our model against new input values, we often split the data into training and testing data. The model is then fit to the training data and scored by the test data. Sklearn preprocessing provides a library for automatically splitting the data into training and testing data."
   ]
  },
  {
   "cell_type": "code",
   "execution_count": 87,
   "metadata": {
    "slideshow": {
     "slide_type": "fragment"
    }
   },
   "outputs": [],
   "source": [
    "from sklearn.model_selection import train_test_split\n",
    "\n",
    "X_train, X_test, y_train, y_test = train_test_split(X, y, random_state=1)"
   ]
  },
  {
   "cell_type": "markdown",
   "metadata": {
    "slideshow": {
     "slide_type": "subslide"
    }
   },
   "source": [
    "Train the model by using the training data"
   ]
  },
  {
   "cell_type": "code",
   "execution_count": 88,
   "metadata": {
    "slideshow": {
     "slide_type": "fragment"
    }
   },
   "outputs": [
    {
     "data": {
      "text/plain": [
       "LinearRegression()"
      ]
     },
     "execution_count": 88,
     "metadata": {},
     "output_type": "execute_result"
    }
   ],
   "source": [
    "model.fit(X_train, y_train)"
   ]
  },
  {
   "cell_type": "markdown",
   "metadata": {
    "slideshow": {
     "slide_type": "subslide"
    }
   },
   "source": [
    "And score the model by using the unseen testing data"
   ]
  },
  {
   "cell_type": "code",
   "execution_count": 89,
   "metadata": {
    "slideshow": {
     "slide_type": "fragment"
    }
   },
   "outputs": [
    {
     "data": {
      "text/plain": [
       "0.20496230369253376"
      ]
     },
     "execution_count": 89,
     "metadata": {},
     "output_type": "execute_result"
    }
   ],
   "source": [
    "model.score(X_test, y_test)"
   ]
  },
  {
   "cell_type": "code",
   "execution_count": null,
   "metadata": {},
   "outputs": [],
   "source": []
  }
 ],
 "metadata": {
  "anaconda-cloud": {},
  "kernelspec": {
   "display_name": "Python 3",
   "language": "python",
   "name": "python3"
  },
  "language_info": {
   "codemirror_mode": {
    "name": "ipython",
    "version": 3
   },
   "file_extension": ".py",
   "mimetype": "text/x-python",
   "name": "python",
   "nbconvert_exporter": "python",
   "pygments_lexer": "ipython3",
   "version": "3.9.5"
  },
  "varInspector": {
   "cols": {
    "lenName": 16,
    "lenType": 16,
    "lenVar": 40
   },
   "kernels_config": {
    "python": {
     "delete_cmd_postfix": "",
     "delete_cmd_prefix": "del ",
     "library": "var_list.py",
     "varRefreshCmd": "print(var_dic_list())"
    },
    "r": {
     "delete_cmd_postfix": ") ",
     "delete_cmd_prefix": "rm(",
     "library": "var_list.r",
     "varRefreshCmd": "cat(var_dic_list()) "
    }
   },
   "types_to_exclude": [
    "module",
    "function",
    "builtin_function_or_method",
    "instance",
    "_Feature"
   ],
   "window_display": false
  }
 },
 "nbformat": 4,
 "nbformat_minor": 2
}
