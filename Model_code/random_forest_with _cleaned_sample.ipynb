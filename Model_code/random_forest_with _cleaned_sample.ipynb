{
 "cells": [
  {
   "cell_type": "code",
   "execution_count": 1,
   "id": "2aa3f4b0",
   "metadata": {},
   "outputs": [],
   "source": [
    "import pandas as pd\n",
    "import numpy as np\n",
    "from sklearn.preprocessing import MinMaxScaler, LabelEncoder\n",
    "from sklearn.linear_model import LinearRegression\n",
    "from sklearn.datasets import make_classification\n",
    "\n",
    "\n",
    "from sklearn.linear_model import LogisticRegression\n",
    "from sklearn.ensemble import RandomForestRegressor\n",
    "from sklearn.model_selection import train_test_split\n",
    "from sklearn.preprocessing import StandardScaler\n",
    "\n",
    "%matplotlib inline\n",
    "from matplotlib import pyplot as plt"
   ]
  },
  {
   "cell_type": "code",
   "execution_count": 2,
   "id": "82fb5546",
   "metadata": {},
   "outputs": [
    {
     "data": {
      "text/html": [
       "<div>\n",
       "<style scoped>\n",
       "    .dataframe tbody tr th:only-of-type {\n",
       "        vertical-align: middle;\n",
       "    }\n",
       "\n",
       "    .dataframe tbody tr th {\n",
       "        vertical-align: top;\n",
       "    }\n",
       "\n",
       "    .dataframe thead th {\n",
       "        text-align: right;\n",
       "    }\n",
       "</style>\n",
       "<table border=\"1\" class=\"dataframe\">\n",
       "  <thead>\n",
       "    <tr style=\"text-align: right;\">\n",
       "      <th></th>\n",
       "      <th>Unnamed: 0</th>\n",
       "      <th>istech</th>\n",
       "      <th>area_title</th>\n",
       "      <th>jobs_1000</th>\n",
       "      <th>tot_emp</th>\n",
       "      <th>emp_prse</th>\n",
       "      <th>population</th>\n",
       "      <th>median_age</th>\n",
       "      <th>average_income</th>\n",
       "      <th>family_poverty</th>\n",
       "      <th>...</th>\n",
       "      <th>race_asian</th>\n",
       "      <th>race_white</th>\n",
       "      <th>race_black</th>\n",
       "      <th>race_hispanic</th>\n",
       "      <th>race_native</th>\n",
       "      <th>race_islander</th>\n",
       "      <th>race_two</th>\n",
       "      <th>race_other</th>\n",
       "      <th>city</th>\n",
       "      <th>state_code</th>\n",
       "    </tr>\n",
       "  </thead>\n",
       "  <tbody>\n",
       "    <tr>\n",
       "      <th>0</th>\n",
       "      <td>0</td>\n",
       "      <td>0</td>\n",
       "      <td>Abilene, TX</td>\n",
       "      <td>12.048520</td>\n",
       "      <td>182230.0</td>\n",
       "      <td>18.251528</td>\n",
       "      <td>85075</td>\n",
       "      <td>27</td>\n",
       "      <td>49583</td>\n",
       "      <td>9368</td>\n",
       "      <td>...</td>\n",
       "      <td>2253</td>\n",
       "      <td>53385</td>\n",
       "      <td>8597</td>\n",
       "      <td>18241</td>\n",
       "      <td>524</td>\n",
       "      <td>15</td>\n",
       "      <td>1860</td>\n",
       "      <td>200</td>\n",
       "      <td>Abilene</td>\n",
       "      <td>TX</td>\n",
       "    </tr>\n",
       "    <tr>\n",
       "      <th>1</th>\n",
       "      <td>1</td>\n",
       "      <td>1</td>\n",
       "      <td>Abilene, TX</td>\n",
       "      <td>8.409250</td>\n",
       "      <td>4450.0</td>\n",
       "      <td>22.500000</td>\n",
       "      <td>85075</td>\n",
       "      <td>27</td>\n",
       "      <td>49583</td>\n",
       "      <td>9368</td>\n",
       "      <td>...</td>\n",
       "      <td>2253</td>\n",
       "      <td>53385</td>\n",
       "      <td>8597</td>\n",
       "      <td>18241</td>\n",
       "      <td>524</td>\n",
       "      <td>15</td>\n",
       "      <td>1860</td>\n",
       "      <td>200</td>\n",
       "      <td>Abilene</td>\n",
       "      <td>TX</td>\n",
       "    </tr>\n",
       "    <tr>\n",
       "      <th>2</th>\n",
       "      <td>2</td>\n",
       "      <td>0</td>\n",
       "      <td>Akron, OH</td>\n",
       "      <td>7.321090</td>\n",
       "      <td>859710.0</td>\n",
       "      <td>19.450928</td>\n",
       "      <td>94894</td>\n",
       "      <td>33</td>\n",
       "      <td>42943</td>\n",
       "      <td>25508</td>\n",
       "      <td>...</td>\n",
       "      <td>2164</td>\n",
       "      <td>54490</td>\n",
       "      <td>31493</td>\n",
       "      <td>1761</td>\n",
       "      <td>134</td>\n",
       "      <td>22</td>\n",
       "      <td>4765</td>\n",
       "      <td>65</td>\n",
       "      <td>Akron</td>\n",
       "      <td>OH</td>\n",
       "    </tr>\n",
       "    <tr>\n",
       "      <th>3</th>\n",
       "      <td>3</td>\n",
       "      <td>1</td>\n",
       "      <td>Akron, OH</td>\n",
       "      <td>6.404353</td>\n",
       "      <td>33910.0</td>\n",
       "      <td>18.882353</td>\n",
       "      <td>94894</td>\n",
       "      <td>33</td>\n",
       "      <td>42943</td>\n",
       "      <td>25508</td>\n",
       "      <td>...</td>\n",
       "      <td>2164</td>\n",
       "      <td>54490</td>\n",
       "      <td>31493</td>\n",
       "      <td>1761</td>\n",
       "      <td>134</td>\n",
       "      <td>22</td>\n",
       "      <td>4765</td>\n",
       "      <td>65</td>\n",
       "      <td>Akron</td>\n",
       "      <td>OH</td>\n",
       "    </tr>\n",
       "    <tr>\n",
       "      <th>4</th>\n",
       "      <td>4</td>\n",
       "      <td>0</td>\n",
       "      <td>Albany, GA</td>\n",
       "      <td>13.685161</td>\n",
       "      <td>153970.0</td>\n",
       "      <td>18.692708</td>\n",
       "      <td>64884</td>\n",
       "      <td>37</td>\n",
       "      <td>59234</td>\n",
       "      <td>13830</td>\n",
       "      <td>...</td>\n",
       "      <td>948</td>\n",
       "      <td>20685</td>\n",
       "      <td>40100</td>\n",
       "      <td>1737</td>\n",
       "      <td>96</td>\n",
       "      <td>24</td>\n",
       "      <td>1241</td>\n",
       "      <td>53</td>\n",
       "      <td>Albany</td>\n",
       "      <td>GA</td>\n",
       "    </tr>\n",
       "    <tr>\n",
       "      <th>...</th>\n",
       "      <td>...</td>\n",
       "      <td>...</td>\n",
       "      <td>...</td>\n",
       "      <td>...</td>\n",
       "      <td>...</td>\n",
       "      <td>...</td>\n",
       "      <td>...</td>\n",
       "      <td>...</td>\n",
       "      <td>...</td>\n",
       "      <td>...</td>\n",
       "      <td>...</td>\n",
       "      <td>...</td>\n",
       "      <td>...</td>\n",
       "      <td>...</td>\n",
       "      <td>...</td>\n",
       "      <td>...</td>\n",
       "      <td>...</td>\n",
       "      <td>...</td>\n",
       "      <td>...</td>\n",
       "      <td>...</td>\n",
       "      <td>...</td>\n",
       "    </tr>\n",
       "    <tr>\n",
       "      <th>305</th>\n",
       "      <td>305</td>\n",
       "      <td>1</td>\n",
       "      <td>Winston-Salem, NC</td>\n",
       "      <td>5.070765</td>\n",
       "      <td>22180.0</td>\n",
       "      <td>14.558824</td>\n",
       "      <td>33082</td>\n",
       "      <td>27</td>\n",
       "      <td>34263</td>\n",
       "      <td>1864</td>\n",
       "      <td>...</td>\n",
       "      <td>1351</td>\n",
       "      <td>22926</td>\n",
       "      <td>5736</td>\n",
       "      <td>2099</td>\n",
       "      <td>57</td>\n",
       "      <td>0</td>\n",
       "      <td>846</td>\n",
       "      <td>67</td>\n",
       "      <td>Winston-Salem</td>\n",
       "      <td>NC</td>\n",
       "    </tr>\n",
       "    <tr>\n",
       "      <th>306</th>\n",
       "      <td>306</td>\n",
       "      <td>0</td>\n",
       "      <td>Yakima, WA</td>\n",
       "      <td>10.979800</td>\n",
       "      <td>252670.0</td>\n",
       "      <td>17.385490</td>\n",
       "      <td>46258</td>\n",
       "      <td>32</td>\n",
       "      <td>52787</td>\n",
       "      <td>7262</td>\n",
       "      <td>...</td>\n",
       "      <td>285</td>\n",
       "      <td>20719</td>\n",
       "      <td>340</td>\n",
       "      <td>23274</td>\n",
       "      <td>494</td>\n",
       "      <td>10</td>\n",
       "      <td>1095</td>\n",
       "      <td>41</td>\n",
       "      <td>Yakima</td>\n",
       "      <td>WA</td>\n",
       "    </tr>\n",
       "    <tr>\n",
       "      <th>307</th>\n",
       "      <td>307</td>\n",
       "      <td>1</td>\n",
       "      <td>Yakima, WA</td>\n",
       "      <td>4.708300</td>\n",
       "      <td>4250.0</td>\n",
       "      <td>13.860000</td>\n",
       "      <td>46258</td>\n",
       "      <td>32</td>\n",
       "      <td>52787</td>\n",
       "      <td>7262</td>\n",
       "      <td>...</td>\n",
       "      <td>285</td>\n",
       "      <td>20719</td>\n",
       "      <td>340</td>\n",
       "      <td>23274</td>\n",
       "      <td>494</td>\n",
       "      <td>10</td>\n",
       "      <td>1095</td>\n",
       "      <td>41</td>\n",
       "      <td>Yakima</td>\n",
       "      <td>WA</td>\n",
       "    </tr>\n",
       "    <tr>\n",
       "      <th>308</th>\n",
       "      <td>308</td>\n",
       "      <td>0</td>\n",
       "      <td>Yuba City, CA</td>\n",
       "      <td>15.261576</td>\n",
       "      <td>114460.0</td>\n",
       "      <td>21.675294</td>\n",
       "      <td>40959</td>\n",
       "      <td>33</td>\n",
       "      <td>60353</td>\n",
       "      <td>6881</td>\n",
       "      <td>...</td>\n",
       "      <td>3892</td>\n",
       "      <td>19336</td>\n",
       "      <td>874</td>\n",
       "      <td>14832</td>\n",
       "      <td>258</td>\n",
       "      <td>195</td>\n",
       "      <td>1504</td>\n",
       "      <td>68</td>\n",
       "      <td>Yuba City</td>\n",
       "      <td>CA</td>\n",
       "    </tr>\n",
       "    <tr>\n",
       "      <th>309</th>\n",
       "      <td>309</td>\n",
       "      <td>1</td>\n",
       "      <td>Yuba City, CA</td>\n",
       "      <td>6.723333</td>\n",
       "      <td>2680.0</td>\n",
       "      <td>16.644444</td>\n",
       "      <td>40959</td>\n",
       "      <td>33</td>\n",
       "      <td>60353</td>\n",
       "      <td>6881</td>\n",
       "      <td>...</td>\n",
       "      <td>3892</td>\n",
       "      <td>19336</td>\n",
       "      <td>874</td>\n",
       "      <td>14832</td>\n",
       "      <td>258</td>\n",
       "      <td>195</td>\n",
       "      <td>1504</td>\n",
       "      <td>68</td>\n",
       "      <td>Yuba City</td>\n",
       "      <td>CA</td>\n",
       "    </tr>\n",
       "  </tbody>\n",
       "</table>\n",
       "<p>310 rows × 25 columns</p>\n",
       "</div>"
      ],
      "text/plain": [
       "     Unnamed: 0  istech         area_title  jobs_1000   tot_emp   emp_prse  \\\n",
       "0             0       0        Abilene, TX  12.048520  182230.0  18.251528   \n",
       "1             1       1        Abilene, TX   8.409250    4450.0  22.500000   \n",
       "2             2       0          Akron, OH   7.321090  859710.0  19.450928   \n",
       "3             3       1          Akron, OH   6.404353   33910.0  18.882353   \n",
       "4             4       0         Albany, GA  13.685161  153970.0  18.692708   \n",
       "..          ...     ...                ...        ...       ...        ...   \n",
       "305         305       1  Winston-Salem, NC   5.070765   22180.0  14.558824   \n",
       "306         306       0         Yakima, WA  10.979800  252670.0  17.385490   \n",
       "307         307       1         Yakima, WA   4.708300    4250.0  13.860000   \n",
       "308         308       0      Yuba City, CA  15.261576  114460.0  21.675294   \n",
       "309         309       1      Yuba City, CA   6.723333    2680.0  16.644444   \n",
       "\n",
       "     population  median_age  average_income  family_poverty  ...  race_asian  \\\n",
       "0         85075          27           49583            9368  ...        2253   \n",
       "1         85075          27           49583            9368  ...        2253   \n",
       "2         94894          33           42943           25508  ...        2164   \n",
       "3         94894          33           42943           25508  ...        2164   \n",
       "4         64884          37           59234           13830  ...         948   \n",
       "..          ...         ...             ...             ...  ...         ...   \n",
       "305       33082          27           34263            1864  ...        1351   \n",
       "306       46258          32           52787            7262  ...         285   \n",
       "307       46258          32           52787            7262  ...         285   \n",
       "308       40959          33           60353            6881  ...        3892   \n",
       "309       40959          33           60353            6881  ...        3892   \n",
       "\n",
       "     race_white  race_black  race_hispanic  race_native  race_islander  \\\n",
       "0         53385        8597          18241          524             15   \n",
       "1         53385        8597          18241          524             15   \n",
       "2         54490       31493           1761          134             22   \n",
       "3         54490       31493           1761          134             22   \n",
       "4         20685       40100           1737           96             24   \n",
       "..          ...         ...            ...          ...            ...   \n",
       "305       22926        5736           2099           57              0   \n",
       "306       20719         340          23274          494             10   \n",
       "307       20719         340          23274          494             10   \n",
       "308       19336         874          14832          258            195   \n",
       "309       19336         874          14832          258            195   \n",
       "\n",
       "     race_two  race_other           city  state_code  \n",
       "0        1860         200        Abilene          TX  \n",
       "1        1860         200        Abilene          TX  \n",
       "2        4765          65          Akron          OH  \n",
       "3        4765          65          Akron          OH  \n",
       "4        1241          53         Albany          GA  \n",
       "..        ...         ...            ...         ...  \n",
       "305       846          67  Winston-Salem          NC  \n",
       "306      1095          41         Yakima          WA  \n",
       "307      1095          41         Yakima          WA  \n",
       "308      1504          68      Yuba City          CA  \n",
       "309      1504          68      Yuba City          CA  \n",
       "\n",
       "[310 rows x 25 columns]"
      ]
     },
     "execution_count": 2,
     "metadata": {},
     "output_type": "execute_result"
    }
   ],
   "source": [
    "merged_df = titles = pd.read_csv('../data_files/TechnicalJobs_Not_DF_draft_UPDATED.csv')\n",
    "merged_df"
   ]
  },
  {
   "cell_type": "code",
   "execution_count": 3,
   "id": "6cdf5b6f",
   "metadata": {},
   "outputs": [
    {
     "data": {
      "text/plain": [
       "<AxesSubplot:xlabel='state_code', ylabel='tot_emp'>"
      ]
     },
     "execution_count": 3,
     "metadata": {},
     "output_type": "execute_result"
    },
    {
     "data": {
      "image/png": "[encoded data removed]",
      "text/plain": [
       "<Figure size 432x288 with 1 Axes>"
      ]
     },
     "metadata": {
      "needs_background": "light"
     },
     "output_type": "display_data"
    }
   ],
   "source": [
    "# find relationship\n",
    "merged_df.plot(kind='scatter', x='state_code', y='tot_emp')"
   ]
  },
  {
   "cell_type": "code",
   "execution_count": 4,
   "id": "bd972422",
   "metadata": {},
   "outputs": [],
   "source": [
    "merged_copy_df = merged_df.drop(['Unnamed: 0'],axis=1)"
   ]
  },
  {
   "cell_type": "code",
   "execution_count": 5,
   "id": "be91c668",
   "metadata": {},
   "outputs": [
    {
     "data": {
      "text/plain": [
       "False"
      ]
     },
     "execution_count": 5,
     "metadata": {},
     "output_type": "execute_result"
    }
   ],
   "source": [
    "merged_copy_df.isnull().values.any()"
   ]
  },
  {
   "cell_type": "code",
   "execution_count": 6,
   "id": "647defb9",
   "metadata": {},
   "outputs": [
    {
     "data": {
      "text/plain": [
       "(310, 24)"
      ]
     },
     "execution_count": 6,
     "metadata": {},
     "output_type": "execute_result"
    }
   ],
   "source": [
    "merged_copy_df.shape"
   ]
  },
  {
   "cell_type": "code",
   "execution_count": 7,
   "id": "698dc8a8",
   "metadata": {},
   "outputs": [
    {
     "data": {
      "text/plain": [
       "['istech',\n",
       " 'area_title',\n",
       " 'jobs_1000',\n",
       " 'tot_emp',\n",
       " 'emp_prse',\n",
       " 'population',\n",
       " 'median_age',\n",
       " 'average_income',\n",
       " 'family_poverty',\n",
       " 'educational_attainment_bachelors',\n",
       " 'educational_attainment_graduate',\n",
       " 'educational_attainment_high_school',\n",
       " 'educational_attainment_no_diploma',\n",
       " 'educational_attainment_some_college',\n",
       " 'race_asian',\n",
       " 'race_white',\n",
       " 'race_black',\n",
       " 'race_hispanic',\n",
       " 'race_native',\n",
       " 'race_islander',\n",
       " 'race_two',\n",
       " 'race_other',\n",
       " 'city',\n",
       " 'state_code']"
      ]
     },
     "execution_count": 7,
     "metadata": {},
     "output_type": "execute_result"
    }
   ],
   "source": [
    "merged_copy_df.columns.to_list()"
   ]
  },
  {
   "cell_type": "code",
   "execution_count": 8,
   "id": "3fa2ea98",
   "metadata": {},
   "outputs": [],
   "source": [
    "# drop city    state_code   to feed data to scaler # NEED TO DISCUSS THESE COLUMNS \n",
    "merged_copy_df = merged_copy_df.drop(['city','state_code','area_title'],axis=1)"
   ]
  },
  {
   "cell_type": "code",
   "execution_count": 9,
   "id": "90842292",
   "metadata": {},
   "outputs": [
    {
     "data": {
      "text/plain": [
       "istech                                   int64\n",
       "jobs_1000                              float64\n",
       "tot_emp                                float64\n",
       "emp_prse                               float64\n",
       "population                               int64\n",
       "median_age                               int64\n",
       "average_income                           int64\n",
       "family_poverty                           int64\n",
       "educational_attainment_bachelors         int64\n",
       "educational_attainment_graduate          int64\n",
       "educational_attainment_high_school       int64\n",
       "educational_attainment_no_diploma        int64\n",
       "educational_attainment_some_college      int64\n",
       "race_asian                               int64\n",
       "race_white                               int64\n",
       "race_black                               int64\n",
       "race_hispanic                            int64\n",
       "race_native                              int64\n",
       "race_islander                            int64\n",
       "race_two                                 int64\n",
       "race_other                               int64\n",
       "dtype: object"
      ]
     },
     "execution_count": 9,
     "metadata": {},
     "output_type": "execute_result"
    }
   ],
   "source": [
    "merged_copy_df.dtypes"
   ]
  },
  {
   "cell_type": "code",
   "execution_count": 10,
   "id": "5fb5f9ca",
   "metadata": {},
   "outputs": [
    {
     "data": {
      "text/html": [
       "<div>\n",
       "<style scoped>\n",
       "    .dataframe tbody tr th:only-of-type {\n",
       "        vertical-align: middle;\n",
       "    }\n",
       "\n",
       "    .dataframe tbody tr th {\n",
       "        vertical-align: top;\n",
       "    }\n",
       "\n",
       "    .dataframe thead th {\n",
       "        text-align: right;\n",
       "    }\n",
       "</style>\n",
       "<table border=\"1\" class=\"dataframe\">\n",
       "  <thead>\n",
       "    <tr style=\"text-align: right;\">\n",
       "      <th></th>\n",
       "      <th>istech</th>\n",
       "      <th>jobs_1000</th>\n",
       "      <th>tot_emp</th>\n",
       "      <th>emp_prse</th>\n",
       "      <th>population</th>\n",
       "      <th>median_age</th>\n",
       "      <th>average_income</th>\n",
       "      <th>family_poverty</th>\n",
       "      <th>educational_attainment_bachelors</th>\n",
       "      <th>educational_attainment_graduate</th>\n",
       "      <th>...</th>\n",
       "      <th>educational_attainment_no_diploma</th>\n",
       "      <th>educational_attainment_some_college</th>\n",
       "      <th>race_asian</th>\n",
       "      <th>race_white</th>\n",
       "      <th>race_black</th>\n",
       "      <th>race_hispanic</th>\n",
       "      <th>race_native</th>\n",
       "      <th>race_islander</th>\n",
       "      <th>race_two</th>\n",
       "      <th>race_other</th>\n",
       "    </tr>\n",
       "  </thead>\n",
       "  <tbody>\n",
       "    <tr>\n",
       "      <th>0</th>\n",
       "      <td>0</td>\n",
       "      <td>12.048520</td>\n",
       "      <td>182230.0</td>\n",
       "      <td>18.251528</td>\n",
       "      <td>85075</td>\n",
       "      <td>27</td>\n",
       "      <td>49583</td>\n",
       "      <td>9368</td>\n",
       "      <td>12687</td>\n",
       "      <td>6935</td>\n",
       "      <td>...</td>\n",
       "      <td>10738</td>\n",
       "      <td>29001</td>\n",
       "      <td>2253</td>\n",
       "      <td>53385</td>\n",
       "      <td>8597</td>\n",
       "      <td>18241</td>\n",
       "      <td>524</td>\n",
       "      <td>15</td>\n",
       "      <td>1860</td>\n",
       "      <td>200</td>\n",
       "    </tr>\n",
       "    <tr>\n",
       "      <th>1</th>\n",
       "      <td>1</td>\n",
       "      <td>8.409250</td>\n",
       "      <td>4450.0</td>\n",
       "      <td>22.500000</td>\n",
       "      <td>85075</td>\n",
       "      <td>27</td>\n",
       "      <td>49583</td>\n",
       "      <td>9368</td>\n",
       "      <td>12687</td>\n",
       "      <td>6935</td>\n",
       "      <td>...</td>\n",
       "      <td>10738</td>\n",
       "      <td>29001</td>\n",
       "      <td>2253</td>\n",
       "      <td>53385</td>\n",
       "      <td>8597</td>\n",
       "      <td>18241</td>\n",
       "      <td>524</td>\n",
       "      <td>15</td>\n",
       "      <td>1860</td>\n",
       "      <td>200</td>\n",
       "    </tr>\n",
       "    <tr>\n",
       "      <th>2</th>\n",
       "      <td>0</td>\n",
       "      <td>7.321090</td>\n",
       "      <td>859710.0</td>\n",
       "      <td>19.450928</td>\n",
       "      <td>94894</td>\n",
       "      <td>33</td>\n",
       "      <td>42943</td>\n",
       "      <td>25508</td>\n",
       "      <td>10769</td>\n",
       "      <td>5611</td>\n",
       "      <td>...</td>\n",
       "      <td>13742</td>\n",
       "      <td>31013</td>\n",
       "      <td>2164</td>\n",
       "      <td>54490</td>\n",
       "      <td>31493</td>\n",
       "      <td>1761</td>\n",
       "      <td>134</td>\n",
       "      <td>22</td>\n",
       "      <td>4765</td>\n",
       "      <td>65</td>\n",
       "    </tr>\n",
       "    <tr>\n",
       "      <th>3</th>\n",
       "      <td>1</td>\n",
       "      <td>6.404353</td>\n",
       "      <td>33910.0</td>\n",
       "      <td>18.882353</td>\n",
       "      <td>94894</td>\n",
       "      <td>33</td>\n",
       "      <td>42943</td>\n",
       "      <td>25508</td>\n",
       "      <td>10769</td>\n",
       "      <td>5611</td>\n",
       "      <td>...</td>\n",
       "      <td>13742</td>\n",
       "      <td>31013</td>\n",
       "      <td>2164</td>\n",
       "      <td>54490</td>\n",
       "      <td>31493</td>\n",
       "      <td>1761</td>\n",
       "      <td>134</td>\n",
       "      <td>22</td>\n",
       "      <td>4765</td>\n",
       "      <td>65</td>\n",
       "    </tr>\n",
       "    <tr>\n",
       "      <th>4</th>\n",
       "      <td>0</td>\n",
       "      <td>13.685161</td>\n",
       "      <td>153970.0</td>\n",
       "      <td>18.692708</td>\n",
       "      <td>64884</td>\n",
       "      <td>37</td>\n",
       "      <td>59234</td>\n",
       "      <td>13830</td>\n",
       "      <td>9365</td>\n",
       "      <td>7235</td>\n",
       "      <td>...</td>\n",
       "      <td>9037</td>\n",
       "      <td>21217</td>\n",
       "      <td>948</td>\n",
       "      <td>20685</td>\n",
       "      <td>40100</td>\n",
       "      <td>1737</td>\n",
       "      <td>96</td>\n",
       "      <td>24</td>\n",
       "      <td>1241</td>\n",
       "      <td>53</td>\n",
       "    </tr>\n",
       "    <tr>\n",
       "      <th>5</th>\n",
       "      <td>1</td>\n",
       "      <td>10.047429</td>\n",
       "      <td>4120.0</td>\n",
       "      <td>16.414286</td>\n",
       "      <td>64884</td>\n",
       "      <td>37</td>\n",
       "      <td>59234</td>\n",
       "      <td>13830</td>\n",
       "      <td>9365</td>\n",
       "      <td>7235</td>\n",
       "      <td>...</td>\n",
       "      <td>9037</td>\n",
       "      <td>21217</td>\n",
       "      <td>948</td>\n",
       "      <td>20685</td>\n",
       "      <td>40100</td>\n",
       "      <td>1737</td>\n",
       "      <td>96</td>\n",
       "      <td>24</td>\n",
       "      <td>1241</td>\n",
       "      <td>53</td>\n",
       "    </tr>\n",
       "    <tr>\n",
       "      <th>6</th>\n",
       "      <td>0</td>\n",
       "      <td>6.598983</td>\n",
       "      <td>1040140.0</td>\n",
       "      <td>16.331591</td>\n",
       "      <td>319991</td>\n",
       "      <td>35</td>\n",
       "      <td>61589</td>\n",
       "      <td>42306</td>\n",
       "      <td>66219</td>\n",
       "      <td>56998</td>\n",
       "      <td>...</td>\n",
       "      <td>25103</td>\n",
       "      <td>105387</td>\n",
       "      <td>8437</td>\n",
       "      <td>153880</td>\n",
       "      <td>9545</td>\n",
       "      <td>126499</td>\n",
       "      <td>13606</td>\n",
       "      <td>213</td>\n",
       "      <td>6795</td>\n",
       "      <td>1016</td>\n",
       "    </tr>\n",
       "    <tr>\n",
       "      <th>7</th>\n",
       "      <td>1</td>\n",
       "      <td>6.331062</td>\n",
       "      <td>37920.0</td>\n",
       "      <td>14.900000</td>\n",
       "      <td>319991</td>\n",
       "      <td>35</td>\n",
       "      <td>61589</td>\n",
       "      <td>42306</td>\n",
       "      <td>66219</td>\n",
       "      <td>56998</td>\n",
       "      <td>...</td>\n",
       "      <td>25103</td>\n",
       "      <td>105387</td>\n",
       "      <td>8437</td>\n",
       "      <td>153880</td>\n",
       "      <td>9545</td>\n",
       "      <td>126499</td>\n",
       "      <td>13606</td>\n",
       "      <td>213</td>\n",
       "      <td>6795</td>\n",
       "      <td>1016</td>\n",
       "    </tr>\n",
       "    <tr>\n",
       "      <th>8</th>\n",
       "      <td>0</td>\n",
       "      <td>13.515040</td>\n",
       "      <td>155190.0</td>\n",
       "      <td>18.862687</td>\n",
       "      <td>59184</td>\n",
       "      <td>38</td>\n",
       "      <td>57892</td>\n",
       "      <td>10955</td>\n",
       "      <td>7768</td>\n",
       "      <td>5315</td>\n",
       "      <td>...</td>\n",
       "      <td>9059</td>\n",
       "      <td>16030</td>\n",
       "      <td>1856</td>\n",
       "      <td>23883</td>\n",
       "      <td>30783</td>\n",
       "      <td>1494</td>\n",
       "      <td>206</td>\n",
       "      <td>7</td>\n",
       "      <td>924</td>\n",
       "      <td>31</td>\n",
       "    </tr>\n",
       "    <tr>\n",
       "      <th>9</th>\n",
       "      <td>1</td>\n",
       "      <td>12.729750</td>\n",
       "      <td>2900.0</td>\n",
       "      <td>17.975000</td>\n",
       "      <td>59184</td>\n",
       "      <td>38</td>\n",
       "      <td>57892</td>\n",
       "      <td>10955</td>\n",
       "      <td>7768</td>\n",
       "      <td>5315</td>\n",
       "      <td>...</td>\n",
       "      <td>9059</td>\n",
       "      <td>16030</td>\n",
       "      <td>1856</td>\n",
       "      <td>23883</td>\n",
       "      <td>30783</td>\n",
       "      <td>1494</td>\n",
       "      <td>206</td>\n",
       "      <td>7</td>\n",
       "      <td>924</td>\n",
       "      <td>31</td>\n",
       "    </tr>\n",
       "  </tbody>\n",
       "</table>\n",
       "<p>10 rows × 21 columns</p>\n",
       "</div>"
      ],
      "text/plain": [
       "   istech  jobs_1000    tot_emp   emp_prse  population  median_age  \\\n",
       "0       0  12.048520   182230.0  18.251528       85075          27   \n",
       "1       1   8.409250     4450.0  22.500000       85075          27   \n",
       "2       0   7.321090   859710.0  19.450928       94894          33   \n",
       "3       1   6.404353    33910.0  18.882353       94894          33   \n",
       "4       0  13.685161   153970.0  18.692708       64884          37   \n",
       "5       1  10.047429     4120.0  16.414286       64884          37   \n",
       "6       0   6.598983  1040140.0  16.331591      319991          35   \n",
       "7       1   6.331062    37920.0  14.900000      319991          35   \n",
       "8       0  13.515040   155190.0  18.862687       59184          38   \n",
       "9       1  12.729750     2900.0  17.975000       59184          38   \n",
       "\n",
       "   average_income  family_poverty  educational_attainment_bachelors  \\\n",
       "0           49583            9368                             12687   \n",
       "1           49583            9368                             12687   \n",
       "2           42943           25508                             10769   \n",
       "3           42943           25508                             10769   \n",
       "4           59234           13830                              9365   \n",
       "5           59234           13830                              9365   \n",
       "6           61589           42306                             66219   \n",
       "7           61589           42306                             66219   \n",
       "8           57892           10955                              7768   \n",
       "9           57892           10955                              7768   \n",
       "\n",
       "   educational_attainment_graduate  ...  educational_attainment_no_diploma  \\\n",
       "0                             6935  ...                              10738   \n",
       "1                             6935  ...                              10738   \n",
       "2                             5611  ...                              13742   \n",
       "3                             5611  ...                              13742   \n",
       "4                             7235  ...                               9037   \n",
       "5                             7235  ...                               9037   \n",
       "6                            56998  ...                              25103   \n",
       "7                            56998  ...                              25103   \n",
       "8                             5315  ...                               9059   \n",
       "9                             5315  ...                               9059   \n",
       "\n",
       "   educational_attainment_some_college  race_asian  race_white  race_black  \\\n",
       "0                                29001        2253       53385        8597   \n",
       "1                                29001        2253       53385        8597   \n",
       "2                                31013        2164       54490       31493   \n",
       "3                                31013        2164       54490       31493   \n",
       "4                                21217         948       20685       40100   \n",
       "5                                21217         948       20685       40100   \n",
       "6                               105387        8437      153880        9545   \n",
       "7                               105387        8437      153880        9545   \n",
       "8                                16030        1856       23883       30783   \n",
       "9                                16030        1856       23883       30783   \n",
       "\n",
       "   race_hispanic  race_native  race_islander  race_two  race_other  \n",
       "0          18241          524             15      1860         200  \n",
       "1          18241          524             15      1860         200  \n",
       "2           1761          134             22      4765          65  \n",
       "3           1761          134             22      4765          65  \n",
       "4           1737           96             24      1241          53  \n",
       "5           1737           96             24      1241          53  \n",
       "6         126499        13606            213      6795        1016  \n",
       "7         126499        13606            213      6795        1016  \n",
       "8           1494          206              7       924          31  \n",
       "9           1494          206              7       924          31  \n",
       "\n",
       "[10 rows x 21 columns]"
      ]
     },
     "execution_count": 10,
     "metadata": {},
     "output_type": "execute_result"
    }
   ],
   "source": [
    "# The employment-to-population ratio  tot_emp/population = ex (182230/85075=2.14) \n",
    "# how come tot employement is more than total population \n",
    "merged_copy_df.head(10)"
   ]
  },
  {
   "cell_type": "code",
   "execution_count": 11,
   "id": "43dd0f51",
   "metadata": {},
   "outputs": [],
   "source": [
    "X = merged_copy_df.drop('jobs_1000',axis=1)#features\n",
    "y = merged_copy_df['jobs_1000'] #Target"
   ]
  },
  {
   "cell_type": "code",
   "execution_count": 12,
   "id": "fa19d77f",
   "metadata": {},
   "outputs": [],
   "source": [
    "X_train, X_test, y_train, y_test = train_test_split(X, y,test_size=0.2, random_state=0)\n"
   ]
  },
  {
   "cell_type": "code",
   "execution_count": 13,
   "id": "e7b31053",
   "metadata": {},
   "outputs": [
    {
     "data": {
      "text/plain": [
       "RandomForestRegressor(n_estimators=10, random_state=0)"
      ]
     },
     "execution_count": 13,
     "metadata": {},
     "output_type": "execute_result"
    }
   ],
   "source": [
    "regressor =RandomForestRegressor(n_estimators=10,random_state=0)\n",
    "regressor.fit(X_train,y_train)"
   ]
  },
  {
   "cell_type": "code",
   "execution_count": 14,
   "id": "b8cddb2e",
   "metadata": {},
   "outputs": [],
   "source": [
    "y_predict = regressor.predict(X_test)"
   ]
  },
  {
   "cell_type": "code",
   "execution_count": 15,
   "id": "a08d495f",
   "metadata": {},
   "outputs": [
    {
     "data": {
      "text/plain": [
       "0.506148532320543"
      ]
     },
     "execution_count": 15,
     "metadata": {},
     "output_type": "execute_result"
    }
   ],
   "source": [
    "from sklearn.metrics import r2_score\n",
    "r2_score(y_test,y_predict)"
   ]
  },
  {
   "cell_type": "code",
   "execution_count": 16,
   "id": "21a67f0f",
   "metadata": {},
   "outputs": [
    {
     "data": {
      "text/plain": [
       "6.150257166753451"
      ]
     },
     "execution_count": 16,
     "metadata": {},
     "output_type": "execute_result"
    }
   ],
   "source": [
    "from sklearn.metrics import mean_squared_error\n",
    "mse = mean_squared_error(y_test, y_predict)\n",
    "mse"
   ]
  },
  {
   "cell_type": "code",
   "execution_count": 17,
   "id": "7dcfd37b",
   "metadata": {},
   "outputs": [
    {
     "data": {
      "text/plain": [
       "2.4799712028072927"
      ]
     },
     "execution_count": 17,
     "metadata": {},
     "output_type": "execute_result"
    }
   ],
   "source": [
    "np.sqrt(mse)"
   ]
  },
  {
   "cell_type": "code",
   "execution_count": 18,
   "id": "5a9360f1",
   "metadata": {},
   "outputs": [
    {
     "data": {
      "text/plain": [
       "<AxesSubplot:ylabel='Density'>"
      ]
     },
     "execution_count": 18,
     "metadata": {},
     "output_type": "execute_result"
    },
    {
     "data": {
      "image/png": "[encoded data removed]",
      "text/plain": [
       "<Figure size 432x288 with 1 Axes>"
      ]
     },
     "metadata": {
      "needs_background": "light"
     },
     "output_type": "display_data"
    }
   ],
   "source": [
    "merged_copy_df[\"jobs_1000\"].plot(kind = 'density')"
   ]
  },
  {
   "cell_type": "code",
   "execution_count": 19,
   "id": "86d7e74c",
   "metadata": {},
   "outputs": [],
   "source": [
    "X = merged_copy_df.drop('tot_emp',axis=1)#features\n",
    "y = merged_copy_df['tot_emp'] #Target"
   ]
  },
  {
   "cell_type": "code",
   "execution_count": 20,
   "id": "b040d789",
   "metadata": {},
   "outputs": [],
   "source": [
    "X_train, X_test, y_train, y_test = train_test_split(X, y,test_size=0.2, random_state=0)"
   ]
  },
  {
   "cell_type": "code",
   "execution_count": 21,
   "id": "e03a1f13",
   "metadata": {},
   "outputs": [
    {
     "data": {
      "text/plain": [
       "RandomForestRegressor(n_estimators=10, random_state=0)"
      ]
     },
     "execution_count": 21,
     "metadata": {},
     "output_type": "execute_result"
    }
   ],
   "source": [
    "regressor =RandomForestRegressor(n_estimators=10,random_state=0)\n",
    "regressor.fit(X_train,y_train)"
   ]
  },
  {
   "cell_type": "code",
   "execution_count": 22,
   "id": "bdfcb5d0",
   "metadata": {},
   "outputs": [],
   "source": [
    "y_predict = regressor.predict(X_test)"
   ]
  },
  {
   "cell_type": "code",
   "execution_count": 23,
   "id": "1437c5e2",
   "metadata": {},
   "outputs": [
    {
     "data": {
      "text/plain": [
       "0.8866644990908225"
      ]
     },
     "execution_count": 23,
     "metadata": {},
     "output_type": "execute_result"
    }
   ],
   "source": [
    "from sklearn.metrics import r2_score\n",
    "r2_score(y_test,y_predict)"
   ]
  },
  {
   "cell_type": "code",
   "execution_count": 24,
   "id": "e0cc330f",
   "metadata": {},
   "outputs": [
    {
     "data": {
      "text/plain": [
       "16367266217.016129"
      ]
     },
     "execution_count": 24,
     "metadata": {},
     "output_type": "execute_result"
    }
   ],
   "source": [
    "# number is too high because total employemnet is a big number Need to learn how to scale it \n",
    "from sklearn.metrics import mean_squared_error\n",
    "mse = mean_squared_error(y_test, y_predict)\n",
    "mse"
   ]
  },
  {
   "cell_type": "code",
   "execution_count": 25,
   "id": "d7caf432",
   "metadata": {},
   "outputs": [
    {
     "data": {
      "text/plain": [
       "127934.616961228"
      ]
     },
     "execution_count": 25,
     "metadata": {},
     "output_type": "execute_result"
    }
   ],
   "source": [
    "np.sqrt(mse)"
   ]
  },
  {
   "cell_type": "code",
   "execution_count": 26,
   "id": "6d630c34",
   "metadata": {},
   "outputs": [
    {
     "data": {
      "text/plain": [
       "<AxesSubplot:ylabel='Density'>"
      ]
     },
     "execution_count": 26,
     "metadata": {},
     "output_type": "execute_result"
    },
    {
     "data": {
      "image/png": "[encoded data removed]",
      "text/plain": [
       "<Figure size 432x288 with 1 Axes>"
      ]
     },
     "metadata": {
      "needs_background": "light"
     },
     "output_type": "display_data"
    }
   ],
   "source": [
    "merged_copy_df[\"tot_emp\"].plot(kind = 'density')"
   ]
  },
  {
   "cell_type": "code",
   "execution_count": null,
   "id": "58a9332e",
   "metadata": {},
   "outputs": [],
   "source": []
  }
 ],
 "metadata": {
  "kernelspec": {
   "display_name": "mlenv",
   "language": "python",
   "name": "mlenv"
  },
  "language_info": {
   "codemirror_mode": {
    "name": "ipython",
    "version": 3
   },
   "file_extension": ".py",
   "mimetype": "text/x-python",
   "name": "python",
   "nbconvert_exporter": "python",
   "pygments_lexer": "ipython3",
   "version": "3.7.11"
  }
 },
 "nbformat": 4,
 "nbformat_minor": 5
}
